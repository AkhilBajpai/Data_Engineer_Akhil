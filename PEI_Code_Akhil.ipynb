{
 "cells": [
  {
   "cell_type": "code",
   "execution_count": null,
   "metadata": {
    "application/vnd.databricks.v1+cell": {
     "cellMetadata": {
      "byteLimit": 2048000,
      "implicitDf": true,
      "rowLimit": 10000
     },
     "inputWidgets": {},
     "nuid": "b5bca4dd-b164-4b07-b369-8c714a5ebaa5",
     "showTitle": false,
     "title": ""
    }
   },
   "outputs": [
    {
     "data": {
      "text/html": [
       "<style scoped>\n",
       "  .table-result-container {\n",
       "    max-height: 300px;\n",
       "    overflow: auto;\n",
       "  }\n",
       "  table, th, td {\n",
       "    border: 1px solid black;\n",
       "    border-collapse: collapse;\n",
       "  }\n",
       "  th, td {\n",
       "    padding: 5px;\n",
       "  }\n",
       "  th {\n",
       "    text-align: left;\n",
       "  }\n",
       "</style><div class='table-result-container'><table class='table-result'><thead style='background-color: white'><tr></tr></thead><tbody></tbody></table></div>"
      ]
     },
     "metadata": {
      "application/vnd.databricks.v1+output": {
       "addedWidgets": {},
       "aggData": [],
       "aggError": "",
       "aggOverflow": false,
       "aggSchema": [],
       "aggSeriesLimitReached": false,
       "aggType": "",
       "arguments": {},
       "columnCustomDisplayInfos": {},
       "data": [],
       "datasetInfos": [],
       "dbfsResultPath": null,
       "isJsonSchema": true,
       "metadata": {},
       "overflow": false,
       "plotOptions": {
        "customPlotOptions": {},
        "displayType": "table",
        "pivotAggregation": null,
        "pivotColumns": null,
        "xColumns": null,
        "yColumns": null
       },
       "removedWidgets": [],
       "schema": [],
       "type": "table"
      }
     },
     "output_type": "display_data"
    }
   ],
   "source": [
    "%sql\n",
    "create schema finance_data.db_data;"
   ]
  },
  {
   "cell_type": "code",
   "execution_count": null,
   "metadata": {
    "application/vnd.databricks.v1+cell": {
     "cellMetadata": {
      "byteLimit": 2048000,
      "rowLimit": 10000
     },
     "inputWidgets": {},
     "nuid": "a9cb4834-ea9e-478b-a2db-2d6a7f441c28",
     "showTitle": false,
     "title": ""
    }
   },
   "outputs": [],
   "source": [
    "from pyspark.sql.types import StructType, StructField, StringType, FloatType\n",
    "\n",
    "# Read csv into dataframe\n",
    "df = spark.read.format(\"csv\").option(\"header\", \"true\").option(\"inferSchema\",\"true\").option(\"escape\", \"\\\"\").option(\"quote\", \"\\\"\").load(\"/Volumes/finance_data/db_data/data/Product.csv\")\n",
    "\n",
    "# Replace invalid characters\n",
    "for column_name in df.columns:\n",
    "    new_column_name = column_name.replace(' ', '_').replace(',', '').replace(';', '').replace('{', '').replace('}', '').replace('(', '').replace(')', '').replace('\\n', '').replace('\\t', '').replace('=', '')\n",
    "    df = df.withColumnRenamed(column_name, new_column_name)\n",
    "\n",
    "# store result in table\n",
    "df.write.saveAsTable(\"finance_data.db_data.raw_product\")"
   ]
  },
  {
   "cell_type": "code",
   "execution_count": null,
   "metadata": {
    "application/vnd.databricks.v1+cell": {
     "cellMetadata": {
      "byteLimit": 2048000,
      "rowLimit": 10000
     },
     "inputWidgets": {},
     "nuid": "b85b1f98-c9be-45f1-a394-f632a1faa1b8",
     "showTitle": false,
     "title": ""
    }
   },
   "outputs": [],
   "source": [
    "from pyspark.sql.functions import col\n",
    "\n",
    "# Read JSON into dataframe\n",
    "df = spark.read.option(\"multiLine\", \"true\").option(\"mode\", \"PERMISSIVE\").json(\"/Volumes/finance_data/db_data/data/Order_new.json\")\n",
    "\n",
    "# Replace invalid characters\n",
    "for column_name in df.columns:\n",
    "    new_column_name = column_name.replace(' ', '_').replace(',', '').replace(';', '').replace('{', '').replace('}', '').replace('(', '').replace(')', '').replace('\\n', '').replace('\\t', '').replace('=', '')\n",
    "    df = df.withColumnRenamed(column_name, new_column_name)\n",
    "\n",
    "# store result in table\n",
    "df.write.saveAsTable(\"finance_data.db_data.raw_order\")"
   ]
  },
  {
   "cell_type": "code",
   "execution_count": null,
   "metadata": {
    "application/vnd.databricks.v1+cell": {
     "cellMetadata": {
      "byteLimit": 2048000,
      "rowLimit": 10000
     },
     "inputWidgets": {},
     "nuid": "71a44580-c4eb-4e99-a7a0-2a7b85ba097a",
     "showTitle": false,
     "title": ""
    }
   },
   "outputs": [
    {
     "name": "stdout",
     "output_type": "stream",
     "text": [
      "Python interpreter will be restarted.\n",
      "Collecting openpyxl\n",
      "  Downloading openpyxl-3.1.3-py2.py3-none-any.whl (251 kB)\n",
      "Collecting et-xmlfile\n",
      "  Downloading et_xmlfile-1.1.0-py3-none-any.whl (4.7 kB)\n",
      "Installing collected packages: et-xmlfile, openpyxl\n",
      "Successfully installed et-xmlfile-1.1.0 openpyxl-3.1.3\n",
      "Python interpreter will be restarted.\n"
     ]
    }
   ],
   "source": [
    "pip install openpyxl"
   ]
  },
  {
   "cell_type": "code",
   "execution_count": null,
   "metadata": {
    "application/vnd.databricks.v1+cell": {
     "cellMetadata": {
      "byteLimit": 2048000,
      "rowLimit": 10000
     },
     "inputWidgets": {},
     "nuid": "e2cb8362-0cf7-4258-a007-a8781010217d",
     "showTitle": false,
     "title": ""
    }
   },
   "outputs": [],
   "source": [
    "\n",
    "# Read EXCEL into dataframe\n",
    "file_path = \"/Volumes/finance_data/db_data/data/Customer.xlsx\"\n",
    "df = spark.read.format(\"com.crealytics.spark.excel\") \\\n",
    "    .option(\"header\", \"true\") \\\n",
    "    .option(\"inferSchema\", \"true\") \\\n",
    "    .load(file_path)\n",
    "\n",
    "# Replace invalid characters\n",
    "for column_name in df.columns:\n",
    "    new_column_name = column_name.replace(' ', '_').replace(',', '').replace(';', '').replace('{', '').replace('}', '').replace('(', '').replace(')', '').replace('\\n', '').replace('\\t', '').replace('=', '')\n",
    "    df = df.withColumnRenamed(column_name, new_column_name)\n",
    "\n",
    "# store result in table\n",
    "df.write.saveAsTable(\"finance_data.db_data.raw_customer\")"
   ]
  },
  {
   "cell_type": "code",
   "execution_count": null,
   "metadata": {
    "application/vnd.databricks.v1+cell": {
     "cellMetadata": {
      "byteLimit": 2048000,
      "implicitDf": true,
      "rowLimit": 10000
     },
     "inputWidgets": {},
     "nuid": "2b2c0627-6138-4ce2-8719-6b21d86a6100",
     "showTitle": false,
     "title": ""
    }
   },
   "outputs": [
    {
     "data": {
      "text/html": [
       "<style scoped>\n",
       "  .table-result-container {\n",
       "    max-height: 300px;\n",
       "    overflow: auto;\n",
       "  }\n",
       "  table, th, td {\n",
       "    border: 1px solid black;\n",
       "    border-collapse: collapse;\n",
       "  }\n",
       "  th, td {\n",
       "    padding: 5px;\n",
       "  }\n",
       "  th {\n",
       "    text-align: left;\n",
       "  }\n",
       "</style><div class='table-result-container'><table class='table-result'><thead style='background-color: white'><tr><th>num_affected_rows</th><th>num_inserted_rows</th></tr></thead><tbody></tbody></table></div>"
      ]
     },
     "metadata": {
      "application/vnd.databricks.v1+output": {
       "addedWidgets": {},
       "aggData": [],
       "aggError": "",
       "aggOverflow": false,
       "aggSchema": [],
       "aggSeriesLimitReached": false,
       "aggType": "",
       "arguments": {},
       "columnCustomDisplayInfos": {},
       "data": [],
       "datasetInfos": [],
       "dbfsResultPath": null,
       "isJsonSchema": true,
       "metadata": {},
       "overflow": false,
       "plotOptions": {
        "customPlotOptions": {},
        "displayType": "table",
        "pivotAggregation": null,
        "pivotColumns": null,
        "xColumns": null,
        "yColumns": null
       },
       "removedWidgets": [],
       "schema": [
        {
         "metadata": "{}",
         "name": "num_affected_rows",
         "type": "\"long\""
        },
        {
         "metadata": "{}",
         "name": "num_inserted_rows",
         "type": "\"long\""
        }
       ],
       "type": "table"
      }
     },
     "output_type": "display_data"
    }
   ],
   "source": [
    "%sql\n",
    "CREATE or REPLACE TABLE finance_data.db_data.refined_customer\n",
    "as\n",
    "SELECT\n",
    "    Cust.Customer_ID,\n",
    "    TRIM(REGEXP_REPLACE(REGEXP_REPLACE((Customer_Name), '[^a-zA-Z ]', ''), ' {2,}', '')) AS Customer_Name,\n",
    "    TRIM(REGEXP_REPLACE(REGEXP_REPLACE((Country), '[^a-zA-Z ]', ''), ' {2,}', '')) AS Country\n",
    "FROM\n",
    "    finance_data.db_data.raw_customer as cust;\n"
   ]
  },
  {
   "cell_type": "code",
   "execution_count": null,
   "metadata": {
    "application/vnd.databricks.v1+cell": {
     "cellMetadata": {
      "byteLimit": 2048000,
      "implicitDf": true,
      "rowLimit": 10000
     },
     "inputWidgets": {},
     "nuid": "25b80472-585e-4d22-b70b-6320fdea0c79",
     "showTitle": false,
     "title": ""
    }
   },
   "outputs": [
    {
     "data": {
      "text/html": [
       "<style scoped>\n",
       "  .table-result-container {\n",
       "    max-height: 300px;\n",
       "    overflow: auto;\n",
       "  }\n",
       "  table, th, td {\n",
       "    border: 1px solid black;\n",
       "    border-collapse: collapse;\n",
       "  }\n",
       "  th, td {\n",
       "    padding: 5px;\n",
       "  }\n",
       "  th {\n",
       "    text-align: left;\n",
       "  }\n",
       "</style><div class='table-result-container'><table class='table-result'><thead style='background-color: white'><tr><th>num_affected_rows</th><th>num_inserted_rows</th></tr></thead><tbody></tbody></table></div>"
      ]
     },
     "metadata": {
      "application/vnd.databricks.v1+output": {
       "addedWidgets": {},
       "aggData": [],
       "aggError": "",
       "aggOverflow": false,
       "aggSchema": [],
       "aggSeriesLimitReached": false,
       "aggType": "",
       "arguments": {},
       "columnCustomDisplayInfos": {},
       "data": [],
       "datasetInfos": [],
       "dbfsResultPath": null,
       "isJsonSchema": true,
       "metadata": {},
       "overflow": false,
       "plotOptions": {
        "customPlotOptions": {},
        "displayType": "table",
        "pivotAggregation": null,
        "pivotColumns": null,
        "xColumns": null,
        "yColumns": null
       },
       "removedWidgets": [],
       "schema": [
        {
         "metadata": "{}",
         "name": "num_affected_rows",
         "type": "\"long\""
        },
        {
         "metadata": "{}",
         "name": "num_inserted_rows",
         "type": "\"long\""
        }
       ],
       "type": "table"
      }
     },
     "output_type": "display_data"
    }
   ],
   "source": [
    "%sql\n",
    "CREATE or REPLACE TABLE finance_data.db_data.refined_product\n",
    "as\n",
    "SELECT\n",
    "    prod.Product_ID,\n",
    "    TRIM(REGEXP_REPLACE(REGEXP_REPLACE((Category), '[^a-zA-Z ]', ''), ' {2,}', '')) AS Product_Category,  --replacing invalid characters\n",
    "    TRIM(REGEXP_REPLACE(REGEXP_REPLACE((`Sub-Category`), '[^a-zA-Z ]', ''), ' {2,}', '')) AS `Sub-Category` --replacing invalid characters\n",
    "FROM\n",
    "    finance_data.db_data.raw_product as prod\n",
    "    group by prod.Product_ID, prod.Category, prod.`Sub-Category`;\n"
   ]
  },
  {
   "cell_type": "code",
   "execution_count": null,
   "metadata": {
    "application/vnd.databricks.v1+cell": {
     "cellMetadata": {
      "byteLimit": 2048000,
      "implicitDf": true,
      "rowLimit": 10000
     },
     "inputWidgets": {},
     "nuid": "fac0a258-dfd2-400c-8df3-009625a46988",
     "showTitle": false,
     "title": ""
    }
   },
   "outputs": [
    {
     "data": {
      "text/html": [
       "<style scoped>\n",
       "  .table-result-container {\n",
       "    max-height: 300px;\n",
       "    overflow: auto;\n",
       "  }\n",
       "  table, th, td {\n",
       "    border: 1px solid black;\n",
       "    border-collapse: collapse;\n",
       "  }\n",
       "  th, td {\n",
       "    padding: 5px;\n",
       "  }\n",
       "  th {\n",
       "    text-align: left;\n",
       "  }\n",
       "</style><div class='table-result-container'><table class='table-result'><thead style='background-color: white'><tr><th>num_affected_rows</th><th>num_inserted_rows</th></tr></thead><tbody></tbody></table></div>"
      ]
     },
     "metadata": {
      "application/vnd.databricks.v1+output": {
       "addedWidgets": {},
       "aggData": [],
       "aggError": "",
       "aggOverflow": false,
       "aggSchema": [],
       "aggSeriesLimitReached": false,
       "aggType": "",
       "arguments": {},
       "columnCustomDisplayInfos": {},
       "data": [],
       "datasetInfos": [],
       "dbfsResultPath": null,
       "isJsonSchema": true,
       "metadata": {},
       "overflow": false,
       "plotOptions": {
        "customPlotOptions": {},
        "displayType": "table",
        "pivotAggregation": null,
        "pivotColumns": null,
        "xColumns": null,
        "yColumns": null
       },
       "removedWidgets": [],
       "schema": [
        {
         "metadata": "{}",
         "name": "num_affected_rows",
         "type": "\"long\""
        },
        {
         "metadata": "{}",
         "name": "num_inserted_rows",
         "type": "\"long\""
        }
       ],
       "type": "table"
      }
     },
     "output_type": "display_data"
    }
   ],
   "source": [
    "%sql\n",
    "CREATE or REPLACE TABLE FINANCE_DATA.DB_DATA.REFINED_ORDER\n",
    "AS\n",
    "SELECT \n",
    "  ord.Order_ID,\n",
    "  ord.Product_ID,\n",
    "  ord.Customer_ID,\n",
    "  IFNULL(CAST((split_part(order_date,'/',3 ) || '-' || split_part(order_date,'/',2)  || '-' || split_part(order_date,'/',1)) AS DATE), '2000-01-01')  AS order_date, --casting into correct date format\n",
    "  CAST((ord.Profit) AS DECIMAL(10,2)) as Profit --rounding off to 2 digits\n",
    "FROM finance_data.db_data.raw_order as ord"
   ]
  },
  {
   "cell_type": "code",
   "execution_count": null,
   "metadata": {
    "application/vnd.databricks.v1+cell": {
     "cellMetadata": {
      "byteLimit": 2048000,
      "implicitDf": true,
      "rowLimit": 10000
     },
     "inputWidgets": {},
     "nuid": "1c99b5a8-ecfc-46bf-af92-39c14a8a84ec",
     "showTitle": false,
     "title": ""
    }
   },
   "outputs": [
    {
     "data": {
      "text/html": [
       "<style scoped>\n",
       "  .table-result-container {\n",
       "    max-height: 300px;\n",
       "    overflow: auto;\n",
       "  }\n",
       "  table, th, td {\n",
       "    border: 1px solid black;\n",
       "    border-collapse: collapse;\n",
       "  }\n",
       "  th, td {\n",
       "    padding: 5px;\n",
       "  }\n",
       "  th {\n",
       "    text-align: left;\n",
       "  }\n",
       "</style><div class='table-result-container'><table class='table-result'><thead style='background-color: white'><tr><th>num_affected_rows</th><th>num_inserted_rows</th></tr></thead><tbody></tbody></table></div>"
      ]
     },
     "metadata": {
      "application/vnd.databricks.v1+output": {
       "addedWidgets": {},
       "aggData": [],
       "aggError": "",
       "aggOverflow": false,
       "aggSchema": [],
       "aggSeriesLimitReached": false,
       "aggType": "",
       "arguments": {},
       "columnCustomDisplayInfos": {},
       "data": [],
       "datasetInfos": [],
       "dbfsResultPath": null,
       "isJsonSchema": true,
       "metadata": {},
       "overflow": false,
       "plotOptions": {
        "customPlotOptions": {},
        "displayType": "table",
        "pivotAggregation": null,
        "pivotColumns": null,
        "xColumns": null,
        "yColumns": null
       },
       "removedWidgets": [],
       "schema": [
        {
         "metadata": "{}",
         "name": "num_affected_rows",
         "type": "\"long\""
        },
        {
         "metadata": "{}",
         "name": "num_inserted_rows",
         "type": "\"long\""
        }
       ],
       "type": "table"
      }
     },
     "output_type": "display_data"
    }
   ],
   "source": [
    "%sql\n",
    "create or REPLACE TABLE FINANCE_DATA.DB_DATA.SALES_MART\n",
    "AS\n",
    "(\n",
    "select\n",
    "IFNULL(cst.Customer_ID, 'NA') as Customer_ID, --handling Null value cases with NA since left join used\n",
    "IFNULL(cst.Customer_Name, 'NA') as Customer_Name,  --handling Null value cases with NA since left join used\n",
    "IFNULL(cst.Country, 'NA') as Country,  --handling Null value with NA since left join used\n",
    "IFNULL(year(ord.Order_Date), 2099) as Year,  --handling Null value cases with year 2099 since left join used\n",
    "IFNULL(prd.Product_Category, 'NA') as Product_Category,  --handling Null value cases with NA since left join used\n",
    "IFNULL(prd.`Sub-Category`, 'NA') as `Sub-Category`,  --handling Null value cases with NA since left join used\n",
    "IFNULL(ord.profit, 0.00) as Profit\n",
    "from finance_data.db_data.refined_order as ord\n",
    "left join finance_data.db_data.refined_product as prd  ----since few products are missing in product table w.r.t order table thus left join to preserve all orders\n",
    "on ord.Product_ID = prd.Product_ID\n",
    "inner join finance_data.db_data.refined_customer as cst\n",
    "on ord.Customer_ID = cst.Customer_ID \n",
    ")"
   ]
  },
  {
   "cell_type": "code",
   "execution_count": null,
   "metadata": {
    "application/vnd.databricks.v1+cell": {
     "cellMetadata": {
      "byteLimit": 2048000,
      "implicitDf": true,
      "rowLimit": 10000
     },
     "inputWidgets": {},
     "nuid": "d6cdb7bf-300b-4965-84fa-7b04a91c7c63",
     "showTitle": false,
     "title": ""
    }
   },
   "outputs": [
    {
     "data": {
      "text/html": [
       "<style scoped>\n",
       "  .table-result-container {\n",
       "    max-height: 300px;\n",
       "    overflow: auto;\n",
       "  }\n",
       "  table, th, td {\n",
       "    border: 1px solid black;\n",
       "    border-collapse: collapse;\n",
       "  }\n",
       "  th, td {\n",
       "    padding: 5px;\n",
       "  }\n",
       "  th {\n",
       "    text-align: left;\n",
       "  }\n",
       "</style><div class='table-result-container'><table class='table-result'><thead style='background-color: white'><tr></tr></thead><tbody></tbody></table></div>"
      ]
     },
     "metadata": {
      "application/vnd.databricks.v1+output": {
       "addedWidgets": {},
       "aggData": [],
       "aggError": "",
       "aggOverflow": false,
       "aggSchema": [],
       "aggSeriesLimitReached": false,
       "aggType": "",
       "arguments": {},
       "columnCustomDisplayInfos": {},
       "data": [],
       "datasetInfos": [],
       "dbfsResultPath": null,
       "isJsonSchema": true,
       "metadata": {},
       "overflow": false,
       "plotOptions": {
        "customPlotOptions": {},
        "displayType": "table",
        "pivotAggregation": null,
        "pivotColumns": null,
        "xColumns": null,
        "yColumns": null
       },
       "removedWidgets": [],
       "schema": [],
       "type": "table"
      }
     },
     "output_type": "display_data"
    }
   ],
   "source": [
    "%sql\n",
    "CREATE or REPLACE VIEW FINANCE_DATA.DB_DATA.VW_SALES_BY_YEAR\n",
    "AS\n",
    "select \n",
    "Year,\n",
    "sum(profit) as Total_Profit\n",
    "from finance_data.db_data.sales_mart\n",
    "group by year\n"
   ]
  },
  {
   "cell_type": "code",
   "execution_count": null,
   "metadata": {
    "application/vnd.databricks.v1+cell": {
     "cellMetadata": {
      "byteLimit": 2048000,
      "implicitDf": true,
      "rowLimit": 10000
     },
     "inputWidgets": {},
     "nuid": "93fbf1e1-d22c-4216-b6a9-7370e13cf67f",
     "showTitle": false,
     "title": ""
    }
   },
   "outputs": [
    {
     "data": {
      "text/html": [
       "<style scoped>\n",
       "  .table-result-container {\n",
       "    max-height: 300px;\n",
       "    overflow: auto;\n",
       "  }\n",
       "  table, th, td {\n",
       "    border: 1px solid black;\n",
       "    border-collapse: collapse;\n",
       "  }\n",
       "  th, td {\n",
       "    padding: 5px;\n",
       "  }\n",
       "  th {\n",
       "    text-align: left;\n",
       "  }\n",
       "</style><div class='table-result-container'><table class='table-result'><thead style='background-color: white'><tr></tr></thead><tbody></tbody></table></div>"
      ]
     },
     "metadata": {
      "application/vnd.databricks.v1+output": {
       "addedWidgets": {},
       "aggData": [],
       "aggError": "",
       "aggOverflow": false,
       "aggSchema": [],
       "aggSeriesLimitReached": false,
       "aggType": "",
       "arguments": {},
       "columnCustomDisplayInfos": {},
       "data": [],
       "datasetInfos": [],
       "dbfsResultPath": null,
       "isJsonSchema": true,
       "metadata": {},
       "overflow": false,
       "plotOptions": {
        "customPlotOptions": {},
        "displayType": "table",
        "pivotAggregation": null,
        "pivotColumns": null,
        "xColumns": null,
        "yColumns": null
       },
       "removedWidgets": [],
       "schema": [],
       "type": "table"
      }
     },
     "output_type": "display_data"
    }
   ],
   "source": [
    "%sql\n",
    "CREATE or REPLACE VIEW FINANCE_DATA.DB_DATA.VW_SALES_BY_PRODUCT_CATEGORY\n",
    "AS\n",
    "select \n",
    "Product_Category,\n",
    "sum(profit) as Total_Profit\n",
    "from finance_data.db_data.sales_mart\n",
    "group by Product_Category\n"
   ]
  },
  {
   "cell_type": "code",
   "execution_count": null,
   "metadata": {
    "application/vnd.databricks.v1+cell": {
     "cellMetadata": {
      "byteLimit": 2048000,
      "implicitDf": true,
      "rowLimit": 10000
     },
     "inputWidgets": {},
     "nuid": "9314e3e5-b6b4-4ea3-b7bf-9b8db59d3139",
     "showTitle": false,
     "title": ""
    }
   },
   "outputs": [
    {
     "data": {
      "text/html": [
       "<style scoped>\n",
       "  .table-result-container {\n",
       "    max-height: 300px;\n",
       "    overflow: auto;\n",
       "  }\n",
       "  table, th, td {\n",
       "    border: 1px solid black;\n",
       "    border-collapse: collapse;\n",
       "  }\n",
       "  th, td {\n",
       "    padding: 5px;\n",
       "  }\n",
       "  th {\n",
       "    text-align: left;\n",
       "  }\n",
       "</style><div class='table-result-container'><table class='table-result'><thead style='background-color: white'><tr></tr></thead><tbody></tbody></table></div>"
      ]
     },
     "metadata": {
      "application/vnd.databricks.v1+output": {
       "addedWidgets": {},
       "aggData": [],
       "aggError": "",
       "aggOverflow": false,
       "aggSchema": [],
       "aggSeriesLimitReached": false,
       "aggType": "",
       "arguments": {},
       "columnCustomDisplayInfos": {},
       "data": [],
       "datasetInfos": [],
       "dbfsResultPath": null,
       "isJsonSchema": true,
       "metadata": {},
       "overflow": false,
       "plotOptions": {
        "customPlotOptions": {},
        "displayType": "table",
        "pivotAggregation": null,
        "pivotColumns": null,
        "xColumns": null,
        "yColumns": null
       },
       "removedWidgets": [],
       "schema": [],
       "type": "table"
      }
     },
     "output_type": "display_data"
    }
   ],
   "source": [
    "%sql\n",
    "CREATE or REPLACE VIEW FINANCE_DATA.DB_DATA.VW_SALES_BY_SUB_CATEGORY\n",
    "AS\n",
    "select \n",
    "`Sub-Category`,\n",
    "sum(profit) as Total_Profit\n",
    "from finance_data.db_data.sales_mart\n",
    "group by `Sub-Category`\n"
   ]
  },
  {
   "cell_type": "code",
   "execution_count": null,
   "metadata": {
    "application/vnd.databricks.v1+cell": {
     "cellMetadata": {
      "byteLimit": 2048000,
      "implicitDf": true,
      "rowLimit": 10000
     },
     "inputWidgets": {},
     "nuid": "5abf2274-f406-4d4c-9fd0-e370b7ebc699",
     "showTitle": false,
     "title": ""
    }
   },
   "outputs": [
    {
     "data": {
      "text/html": [
       "<style scoped>\n",
       "  .table-result-container {\n",
       "    max-height: 300px;\n",
       "    overflow: auto;\n",
       "  }\n",
       "  table, th, td {\n",
       "    border: 1px solid black;\n",
       "    border-collapse: collapse;\n",
       "  }\n",
       "  th, td {\n",
       "    padding: 5px;\n",
       "  }\n",
       "  th {\n",
       "    text-align: left;\n",
       "  }\n",
       "</style><div class='table-result-container'><table class='table-result'><thead style='background-color: white'><tr></tr></thead><tbody></tbody></table></div>"
      ]
     },
     "metadata": {
      "application/vnd.databricks.v1+output": {
       "addedWidgets": {},
       "aggData": [],
       "aggError": "",
       "aggOverflow": false,
       "aggSchema": [],
       "aggSeriesLimitReached": false,
       "aggType": "",
       "arguments": {},
       "columnCustomDisplayInfos": {},
       "data": [],
       "datasetInfos": [],
       "dbfsResultPath": null,
       "isJsonSchema": true,
       "metadata": {},
       "overflow": false,
       "plotOptions": {
        "customPlotOptions": {},
        "displayType": "table",
        "pivotAggregation": null,
        "pivotColumns": null,
        "xColumns": null,
        "yColumns": null
       },
       "removedWidgets": [],
       "schema": [],
       "type": "table"
      }
     },
     "output_type": "display_data"
    }
   ],
   "source": [
    "%sql\n",
    "CREATE or REPLACE VIEW FINANCE_DATA.DB_DATA.VW_SALES_BY_CUSTOMER\n",
    "AS\n",
    "select \n",
    "Customer_ID,\n",
    "Customer_Name,\n",
    "sum(profit) as Total_Profit\n",
    "from finance_data.db_data.sales_mart\n",
    "group by Customer_ID, Customer_Name\n"
   ]
  },
  {
   "cell_type": "code",
   "execution_count": null,
   "metadata": {
    "application/vnd.databricks.v1+cell": {
     "cellMetadata": {
      "byteLimit": 2048000,
      "implicitDf": true,
      "rowLimit": 10000
     },
     "inputWidgets": {},
     "nuid": "a7f14ba4-f24c-4856-b7d1-4d46337b7105",
     "showTitle": false,
     "title": ""
    }
   },
   "outputs": [
    {
     "data": {
      "text/html": [
       "<style scoped>\n",
       "  .table-result-container {\n",
       "    max-height: 300px;\n",
       "    overflow: auto;\n",
       "  }\n",
       "  table, th, td {\n",
       "    border: 1px solid black;\n",
       "    border-collapse: collapse;\n",
       "  }\n",
       "  th, td {\n",
       "    padding: 5px;\n",
       "  }\n",
       "  th {\n",
       "    text-align: left;\n",
       "  }\n",
       "</style><div class='table-result-container'><table class='table-result'><thead style='background-color: white'><tr><th>Year</th><th>Total_Profit</th></tr></thead><tbody><tr><td>2015</td><td>63073.30</td></tr><tr><td>2014</td><td>39185.89</td></tr><tr><td>2016</td><td>65073.58</td></tr><tr><td>2017</td><td>111085.31</td></tr></tbody></table></div>"
      ]
     },
     "metadata": {
      "application/vnd.databricks.v1+output": {
       "addedWidgets": {},
       "aggData": [],
       "aggError": "",
       "aggOverflow": false,
       "aggSchema": [],
       "aggSeriesLimitReached": false,
       "aggType": "",
       "arguments": {},
       "columnCustomDisplayInfos": {},
       "data": [
        [
         2015,
         "63073.30"
        ],
        [
         2014,
         "39185.89"
        ],
        [
         2016,
         "65073.58"
        ],
        [
         2017,
         "111085.31"
        ]
       ],
       "datasetInfos": [],
       "dbfsResultPath": null,
       "isJsonSchema": true,
       "metadata": {},
       "overflow": false,
       "plotOptions": {
        "customPlotOptions": {},
        "displayType": "table",
        "pivotAggregation": null,
        "pivotColumns": null,
        "xColumns": null,
        "yColumns": null
       },
       "removedWidgets": [],
       "schema": [
        {
         "metadata": "{}",
         "name": "Year",
         "type": "\"integer\""
        },
        {
         "metadata": "{}",
         "name": "Total_Profit",
         "type": "\"decimal(20,2)\""
        }
       ],
       "type": "table"
      }
     },
     "output_type": "display_data"
    }
   ],
   "source": [
    "%sql\n",
    "select \n",
    "Year,\n",
    "sum(profit) as Total_Profit\n",
    "from finance_data.db_data.sales_mart\n",
    "group by year"
   ]
  },
  {
   "cell_type": "code",
   "execution_count": null,
   "metadata": {
    "application/vnd.databricks.v1+cell": {
     "cellMetadata": {
      "byteLimit": 2048000,
      "implicitDf": true,
      "rowLimit": 10000
     },
     "inputWidgets": {},
     "nuid": "8a215fa8-bfa5-4844-9329-6c10cdf6db0d",
     "showTitle": false,
     "title": ""
    }
   },
   "outputs": [
    {
     "data": {
      "text/html": [
       "<style scoped>\n",
       "  .table-result-container {\n",
       "    max-height: 300px;\n",
       "    overflow: auto;\n",
       "  }\n",
       "  table, th, td {\n",
       "    border: 1px solid black;\n",
       "    border-collapse: collapse;\n",
       "  }\n",
       "  th, td {\n",
       "    padding: 5px;\n",
       "  }\n",
       "  th {\n",
       "    text-align: left;\n",
       "  }\n",
       "</style><div class='table-result-container'><table class='table-result'><thead style='background-color: white'><tr><th>Year</th><th>Product_Category</th><th>Total_Profit</th></tr></thead><tbody><tr><td>2017</td><td>Office Supplies</td><td>44273.35</td></tr><tr><td>2015</td><td>Office Supplies</td><td>24519.51</td></tr><tr><td>2016</td><td>Technology</td><td>23223.84</td></tr><tr><td>2014</td><td>Technology</td><td>21493.38</td></tr><tr><td>2015</td><td>Furniture</td><td>3027.20</td></tr><tr><td>2014</td><td>Furniture</td><td>-5331.05</td></tr><tr><td>2017</td><td>Technology</td><td>63281.91</td></tr><tr><td>2017</td><td>Furniture</td><td>3041.54</td></tr><tr><td>2014</td><td>NA</td><td>523.13</td></tr><tr><td>2015</td><td>Technology</td><td>34943.43</td></tr><tr><td>2014</td><td>Office Supplies</td><td>22500.43</td></tr><tr><td>2015</td><td>NA</td><td>583.16</td></tr><tr><td>2016</td><td>Furniture</td><td>6889.56</td></tr><tr><td>2016</td><td>Office Supplies</td><td>34555.74</td></tr><tr><td>2017</td><td>NA</td><td>488.51</td></tr><tr><td>2016</td><td>NA</td><td>404.44</td></tr></tbody></table></div>"
      ]
     },
     "metadata": {
      "application/vnd.databricks.v1+output": {
       "addedWidgets": {},
       "aggData": [],
       "aggError": "",
       "aggOverflow": false,
       "aggSchema": [],
       "aggSeriesLimitReached": false,
       "aggType": "",
       "arguments": {},
       "columnCustomDisplayInfos": {},
       "data": [
        [
         2017,
         "Office Supplies",
         "44273.35"
        ],
        [
         2015,
         "Office Supplies",
         "24519.51"
        ],
        [
         2016,
         "Technology",
         "23223.84"
        ],
        [
         2014,
         "Technology",
         "21493.38"
        ],
        [
         2015,
         "Furniture",
         "3027.20"
        ],
        [
         2014,
         "Furniture",
         "-5331.05"
        ],
        [
         2017,
         "Technology",
         "63281.91"
        ],
        [
         2017,
         "Furniture",
         "3041.54"
        ],
        [
         2014,
         "NA",
         "523.13"
        ],
        [
         2015,
         "Technology",
         "34943.43"
        ],
        [
         2014,
         "Office Supplies",
         "22500.43"
        ],
        [
         2015,
         "NA",
         "583.16"
        ],
        [
         2016,
         "Furniture",
         "6889.56"
        ],
        [
         2016,
         "Office Supplies",
         "34555.74"
        ],
        [
         2017,
         "NA",
         "488.51"
        ],
        [
         2016,
         "NA",
         "404.44"
        ]
       ],
       "datasetInfos": [],
       "dbfsResultPath": null,
       "isJsonSchema": true,
       "metadata": {},
       "overflow": false,
       "plotOptions": {
        "customPlotOptions": {},
        "displayType": "table",
        "pivotAggregation": null,
        "pivotColumns": null,
        "xColumns": null,
        "yColumns": null
       },
       "removedWidgets": [],
       "schema": [
        {
         "metadata": "{}",
         "name": "Year",
         "type": "\"integer\""
        },
        {
         "metadata": "{}",
         "name": "Product_Category",
         "type": "\"string\""
        },
        {
         "metadata": "{}",
         "name": "Total_Profit",
         "type": "\"decimal(20,2)\""
        }
       ],
       "type": "table"
      }
     },
     "output_type": "display_data"
    }
   ],
   "source": [
    "%sql\n",
    "select \n",
    "Year,\n",
    "Product_Category,\n",
    "sum(profit) as Total_Profit\n",
    "from finance_data.db_data.sales_mart\n",
    "group by year, Product_Category"
   ]
  },
  {
   "cell_type": "code",
   "execution_count": null,
   "metadata": {
    "application/vnd.databricks.v1+cell": {
     "cellMetadata": {
      "byteLimit": 2048000,
      "implicitDf": true,
      "rowLimit": 10000
     },
     "inputWidgets": {},
     "nuid": "c10bd8aa-4ded-4024-895b-7c8820edf1fb",
     "showTitle": false,
     "title": ""
    }
   },
   "outputs": [
    {
     "data": {
      "text/html": [
       "<style scoped>\n",
       "  .table-result-container {\n",
       "    max-height: 300px;\n",
       "    overflow: auto;\n",
       "  }\n",
       "  table, th, td {\n",
       "    border: 1px solid black;\n",
       "    border-collapse: collapse;\n",
       "  }\n",
       "  th, td {\n",
       "    padding: 5px;\n",
       "  }\n",
       "  th {\n",
       "    text-align: left;\n",
       "  }\n",
       "</style><div class='table-result-container'><table class='table-result'><thead style='background-color: white'><tr><th>Customer_ID</th><th>Customer_Name</th><th>Total_Profit</th></tr></thead><tbody><tr><td>VP-21760</td><td>Victoria Pisteka</td><td>-1018.91</td></tr><tr><td>JK-15640</td><td>Jim Kriz</td><td>1172.90</td></tr><tr><td>PR-18880</td><td>Patrick Ryan</td><td>5596.20</td></tr><tr><td>RB-19435</td><td>Richard Bierner</td><td>477.63</td></tr><tr><td>CD-12280</td><td>Christina DeMoss</td><td>233.48</td></tr><tr><td>JM-15655</td><td>Jim Mitchum</td><td>117.20</td></tr><tr><td>CR-12730</td><td>Craig Reiter</td><td>306.92</td></tr><tr><td>GM-14680</td><td>Greg Matthias</td><td>35.47</td></tr><tr><td>CM-12115</td><td>Chad McGuire</td><td>408.58</td></tr><tr><td>PA-19060</td><td>Pete Armstrong</td><td>225.86</td></tr><tr><td>IM-15070</td><td>Irene Maddox</td><td>514.20</td></tr><tr><td>SN-20710</td><td>Steve Nguyen</td><td>481.75</td></tr><tr><td>CM-12190</td><td>Charlotte Melton</td><td>91.21</td></tr><tr><td>MR-17545</td><td>Mathew Reese</td><td>162.46</td></tr><tr><td>LW-16825</td><td>Laurel Workman</td><td>32.59</td></tr><tr><td>ES-14020</td><td>Erica Smith</td><td>1003.08</td></tr><tr><td>CJ-11875</td><td>Carl Jackson</td><td>1.65</td></tr><tr><td>SM-20005</td><td>Sally Matthias</td><td>-26.59</td></tr><tr><td>DW-13195</td><td>David Wiener</td><td>-86.97</td></tr><tr><td>TM-21010</td><td>Tamara Manning</td><td>573.46</td></tr><tr><td>DB-13060</td><td>Dave Brooks</td><td>472.63</td></tr><tr><td>CA-11965</td><td>Carol Adams</td><td>1143.39</td></tr><tr><td>LP-17080</td><td>Liz Pelletier</td><td>110.79</td></tr><tr><td>TB-21595</td><td>Troy Blackwell</td><td>-136.47</td></tr><tr><td>JM-15535</td><td>Jessica Myrick</td><td>356.53</td></tr><tr><td>PO-18865</td><td>Patrick ODonnell</td><td>437.94</td></tr><tr><td>BT-11485</td><td>Brad Thomas</td><td>126.87</td></tr><tr><td>LE-16810</td><td>Laurel Elliston</td><td>161.75</td></tr><tr><td>TH-21115</td><td>Thea Hudgings</td><td>-252.55</td></tr><tr><td>EN-13780</td><td>Edward Nazzal</td><td>496.22</td></tr><tr><td>MT-17815</td><td>Meg Tillman</td><td>509.02</td></tr><tr><td>GZ-14470</td><td>Gary Zandusky</td><td>1088.16</td></tr><tr><td>TS-21430</td><td>Tom Stivers</td><td>48.90</td></tr><tr><td>JL-15175</td><td>James Lanier</td><td>209.11</td></tr><tr><td>KC-16540</td><td>Kelly Collister</td><td>709.43</td></tr><tr><td>RB-19645</td><td>Robert Barroso</td><td>72.68</td></tr><tr><td>SD-20485</td><td>Shirley Daniels</td><td>1985.19</td></tr><tr><td>SV-20815</td><td>Stuart Van</td><td>199.64</td></tr><tr><td>ML-18040</td><td>Michelle Lonsdale</td><td>138.71</td></tr><tr><td>DB-13660</td><td>Duane Benoit</td><td>177.94</td></tr><tr><td>MH-18025</td><td>Michelle Huthwaite</td><td>476.74</td></tr><tr><td>MV-17485</td><td>Mark Van Huff</td><td>189.01</td></tr><tr><td>AJ-10960</td><td>Astrea Jones</td><td>60.43</td></tr><tr><td>JO-15280</td><td>Jas OCarroll</td><td>201.24</td></tr><tr><td>CS-11845</td><td>Cari Sayre</td><td>185.55</td></tr><tr><td>PV-18985</td><td>PaulVan Hugh</td><td>434.25</td></tr><tr><td>JM-16195</td><td>Justin MacKendrick</td><td>753.70</td></tr><tr><td>SV-20785</td><td>Stewart Visinsky</td><td>484.85</td></tr><tr><td>NC-18535</td><td>Nick Crebassa</td><td>1314.02</td></tr><tr><td>MM-18280</td><td>Muhammed MacIntyre</td><td>58.56</td></tr><tr><td>KD-16345</td><td>Katherine Ducich</td><td>328.59</td></tr><tr><td>GM-14440</td><td>Gary McGarr</td><td>347.27</td></tr><tr><td>BT-11395</td><td>Bil Tyler</td><td>257.90</td></tr><tr><td>TW-21025</td><td>Tamara Willingham</td><td>737.39</td></tr><tr><td>RH-19495</td><td>Rick Hansen</td><td>563.78</td></tr><tr><td>MK-17905</td><td>Michael Kennedy</td><td>-405.43</td></tr><tr><td>SS-20875</td><td>Sung Shariari</td><td>-75.57</td></tr><tr><td>SC-20845</td><td>Sung Chung</td><td>31.18</td></tr><tr><td>JP-15460</td><td>Jennifer Patt</td><td>429.74</td></tr><tr><td>KB-16585</td><td>Ken Black</td><td>578.89</td></tr><tr><td>TB-21520</td><td>Tracy Blumstein</td><td>-1603.05</td></tr><tr><td>AR-10345</td><td>Alex Russell</td><td>-221.05</td></tr><tr><td>JK-15325</td><td>Jason Klamczynski</td><td>55.58</td></tr><tr><td>AC-10450</td><td>Amy Cox</td><td>1366.50</td></tr><tr><td>ME-18010</td><td>Michelle Ellison</td><td>107.35</td></tr><tr><td>KN-16390</td><td>Katherine Nockton</td><td>-151.15</td></tr><tr><td>JE-15745</td><td>Joel Eaton</td><td>222.23</td></tr><tr><td>LS-16945</td><td>Linda Southworth</td><td>-318.44</td></tr><tr><td>NL-18310</td><td>Nancy Lomonaco</td><td>343.80</td></tr><tr><td>SR-20740</td><td>Steven Roelle</td><td>1990.43</td></tr><tr><td>AS-10135</td><td>Adrian Shami</td><td>21.84</td></tr><tr><td>DA-13450</td><td>Dianna Arnett</td><td>56.79</td></tr><tr><td>EH-13945</td><td>Eric Hoffmann</td><td>53.79</td></tr><tr><td>KM-16660</td><td>Khloe Miller</td><td>90.67</td></tr><tr><td>RO-19780</td><td>Rose OBrian</td><td>-1262.80</td></tr><tr><td>MS-17530</td><td>MaryBeth Skach</td><td>84.02</td></tr><tr><td>BD-11620</td><td>Brian DeCherney</td><td>207.02</td></tr><tr><td>JL-15130</td><td>Jack Lebron</td><td>-207.31</td></tr><tr><td>AB-10015</td><td>Aaron Bergman</td><td>129.68</td></tr><tr><td>CS-11860</td><td>Cari Schnelling</td><td>105.82</td></tr><tr><td>CK-12325</td><td>Christine Kargatis</td><td>261.23</td></tr><tr><td>YS-21880</td><td>Yana Sorensen</td><td>1778.31</td></tr><tr><td>MG-18145</td><td>Mike Gockenbach</td><td>-93.49</td></tr><tr><td>MH-17440</td><td>Mark Haberlin</td><td>61.43</td></tr><tr><td>JG-15160</td><td>James Galang</td><td>1415.36</td></tr><tr><td>TA-21385</td><td>Tom Ashbrook</td><td>4703.73</td></tr><tr><td>CJ-12010</td><td>Caroline Jumper</td><td>858.75</td></tr><tr><td>MC-17635</td><td>Matthew Clasen</td><td>-247.72</td></tr><tr><td>DK-13150</td><td>David K lendrick</td><td>250.27</td></tr><tr><td>JD-16015</td><td>Joy Daniels</td><td>26.72</td></tr><tr><td>MP-18175</td><td>Mike Pelletier</td><td>225.49</td></tr><tr><td>BG-11035</td><td>Barry Gonzalez</td><td>-710.80</td></tr><tr><td>RK-19300</td><td>Ralph Kennedy</td><td>269.69</td></tr><tr><td>KD-16270</td><td>Karen Danels</td><td>1107.60</td></tr><tr><td>MF-18250</td><td>Monica Federle</td><td>456.86</td></tr><tr><td>RD-19585</td><td>Rob Dowd</td><td>734.52</td></tr><tr><td>TP-21130</td><td>Theone Pippenger</td><td>1128.65</td></tr><tr><td>LW-16990</td><td>Lindsay Williams</td><td>662.83</td></tr><tr><td>CV-12805</td><td>Cynthia Voltz</td><td>98.70</td></tr><tr><td>PP-18955</td><td>Paul Prost</td><td>1495.47</td></tr><tr><td>DC-13285</td><td>Debra Catini</td><td>132.08</td></tr><tr><td>TM-21490</td><td>Tony Molinari</td><td>292.53</td></tr><tr><td>MG-17875</td><td>Michael Grace</td><td>-470.77</td></tr><tr><td>HR-14770</td><td>Hallie Redmond</td><td>185.40</td></tr><tr><td>DW-13480</td><td>Dianna Wilson</td><td>1348.75</td></tr><tr><td>AJ-10795</td><td>Anthony Johnson</td><td>1158.71</td></tr><tr><td>GT-14635</td><td>Grant Thornton</td><td>-4108.66</td></tr><tr><td>AH-10210</td><td>Alan Hwang</td><td>1308.56</td></tr><tr><td>NH-18610</td><td>Nicole Hansen</td><td>760.17</td></tr><tr><td>BP-11290</td><td>Beth Paige</td><td>-318.85</td></tr><tr><td>RR-19315</td><td>Ralph Ritter</td><td>-73.83</td></tr><tr><td>DB-12970</td><td>Darren Budd</td><td>212.54</td></tr><tr><td>JR-16210</td><td>Justin Ritter</td><td>452.37</td></tr><tr><td>DS-13180</td><td>David Smith</td><td>163.66</td></tr><tr><td>MM-17260</td><td>Magdelene Morse</td><td>178.41</td></tr><tr><td>GZ-14545</td><td>George Zrebassa</td><td>828.17</td></tr><tr><td>AJ-10780</td><td>Anthony Jacobs</td><td>150.72</td></tr><tr><td>RS-19870</td><td>Roy Skaria</td><td>9.58</td></tr><tr><td>AS-10045</td><td>Aaron Smayling</td><td>-253.59</td></tr><tr><td>CC-12370</td><td>Christopher Conant</td><td>2177.07</td></tr><tr><td>SA-20830</td><td>Sue Ann Reed</td><td>610.14</td></tr><tr><td>JB-15925</td><td>Joni Blumstein</td><td>-286.98</td></tr><tr><td>CA-12055</td><td>Cthy Armstrong</td><td>211.64</td></tr><tr><td>PG-18820</td><td>Patrick Gardner</td><td>137.49</td></tr><tr><td>AP-10720</td><td>Anne Pryor</td><td>285.80</td></tr><tr><td>PC-18745</td><td>Pamela Coakley</td><td>272.68</td></tr><tr><td>CT-11995</td><td>Carol Triggs</td><td>160.90</td></tr><tr><td>LH-17020</td><td>Lisa Hazard</td><td>-242.75</td></tr><tr><td>AC-10420</td><td>Alyssa Crouse</td><td>-62.13</td></tr><tr><td>PB-19210</td><td>Phillip Breyer</td><td>21.90</td></tr><tr><td>JF-15295</td><td>Jason Fortune</td><td>97.41</td></tr><tr><td>DN-13690</td><td>Duane Noonan</td><td>540.53</td></tr><tr><td>AP-10915</td><td>Arthur Prichep</td><td>579.70</td></tr><tr><td>AG-10525</td><td>Andy Gerbode</td><td>-152.75</td></tr><tr><td>AF-10870</td><td>Art Ferguson</td><td>317.63</td></tr><tr><td>HA-14920</td><td>Helen Andreada</td><td>98.47</td></tr><tr><td>ZC-21910</td><td>Zuschuss Carroll</td><td>-1032.36</td></tr><tr><td>PK-19075</td><td>Pete Kriz</td><td>2037.90</td></tr><tr><td>PS-18970</td><td>Paul Stevenson</td><td>198.53</td></tr><tr><td>TS-21160</td><td>Theresa Swint</td><td>260.63</td></tr><tr><td>FW-14395</td><td>Fred Waerman</td><td>23.50</td></tr><tr><td>MC-18100</td><td>Mick Crebagga</td><td>-64.40</td></tr><tr><td>GR-14560</td><td>Georgia Rosenberg</td><td>359.88</td></tr><tr><td>JL-15235</td><td>Janet Lee</td><td>54.51</td></tr><tr><td>KH-16690</td><td>Kristen Hastings</td><td>1227.13</td></tr><tr><td>LS-17230</td><td>Lycoris Saunders</td><td>64.57</td></tr><tr><td>JK-15625</td><td>Jim Karlsson</td><td>750.73</td></tr><tr><td>NP-18325</td><td>NA</td><td>1209.14</td></tr><tr><td>SP-20860</td><td>Sung Pak</td><td>567.12</td></tr><tr><td>MP-17470</td><td>Mark Packer</td><td>600.30</td></tr><tr><td>SP-20545</td><td>Sibella Parks</td><td>-118.38</td></tr><tr><td>CH-12070</td><td>Cathy Hwang</td><td>184.29</td></tr><tr><td>DK-13225</td><td>Dean Katz</td><td>210.27</td></tr><tr><td>BF-10975</td><td>Barbara Fisher</td><td>227.30</td></tr><tr><td>NF-18595</td><td>Nicole Fjeld</td><td>388.31</td></tr><tr><td>AA-10375</td><td>Allen Armold</td><td>277.40</td></tr><tr><td>TT-21220</td><td>Thomas Thornton</td><td>278.75</td></tr><tr><td>JM-15265</td><td>Janet Molinari</td><td>502.99</td></tr><tr><td>SG-20890</td><td>Susan Gilcrest</td><td>-3.70</td></tr><tr><td>KH-16360</td><td>Katherine Hughes</td><td>528.29</td></tr><tr><td>HE-14800</td><td>Harold Engle</td><td>273.97</td></tr><tr><td>MC-17575</td><td>Matt Collins</td><td>210.92</td></tr><tr><td>BD-11635</td><td>Brian Derr</td><td>141.43</td></tr><tr><td>TB-21355</td><td>Todd Boyes</td><td>268.96</td></tr><tr><td>SC-20305</td><td>Sean Christensen</td><td>229.11</td></tr><tr><td>DR-12940</td><td>Daniel Raglin</td><td>2869.08</td></tr><tr><td>BT-11530</td><td>Bradley Talbott</td><td>409.49</td></tr><tr><td>SW-20350</td><td>Sean Wendt</td><td>95.84</td></tr><tr><td>CM-12160</td><td>Charles McCrossin</td><td>-394.37</td></tr><tr><td>SC-20260</td><td>Scott Cohen</td><td>670.98</td></tr><tr><td>JE-15715</td><td>Joe Elijah</td><td>1262.11</td></tr><tr><td>PL-18925</td><td>Paul Lucas</td><td>-0.76</td></tr><tr><td>DB-13120</td><td>David Bremer</td><td>-1421.78</td></tr><tr><td>CR-12625</td><td>Corey Roper</td><td>144.85</td></tr><tr><td>CW-11905</td><td>Carl Weiss</td><td>370.84</td></tr><tr><td>JM-15250</td><td>Janet Martin</td><td>19.58</td></tr><tr><td>TC-21535</td><td>Tracy Collins</td><td>217.95</td></tr><tr><td>EG-13900</td><td>Emily Grady</td><td>103.90</td></tr><tr><td>TS-21610</td><td>Troy Staebel</td><td>-294.89</td></tr><tr><td>GM-14455</td><td>Gary Mitchum</td><td>793.29</td></tr><tr><td>DJ-13510</td><td>Don Jones</td><td>345.26</td></tr><tr><td>JJ-15445</td><td>Jennifer Jackson</td><td>200.56</td></tr><tr><td>MZ-17335</td><td>Maria Zettner</td><td>85.02</td></tr><tr><td>NC-18415</td><td>Nathan Cano</td><td>-2204.81</td></tr><tr><td>CC-12475</td><td>Cindy Chapman</td><td>154.85</td></tr><tr><td>CS-11950</td><td>Carlos Soltero</td><td>-126.62</td></tr><tr><td>JL-15835</td><td>John Lee</td><td>228.53</td></tr><tr><td>ML-17755</td><td>Max Ludwig</td><td>409.99</td></tr><tr><td>GB-14530</td><td>Ge orge Bell</td><td>7.85</td></tr><tr><td>ER-13855</td><td>Elpida Rittenbach</td><td>-295.33</td></tr><tr><td>NR-18550</td><td>Nick Radford</td><td>-25.13</td></tr><tr><td>TB-21280</td><td>Toby Braunhardt</td><td>491.13</td></tr><tr><td>JG-15115</td><td>Jack Garza</td><td>684.53</td></tr><tr><td>JS-15880</td><td>John Stevenson</td><td>564.97</td></tr><tr><td>BF-11080</td><td>Bart Folk</td><td>110.99</td></tr><tr><td>BF-11215</td><td>Benjamin Farhat</td><td>523.09</td></tr><tr><td>TP-21565</td><td>Tracy P oddar</td><td>139.44</td></tr><tr><td>EA-14035</td><td>Erin Ashbrook</td><td>-52.56</td></tr><tr><td>TB-21400</td><td>Tom Boeckenhauer</td><td>2798.06</td></tr><tr><td>PM-18940</td><td>Paul MacIntyre</td><td>157.88</td></tr><tr><td>PW-19030</td><td>Pauline Webber</td><td>803.82</td></tr><tr><td>RW-19630</td><td>Rob Williams</td><td>699.06</td></tr><tr><td>JK-15370</td><td>Jay Kimmel</td><td>329.85</td></tr><tr><td>CB-12415</td><td>Christy Brittain</td><td>272.40</td></tr><tr><td>KT-16465</td><td>Kean Takahito</td><td>253.75</td></tr><tr><td>LH-16900</td><td>Lena Hernandez</td><td>525.12</td></tr><tr><td>SL-20155</td><td>Sara Luxemburg</td><td>528.04</td></tr><tr><td>NM-18520</td><td>Neoma Murray</td><td>788.95</td></tr><tr><td>AH-10030</td><td>Aaron Hawkins</td><td>365.22</td></tr><tr><td>RC-19825</td><td>Roy Collins</td><td>63.57</td></tr><tr><td>BE-11455</td><td>Brad Eason</td><td>139.21</td></tr><tr><td>MO-17950</td><td>Michael Oakman</td><td>-82.01</td></tr><tr><td>DK-12895</td><td>Dana Kaydos</td><td>925.97</td></tr><tr><td>JC-15340</td><td>Jasper Cacioppo</td><td>-0.35</td></tr><tr><td>LD-16855</td><td>Lela Donovan</td><td>0.46</td></tr><tr><td>JG-15310</td><td>Jason Gross</td><td>3.59</td></tr><tr><td>CS-12460</td><td>Chuck Sachs</td><td>156.27</td></tr><tr><td>JF-15355</td><td>Jay Fein</td><td>330.20</td></tr><tr><td>AC-10660</td><td>Anna Chung</td><td>-28.70</td></tr><tr><td>VB-21745</td><td>Victo ria Brennan</td><td>371.25</td></tr><tr><td>MS-17980</td><td>Michael Stewart</td><td>55.23</td></tr><tr><td>CC-12670</td><td>Craig Carreira</td><td>187.88</td></tr><tr><td>CC-12685</td><td>Craig Carroll</td><td>850.03</td></tr><tr><td>SE-20110</td><td>Sanjit Engle</td><td>2650.67</td></tr><tr><td>KH-16330</td><td>Katharine Harms</td><td>455.69</td></tr><tr><td>TS-21505</td><td>NA</td><td>11.39</td></tr><tr><td>CB-12535</td><td>Claudia Bergmann</td><td>1049.28</td></tr><tr><td>MT-18070</td><td>Michelle Tran</td><td>-23.45</td></tr><tr><td>JW-15955</td><td>Joni Waerman</td><td>-29.58</td></tr><tr><td>JH-15820</td><td>John Huston</td><td>26.07</td></tr><tr><td>KH-16510</td><td>Keith Herrera</td><td>656.12</td></tr><tr><td>AG-10675</td><td>Anna Gayman</td><td>-246.40</td></tr><tr><td>MV-18190</td><td>Mike Vitt orini</td><td>273.99</td></tr><tr><td>ZD-21925</td><td>Zuschuss Donatelli</td><td>248.75</td></tr><tr><td>SC-20725</td><td>Steven Cartwright</td><td>1276.42</td></tr><tr><td>MH-18115</td><td>Mick Hernandez</td><td>170.98</td></tr><tr><td>MC-17590</td><td>Matt Collister</td><td>288.99</td></tr><tr><td>JJ-15760</td><td>Joel Jenkins</td><td>34.46</td></tr><tr><td>MB-17305</td><td>Maria Bertelson</td><td>213.34</td></tr><tr><td>CK-12760</td><td>Cyma Kinney</td><td>-338.44</td></tr><tr><td>KB-16315</td><td>Karl Braun</td><td>49.22</td></tr><tr><td>SC-20230</td><td>Scot Coram</td><td>439.83</td></tr><tr><td>DB-13360</td><td>Dennis Bolton</td><td>291.01</td></tr><tr><td>DH-13075</td><td>Dave Hallsten</td><td>1193.75</td></tr><tr><td>AH-10195</td><td>Alan Haines</td><td>-378.04</td></tr><tr><td>SP-20920</td><td>Susan Pistek</td><td>14.37</td></tr><tr><td>RW-19690</td><td>Robert Waldorf</td><td>707.55</td></tr><tr><td>GG-14650</td><td>Greg Guthrie</td><td>12.69</td></tr><tr><td>DL-13330</td><td>Denise Leinenbach</td><td>222.69</td></tr><tr><td>BP-11050</td><td>Barry Pond</td><td>209.66</td></tr><tr><td>SZ-20035</td><td>Sam Zeldin</td><td>366.42</td></tr><tr><td>EH-14005</td><td>Erica Hernandez</td><td>-94.72</td></tr><tr><td>CS-12175</td><td>Charles Sheldon</td><td>113.15</td></tr><tr><td>FC-14335</td><td>Fred Chung</td><td>714.29</td></tr><tr><td>JM-15580</td><td>Jill Matthias</td><td>113.12</td></tr><tr><td>FC-14245</td><td>Frank Carlisle</td><td>1217.18</td></tr><tr><td>MC-17275</td><td>Marc Crier</td><td>461.02</td></tr><tr><td>CY-12745</td><td>Craig Yedwab</td><td>60.64</td></tr><tr><td>BS-11665</td><td>Brian Stugart</td><td>238.73</td></tr><tr><td>BS-11755</td><td>Bruce Stewart</td><td>-113.31</td></tr><tr><td>BS-11380</td><td>Bil Stewart</td><td>-17.53</td></tr><tr><td>CM-11815</td><td>Candace McMahon</td><td>214.85</td></tr><tr><td>BM-11575</td><td>Brendan Murry</td><td>95.58</td></tr><tr><td>BD-11320</td><td>Bil Donatelli</td><td>1094.51</td></tr><tr><td>GH-14425</td><td>Gary Hwang</td><td>1176.39</td></tr><tr><td>KC-16255</td><td>Karen Carlisle</td><td>846.14</td></tr><tr><td>BN-11470</td><td>Brad Norvell</td><td>36.61</td></tr><tr><td>EH-14185</td><td>Evan Henry</td><td>242.13</td></tr><tr><td>Dl-13600</td><td>Dorris liebe</td><td>175.23</td></tr><tr><td>RB-19705</td><td>Roger Barcio</td><td>243.08</td></tr><tr><td>DB-13210</td><td>Dean Braden</td><td>169.71</td></tr><tr><td>NC-18340</td><td>Nat Carroll</td><td>580.31</td></tr><tr><td>TH-21100</td><td>Thea Hendricks</td><td>-135.22</td></tr><tr><td>SC-20770</td><td>Stewart Carmichael</td><td>-671.38</td></tr><tr><td>EH-13990</td><td>Erica Hackney</td><td>150.37</td></tr><tr><td>TC-21295</td><td>Toby Carlisle</td><td>606.37</td></tr><tr><td>AG-10765</td><td>Anthony Garverick</td><td>-8.42</td></tr><tr><td>SW-20275</td><td>Scott Williamson</td><td>332.76</td></tr><tr><td>AC-10615</td><td>Ann Chong</td><td>298.61</td></tr><tr><td>RF-19840</td><td>Roy Franzsisch</td><td>280.09</td></tr><tr><td>AJ-10945</td><td>Ashley Jarboe</td><td>521.14</td></tr><tr><td>MO-17500</td><td>Mary ORourke</td><td>59.36</td></tr><tr><td>TT-21265</td><td>Tim Taslimi</td><td>93.92</td></tr><tr><td>PO-18850</td><td>Patrick OBrill</td><td>37.64</td></tr><tr><td>IG-15085</td><td>Ivan Gibson</td><td>320.48</td></tr><tr><td>DM-13345</td><td>Denise Monton</td><td>1319.07</td></tr><tr><td>DJ-13420</td><td>Denny Joy</td><td>483.03</td></tr><tr><td>CK-12205</td><td>Chloris Kastensmidt</td><td>141.59</td></tr><tr><td>EM-14200</td><td>Evan Minnotte</td><td>21.83</td></tr><tr><td>SG-20080</td><td>Sandra Glassco</td><td>570.45</td></tr><tr><td>MS-17770</td><td>Maxwell Schwartz</td><td>280.81</td></tr><tr><td>SB-20185</td><td>Sarah Brown</td><td>885.96</td></tr><tr><td>NM-18445</td><td>Nathan Mautz</td><td>2751.70</td></tr><tr><td>HJ-14875</td><td>Heather Jas</td><td>98.67</td></tr><tr><td>DP-13105</td><td>Dave Poirier</td><td>562.95</td></tr><tr><td>CG-12040</td><td>Catherine Glotzbach</td><td>86.31</td></tr><tr><td>MP-17965</td><td>Michael Paige</td><td>637.74</td></tr><tr><td>HG-14845</td><td>Harry Greene</td><td>147.01</td></tr><tr><td>CM-12715</td><td>Craig M olinari</td><td>176.32</td></tr><tr><td>SK-19990</td><td>Sally Knutson</td><td>168.79</td></tr><tr><td>BK-11260</td><td>Berenike Kampe</td><td>-63.30</td></tr><tr><td>NW-18400</td><td>Natalie Webber</td><td>1022.63</td></tr><tr><td>JW-16075</td><td>Julia West</td><td>153.89</td></tr><tr><td>SC-20680</td><td>Steve Carroll</td><td>370.17</td></tr><tr><td>VF-21715</td><td>Vicky Freymann</td><td>-96.28</td></tr><tr><td>PO-19180</td><td>Philisse Overcash</td><td>1155.24</td></tr><tr><td>PS-19045</td><td>Penelope Sewall</td><td>3183.78</td></tr><tr><td>SJ-20500</td><td>Shirley Jackson</td><td>68.59</td></tr><tr><td>SC-20095</td><td>Sanjit Chand</td><td>5757.30</td></tr><tr><td>LW-17215</td><td>Luke Weiss</td><td>837.67</td></tr><tr><td>JD-15895</td><td>Jonathan Doherty</td><td>1050.44</td></tr><tr><td>DM-13015</td><td>Darrin Martin</td><td>1677.98</td></tr><tr><td>DB-13270</td><td>Deborah Brumfield</td><td>841.84</td></tr><tr><td>KN-16705</td><td>Kristina Nunn</td><td>329.77</td></tr><tr><td>MD-17860</td><td>Michael Dominguez</td><td>-4.05</td></tr><tr><td>SC-20575</td><td>Sonia Cooley</td><td>100.23</td></tr><tr><td>DL-12865</td><td>Dan Lawera</td><td>321.85</td></tr><tr><td>DB-13615</td><td>Doug Bickford</td><td>438.80</td></tr><tr><td>DH-13675</td><td>Duane Huffman</td><td>116.68</td></tr><tr><td>SC-20380</td><td>ShahiCollister</td><td>-3164.00</td></tr><tr><td>ST-20530</td><td>Shui Tom</td><td>85.12</td></tr><tr><td>JB-15400</td><td>Jennifer Braxton</td><td>156.05</td></tr><tr><td>SH-20395</td><td>ShahiHopkins</td><td>-144.52</td></tr><tr><td>AR-10405</td><td>Allen Rosenblatt</td><td>-98.52</td></tr><tr><td>KL-16645</td><td>Ken Lonsdale</td><td>806.50</td></tr><tr><td>CB-12025</td><td>Cassandra Brandow</td><td>150.51</td></tr><tr><td>RD-19480</td><td>Rick Duston</td><td>480.59</td></tr><tr><td>PF-19225</td><td>Phillip Flathmann</td><td>591.29</td></tr><tr><td>YC-21895</td><td>Yoseph Carroll</td><td>1305.64</td></tr><tr><td>CM-12235</td><td>Chris McAfee</td><td>365.03</td></tr><tr><td>HG-15025</td><td>Hunter Glantz</td><td>804.62</td></tr><tr><td>DK-12835</td><td>Damala Kotsonis</td><td>881.52</td></tr><tr><td>TB-21250</td><td>Tim Brockman</td><td>260.30</td></tr><tr><td>BC-11125</td><td>Becky Castell</td><td>251.19</td></tr><tr><td>GM-14500</td><td>Gene McClure</td><td>441.32</td></tr><tr><td>AR-10540</td><td>Andy Reiter</td><td>2884.61</td></tr><tr><td>JF-15565</td><td>Jill Fjeld</td><td>1074.07</td></tr><tr><td>MN-17935</td><td>Michael Nguyen</td><td>290.82</td></tr><tr><td>DL-12925</td><td>Daniel Lacy</td><td>4.39</td></tr><tr><td>DB-12910</td><td>Daniel Byrd</td><td>431.38</td></tr><tr><td>BT-11305</td><td>Beth Thompson</td><td>417.58</td></tr><tr><td>BW-11065</td><td>Barry Weirich</td><td>-58.29</td></tr><tr><td>AO-10810</td><td>Anthony ODonnell</td><td>12.10</td></tr><tr><td>LC-16930</td><td>Linda Cazamias</td><td>288.29</td></tr><tr><td>LC-17050</td><td>Liz Carlisle</td><td>86.77</td></tr><tr><td>AW-10840</td><td>Anth ony Witt</td><td>65.78</td></tr><tr><td>JD-15790</td><td>John Dryer</td><td>-266.56</td></tr><tr><td>SF-20065</td><td>Sandra Flanagan</td><td>227.76</td></tr><tr><td>DL-13495</td><td>Dionis Lloyd</td><td>-52.39</td></tr><tr><td>BF-11275</td><td>Beth Fritzler</td><td>25.88</td></tr><tr><td>KM-16720</td><td>Kunst Miller</td><td>745.40</td></tr><tr><td>JC-15775</td><td>John Castell</td><td>279.57</td></tr><tr><td>CM-12445</td><td>Chuck Magee</td><td>63.97</td></tr><tr><td>AR-10510</td><td>Andrew Roberts</td><td>43.65</td></tr><tr><td>VS-21820</td><td>Vivek Sundaresam</td><td>-263.08</td></tr><tr><td>DV-13045</td><td>Darrin Van Huff</td><td>-427.63</td></tr><tr><td>NF-18475</td><td>Neil Franzsisch</td><td>85.92</td></tr><tr><td>RP-19270</td><td>Rachel Payne</td><td>59.52</td></tr><tr><td>TP-21415</td><td>Tom Prescott</td><td>-1087.38</td></tr><tr><td>EH-13765</td><td>Edward Hooks</td><td>1393.50</td></tr><tr><td>KW-16570</td><td>Kelly Williams</td><td>108.39</td></tr><tr><td>DW-13540</td><td>Don Weiss</td><td>69.66</td></tr><tr><td>SS-20410</td><td>ShahiShariari</td><td>-1011.08</td></tr><tr><td>XP-21865</td><td>Xylona Preis</td><td>621.37</td></tr><tr><td>JS-16030</td><td>Joy Smith</td><td>-311.25</td></tr><tr><td>PK-18910</td><td>Paul Knutson</td><td>-798.71</td></tr><tr><td>EB-14170</td><td>Evan Bailliet</td><td>282.41</td></tr><tr><td>RS-19420</td><td>Ricardo Sperren</td><td>633.45</td></tr><tr><td>PJ-19015</td><td>Pauline Johnson</td><td>682.68</td></tr><tr><td>TC-21145</td><td>Theresa Coyne</td><td>265.59</td></tr><tr><td>AR-10570</td><td>Anemone Ratner</td><td>32.64</td></tr><tr><td>JH-15985</td><td>Joseph Holt</td><td>-644.48</td></tr><tr><td>DL-13315</td><td>Delfina Latchford</td><td>288.92</td></tr><tr><td>SC-20800</td><td>Stuart Calhoun</td><td>52.21</td></tr><tr><td>GP-14740</td><td>Guy Phonely</td><td>31.84</td></tr><tr><td>AM-10705</td><td>Anne McFarland</td><td>969.06</td></tr><tr><td>NP-18700</td><td>Nora Preis</td><td>630.82</td></tr><tr><td>RL-19615</td><td>Rob Lucas</td><td>213.98</td></tr><tr><td>TS-21340</td><td>Toby Swindell</td><td>-185.00</td></tr><tr><td>BB-11545</td><td>Brenda Bowman</td><td>1014.65</td></tr><tr><td>CA-12265</td><td>Christina Anderson</td><td>279.90</td></tr><tr><td>HM-14980</td><td>Henry MacAllister</td><td>116.78</td></tr><tr><td>BP-11155</td><td>Becky Pak</td><td>647.00</td></tr><tr><td>LM-17065</td><td>Liz MacKendrick</td><td>-44.88</td></tr><tr><td>JA-15970</td><td>Joseph Airdo</td><td>-819.88</td></tr><tr><td>BS-11365</td><td>Bi l Shonely</td><td>2616.41</td></tr><tr><td>LH-17155</td><td>Logan Haushalter</td><td>316.53</td></tr><tr><td>AS-10630</td><td>Ann Steele</td><td>136.60</td></tr><tr><td>MC-18130</td><td>Mike Caudle</td><td>121.74</td></tr><tr><td>DP-13390</td><td>Dennis Pardue</td><td>1571.83</td></tr><tr><td>LA-16780</td><td>Laura Armstrong</td><td>2025.19</td></tr><tr><td>KT-16480</td><td>Kean Thornton</td><td>194.07</td></tr><tr><td>AG-10300</td><td>Aleksandra Gannaway</td><td>59.30</td></tr><tr><td>RC-19960</td><td>Ryan Crowe</td><td>10.54</td></tr><tr><td>TS-21085</td><td>Thais Sissman</td><td>-3.32</td></tr><tr><td>EL-13735</td><td>Ed Ludwig</td><td>27.11</td></tr><tr><td>MY-18295</td><td>Muhammed YeDwab</td><td>-371.71</td></tr><tr><td>DB-13555</td><td>Dorothy Badders</td><td>109.64</td></tr><tr><td>KD-16495</td><td>Keith Dawkins</td><td>3038.93</td></tr><tr><td>PW-19240</td><td>Pierre Wener</td><td>1291.15</td></tr><tr><td>SM-20905</td><td>Susan MacKendrick</td><td>-16510.34</td></tr><tr><td>EC-14050</td><td>Erin Creighton</td><td>96.44</td></tr><tr><td>SF-20965</td><td>Sylvia Foulston</td><td>539.94</td></tr><tr><td>EM-13825</td><td>Elizabeth Moffitt</td><td>682.56</td></tr><tr><td>CR-12580</td><td>Clay Rozendal</td><td>74.40</td></tr><tr><td>EM-14140</td><td>Eugene Moren</td><td>1318.95</td></tr><tr><td>DE-13255</td><td>NA</td><td>464.48</td></tr><tr><td>EB-13870</td><td>Emily Burns</td><td>261.95</td></tr><tr><td>AG-10270</td><td>Alejandro Grove</td><td>732.75</td></tr><tr><td>JR-15670</td><td>Jim Radford</td><td>-785.16</td></tr><tr><td>AT-10435</td><td>Alyssa Tate</td><td>100.87</td></tr><tr><td>BV-11245</td><td>Benjamin Venier</td><td>315.23</td></tr><tr><td>NS-18640</td><td>Noel Staavos</td><td>-234.89</td></tr><tr><td>BM-11140</td><td>Becky Martin</td><td>-1659.97</td></tr><tr><td>JF-15490</td><td>Jeremy Farry</td><td>-18.05</td></tr><tr><td>SJ-20125</td><td>Sanjit Jacobs</td><td>143.73</td></tr><tr><td>CM-12655</td><td>Corinna Mitchell</td><td>1572.44</td></tr><tr><td>TH-21550</td><td>Tracy Hopkins</td><td>-571.98</td></tr><tr><td>GB-14575</td><td>Giulietta Baptist</td><td>1135.84</td></tr><tr><td>ML-17395</td><td>Marina Lichtenstein</td><td>684.93</td></tr><tr><td>RH-19555</td><td>Ritsa Hightower</td><td>0.31</td></tr><tr><td>FP-14320</td><td>Frank Preis</td><td>406.46</td></tr><tr><td>SH-19975</td><td>NA</td><td>553.65</td></tr><tr><td>CS-12355</td><td>Christine Sundaresam</td><td>831.94</td></tr><tr><td>SJ-20215</td><td>Sarah Jordon</td><td>-23.38</td></tr><tr><td>LR-17035</td><td>Lisa Ryan</td><td>-383.19</td></tr><tr><td>BF-11170</td><td>Ben Ferrer</td><td>1938.67</td></tr><tr><td>NB-18580</td><td>Nicole Brennan</td><td>24.79</td></tr><tr><td>GH-14665</td><td>Greg Hansen</td><td>-5.81</td></tr><tr><td>EM-13960</td><td>Eric Murdock</td><td>102.30</td></tr><tr><td>RH-19510</td><td>Rick Huthwaite</td><td>1289.45</td></tr><tr><td>MF-17665</td><td>Maureen Fritzler</td><td>-341.53</td></tr><tr><td>AW-10930</td><td>Arthur Wiediger</td><td>-104.44</td></tr><tr><td>AB-10255</td><td>Alejandro Ballentine</td><td>264.57</td></tr><tr><td>AR-10825</td><td>Anthony Rawles</td><td>495.07</td></tr><tr><td>BG-11740</td><td>Bruce Geld</td><td>119.35</td></tr><tr><td>GT-14755</td><td>Guy Thornton</td><td>-6.14</td></tr><tr><td>GM-14695</td><td>Greg Maxwell</td><td>188.46</td></tr><tr><td>KB-16240</td><td>Karen Bern</td><td>764.23</td></tr><tr><td>PB-19105</td><td>Peter Bhler</td><td>218.16</td></tr><tr><td>JM-15865</td><td>John Murray</td><td>1575.07</td></tr><tr><td>RB-19570</td><td>Rob Beeghly</td><td>76.90</td></tr><tr><td>RB-19465</td><td>Rick Bensley</td><td>640.55</td></tr><tr><td>VT-21700</td><td>Valerie Takahito</td><td>-224.93</td></tr><tr><td>BP-11230</td><td>Benjamin Patterson</td><td>-197.39</td></tr><tr><td>EB-13840</td><td>Ellis Ballard</td><td>656.20</td></tr><tr><td>JC-15385</td><td>Jenna Caffey</td><td>502.93</td></tr><tr><td>CK-12595</td><td>Clytie Kelty</td><td>491.12</td></tr><tr><td>HD-14785</td><td>Harold Dahlen</td><td>-136.33</td></tr><tr><td>PF-19165</td><td>Philip Fox</td><td>196.88</td></tr><tr><td>CP-12085</td><td>Cathy Prescott</td><td>426.94</td></tr><tr><td>EB-13750</td><td>Edward Becker</td><td>-80.29</td></tr><tr><td>BO-11350</td><td>Bil Overfelt</td><td>278.43</td></tr><tr><td>MH-17290</td><td>Marc Harrigan</td><td>28.98</td></tr><tr><td>CC-12610</td><td>Corey Catlett</td><td>331.27</td></tr><tr><td>KA-16525</td><td>Kelly Andreada</td><td>234.36</td></tr><tr><td>JF-15415</td><td>Jennifer Ferguson</td><td>635.64</td></tr><tr><td>FH-14365</td><td>Fred Hopkins</td><td>2051.01</td></tr><tr><td>Dp-13240</td><td>Dean perceR</td><td>333.37</td></tr><tr><td>BS-11800</td><td>Bryan Spruell</td><td>194.05</td></tr><tr><td>DS-13030</td><td>Darrin Sayre</td><td>193.78</td></tr><tr><td>MW-18235</td><td>Mitch Willingham</td><td>1665.52</td></tr><tr><td>GA-14515</td><td>George Ashbrook</td><td>840.89</td></tr><tr><td>TG-21310</td><td>Toby Gnade</td><td>682.17</td></tr><tr><td>BM-11785</td><td>Bryan Mills</td><td>137.72</td></tr><tr><td>LW-17125</td><td>Liz Willingham</td><td>192.63</td></tr><tr><td>MG-17890</td><td>Michael Granlund</td><td>171.45</td></tr><tr><td>LC-16885</td><td>Lena Creighton</td><td>1288.74</td></tr><tr><td>DK-13375</td><td>Dennis Kane</td><td>377.43</td></tr><tr><td>LH-16750</td><td>Larry Hughes</td><td>12.63</td></tr><tr><td>SC-20050</td><td>Sample Company A</td><td>1011.73</td></tr><tr><td>AH-10075</td><td>Adam Hart</td><td>280.80</td></tr><tr><td>JL-15850</td><td>John Lucas</td><td>779.90</td></tr><tr><td>AB-10060</td><td>Adam Bellavance</td><td>2054.60</td></tr><tr><td>BF-11020</td><td>Barry Franzsisch</td><td>301.44</td></tr><tr><td>BD-11500</td><td>Bradley Drucker</td><td>1142.12</td></tr><tr><td>JD-16150</td><td>Justin Deggeller</td><td>1618.74</td></tr><tr><td>CC-12220</td><td>Chris Cortes</td><td>393.97</td></tr><tr><td>AS-10225</td><td>Alan Schoenberger</td><td>719.77</td></tr><tr><td>RF-19345</td><td>Randy Ferguson</td><td>633.68</td></tr><tr><td>BS-11590</td><td>Brendan Sweed</td><td>381.39</td></tr><tr><td>AG-10900</td><td>Arthur Gainer</td><td>343.67</td></tr><tr><td>EM-13810</td><td>NA</td><td>-133.99</td></tr><tr><td>AB-10105</td><td>Adrian Barton</td><td>5444.97</td></tr><tr><td>BW-11110</td><td>Bart Watters</td><td>921.38</td></tr><tr><td>FM-14380</td><td>Fred McMath</td><td>191.09</td></tr><tr><td>AZ-10750</td><td>Annie Zypern</td><td>154.77</td></tr><tr><td>JR-15700</td><td>Jocasta Rupert</td><td>107.99</td></tr><tr><td>ON-18715</td><td>Odella Nelson</td><td>-5.53</td></tr><tr><td>LP-17095</td><td>Liz Preis</td><td>338.45</td></tr><tr><td>MH-17785</td><td>Maya Herman</td><td>239.02</td></tr><tr><td>MM-18055</td><td>Michelle Moray</td><td>-520.45</td></tr><tr><td>LB-16795</td><td>Laurel Beltran</td><td>-51.99</td></tr><tr><td>DO-13645</td><td>Doug OConnell</td><td>293.85</td></tr><tr><td>RD-19720</td><td>Roger Demir</td><td>207.72</td></tr><tr><td>DC-12850</td><td>Dan Campbell</td><td>-1441.28</td></tr><tr><td>RB-19795</td><td>Ross Baird</td><td>-461.74</td></tr><tr><td>PN-18775</td><td>Parhena Norris</td><td>192.04</td></tr><tr><td>DV-13465</td><td>Dianna Vittorini</td><td>353.09</td></tr><tr><td>HM-14860</td><td>Harry Marie</td><td>2438.07</td></tr><tr><td>NF-18385</td><td>Natalie Fritzler</td><td>-1696.35</td></tr><tr><td>HH-15010</td><td>Hilary Holden</td><td>86.73</td></tr><tr><td>HG-14965</td><td>Henry Goldwyn</td><td>-2797.95</td></tr><tr><td>NZ-18565</td><td>Nick Zandusky</td><td>402.56</td></tr><tr><td>ML-18265</td><td>Muhammed Lee</td><td>42.67</td></tr><tr><td>EJ-13720</td><td>Ed Jacobs</td><td>-6964.03</td></tr><tr><td>JF-15190</td><td>Jamie Frazer</td><td>575.78</td></tr><tr><td>CC-12145</td><td>Charles Crestani</td><td>392.29</td></tr><tr><td>SC-20695</td><td>Steve Chapman</td><td>611.82</td></tr><tr><td>HP-14815</td><td>Harold Pawlan</td><td>373.87</td></tr><tr><td>BH-11710</td><td>Brosina Hoffman</td><td>789.63</td></tr><tr><td>ND-18370</td><td>Natalie DeCherney</td><td>353.24</td></tr><tr><td>RH-19600</td><td>Rob Haberlin</td><td>172.63</td></tr><tr><td>RD-19900</td><td>Ruben Dartt</td><td>455.52</td></tr><tr><td>SR-20425</td><td>Sharelle Roach</td><td>-3334.17</td></tr><tr><td>MB-18085</td><td>Mick Brown</td><td>118.05</td></tr><tr><td>DM-12955</td><td>Dario Medina</td><td>108.76</td></tr><tr><td>KM-16225</td><td>Kalyca Meade</td><td>635.43</td></tr><tr><td>NK-18490</td><td>Neil Knudson</td><td>121.23</td></tr><tr><td>DR-12880</td><td>Dan Reichenbach</td><td>1641.54</td></tr><tr><td>GK-14620</td><td>Grace Kelly</td><td>1448.59</td></tr><tr><td>AA-10315</td><td>Alex Avila</td><td>-362.90</td></tr><tr><td>PO-19195</td><td>Phillina Ober</td><td>-49.69</td></tr><tr><td>SV-20365</td><td>Seth Vernon</td><td>1200.14</td></tr><tr><td>CL-11890</td><td>Carl Ludwig</td><td>328.08</td></tr><tr><td>EK-13795</td><td>Eileen Kiefer</td><td>97.10</td></tr><tr><td>RF-19735</td><td>Roland Fjeld</td><td>711.84</td></tr><tr><td>VG-21790</td><td>Vivek Gonzalez</td><td>144.12</td></tr><tr><td>BO-11425</td><td>Bobby Odegard</td><td>59.46</td></tr><tr><td>KB-16405</td><td>Kat rina Bavinger</td><td>273.86</td></tr><tr><td>MS-17830</td><td>Melanie Seite</td><td>19.43</td></tr><tr><td>LT-16765</td><td>Larry Tron</td><td>59.04</td></tr><tr><td>GW-14605</td><td>Giulietta Weimer</td><td>-268.55</td></tr><tr><td>FA-14230</td><td>Frank Atkinson</td><td>520.33</td></tr><tr><td>AG-10390</td><td>Allen Goldenen</td><td>69.27</td></tr><tr><td>DF-13135</td><td>David Flashing</td><td>-259.31</td></tr><tr><td>RW-19540</td><td>Rick Wi lson</td><td>1586.23</td></tr><tr><td>TR-21325</td><td>Toby Ritter</td><td>220.36</td></tr><tr><td>AS-10240</td><td>Alan Shonely</td><td>33.69</td></tr><tr><td>VD-21670</td><td>Valerie Dominguez</td><td>1617.61</td></tr><tr><td>JK-16090</td><td>Juliana Krohn</td><td>586.67</td></tr><tr><td>BF-11005</td><td>Barry Franz</td><td>-291.37</td></tr><tr><td>HZ-14950</td><td>Henia Zydlo</td><td>-130.39</td></tr><tr><td>BD-11770</td><td>Bryan Davis</td><td>141.28</td></tr><tr><td>KW-16435</td><td>Kat rina Willman</td><td>1756.14</td></tr><tr><td>AM-10360</td><td>Alice McCarthy</td><td>194.99</td></tr><tr><td>DB-13405</td><td>Denny Blanton</td><td>438.92</td></tr><tr><td>ME-17725</td><td>Max Engle</td><td>77.59</td></tr><tr><td>MO-17800</td><td>Meg OConnel</td><td>168.98</td></tr><tr><td>BG-11695</td><td>Brooke Gillingham</td><td>107.59</td></tr><tr><td>BN-11515</td><td>Bradley Nguyen</td><td>340.72</td></tr><tr><td>ES-14080</td><td>Erin Smith</td><td>246.94</td></tr><tr><td>ME-17320</td><td>Maria Etezadi</td><td>1858.97</td></tr><tr><td>AA-10645</td><td>Anna Andreadi</td><td>857.80</td></tr><tr><td>LF-17185</td><td>Luke Foster</td><td>-3583.61</td></tr><tr><td>CL-12565</td><td>Clay Ludtke</td><td>1933.19</td></tr><tr><td>SP-20650</td><td>Stephanie Phelps</td><td>268.47</td></tr><tr><td>AH-10690</td><td>Anna Hberlin</td><td>1296.89</td></tr><tr><td>VG-21805</td><td>Vivek Grady</td><td>-52.33</td></tr><tr><td>SB-20170</td><td>Sarah Bern</td><td>157.68</td></tr><tr><td>PC-19000</td><td>Pauline Chand</td><td>-184.34</td></tr><tr><td>AS-10090</td><td>Adam Shillingsburg</td><td>64.32</td></tr><tr><td>RM-19375</td><td>Raymond Messe</td><td>392.60</td></tr><tr><td>JO-15550</td><td>Jesus Ocampo</td><td>167.13</td></tr><tr><td>PB-19150</td><td>Philip Brown</td><td>280.27</td></tr><tr><td>TB-21175</td><td>Thomas Boland</td><td>828.71</td></tr><tr><td>DP-13165</td><td>David Philippe</td><td>-40.94</td></tr><tr><td>KH-16630</td><td>Ken Heidel</td><td>727.51</td></tr><tr><td>AH-10120</td><td>Adrian Hane</td><td>-2.50</td></tr><tr><td>GH-14410</td><td>Gary Hansen</td><td>-577.01</td></tr><tr><td>SO-20335</td><td>Sean ODonnell</td><td>-81.42</td></tr><tr><td>CS-12250</td><td>Chris Selesnick</td><td>738.41</td></tr><tr><td>EM-14065</td><td>ErinMull</td><td>40.03</td></tr><tr><td>AF-10885</td><td>Art Foster</td><td>-163.13</td></tr><tr><td>MG-18205</td><td>Mitch Gastineau</td><td>-1.24</td></tr><tr><td>TT-21460</td><td>Tonja Turnell</td><td>1124.38</td></tr><tr><td>SW-20455</td><td>Shaun Weien</td><td>793.64</td></tr><tr><td>EB-13930</td><td>Eric Barreto</td><td>0.43</td></tr><tr><td>RR-19525</td><td>Rick Reed</td><td>721.69</td></tr><tr><td>KB-16600</td><td>Ken Brennan</td><td>293.90</td></tr><tr><td>Co-12640</td><td>CoreyLock</td><td>205.90</td></tr><tr><td>DM-13525</td><td>Don Miller</td><td>200.20</td></tr><tr><td>MC-17425</td><td>Mark Cousins</td><td>1802.40</td></tr><tr><td>EB-13705</td><td>Ed Braxton</td><td>13.56</td></tr><tr><td>RA-19945</td><td>Ryan Akin</td><td>-445.69</td></tr><tr><td>JK-15205</td><td>Jamie Kunitz</td><td>1221.56</td></tr><tr><td>JS-15940</td><td>Joni Sundaresam</td><td>-327.93</td></tr><tr><td>AG-10330</td><td>Alex Grayson</td><td>-5.36</td></tr><tr><td>JB-16045</td><td>Julia Barnett</td><td>201.40</td></tr><tr><td>SM-20950</td><td>Suzanne McNair</td><td>581.57</td></tr><tr><td>JS-15595</td><td>Ji Stevenson</td><td>-174.94</td></tr><tr><td>LT-17110</td><td>Liz Thompson</td><td>320.98</td></tr><tr><td>DP-13000</td><td>Darren Powers</td><td>241.69</td></tr><tr><td>FO-14305</td><td>Frank Olsen</td><td>215.59</td></tr><tr><td>SC-20440</td><td>Shaun Chance</td><td>379.57</td></tr><tr><td>RE-19450</td><td>Richard Eichhorn</td><td>209.25</td></tr><tr><td>ML-17410</td><td>Maris LaWare</td><td>-76.47</td></tr><tr><td>NG-18355</td><td>Nat Gilpin</td><td>313.63</td></tr><tr><td>BP-11095</td><td>Bart Pistole</td><td>433.59</td></tr><tr><td>CD-12790</td><td>Cynthia Delaney</td><td>389.45</td></tr><tr><td>EB-14110</td><td>Eugene Barchas</td><td>184.76</td></tr><tr><td>RP-19855</td><td>Roy Phan</td><td>594.78</td></tr><tr><td>MZ-17515</td><td>Mary Zewe</td><td>787.15</td></tr><tr><td>SH-20635</td><td>Stefanie Holloman</td><td>260.63</td></tr><tr><td>KF-16285</td><td>Karen Ferguson</td><td>1660.41</td></tr><tr><td>JO-15145</td><td>Jack OBriant</td><td>581.44</td></tr><tr><td>CC-12550</td><td>Clay Cheatham</td><td>34.30</td></tr><tr><td>RA-19915</td><td>Russell Applegate</td><td>305.29</td></tr><tr><td>SV-20935</td><td>Susan Vittorini</td><td>106.62</td></tr><tr><td>CL-12700</td><td>Craig Leslie</td><td>229.00</td></tr><tr><td>JE-15610</td><td>Jim Epp</td><td>1623.11</td></tr><tr><td>SP-20620</td><td>Stefania Perrino</td><td>-270.19</td></tr><tr><td>LC-16960</td><td>Lindsay Castell</td><td>299.47</td></tr><tr><td>EJ-14155</td><td>Eva Jacobs</td><td>451.88</td></tr><tr><td>MJ-17740</td><td>Max Jones</td><td>1054.54</td></tr><tr><td>BM-11650</td><td>Brian Moss</td><td>2198.83</td></tr><tr><td>AD-10180</td><td>Alan Dominguez</td><td>1869.92</td></tr><tr><td>CM-12385</td><td>Christopher Martinez</td><td>3900.04</td></tr><tr><td>PH-18790</td><td>Patricia Hirasaki</td><td>47.89</td></tr><tr><td>JP-15520</td><td>Jeremy Pistek</td><td>757.19</td></tr><tr><td>SW-20755</td><td>Steven Ward</td><td>68.24</td></tr><tr><td>MD-17350</td><td>Maribeth Dona</td><td>-241.23</td></tr><tr><td>SM-20320</td><td>Sean Miller</td><td>-1980.98</td></tr><tr><td>TS-21655</td><td>Trudy Schmidt</td><td>220.73</td></tr><tr><td>AT-10735</td><td>Annie Thurman</td><td>974.57</td></tr><tr><td>HR-14830</td><td>Harold Ryan</td><td>1197.37</td></tr><tr><td>JE-16165</td><td>Justin Ellison</td><td>790.02</td></tr><tr><td>LB-16735</td><td>Larry Blacks</td><td>18.65</td></tr><tr><td>KN-16450</td><td>Kean Nguyen</td><td>113.82</td></tr><tr><td>VW-21775</td><td>Victoria Wilson</td><td>-874.66</td></tr><tr><td>FM-14290</td><td>Frank Merwin</td><td>197.89</td></tr><tr><td>RA-19285</td><td>Ralph Arnett</td><td>545.72</td></tr><tr><td>JG-15805</td><td>John Grady</td><td>206.10</td></tr><tr><td>SN-20560</td><td>Skye Norling</td><td>-716.84</td></tr><tr><td>AH-10465</td><td>Amy Hunt</td><td>-195.99</td></tr><tr><td>FH-14350</td><td>Fred Harton</td><td>706.05</td></tr><tr><td>EB-13975</td><td>Erica Bern</td><td>162.89</td></tr><tr><td>LD-17005</td><td>Lisa DeCherney</td><td>556.77</td></tr><tr><td>JP-16135</td><td>Julie Prescott</td><td>309.30</td></tr><tr><td>PM-19135</td><td>Peter McVee</td><td>526.76</td></tr><tr><td>BD-11560</td><td>Brendan Dodson</td><td>116.71</td></tr><tr><td>NP-18685</td><td>Nora Pelletier</td><td>514.50</td></tr><tr><td>GT-14710</td><td>Greg Tran</td><td>2163.29</td></tr><tr><td>LS-17245</td><td>Lynn Smith</td><td>347.97</td></tr><tr><td>EM-14095</td><td>Eudokia Martin</td><td>240.23</td></tr><tr><td>AY-10555</td><td>Andy Yotov</td><td>103.34</td></tr><tr><td>LO-17170</td><td>Lori Olson</td><td>150.16</td></tr><tr><td>BE-11335</td><td>Bil Eplett</td><td>1487.79</td></tr><tr><td>CV-12295</td><td>Christina VanderZanden</td><td>493.09</td></tr><tr><td>TT-21070</td><td>Ted Trevino</td><td>752.17</td></tr><tr><td>RM-19675</td><td>Robert Marley</td><td>1902.55</td></tr><tr><td>SC-20020</td><td>Sam Craven</td><td>-317.51</td></tr><tr><td>AS-10285</td><td>Alejandro Savely</td><td>354.63</td></tr><tr><td>TD-20995</td><td>Tamara Dahlen</td><td>88.64</td></tr><tr><td>DG-13300</td><td>Deirdre Greer</td><td>562.77</td></tr><tr><td>NS-18505</td><td>Neola Schneider</td><td>-12.31</td></tr><tr><td>MH-17455</td><td>Mark Hamilton</td><td>485.28</td></tr><tr><td>MG-17650</td><td>Matthew Grinstein</td><td>341.91</td></tr><tr><td>GA-14725</td><td>Guy Armstrong</td><td>136.49</td></tr><tr><td>DD-13570</td><td>Dorothy Dickinson</td><td>36.44</td></tr><tr><td>CS-12490</td><td>Cindy Schnelling</td><td>-302.86</td></tr><tr><td>JD-16060</td><td>Julia Dunbar</td><td>111.12</td></tr><tr><td>LC-16870</td><td>NA</td><td>-188.02</td></tr><tr><td>TB-21190</td><td>Thomas Brumley</td><td>179.01</td></tr><tr><td>RD-19810</td><td>Ross DeVincentis</td><td>318.45</td></tr><tr><td>WB-21850</td><td>William Brown</td><td>714.52</td></tr><tr><td>KE-16420</td><td>Kat rina Edelman</td><td>397.89</td></tr><tr><td>HK-14890</td><td>Heather Kirkland</td><td>956.97</td></tr><tr><td>JK-15730</td><td>Joe Kamberova</td><td>55.00</td></tr><tr><td>AA-10480</td><td>Andrew Allen</td><td>436.08</td></tr><tr><td>MA-17995</td><td>Michelle Arnett</td><td>280.51</td></tr><tr><td>KL-16555</td><td>Kelly Lampkin</td><td>-182.79</td></tr><tr><td>FH-14275</td><td>Frank Hawley</td><td>13400.33</td></tr><tr><td>BD-11605</td><td>Brian Dahlen</td><td>634.83</td></tr><tr><td>LS-17200</td><td>Luke Schmidt</td><td>243.82</td></tr><tr><td>CR-12820</td><td>Cyra Reiten</td><td>83.27</td></tr><tr><td>PF-19120</td><td>Peter Fuller</td><td>-614.02</td></tr><tr><td>JL-15505</td><td>Jeremy Lonsdale</td><td>592.04</td></tr><tr><td>CA-12775</td><td>Cynthia Arntzen</td><td>203.73</td></tr><tr><td>CA-12310</td><td>Christine Abelman</td><td>246.86</td></tr><tr><td>TH-21235</td><td>Tiffany House</td><td>92.55</td></tr><tr><td>TS-21370</td><td>Todd Sumrall</td><td>2371.73</td></tr><tr><td>DK-12985</td><td>Darren Koutras</td><td>-107.45</td></tr><tr><td>AH-10585</td><td>Angele Hood</td><td>83.97</td></tr><tr><td>JW-15220</td><td>Jane Waco</td><td>2174.05</td></tr><tr><td>MA-17560</td><td>Matt Abelman</td><td>1240.56</td></tr><tr><td>JH-15430</td><td>Jennifer Halladay</td><td>-24.06</td></tr><tr><td>HF-14995</td><td>Herbert Flentye</td><td>-14.35</td></tr><tr><td>PS-18760</td><td>Pamela Stobb</td><td>-134.44</td></tr><tr><td>SS-20140</td><td>Saphhira Shifley</td><td>332.03</td></tr><tr><td>SG-20470</td><td>Sheri Gordon</td><td>-119.01</td></tr><tr><td>BP-11185</td><td>Ben Peterman</td><td>363.61</td></tr><tr><td>JH-16180</td><td>Justin Hirsh</td><td>-96.96</td></tr><tr><td>RA-19885</td><td>Ruben Ausman</td><td>1292.81</td></tr><tr><td>CP-12340</td><td>Christine Phan</td><td>-1850.31</td></tr><tr><td>CM-11935</td><td>Carlos Meador</td><td>-43.73</td></tr><tr><td>TB-21055</td><td>Ted Butterfield</td><td>389.76</td></tr><tr><td>DO-13435</td><td>Denny Ordway</td><td>-38.33</td></tr><tr><td>IL-15100</td><td>Ivan Liston</td><td>1121.83</td></tr><tr><td>DK-13090</td><td>Dave Kipp</td><td>536.39</td></tr><tr><td>LR-16915</td><td>Lena Radford</td><td>535.29</td></tr><tr><td>CS-12400</td><td>Christopher Schild</td><td>-342.80</td></tr><tr><td>BB-10990</td><td>Barry Blumstein</td><td>11.57</td></tr><tr><td>MY-17380</td><td>Maribeth Yedwab</td><td>319.14</td></tr><tr><td>CC-12430</td><td>Chuck Clark</td><td>424.68</td></tr><tr><td>PB-18805</td><td>Patrick Bzostek</td><td>228.77</td></tr><tr><td>MC-17845</td><td>Michael Chen</td><td>698.42</td></tr><tr><td>LL-16840</td><td>Lauren Leatherbury</td><td>560.51</td></tr><tr><td>MK-18160</td><td>Mike Kennedy</td><td>227.43</td></tr><tr><td>BT-11440</td><td>Bobby Trafton</td><td>-77.27</td></tr><tr><td>PJ-18835</td><td>Patrick Jones</td><td>442.14</td></tr><tr><td>RS-19765</td><td>Roland Schwarz</td><td>1206.39</td></tr><tr><td>KC-16675</td><td>Kimberly Carter</td><td>157.24</td></tr><tr><td>MG-17695</td><td>Maureen Gnade</td><td>-398.80</td></tr><tr><td>DW-13585</td><td>Dorothy Wardle</td><td>-266.90</td></tr><tr><td>TB-21625</td><td>Trudy Brown</td><td>379.81</td></tr><tr><td>SU-20665</td><td>Stephanie Ulpright</td><td>763.70</td></tr><tr><td>NB-18655</td><td>Nona Balk</td><td>117.64</td></tr><tr><td>GD-14590</td><td>Giulietta Dortch</td><td>230.60</td></tr><tr><td>SW-20245</td><td>Scot Wooten</td><td>-19.58</td></tr><tr><td>TN-21040</td><td>Tanja Norvell</td><td>-692.05</td></tr><tr><td>JH-15910</td><td>Jonathan Howell</td><td>-13.55</td></tr><tr><td>HL-15040</td><td>Hunter Lopez</td><td>5622.43</td></tr><tr><td>JB-16000</td><td>Joy Bell</td><td>127.06</td></tr><tr><td>JK-16120</td><td>Julie Kriz</td><td>122.66</td></tr><tr><td>CC-12100</td><td>Chad Cunningham</td><td>208.60</td></tr><tr><td>CD-11920</td><td>Carlos Daly</td><td>426.21</td></tr><tr><td>ND-18460</td><td>Neil Ducich</td><td>443.34</td></tr><tr><td>AB-10165</td><td>Alan Barnes</td><td>220.61</td></tr><tr><td>DJ-13630</td><td>Doug Jacobs</td><td>731.57</td></tr><tr><td>GH-14485</td><td>Gene Hale</td><td>-95.49</td></tr><tr><td>TC-21475</td><td>Tony Chapman</td><td>119.13</td></tr><tr><td>FM-14215</td><td>Filia McAdams</td><td>249.95</td></tr><tr><td>CG-12520</td><td>Claire Gute</td><td>169.93</td></tr><tr><td>CD-11980</td><td>Carol Darley</td><td>-206.71</td></tr><tr><td>RM-19750</td><td>Roland Murray</td><td>28.68</td></tr><tr><td>BT-11680</td><td>Brian Thompson</td><td>447.81</td></tr><tr><td>SF-20200</td><td>Sarah Foster</td><td>287.00</td></tr><tr><td>JE-15475</td><td>Jeremy Ellison</td><td>276.45</td></tr><tr><td>TG-21640</td><td>Trudy Glocke</td><td>365.12</td></tr><tr><td>SB-20290</td><td>Sean Braxton</td><td>-2082.75</td></tr><tr><td>PG-18895</td><td>Paul Gonzalez</td><td>334.97</td></tr><tr><td>RD-19660</td><td>Robert Dilbeck</td><td>835.77</td></tr><tr><td>HA-14905</td><td>Helen Abelman</td><td>270.86</td></tr><tr><td>AB-10600</td><td>Ann Blume</td><td>-275.28</td></tr><tr><td>EP-13915</td><td>Emily Phan</td><td>145.14</td></tr><tr><td>HW-14935</td><td>Helen Waerman</td><td>2164.17</td></tr><tr><td>NC-18625</td><td>Noah Childs</td><td>-358.91</td></tr><tr><td>RB-19330</td><td>Randy Bradley</td><td>-164.41</td></tr><tr><td>SS-20590</td><td>Sonia Sunley</td><td>135.91</td></tr><tr><td>CS-12505</td><td>Cindy Stewart</td><td>-6626.24</td></tr><tr><td>KD-16615</td><td>NA</td><td>539.72</td></tr><tr><td>QJ-19255</td><td>Quincy Jones</td><td>1203.69</td></tr><tr><td>PT-19090</td><td>Pete Takahito</td><td>-20.05</td></tr><tr><td>MG-17680</td><td>Maureen Gastineau</td><td>25.89</td></tr><tr><td>RB-19360</td><td>Raymond Buch</td><td>6976.36</td></tr><tr><td>TZ-21580</td><td>Tracy Zic</td><td>224.90</td></tr><tr><td>OT-18730</td><td>Olvera Toch</td><td>-925.56</td></tr><tr><td>BE-11410</td><td>Bobby Elias</td><td>755.91</td></tr><tr><td>MS-17710</td><td>Maurice Satty</td><td>247.43</td></tr><tr><td>MS-17365</td><td>Maribeth chnelling</td><td>844.95</td></tr><tr><td>AG-10495</td><td>Andrew Gjertsen</td><td>295.84</td></tr><tr><td>MC-17605</td><td>Matt Connell</td><td>195.45</td></tr><tr><td>BW-11200</td><td>Ben Wallace</td><td>247.00</td></tr><tr><td>AI-10855</td><td>Arianne Irving</td><td>867.87</td></tr><tr><td>LS-16975</td><td>Lindsay Shagiari</td><td>262.27</td></tr><tr><td>SG-20605</td><td>Speros Goranitis</td><td>463.27</td></tr><tr><td>VM-21835</td><td>Vivian Mathis</td><td>116.64</td></tr><tr><td>VM-21685</td><td>Valerie Mitchum</td><td>513.63</td></tr><tr><td>LC-17140</td><td>Logan Currie</td><td>230.53</td></tr><tr><td>MW-18220</td><td>Mitch Webber</td><td>1237.92</td></tr><tr><td>BD-11725</td><td>Bruce Degenhardt</td><td>334.47</td></tr><tr><td>AB-10150</td><td>Aimee Bixby</td><td>313.66</td></tr><tr><td>NG-18430</td><td>Nathan Gelder</td><td>217.10</td></tr><tr><td>JC-16105</td><td>Julie Creighton</td><td>201.60</td></tr><tr><td>VP-21730</td><td>Victor Preis</td><td>205.39</td></tr><tr><td>NP-18670</td><td>Nra Paige</td><td>513.15</td></tr><tr><td>KM-16375</td><td>Katherine Murray</td><td>973.37</td></tr><tr><td>RP-19390</td><td>Resi Plking</td><td>464.96</td></tr><tr><td>ED-13885</td><td>NA</td><td>670.45</td></tr><tr><td>MM-17920</td><td>Michael Moore</td><td>81.46</td></tr><tr><td>EH-14125</td><td>Eugene Hildebrand</td><td>96.21</td></tr><tr><td>JS-15685</td><td>Jim Sink</td><td>-54.86</td></tr><tr><td>IM-15055</td><td>Ionia McGrath</td><td>975.78</td></tr><tr><td>RD-19930</td><td>Russell DAscenzo</td><td>35.04</td></tr><tr><td>RE-19405</td><td>Ricardo Emerson</td><td>6.05</td></tr><tr><td>KS-16300</td><td>Karen Seio</td><td>0.11</td></tr><tr><td>TS-21205</td><td>Thomas Seio</td><td>862.94</td></tr><tr><td>FG-14260</td><td>Frank Gastineau</td><td>394.95</td></tr><tr><td>CS-12130</td><td>Chad Sievert</td><td>143.83</td></tr><tr><td>SS-20515</td><td>Shirley Schmidt</td><td>199.93</td></tr><tr><td>MH-17620</td><td>Matt Hagelstein</td><td>122.35</td></tr><tr><td>TC-20980</td><td>Tamara Chand</td><td>8981.32</td></tr></tbody></table></div>"
      ]
     },
     "metadata": {
      "application/vnd.databricks.v1+output": {
       "addedWidgets": {},
       "aggData": [],
       "aggError": "",
       "aggOverflow": false,
       "aggSchema": [],
       "aggSeriesLimitReached": false,
       "aggType": "",
       "arguments": {},
       "columnCustomDisplayInfos": {},
       "data": [
        [
         "VP-21760",
         "Victoria Pisteka",
         "-1018.91"
        ],
        [
         "JK-15640",
         "Jim Kriz",
         "1172.90"
        ],
        [
         "PR-18880",
         "Patrick Ryan",
         "5596.20"
        ],
        [
         "RB-19435",
         "Richard Bierner",
         "477.63"
        ],
        [
         "CD-12280",
         "Christina DeMoss",
         "233.48"
        ],
        [
         "JM-15655",
         "Jim Mitchum",
         "117.20"
        ],
        [
         "CR-12730",
         "Craig Reiter",
         "306.92"
        ],
        [
         "GM-14680",
         "Greg Matthias",
         "35.47"
        ],
        [
         "CM-12115",
         "Chad McGuire",
         "408.58"
        ],
        [
         "PA-19060",
         "Pete Armstrong",
         "225.86"
        ],
        [
         "IM-15070",
         "Irene Maddox",
         "514.20"
        ],
        [
         "SN-20710",
         "Steve Nguyen",
         "481.75"
        ],
        [
         "CM-12190",
         "Charlotte Melton",
         "91.21"
        ],
        [
         "MR-17545",
         "Mathew Reese",
         "162.46"
        ],
        [
         "LW-16825",
         "Laurel Workman",
         "32.59"
        ],
        [
         "ES-14020",
         "Erica Smith",
         "1003.08"
        ],
        [
         "CJ-11875",
         "Carl Jackson",
         "1.65"
        ],
        [
         "SM-20005",
         "Sally Matthias",
         "-26.59"
        ],
        [
         "DW-13195",
         "David Wiener",
         "-86.97"
        ],
        [
         "TM-21010",
         "Tamara Manning",
         "573.46"
        ],
        [
         "DB-13060",
         "Dave Brooks",
         "472.63"
        ],
        [
         "CA-11965",
         "Carol Adams",
         "1143.39"
        ],
        [
         "LP-17080",
         "Liz Pelletier",
         "110.79"
        ],
        [
         "TB-21595",
         "Troy Blackwell",
         "-136.47"
        ],
        [
         "JM-15535",
         "Jessica Myrick",
         "356.53"
        ],
        [
         "PO-18865",
         "Patrick ODonnell",
         "437.94"
        ],
        [
         "BT-11485",
         "Brad Thomas",
         "126.87"
        ],
        [
         "LE-16810",
         "Laurel Elliston",
         "161.75"
        ],
        [
         "TH-21115",
         "Thea Hudgings",
         "-252.55"
        ],
        [
         "EN-13780",
         "Edward Nazzal",
         "496.22"
        ],
        [
         "MT-17815",
         "Meg Tillman",
         "509.02"
        ],
        [
         "GZ-14470",
         "Gary Zandusky",
         "1088.16"
        ],
        [
         "TS-21430",
         "Tom Stivers",
         "48.90"
        ],
        [
         "JL-15175",
         "James Lanier",
         "209.11"
        ],
        [
         "KC-16540",
         "Kelly Collister",
         "709.43"
        ],
        [
         "RB-19645",
         "Robert Barroso",
         "72.68"
        ],
        [
         "SD-20485",
         "Shirley Daniels",
         "1985.19"
        ],
        [
         "SV-20815",
         "Stuart Van",
         "199.64"
        ],
        [
         "ML-18040",
         "Michelle Lonsdale",
         "138.71"
        ],
        [
         "DB-13660",
         "Duane Benoit",
         "177.94"
        ],
        [
         "MH-18025",
         "Michelle Huthwaite",
         "476.74"
        ],
        [
         "MV-17485",
         "Mark Van Huff",
         "189.01"
        ],
        [
         "AJ-10960",
         "Astrea Jones",
         "60.43"
        ],
        [
         "JO-15280",
         "Jas OCarroll",
         "201.24"
        ],
        [
         "CS-11845",
         "Cari Sayre",
         "185.55"
        ],
        [
         "PV-18985",
         "PaulVan Hugh",
         "434.25"
        ],
        [
         "JM-16195",
         "Justin MacKendrick",
         "753.70"
        ],
        [
         "SV-20785",
         "Stewart Visinsky",
         "484.85"
        ],
        [
         "NC-18535",
         "Nick Crebassa",
         "1314.02"
        ],
        [
         "MM-18280",
         "Muhammed MacIntyre",
         "58.56"
        ],
        [
         "KD-16345",
         "Katherine Ducich",
         "328.59"
        ],
        [
         "GM-14440",
         "Gary McGarr",
         "347.27"
        ],
        [
         "BT-11395",
         "Bil Tyler",
         "257.90"
        ],
        [
         "TW-21025",
         "Tamara Willingham",
         "737.39"
        ],
        [
         "RH-19495",
         "Rick Hansen",
         "563.78"
        ],
        [
         "MK-17905",
         "Michael Kennedy",
         "-405.43"
        ],
        [
         "SS-20875",
         "Sung Shariari",
         "-75.57"
        ],
        [
         "SC-20845",
         "Sung Chung",
         "31.18"
        ],
        [
         "JP-15460",
         "Jennifer Patt",
         "429.74"
        ],
        [
         "KB-16585",
         "Ken Black",
         "578.89"
        ],
        [
         "TB-21520",
         "Tracy Blumstein",
         "-1603.05"
        ],
        [
         "AR-10345",
         "Alex Russell",
         "-221.05"
        ],
        [
         "JK-15325",
         "Jason Klamczynski",
         "55.58"
        ],
        [
         "AC-10450",
         "Amy Cox",
         "1366.50"
        ],
        [
         "ME-18010",
         "Michelle Ellison",
         "107.35"
        ],
        [
         "KN-16390",
         "Katherine Nockton",
         "-151.15"
        ],
        [
         "JE-15745",
         "Joel Eaton",
         "222.23"
        ],
        [
         "LS-16945",
         "Linda Southworth",
         "-318.44"
        ],
        [
         "NL-18310",
         "Nancy Lomonaco",
         "343.80"
        ],
        [
         "SR-20740",
         "Steven Roelle",
         "1990.43"
        ],
        [
         "AS-10135",
         "Adrian Shami",
         "21.84"
        ],
        [
         "DA-13450",
         "Dianna Arnett",
         "56.79"
        ],
        [
         "EH-13945",
         "Eric Hoffmann",
         "53.79"
        ],
        [
         "KM-16660",
         "Khloe Miller",
         "90.67"
        ],
        [
         "RO-19780",
         "Rose OBrian",
         "-1262.80"
        ],
        [
         "MS-17530",
         "MaryBeth Skach",
         "84.02"
        ],
        [
         "BD-11620",
         "Brian DeCherney",
         "207.02"
        ],
        [
         "JL-15130",
         "Jack Lebron",
         "-207.31"
        ],
        [
         "AB-10015",
         "Aaron Bergman",
         "129.68"
        ],
        [
         "CS-11860",
         "Cari Schnelling",
         "105.82"
        ],
        [
         "CK-12325",
         "Christine Kargatis",
         "261.23"
        ],
        [
         "YS-21880",
         "Yana Sorensen",
         "1778.31"
        ],
        [
         "MG-18145",
         "Mike Gockenbach",
         "-93.49"
        ],
        [
         "MH-17440",
         "Mark Haberlin",
         "61.43"
        ],
        [
         "JG-15160",
         "James Galang",
         "1415.36"
        ],
        [
         "TA-21385",
         "Tom Ashbrook",
         "4703.73"
        ],
        [
         "CJ-12010",
         "Caroline Jumper",
         "858.75"
        ],
        [
         "MC-17635",
         "Matthew Clasen",
         "-247.72"
        ],
        [
         "DK-13150",
         "David K lendrick",
         "250.27"
        ],
        [
         "JD-16015",
         "Joy Daniels",
         "26.72"
        ],
        [
         "MP-18175",
         "Mike Pelletier",
         "225.49"
        ],
        [
         "BG-11035",
         "Barry Gonzalez",
         "-710.80"
        ],
        [
         "RK-19300",
         "Ralph Kennedy",
         "269.69"
        ],
        [
         "KD-16270",
         "Karen Danels",
         "1107.60"
        ],
        [
         "MF-18250",
         "Monica Federle",
         "456.86"
        ],
        [
         "RD-19585",
         "Rob Dowd",
         "734.52"
        ],
        [
         "TP-21130",
         "Theone Pippenger",
         "1128.65"
        ],
        [
         "LW-16990",
         "Lindsay Williams",
         "662.83"
        ],
        [
         "CV-12805",
         "Cynthia Voltz",
         "98.70"
        ],
        [
         "PP-18955",
         "Paul Prost",
         "1495.47"
        ],
        [
         "DC-13285",
         "Debra Catini",
         "132.08"
        ],
        [
         "TM-21490",
         "Tony Molinari",
         "292.53"
        ],
        [
         "MG-17875",
         "Michael Grace",
         "-470.77"
        ],
        [
         "HR-14770",
         "Hallie Redmond",
         "185.40"
        ],
        [
         "DW-13480",
         "Dianna Wilson",
         "1348.75"
        ],
        [
         "AJ-10795",
         "Anthony Johnson",
         "1158.71"
        ],
        [
         "GT-14635",
         "Grant Thornton",
         "-4108.66"
        ],
        [
         "AH-10210",
         "Alan Hwang",
         "1308.56"
        ],
        [
         "NH-18610",
         "Nicole Hansen",
         "760.17"
        ],
        [
         "BP-11290",
         "Beth Paige",
         "-318.85"
        ],
        [
         "RR-19315",
         "Ralph Ritter",
         "-73.83"
        ],
        [
         "DB-12970",
         "Darren Budd",
         "212.54"
        ],
        [
         "JR-16210",
         "Justin Ritter",
         "452.37"
        ],
        [
         "DS-13180",
         "David Smith",
         "163.66"
        ],
        [
         "MM-17260",
         "Magdelene Morse",
         "178.41"
        ],
        [
         "GZ-14545",
         "George Zrebassa",
         "828.17"
        ],
        [
         "AJ-10780",
         "Anthony Jacobs",
         "150.72"
        ],
        [
         "RS-19870",
         "Roy Skaria",
         "9.58"
        ],
        [
         "AS-10045",
         "Aaron Smayling",
         "-253.59"
        ],
        [
         "CC-12370",
         "Christopher Conant",
         "2177.07"
        ],
        [
         "SA-20830",
         "Sue Ann Reed",
         "610.14"
        ],
        [
         "JB-15925",
         "Joni Blumstein",
         "-286.98"
        ],
        [
         "CA-12055",
         "Cthy Armstrong",
         "211.64"
        ],
        [
         "PG-18820",
         "Patrick Gardner",
         "137.49"
        ],
        [
         "AP-10720",
         "Anne Pryor",
         "285.80"
        ],
        [
         "PC-18745",
         "Pamela Coakley",
         "272.68"
        ],
        [
         "CT-11995",
         "Carol Triggs",
         "160.90"
        ],
        [
         "LH-17020",
         "Lisa Hazard",
         "-242.75"
        ],
        [
         "AC-10420",
         "Alyssa Crouse",
         "-62.13"
        ],
        [
         "PB-19210",
         "Phillip Breyer",
         "21.90"
        ],
        [
         "JF-15295",
         "Jason Fortune",
         "97.41"
        ],
        [
         "DN-13690",
         "Duane Noonan",
         "540.53"
        ],
        [
         "AP-10915",
         "Arthur Prichep",
         "579.70"
        ],
        [
         "AG-10525",
         "Andy Gerbode",
         "-152.75"
        ],
        [
         "AF-10870",
         "Art Ferguson",
         "317.63"
        ],
        [
         "HA-14920",
         "Helen Andreada",
         "98.47"
        ],
        [
         "ZC-21910",
         "Zuschuss Carroll",
         "-1032.36"
        ],
        [
         "PK-19075",
         "Pete Kriz",
         "2037.90"
        ],
        [
         "PS-18970",
         "Paul Stevenson",
         "198.53"
        ],
        [
         "TS-21160",
         "Theresa Swint",
         "260.63"
        ],
        [
         "FW-14395",
         "Fred Waerman",
         "23.50"
        ],
        [
         "MC-18100",
         "Mick Crebagga",
         "-64.40"
        ],
        [
         "GR-14560",
         "Georgia Rosenberg",
         "359.88"
        ],
        [
         "JL-15235",
         "Janet Lee",
         "54.51"
        ],
        [
         "KH-16690",
         "Kristen Hastings",
         "1227.13"
        ],
        [
         "LS-17230",
         "Lycoris Saunders",
         "64.57"
        ],
        [
         "JK-15625",
         "Jim Karlsson",
         "750.73"
        ],
        [
         "NP-18325",
         "NA",
         "1209.14"
        ],
        [
         "SP-20860",
         "Sung Pak",
         "567.12"
        ],
        [
         "MP-17470",
         "Mark Packer",
         "600.30"
        ],
        [
         "SP-20545",
         "Sibella Parks",
         "-118.38"
        ],
        [
         "CH-12070",
         "Cathy Hwang",
         "184.29"
        ],
        [
         "DK-13225",
         "Dean Katz",
         "210.27"
        ],
        [
         "BF-10975",
         "Barbara Fisher",
         "227.30"
        ],
        [
         "NF-18595",
         "Nicole Fjeld",
         "388.31"
        ],
        [
         "AA-10375",
         "Allen Armold",
         "277.40"
        ],
        [
         "TT-21220",
         "Thomas Thornton",
         "278.75"
        ],
        [
         "JM-15265",
         "Janet Molinari",
         "502.99"
        ],
        [
         "SG-20890",
         "Susan Gilcrest",
         "-3.70"
        ],
        [
         "KH-16360",
         "Katherine Hughes",
         "528.29"
        ],
        [
         "HE-14800",
         "Harold Engle",
         "273.97"
        ],
        [
         "MC-17575",
         "Matt Collins",
         "210.92"
        ],
        [
         "BD-11635",
         "Brian Derr",
         "141.43"
        ],
        [
         "TB-21355",
         "Todd Boyes",
         "268.96"
        ],
        [
         "SC-20305",
         "Sean Christensen",
         "229.11"
        ],
        [
         "DR-12940",
         "Daniel Raglin",
         "2869.08"
        ],
        [
         "BT-11530",
         "Bradley Talbott",
         "409.49"
        ],
        [
         "SW-20350",
         "Sean Wendt",
         "95.84"
        ],
        [
         "CM-12160",
         "Charles McCrossin",
         "-394.37"
        ],
        [
         "SC-20260",
         "Scott Cohen",
         "670.98"
        ],
        [
         "JE-15715",
         "Joe Elijah",
         "1262.11"
        ],
        [
         "PL-18925",
         "Paul Lucas",
         "-0.76"
        ],
        [
         "DB-13120",
         "David Bremer",
         "-1421.78"
        ],
        [
         "CR-12625",
         "Corey Roper",
         "144.85"
        ],
        [
         "CW-11905",
         "Carl Weiss",
         "370.84"
        ],
        [
         "JM-15250",
         "Janet Martin",
         "19.58"
        ],
        [
         "TC-21535",
         "Tracy Collins",
         "217.95"
        ],
        [
         "EG-13900",
         "Emily Grady",
         "103.90"
        ],
        [
         "TS-21610",
         "Troy Staebel",
         "-294.89"
        ],
        [
         "GM-14455",
         "Gary Mitchum",
         "793.29"
        ],
        [
         "DJ-13510",
         "Don Jones",
         "345.26"
        ],
        [
         "JJ-15445",
         "Jennifer Jackson",
         "200.56"
        ],
        [
         "MZ-17335",
         "Maria Zettner",
         "85.02"
        ],
        [
         "NC-18415",
         "Nathan Cano",
         "-2204.81"
        ],
        [
         "CC-12475",
         "Cindy Chapman",
         "154.85"
        ],
        [
         "CS-11950",
         "Carlos Soltero",
         "-126.62"
        ],
        [
         "JL-15835",
         "John Lee",
         "228.53"
        ],
        [
         "ML-17755",
         "Max Ludwig",
         "409.99"
        ],
        [
         "GB-14530",
         "Ge orge Bell",
         "7.85"
        ],
        [
         "ER-13855",
         "Elpida Rittenbach",
         "-295.33"
        ],
        [
         "NR-18550",
         "Nick Radford",
         "-25.13"
        ],
        [
         "TB-21280",
         "Toby Braunhardt",
         "491.13"
        ],
        [
         "JG-15115",
         "Jack Garza",
         "684.53"
        ],
        [
         "JS-15880",
         "John Stevenson",
         "564.97"
        ],
        [
         "BF-11080",
         "Bart Folk",
         "110.99"
        ],
        [
         "BF-11215",
         "Benjamin Farhat",
         "523.09"
        ],
        [
         "TP-21565",
         "Tracy P oddar",
         "139.44"
        ],
        [
         "EA-14035",
         "Erin Ashbrook",
         "-52.56"
        ],
        [
         "TB-21400",
         "Tom Boeckenhauer",
         "2798.06"
        ],
        [
         "PM-18940",
         "Paul MacIntyre",
         "157.88"
        ],
        [
         "PW-19030",
         "Pauline Webber",
         "803.82"
        ],
        [
         "RW-19630",
         "Rob Williams",
         "699.06"
        ],
        [
         "JK-15370",
         "Jay Kimmel",
         "329.85"
        ],
        [
         "CB-12415",
         "Christy Brittain",
         "272.40"
        ],
        [
         "KT-16465",
         "Kean Takahito",
         "253.75"
        ],
        [
         "LH-16900",
         "Lena Hernandez",
         "525.12"
        ],
        [
         "SL-20155",
         "Sara Luxemburg",
         "528.04"
        ],
        [
         "NM-18520",
         "Neoma Murray",
         "788.95"
        ],
        [
         "AH-10030",
         "Aaron Hawkins",
         "365.22"
        ],
        [
         "RC-19825",
         "Roy Collins",
         "63.57"
        ],
        [
         "BE-11455",
         "Brad Eason",
         "139.21"
        ],
        [
         "MO-17950",
         "Michael Oakman",
         "-82.01"
        ],
        [
         "DK-12895",
         "Dana Kaydos",
         "925.97"
        ],
        [
         "JC-15340",
         "Jasper Cacioppo",
         "-0.35"
        ],
        [
         "LD-16855",
         "Lela Donovan",
         "0.46"
        ],
        [
         "JG-15310",
         "Jason Gross",
         "3.59"
        ],
        [
         "CS-12460",
         "Chuck Sachs",
         "156.27"
        ],
        [
         "JF-15355",
         "Jay Fein",
         "330.20"
        ],
        [
         "AC-10660",
         "Anna Chung",
         "-28.70"
        ],
        [
         "VB-21745",
         "Victo ria Brennan",
         "371.25"
        ],
        [
         "MS-17980",
         "Michael Stewart",
         "55.23"
        ],
        [
         "CC-12670",
         "Craig Carreira",
         "187.88"
        ],
        [
         "CC-12685",
         "Craig Carroll",
         "850.03"
        ],
        [
         "SE-20110",
         "Sanjit Engle",
         "2650.67"
        ],
        [
         "KH-16330",
         "Katharine Harms",
         "455.69"
        ],
        [
         "TS-21505",
         "NA",
         "11.39"
        ],
        [
         "CB-12535",
         "Claudia Bergmann",
         "1049.28"
        ],
        [
         "MT-18070",
         "Michelle Tran",
         "-23.45"
        ],
        [
         "JW-15955",
         "Joni Waerman",
         "-29.58"
        ],
        [
         "JH-15820",
         "John Huston",
         "26.07"
        ],
        [
         "KH-16510",
         "Keith Herrera",
         "656.12"
        ],
        [
         "AG-10675",
         "Anna Gayman",
         "-246.40"
        ],
        [
         "MV-18190",
         "Mike Vitt orini",
         "273.99"
        ],
        [
         "ZD-21925",
         "Zuschuss Donatelli",
         "248.75"
        ],
        [
         "SC-20725",
         "Steven Cartwright",
         "1276.42"
        ],
        [
         "MH-18115",
         "Mick Hernandez",
         "170.98"
        ],
        [
         "MC-17590",
         "Matt Collister",
         "288.99"
        ],
        [
         "JJ-15760",
         "Joel Jenkins",
         "34.46"
        ],
        [
         "MB-17305",
         "Maria Bertelson",
         "213.34"
        ],
        [
         "CK-12760",
         "Cyma Kinney",
         "-338.44"
        ],
        [
         "KB-16315",
         "Karl Braun",
         "49.22"
        ],
        [
         "SC-20230",
         "Scot Coram",
         "439.83"
        ],
        [
         "DB-13360",
         "Dennis Bolton",
         "291.01"
        ],
        [
         "DH-13075",
         "Dave Hallsten",
         "1193.75"
        ],
        [
         "AH-10195",
         "Alan Haines",
         "-378.04"
        ],
        [
         "SP-20920",
         "Susan Pistek",
         "14.37"
        ],
        [
         "RW-19690",
         "Robert Waldorf",
         "707.55"
        ],
        [
         "GG-14650",
         "Greg Guthrie",
         "12.69"
        ],
        [
         "DL-13330",
         "Denise Leinenbach",
         "222.69"
        ],
        [
         "BP-11050",
         "Barry Pond",
         "209.66"
        ],
        [
         "SZ-20035",
         "Sam Zeldin",
         "366.42"
        ],
        [
         "EH-14005",
         "Erica Hernandez",
         "-94.72"
        ],
        [
         "CS-12175",
         "Charles Sheldon",
         "113.15"
        ],
        [
         "FC-14335",
         "Fred Chung",
         "714.29"
        ],
        [
         "JM-15580",
         "Jill Matthias",
         "113.12"
        ],
        [
         "FC-14245",
         "Frank Carlisle",
         "1217.18"
        ],
        [
         "MC-17275",
         "Marc Crier",
         "461.02"
        ],
        [
         "CY-12745",
         "Craig Yedwab",
         "60.64"
        ],
        [
         "BS-11665",
         "Brian Stugart",
         "238.73"
        ],
        [
         "BS-11755",
         "Bruce Stewart",
         "-113.31"
        ],
        [
         "BS-11380",
         "Bil Stewart",
         "-17.53"
        ],
        [
         "CM-11815",
         "Candace McMahon",
         "214.85"
        ],
        [
         "BM-11575",
         "Brendan Murry",
         "95.58"
        ],
        [
         "BD-11320",
         "Bil Donatelli",
         "1094.51"
        ],
        [
         "GH-14425",
         "Gary Hwang",
         "1176.39"
        ],
        [
         "KC-16255",
         "Karen Carlisle",
         "846.14"
        ],
        [
         "BN-11470",
         "Brad Norvell",
         "36.61"
        ],
        [
         "EH-14185",
         "Evan Henry",
         "242.13"
        ],
        [
         "Dl-13600",
         "Dorris liebe",
         "175.23"
        ],
        [
         "RB-19705",
         "Roger Barcio",
         "243.08"
        ],
        [
         "DB-13210",
         "Dean Braden",
         "169.71"
        ],
        [
         "NC-18340",
         "Nat Carroll",
         "580.31"
        ],
        [
         "TH-21100",
         "Thea Hendricks",
         "-135.22"
        ],
        [
         "SC-20770",
         "Stewart Carmichael",
         "-671.38"
        ],
        [
         "EH-13990",
         "Erica Hackney",
         "150.37"
        ],
        [
         "TC-21295",
         "Toby Carlisle",
         "606.37"
        ],
        [
         "AG-10765",
         "Anthony Garverick",
         "-8.42"
        ],
        [
         "SW-20275",
         "Scott Williamson",
         "332.76"
        ],
        [
         "AC-10615",
         "Ann Chong",
         "298.61"
        ],
        [
         "RF-19840",
         "Roy Franzsisch",
         "280.09"
        ],
        [
         "AJ-10945",
         "Ashley Jarboe",
         "521.14"
        ],
        [
         "MO-17500",
         "Mary ORourke",
         "59.36"
        ],
        [
         "TT-21265",
         "Tim Taslimi",
         "93.92"
        ],
        [
         "PO-18850",
         "Patrick OBrill",
         "37.64"
        ],
        [
         "IG-15085",
         "Ivan Gibson",
         "320.48"
        ],
        [
         "DM-13345",
         "Denise Monton",
         "1319.07"
        ],
        [
         "DJ-13420",
         "Denny Joy",
         "483.03"
        ],
        [
         "CK-12205",
         "Chloris Kastensmidt",
         "141.59"
        ],
        [
         "EM-14200",
         "Evan Minnotte",
         "21.83"
        ],
        [
         "SG-20080",
         "Sandra Glassco",
         "570.45"
        ],
        [
         "MS-17770",
         "Maxwell Schwartz",
         "280.81"
        ],
        [
         "SB-20185",
         "Sarah Brown",
         "885.96"
        ],
        [
         "NM-18445",
         "Nathan Mautz",
         "2751.70"
        ],
        [
         "HJ-14875",
         "Heather Jas",
         "98.67"
        ],
        [
         "DP-13105",
         "Dave Poirier",
         "562.95"
        ],
        [
         "CG-12040",
         "Catherine Glotzbach",
         "86.31"
        ],
        [
         "MP-17965",
         "Michael Paige",
         "637.74"
        ],
        [
         "HG-14845",
         "Harry Greene",
         "147.01"
        ],
        [
         "CM-12715",
         "Craig M olinari",
         "176.32"
        ],
        [
         "SK-19990",
         "Sally Knutson",
         "168.79"
        ],
        [
         "BK-11260",
         "Berenike Kampe",
         "-63.30"
        ],
        [
         "NW-18400",
         "Natalie Webber",
         "1022.63"
        ],
        [
         "JW-16075",
         "Julia West",
         "153.89"
        ],
        [
         "SC-20680",
         "Steve Carroll",
         "370.17"
        ],
        [
         "VF-21715",
         "Vicky Freymann",
         "-96.28"
        ],
        [
         "PO-19180",
         "Philisse Overcash",
         "1155.24"
        ],
        [
         "PS-19045",
         "Penelope Sewall",
         "3183.78"
        ],
        [
         "SJ-20500",
         "Shirley Jackson",
         "68.59"
        ],
        [
         "SC-20095",
         "Sanjit Chand",
         "5757.30"
        ],
        [
         "LW-17215",
         "Luke Weiss",
         "837.67"
        ],
        [
         "JD-15895",
         "Jonathan Doherty",
         "1050.44"
        ],
        [
         "DM-13015",
         "Darrin Martin",
         "1677.98"
        ],
        [
         "DB-13270",
         "Deborah Brumfield",
         "841.84"
        ],
        [
         "KN-16705",
         "Kristina Nunn",
         "329.77"
        ],
        [
         "MD-17860",
         "Michael Dominguez",
         "-4.05"
        ],
        [
         "SC-20575",
         "Sonia Cooley",
         "100.23"
        ],
        [
         "DL-12865",
         "Dan Lawera",
         "321.85"
        ],
        [
         "DB-13615",
         "Doug Bickford",
         "438.80"
        ],
        [
         "DH-13675",
         "Duane Huffman",
         "116.68"
        ],
        [
         "SC-20380",
         "ShahiCollister",
         "-3164.00"
        ],
        [
         "ST-20530",
         "Shui Tom",
         "85.12"
        ],
        [
         "JB-15400",
         "Jennifer Braxton",
         "156.05"
        ],
        [
         "SH-20395",
         "ShahiHopkins",
         "-144.52"
        ],
        [
         "AR-10405",
         "Allen Rosenblatt",
         "-98.52"
        ],
        [
         "KL-16645",
         "Ken Lonsdale",
         "806.50"
        ],
        [
         "CB-12025",
         "Cassandra Brandow",
         "150.51"
        ],
        [
         "RD-19480",
         "Rick Duston",
         "480.59"
        ],
        [
         "PF-19225",
         "Phillip Flathmann",
         "591.29"
        ],
        [
         "YC-21895",
         "Yoseph Carroll",
         "1305.64"
        ],
        [
         "CM-12235",
         "Chris McAfee",
         "365.03"
        ],
        [
         "HG-15025",
         "Hunter Glantz",
         "804.62"
        ],
        [
         "DK-12835",
         "Damala Kotsonis",
         "881.52"
        ],
        [
         "TB-21250",
         "Tim Brockman",
         "260.30"
        ],
        [
         "BC-11125",
         "Becky Castell",
         "251.19"
        ],
        [
         "GM-14500",
         "Gene McClure",
         "441.32"
        ],
        [
         "AR-10540",
         "Andy Reiter",
         "2884.61"
        ],
        [
         "JF-15565",
         "Jill Fjeld",
         "1074.07"
        ],
        [
         "MN-17935",
         "Michael Nguyen",
         "290.82"
        ],
        [
         "DL-12925",
         "Daniel Lacy",
         "4.39"
        ],
        [
         "DB-12910",
         "Daniel Byrd",
         "431.38"
        ],
        [
         "BT-11305",
         "Beth Thompson",
         "417.58"
        ],
        [
         "BW-11065",
         "Barry Weirich",
         "-58.29"
        ],
        [
         "AO-10810",
         "Anthony ODonnell",
         "12.10"
        ],
        [
         "LC-16930",
         "Linda Cazamias",
         "288.29"
        ],
        [
         "LC-17050",
         "Liz Carlisle",
         "86.77"
        ],
        [
         "AW-10840",
         "Anth ony Witt",
         "65.78"
        ],
        [
         "JD-15790",
         "John Dryer",
         "-266.56"
        ],
        [
         "SF-20065",
         "Sandra Flanagan",
         "227.76"
        ],
        [
         "DL-13495",
         "Dionis Lloyd",
         "-52.39"
        ],
        [
         "BF-11275",
         "Beth Fritzler",
         "25.88"
        ],
        [
         "KM-16720",
         "Kunst Miller",
         "745.40"
        ],
        [
         "JC-15775",
         "John Castell",
         "279.57"
        ],
        [
         "CM-12445",
         "Chuck Magee",
         "63.97"
        ],
        [
         "AR-10510",
         "Andrew Roberts",
         "43.65"
        ],
        [
         "VS-21820",
         "Vivek Sundaresam",
         "-263.08"
        ],
        [
         "DV-13045",
         "Darrin Van Huff",
         "-427.63"
        ],
        [
         "NF-18475",
         "Neil Franzsisch",
         "85.92"
        ],
        [
         "RP-19270",
         "Rachel Payne",
         "59.52"
        ],
        [
         "TP-21415",
         "Tom Prescott",
         "-1087.38"
        ],
        [
         "EH-13765",
         "Edward Hooks",
         "1393.50"
        ],
        [
         "KW-16570",
         "Kelly Williams",
         "108.39"
        ],
        [
         "DW-13540",
         "Don Weiss",
         "69.66"
        ],
        [
         "SS-20410",
         "ShahiShariari",
         "-1011.08"
        ],
        [
         "XP-21865",
         "Xylona Preis",
         "621.37"
        ],
        [
         "JS-16030",
         "Joy Smith",
         "-311.25"
        ],
        [
         "PK-18910",
         "Paul Knutson",
         "-798.71"
        ],
        [
         "EB-14170",
         "Evan Bailliet",
         "282.41"
        ],
        [
         "RS-19420",
         "Ricardo Sperren",
         "633.45"
        ],
        [
         "PJ-19015",
         "Pauline Johnson",
         "682.68"
        ],
        [
         "TC-21145",
         "Theresa Coyne",
         "265.59"
        ],
        [
         "AR-10570",
         "Anemone Ratner",
         "32.64"
        ],
        [
         "JH-15985",
         "Joseph Holt",
         "-644.48"
        ],
        [
         "DL-13315",
         "Delfina Latchford",
         "288.92"
        ],
        [
         "SC-20800",
         "Stuart Calhoun",
         "52.21"
        ],
        [
         "GP-14740",
         "Guy Phonely",
         "31.84"
        ],
        [
         "AM-10705",
         "Anne McFarland",
         "969.06"
        ],
        [
         "NP-18700",
         "Nora Preis",
         "630.82"
        ],
        [
         "RL-19615",
         "Rob Lucas",
         "213.98"
        ],
        [
         "TS-21340",
         "Toby Swindell",
         "-185.00"
        ],
        [
         "BB-11545",
         "Brenda Bowman",
         "1014.65"
        ],
        [
         "CA-12265",
         "Christina Anderson",
         "279.90"
        ],
        [
         "HM-14980",
         "Henry MacAllister",
         "116.78"
        ],
        [
         "BP-11155",
         "Becky Pak",
         "647.00"
        ],
        [
         "LM-17065",
         "Liz MacKendrick",
         "-44.88"
        ],
        [
         "JA-15970",
         "Joseph Airdo",
         "-819.88"
        ],
        [
         "BS-11365",
         "Bi l Shonely",
         "2616.41"
        ],
        [
         "LH-17155",
         "Logan Haushalter",
         "316.53"
        ],
        [
         "AS-10630",
         "Ann Steele",
         "136.60"
        ],
        [
         "MC-18130",
         "Mike Caudle",
         "121.74"
        ],
        [
         "DP-13390",
         "Dennis Pardue",
         "1571.83"
        ],
        [
         "LA-16780",
         "Laura Armstrong",
         "2025.19"
        ],
        [
         "KT-16480",
         "Kean Thornton",
         "194.07"
        ],
        [
         "AG-10300",
         "Aleksandra Gannaway",
         "59.30"
        ],
        [
         "RC-19960",
         "Ryan Crowe",
         "10.54"
        ],
        [
         "TS-21085",
         "Thais Sissman",
         "-3.32"
        ],
        [
         "EL-13735",
         "Ed Ludwig",
         "27.11"
        ],
        [
         "MY-18295",
         "Muhammed YeDwab",
         "-371.71"
        ],
        [
         "DB-13555",
         "Dorothy Badders",
         "109.64"
        ],
        [
         "KD-16495",
         "Keith Dawkins",
         "3038.93"
        ],
        [
         "PW-19240",
         "Pierre Wener",
         "1291.15"
        ],
        [
         "SM-20905",
         "Susan MacKendrick",
         "-16510.34"
        ],
        [
         "EC-14050",
         "Erin Creighton",
         "96.44"
        ],
        [
         "SF-20965",
         "Sylvia Foulston",
         "539.94"
        ],
        [
         "EM-13825",
         "Elizabeth Moffitt",
         "682.56"
        ],
        [
         "CR-12580",
         "Clay Rozendal",
         "74.40"
        ],
        [
         "EM-14140",
         "Eugene Moren",
         "1318.95"
        ],
        [
         "DE-13255",
         "NA",
         "464.48"
        ],
        [
         "EB-13870",
         "Emily Burns",
         "261.95"
        ],
        [
         "AG-10270",
         "Alejandro Grove",
         "732.75"
        ],
        [
         "JR-15670",
         "Jim Radford",
         "-785.16"
        ],
        [
         "AT-10435",
         "Alyssa Tate",
         "100.87"
        ],
        [
         "BV-11245",
         "Benjamin Venier",
         "315.23"
        ],
        [
         "NS-18640",
         "Noel Staavos",
         "-234.89"
        ],
        [
         "BM-11140",
         "Becky Martin",
         "-1659.97"
        ],
        [
         "JF-15490",
         "Jeremy Farry",
         "-18.05"
        ],
        [
         "SJ-20125",
         "Sanjit Jacobs",
         "143.73"
        ],
        [
         "CM-12655",
         "Corinna Mitchell",
         "1572.44"
        ],
        [
         "TH-21550",
         "Tracy Hopkins",
         "-571.98"
        ],
        [
         "GB-14575",
         "Giulietta Baptist",
         "1135.84"
        ],
        [
         "ML-17395",
         "Marina Lichtenstein",
         "684.93"
        ],
        [
         "RH-19555",
         "Ritsa Hightower",
         "0.31"
        ],
        [
         "FP-14320",
         "Frank Preis",
         "406.46"
        ],
        [
         "SH-19975",
         "NA",
         "553.65"
        ],
        [
         "CS-12355",
         "Christine Sundaresam",
         "831.94"
        ],
        [
         "SJ-20215",
         "Sarah Jordon",
         "-23.38"
        ],
        [
         "LR-17035",
         "Lisa Ryan",
         "-383.19"
        ],
        [
         "BF-11170",
         "Ben Ferrer",
         "1938.67"
        ],
        [
         "NB-18580",
         "Nicole Brennan",
         "24.79"
        ],
        [
         "GH-14665",
         "Greg Hansen",
         "-5.81"
        ],
        [
         "EM-13960",
         "Eric Murdock",
         "102.30"
        ],
        [
         "RH-19510",
         "Rick Huthwaite",
         "1289.45"
        ],
        [
         "MF-17665",
         "Maureen Fritzler",
         "-341.53"
        ],
        [
         "AW-10930",
         "Arthur Wiediger",
         "-104.44"
        ],
        [
         "AB-10255",
         "Alejandro Ballentine",
         "264.57"
        ],
        [
         "AR-10825",
         "Anthony Rawles",
         "495.07"
        ],
        [
         "BG-11740",
         "Bruce Geld",
         "119.35"
        ],
        [
         "GT-14755",
         "Guy Thornton",
         "-6.14"
        ],
        [
         "GM-14695",
         "Greg Maxwell",
         "188.46"
        ],
        [
         "KB-16240",
         "Karen Bern",
         "764.23"
        ],
        [
         "PB-19105",
         "Peter Bhler",
         "218.16"
        ],
        [
         "JM-15865",
         "John Murray",
         "1575.07"
        ],
        [
         "RB-19570",
         "Rob Beeghly",
         "76.90"
        ],
        [
         "RB-19465",
         "Rick Bensley",
         "640.55"
        ],
        [
         "VT-21700",
         "Valerie Takahito",
         "-224.93"
        ],
        [
         "BP-11230",
         "Benjamin Patterson",
         "-197.39"
        ],
        [
         "EB-13840",
         "Ellis Ballard",
         "656.20"
        ],
        [
         "JC-15385",
         "Jenna Caffey",
         "502.93"
        ],
        [
         "CK-12595",
         "Clytie Kelty",
         "491.12"
        ],
        [
         "HD-14785",
         "Harold Dahlen",
         "-136.33"
        ],
        [
         "PF-19165",
         "Philip Fox",
         "196.88"
        ],
        [
         "CP-12085",
         "Cathy Prescott",
         "426.94"
        ],
        [
         "EB-13750",
         "Edward Becker",
         "-80.29"
        ],
        [
         "BO-11350",
         "Bil Overfelt",
         "278.43"
        ],
        [
         "MH-17290",
         "Marc Harrigan",
         "28.98"
        ],
        [
         "CC-12610",
         "Corey Catlett",
         "331.27"
        ],
        [
         "KA-16525",
         "Kelly Andreada",
         "234.36"
        ],
        [
         "JF-15415",
         "Jennifer Ferguson",
         "635.64"
        ],
        [
         "FH-14365",
         "Fred Hopkins",
         "2051.01"
        ],
        [
         "Dp-13240",
         "Dean perceR",
         "333.37"
        ],
        [
         "BS-11800",
         "Bryan Spruell",
         "194.05"
        ],
        [
         "DS-13030",
         "Darrin Sayre",
         "193.78"
        ],
        [
         "MW-18235",
         "Mitch Willingham",
         "1665.52"
        ],
        [
         "GA-14515",
         "George Ashbrook",
         "840.89"
        ],
        [
         "TG-21310",
         "Toby Gnade",
         "682.17"
        ],
        [
         "BM-11785",
         "Bryan Mills",
         "137.72"
        ],
        [
         "LW-17125",
         "Liz Willingham",
         "192.63"
        ],
        [
         "MG-17890",
         "Michael Granlund",
         "171.45"
        ],
        [
         "LC-16885",
         "Lena Creighton",
         "1288.74"
        ],
        [
         "DK-13375",
         "Dennis Kane",
         "377.43"
        ],
        [
         "LH-16750",
         "Larry Hughes",
         "12.63"
        ],
        [
         "SC-20050",
         "Sample Company A",
         "1011.73"
        ],
        [
         "AH-10075",
         "Adam Hart",
         "280.80"
        ],
        [
         "JL-15850",
         "John Lucas",
         "779.90"
        ],
        [
         "AB-10060",
         "Adam Bellavance",
         "2054.60"
        ],
        [
         "BF-11020",
         "Barry Franzsisch",
         "301.44"
        ],
        [
         "BD-11500",
         "Bradley Drucker",
         "1142.12"
        ],
        [
         "JD-16150",
         "Justin Deggeller",
         "1618.74"
        ],
        [
         "CC-12220",
         "Chris Cortes",
         "393.97"
        ],
        [
         "AS-10225",
         "Alan Schoenberger",
         "719.77"
        ],
        [
         "RF-19345",
         "Randy Ferguson",
         "633.68"
        ],
        [
         "BS-11590",
         "Brendan Sweed",
         "381.39"
        ],
        [
         "AG-10900",
         "Arthur Gainer",
         "343.67"
        ],
        [
         "EM-13810",
         "NA",
         "-133.99"
        ],
        [
         "AB-10105",
         "Adrian Barton",
         "5444.97"
        ],
        [
         "BW-11110",
         "Bart Watters",
         "921.38"
        ],
        [
         "FM-14380",
         "Fred McMath",
         "191.09"
        ],
        [
         "AZ-10750",
         "Annie Zypern",
         "154.77"
        ],
        [
         "JR-15700",
         "Jocasta Rupert",
         "107.99"
        ],
        [
         "ON-18715",
         "Odella Nelson",
         "-5.53"
        ],
        [
         "LP-17095",
         "Liz Preis",
         "338.45"
        ],
        [
         "MH-17785",
         "Maya Herman",
         "239.02"
        ],
        [
         "MM-18055",
         "Michelle Moray",
         "-520.45"
        ],
        [
         "LB-16795",
         "Laurel Beltran",
         "-51.99"
        ],
        [
         "DO-13645",
         "Doug OConnell",
         "293.85"
        ],
        [
         "RD-19720",
         "Roger Demir",
         "207.72"
        ],
        [
         "DC-12850",
         "Dan Campbell",
         "-1441.28"
        ],
        [
         "RB-19795",
         "Ross Baird",
         "-461.74"
        ],
        [
         "PN-18775",
         "Parhena Norris",
         "192.04"
        ],
        [
         "DV-13465",
         "Dianna Vittorini",
         "353.09"
        ],
        [
         "HM-14860",
         "Harry Marie",
         "2438.07"
        ],
        [
         "NF-18385",
         "Natalie Fritzler",
         "-1696.35"
        ],
        [
         "HH-15010",
         "Hilary Holden",
         "86.73"
        ],
        [
         "HG-14965",
         "Henry Goldwyn",
         "-2797.95"
        ],
        [
         "NZ-18565",
         "Nick Zandusky",
         "402.56"
        ],
        [
         "ML-18265",
         "Muhammed Lee",
         "42.67"
        ],
        [
         "EJ-13720",
         "Ed Jacobs",
         "-6964.03"
        ],
        [
         "JF-15190",
         "Jamie Frazer",
         "575.78"
        ],
        [
         "CC-12145",
         "Charles Crestani",
         "392.29"
        ],
        [
         "SC-20695",
         "Steve Chapman",
         "611.82"
        ],
        [
         "HP-14815",
         "Harold Pawlan",
         "373.87"
        ],
        [
         "BH-11710",
         "Brosina Hoffman",
         "789.63"
        ],
        [
         "ND-18370",
         "Natalie DeCherney",
         "353.24"
        ],
        [
         "RH-19600",
         "Rob Haberlin",
         "172.63"
        ],
        [
         "RD-19900",
         "Ruben Dartt",
         "455.52"
        ],
        [
         "SR-20425",
         "Sharelle Roach",
         "-3334.17"
        ],
        [
         "MB-18085",
         "Mick Brown",
         "118.05"
        ],
        [
         "DM-12955",
         "Dario Medina",
         "108.76"
        ],
        [
         "KM-16225",
         "Kalyca Meade",
         "635.43"
        ],
        [
         "NK-18490",
         "Neil Knudson",
         "121.23"
        ],
        [
         "DR-12880",
         "Dan Reichenbach",
         "1641.54"
        ],
        [
         "GK-14620",
         "Grace Kelly",
         "1448.59"
        ],
        [
         "AA-10315",
         "Alex Avila",
         "-362.90"
        ],
        [
         "PO-19195",
         "Phillina Ober",
         "-49.69"
        ],
        [
         "SV-20365",
         "Seth Vernon",
         "1200.14"
        ],
        [
         "CL-11890",
         "Carl Ludwig",
         "328.08"
        ],
        [
         "EK-13795",
         "Eileen Kiefer",
         "97.10"
        ],
        [
         "RF-19735",
         "Roland Fjeld",
         "711.84"
        ],
        [
         "VG-21790",
         "Vivek Gonzalez",
         "144.12"
        ],
        [
         "BO-11425",
         "Bobby Odegard",
         "59.46"
        ],
        [
         "KB-16405",
         "Kat rina Bavinger",
         "273.86"
        ],
        [
         "MS-17830",
         "Melanie Seite",
         "19.43"
        ],
        [
         "LT-16765",
         "Larry Tron",
         "59.04"
        ],
        [
         "GW-14605",
         "Giulietta Weimer",
         "-268.55"
        ],
        [
         "FA-14230",
         "Frank Atkinson",
         "520.33"
        ],
        [
         "AG-10390",
         "Allen Goldenen",
         "69.27"
        ],
        [
         "DF-13135",
         "David Flashing",
         "-259.31"
        ],
        [
         "RW-19540",
         "Rick Wi lson",
         "1586.23"
        ],
        [
         "TR-21325",
         "Toby Ritter",
         "220.36"
        ],
        [
         "AS-10240",
         "Alan Shonely",
         "33.69"
        ],
        [
         "VD-21670",
         "Valerie Dominguez",
         "1617.61"
        ],
        [
         "JK-16090",
         "Juliana Krohn",
         "586.67"
        ],
        [
         "BF-11005",
         "Barry Franz",
         "-291.37"
        ],
        [
         "HZ-14950",
         "Henia Zydlo",
         "-130.39"
        ],
        [
         "BD-11770",
         "Bryan Davis",
         "141.28"
        ],
        [
         "KW-16435",
         "Kat rina Willman",
         "1756.14"
        ],
        [
         "AM-10360",
         "Alice McCarthy",
         "194.99"
        ],
        [
         "DB-13405",
         "Denny Blanton",
         "438.92"
        ],
        [
         "ME-17725",
         "Max Engle",
         "77.59"
        ],
        [
         "MO-17800",
         "Meg OConnel",
         "168.98"
        ],
        [
         "BG-11695",
         "Brooke Gillingham",
         "107.59"
        ],
        [
         "BN-11515",
         "Bradley Nguyen",
         "340.72"
        ],
        [
         "ES-14080",
         "Erin Smith",
         "246.94"
        ],
        [
         "ME-17320",
         "Maria Etezadi",
         "1858.97"
        ],
        [
         "AA-10645",
         "Anna Andreadi",
         "857.80"
        ],
        [
         "LF-17185",
         "Luke Foster",
         "-3583.61"
        ],
        [
         "CL-12565",
         "Clay Ludtke",
         "1933.19"
        ],
        [
         "SP-20650",
         "Stephanie Phelps",
         "268.47"
        ],
        [
         "AH-10690",
         "Anna Hberlin",
         "1296.89"
        ],
        [
         "VG-21805",
         "Vivek Grady",
         "-52.33"
        ],
        [
         "SB-20170",
         "Sarah Bern",
         "157.68"
        ],
        [
         "PC-19000",
         "Pauline Chand",
         "-184.34"
        ],
        [
         "AS-10090",
         "Adam Shillingsburg",
         "64.32"
        ],
        [
         "RM-19375",
         "Raymond Messe",
         "392.60"
        ],
        [
         "JO-15550",
         "Jesus Ocampo",
         "167.13"
        ],
        [
         "PB-19150",
         "Philip Brown",
         "280.27"
        ],
        [
         "TB-21175",
         "Thomas Boland",
         "828.71"
        ],
        [
         "DP-13165",
         "David Philippe",
         "-40.94"
        ],
        [
         "KH-16630",
         "Ken Heidel",
         "727.51"
        ],
        [
         "AH-10120",
         "Adrian Hane",
         "-2.50"
        ],
        [
         "GH-14410",
         "Gary Hansen",
         "-577.01"
        ],
        [
         "SO-20335",
         "Sean ODonnell",
         "-81.42"
        ],
        [
         "CS-12250",
         "Chris Selesnick",
         "738.41"
        ],
        [
         "EM-14065",
         "ErinMull",
         "40.03"
        ],
        [
         "AF-10885",
         "Art Foster",
         "-163.13"
        ],
        [
         "MG-18205",
         "Mitch Gastineau",
         "-1.24"
        ],
        [
         "TT-21460",
         "Tonja Turnell",
         "1124.38"
        ],
        [
         "SW-20455",
         "Shaun Weien",
         "793.64"
        ],
        [
         "EB-13930",
         "Eric Barreto",
         "0.43"
        ],
        [
         "RR-19525",
         "Rick Reed",
         "721.69"
        ],
        [
         "KB-16600",
         "Ken Brennan",
         "293.90"
        ],
        [
         "Co-12640",
         "CoreyLock",
         "205.90"
        ],
        [
         "DM-13525",
         "Don Miller",
         "200.20"
        ],
        [
         "MC-17425",
         "Mark Cousins",
         "1802.40"
        ],
        [
         "EB-13705",
         "Ed Braxton",
         "13.56"
        ],
        [
         "RA-19945",
         "Ryan Akin",
         "-445.69"
        ],
        [
         "JK-15205",
         "Jamie Kunitz",
         "1221.56"
        ],
        [
         "JS-15940",
         "Joni Sundaresam",
         "-327.93"
        ],
        [
         "AG-10330",
         "Alex Grayson",
         "-5.36"
        ],
        [
         "JB-16045",
         "Julia Barnett",
         "201.40"
        ],
        [
         "SM-20950",
         "Suzanne McNair",
         "581.57"
        ],
        [
         "JS-15595",
         "Ji Stevenson",
         "-174.94"
        ],
        [
         "LT-17110",
         "Liz Thompson",
         "320.98"
        ],
        [
         "DP-13000",
         "Darren Powers",
         "241.69"
        ],
        [
         "FO-14305",
         "Frank Olsen",
         "215.59"
        ],
        [
         "SC-20440",
         "Shaun Chance",
         "379.57"
        ],
        [
         "RE-19450",
         "Richard Eichhorn",
         "209.25"
        ],
        [
         "ML-17410",
         "Maris LaWare",
         "-76.47"
        ],
        [
         "NG-18355",
         "Nat Gilpin",
         "313.63"
        ],
        [
         "BP-11095",
         "Bart Pistole",
         "433.59"
        ],
        [
         "CD-12790",
         "Cynthia Delaney",
         "389.45"
        ],
        [
         "EB-14110",
         "Eugene Barchas",
         "184.76"
        ],
        [
         "RP-19855",
         "Roy Phan",
         "594.78"
        ],
        [
         "MZ-17515",
         "Mary Zewe",
         "787.15"
        ],
        [
         "SH-20635",
         "Stefanie Holloman",
         "260.63"
        ],
        [
         "KF-16285",
         "Karen Ferguson",
         "1660.41"
        ],
        [
         "JO-15145",
         "Jack OBriant",
         "581.44"
        ],
        [
         "CC-12550",
         "Clay Cheatham",
         "34.30"
        ],
        [
         "RA-19915",
         "Russell Applegate",
         "305.29"
        ],
        [
         "SV-20935",
         "Susan Vittorini",
         "106.62"
        ],
        [
         "CL-12700",
         "Craig Leslie",
         "229.00"
        ],
        [
         "JE-15610",
         "Jim Epp",
         "1623.11"
        ],
        [
         "SP-20620",
         "Stefania Perrino",
         "-270.19"
        ],
        [
         "LC-16960",
         "Lindsay Castell",
         "299.47"
        ],
        [
         "EJ-14155",
         "Eva Jacobs",
         "451.88"
        ],
        [
         "MJ-17740",
         "Max Jones",
         "1054.54"
        ],
        [
         "BM-11650",
         "Brian Moss",
         "2198.83"
        ],
        [
         "AD-10180",
         "Alan Dominguez",
         "1869.92"
        ],
        [
         "CM-12385",
         "Christopher Martinez",
         "3900.04"
        ],
        [
         "PH-18790",
         "Patricia Hirasaki",
         "47.89"
        ],
        [
         "JP-15520",
         "Jeremy Pistek",
         "757.19"
        ],
        [
         "SW-20755",
         "Steven Ward",
         "68.24"
        ],
        [
         "MD-17350",
         "Maribeth Dona",
         "-241.23"
        ],
        [
         "SM-20320",
         "Sean Miller",
         "-1980.98"
        ],
        [
         "TS-21655",
         "Trudy Schmidt",
         "220.73"
        ],
        [
         "AT-10735",
         "Annie Thurman",
         "974.57"
        ],
        [
         "HR-14830",
         "Harold Ryan",
         "1197.37"
        ],
        [
         "JE-16165",
         "Justin Ellison",
         "790.02"
        ],
        [
         "LB-16735",
         "Larry Blacks",
         "18.65"
        ],
        [
         "KN-16450",
         "Kean Nguyen",
         "113.82"
        ],
        [
         "VW-21775",
         "Victoria Wilson",
         "-874.66"
        ],
        [
         "FM-14290",
         "Frank Merwin",
         "197.89"
        ],
        [
         "RA-19285",
         "Ralph Arnett",
         "545.72"
        ],
        [
         "JG-15805",
         "John Grady",
         "206.10"
        ],
        [
         "SN-20560",
         "Skye Norling",
         "-716.84"
        ],
        [
         "AH-10465",
         "Amy Hunt",
         "-195.99"
        ],
        [
         "FH-14350",
         "Fred Harton",
         "706.05"
        ],
        [
         "EB-13975",
         "Erica Bern",
         "162.89"
        ],
        [
         "LD-17005",
         "Lisa DeCherney",
         "556.77"
        ],
        [
         "JP-16135",
         "Julie Prescott",
         "309.30"
        ],
        [
         "PM-19135",
         "Peter McVee",
         "526.76"
        ],
        [
         "BD-11560",
         "Brendan Dodson",
         "116.71"
        ],
        [
         "NP-18685",
         "Nora Pelletier",
         "514.50"
        ],
        [
         "GT-14710",
         "Greg Tran",
         "2163.29"
        ],
        [
         "LS-17245",
         "Lynn Smith",
         "347.97"
        ],
        [
         "EM-14095",
         "Eudokia Martin",
         "240.23"
        ],
        [
         "AY-10555",
         "Andy Yotov",
         "103.34"
        ],
        [
         "LO-17170",
         "Lori Olson",
         "150.16"
        ],
        [
         "BE-11335",
         "Bil Eplett",
         "1487.79"
        ],
        [
         "CV-12295",
         "Christina VanderZanden",
         "493.09"
        ],
        [
         "TT-21070",
         "Ted Trevino",
         "752.17"
        ],
        [
         "RM-19675",
         "Robert Marley",
         "1902.55"
        ],
        [
         "SC-20020",
         "Sam Craven",
         "-317.51"
        ],
        [
         "AS-10285",
         "Alejandro Savely",
         "354.63"
        ],
        [
         "TD-20995",
         "Tamara Dahlen",
         "88.64"
        ],
        [
         "DG-13300",
         "Deirdre Greer",
         "562.77"
        ],
        [
         "NS-18505",
         "Neola Schneider",
         "-12.31"
        ],
        [
         "MH-17455",
         "Mark Hamilton",
         "485.28"
        ],
        [
         "MG-17650",
         "Matthew Grinstein",
         "341.91"
        ],
        [
         "GA-14725",
         "Guy Armstrong",
         "136.49"
        ],
        [
         "DD-13570",
         "Dorothy Dickinson",
         "36.44"
        ],
        [
         "CS-12490",
         "Cindy Schnelling",
         "-302.86"
        ],
        [
         "JD-16060",
         "Julia Dunbar",
         "111.12"
        ],
        [
         "LC-16870",
         "NA",
         "-188.02"
        ],
        [
         "TB-21190",
         "Thomas Brumley",
         "179.01"
        ],
        [
         "RD-19810",
         "Ross DeVincentis",
         "318.45"
        ],
        [
         "WB-21850",
         "William Brown",
         "714.52"
        ],
        [
         "KE-16420",
         "Kat rina Edelman",
         "397.89"
        ],
        [
         "HK-14890",
         "Heather Kirkland",
         "956.97"
        ],
        [
         "JK-15730",
         "Joe Kamberova",
         "55.00"
        ],
        [
         "AA-10480",
         "Andrew Allen",
         "436.08"
        ],
        [
         "MA-17995",
         "Michelle Arnett",
         "280.51"
        ],
        [
         "KL-16555",
         "Kelly Lampkin",
         "-182.79"
        ],
        [
         "FH-14275",
         "Frank Hawley",
         "13400.33"
        ],
        [
         "BD-11605",
         "Brian Dahlen",
         "634.83"
        ],
        [
         "LS-17200",
         "Luke Schmidt",
         "243.82"
        ],
        [
         "CR-12820",
         "Cyra Reiten",
         "83.27"
        ],
        [
         "PF-19120",
         "Peter Fuller",
         "-614.02"
        ],
        [
         "JL-15505",
         "Jeremy Lonsdale",
         "592.04"
        ],
        [
         "CA-12775",
         "Cynthia Arntzen",
         "203.73"
        ],
        [
         "CA-12310",
         "Christine Abelman",
         "246.86"
        ],
        [
         "TH-21235",
         "Tiffany House",
         "92.55"
        ],
        [
         "TS-21370",
         "Todd Sumrall",
         "2371.73"
        ],
        [
         "DK-12985",
         "Darren Koutras",
         "-107.45"
        ],
        [
         "AH-10585",
         "Angele Hood",
         "83.97"
        ],
        [
         "JW-15220",
         "Jane Waco",
         "2174.05"
        ],
        [
         "MA-17560",
         "Matt Abelman",
         "1240.56"
        ],
        [
         "JH-15430",
         "Jennifer Halladay",
         "-24.06"
        ],
        [
         "HF-14995",
         "Herbert Flentye",
         "-14.35"
        ],
        [
         "PS-18760",
         "Pamela Stobb",
         "-134.44"
        ],
        [
         "SS-20140",
         "Saphhira Shifley",
         "332.03"
        ],
        [
         "SG-20470",
         "Sheri Gordon",
         "-119.01"
        ],
        [
         "BP-11185",
         "Ben Peterman",
         "363.61"
        ],
        [
         "JH-16180",
         "Justin Hirsh",
         "-96.96"
        ],
        [
         "RA-19885",
         "Ruben Ausman",
         "1292.81"
        ],
        [
         "CP-12340",
         "Christine Phan",
         "-1850.31"
        ],
        [
         "CM-11935",
         "Carlos Meador",
         "-43.73"
        ],
        [
         "TB-21055",
         "Ted Butterfield",
         "389.76"
        ],
        [
         "DO-13435",
         "Denny Ordway",
         "-38.33"
        ],
        [
         "IL-15100",
         "Ivan Liston",
         "1121.83"
        ],
        [
         "DK-13090",
         "Dave Kipp",
         "536.39"
        ],
        [
         "LR-16915",
         "Lena Radford",
         "535.29"
        ],
        [
         "CS-12400",
         "Christopher Schild",
         "-342.80"
        ],
        [
         "BB-10990",
         "Barry Blumstein",
         "11.57"
        ],
        [
         "MY-17380",
         "Maribeth Yedwab",
         "319.14"
        ],
        [
         "CC-12430",
         "Chuck Clark",
         "424.68"
        ],
        [
         "PB-18805",
         "Patrick Bzostek",
         "228.77"
        ],
        [
         "MC-17845",
         "Michael Chen",
         "698.42"
        ],
        [
         "LL-16840",
         "Lauren Leatherbury",
         "560.51"
        ],
        [
         "MK-18160",
         "Mike Kennedy",
         "227.43"
        ],
        [
         "BT-11440",
         "Bobby Trafton",
         "-77.27"
        ],
        [
         "PJ-18835",
         "Patrick Jones",
         "442.14"
        ],
        [
         "RS-19765",
         "Roland Schwarz",
         "1206.39"
        ],
        [
         "KC-16675",
         "Kimberly Carter",
         "157.24"
        ],
        [
         "MG-17695",
         "Maureen Gnade",
         "-398.80"
        ],
        [
         "DW-13585",
         "Dorothy Wardle",
         "-266.90"
        ],
        [
         "TB-21625",
         "Trudy Brown",
         "379.81"
        ],
        [
         "SU-20665",
         "Stephanie Ulpright",
         "763.70"
        ],
        [
         "NB-18655",
         "Nona Balk",
         "117.64"
        ],
        [
         "GD-14590",
         "Giulietta Dortch",
         "230.60"
        ],
        [
         "SW-20245",
         "Scot Wooten",
         "-19.58"
        ],
        [
         "TN-21040",
         "Tanja Norvell",
         "-692.05"
        ],
        [
         "JH-15910",
         "Jonathan Howell",
         "-13.55"
        ],
        [
         "HL-15040",
         "Hunter Lopez",
         "5622.43"
        ],
        [
         "JB-16000",
         "Joy Bell",
         "127.06"
        ],
        [
         "JK-16120",
         "Julie Kriz",
         "122.66"
        ],
        [
         "CC-12100",
         "Chad Cunningham",
         "208.60"
        ],
        [
         "CD-11920",
         "Carlos Daly",
         "426.21"
        ],
        [
         "ND-18460",
         "Neil Ducich",
         "443.34"
        ],
        [
         "AB-10165",
         "Alan Barnes",
         "220.61"
        ],
        [
         "DJ-13630",
         "Doug Jacobs",
         "731.57"
        ],
        [
         "GH-14485",
         "Gene Hale",
         "-95.49"
        ],
        [
         "TC-21475",
         "Tony Chapman",
         "119.13"
        ],
        [
         "FM-14215",
         "Filia McAdams",
         "249.95"
        ],
        [
         "CG-12520",
         "Claire Gute",
         "169.93"
        ],
        [
         "CD-11980",
         "Carol Darley",
         "-206.71"
        ],
        [
         "RM-19750",
         "Roland Murray",
         "28.68"
        ],
        [
         "BT-11680",
         "Brian Thompson",
         "447.81"
        ],
        [
         "SF-20200",
         "Sarah Foster",
         "287.00"
        ],
        [
         "JE-15475",
         "Jeremy Ellison",
         "276.45"
        ],
        [
         "TG-21640",
         "Trudy Glocke",
         "365.12"
        ],
        [
         "SB-20290",
         "Sean Braxton",
         "-2082.75"
        ],
        [
         "PG-18895",
         "Paul Gonzalez",
         "334.97"
        ],
        [
         "RD-19660",
         "Robert Dilbeck",
         "835.77"
        ],
        [
         "HA-14905",
         "Helen Abelman",
         "270.86"
        ],
        [
         "AB-10600",
         "Ann Blume",
         "-275.28"
        ],
        [
         "EP-13915",
         "Emily Phan",
         "145.14"
        ],
        [
         "HW-14935",
         "Helen Waerman",
         "2164.17"
        ],
        [
         "NC-18625",
         "Noah Childs",
         "-358.91"
        ],
        [
         "RB-19330",
         "Randy Bradley",
         "-164.41"
        ],
        [
         "SS-20590",
         "Sonia Sunley",
         "135.91"
        ],
        [
         "CS-12505",
         "Cindy Stewart",
         "-6626.24"
        ],
        [
         "KD-16615",
         "NA",
         "539.72"
        ],
        [
         "QJ-19255",
         "Quincy Jones",
         "1203.69"
        ],
        [
         "PT-19090",
         "Pete Takahito",
         "-20.05"
        ],
        [
         "MG-17680",
         "Maureen Gastineau",
         "25.89"
        ],
        [
         "RB-19360",
         "Raymond Buch",
         "6976.36"
        ],
        [
         "TZ-21580",
         "Tracy Zic",
         "224.90"
        ],
        [
         "OT-18730",
         "Olvera Toch",
         "-925.56"
        ],
        [
         "BE-11410",
         "Bobby Elias",
         "755.91"
        ],
        [
         "MS-17710",
         "Maurice Satty",
         "247.43"
        ],
        [
         "MS-17365",
         "Maribeth chnelling",
         "844.95"
        ],
        [
         "AG-10495",
         "Andrew Gjertsen",
         "295.84"
        ],
        [
         "MC-17605",
         "Matt Connell",
         "195.45"
        ],
        [
         "BW-11200",
         "Ben Wallace",
         "247.00"
        ],
        [
         "AI-10855",
         "Arianne Irving",
         "867.87"
        ],
        [
         "LS-16975",
         "Lindsay Shagiari",
         "262.27"
        ],
        [
         "SG-20605",
         "Speros Goranitis",
         "463.27"
        ],
        [
         "VM-21835",
         "Vivian Mathis",
         "116.64"
        ],
        [
         "VM-21685",
         "Valerie Mitchum",
         "513.63"
        ],
        [
         "LC-17140",
         "Logan Currie",
         "230.53"
        ],
        [
         "MW-18220",
         "Mitch Webber",
         "1237.92"
        ],
        [
         "BD-11725",
         "Bruce Degenhardt",
         "334.47"
        ],
        [
         "AB-10150",
         "Aimee Bixby",
         "313.66"
        ],
        [
         "NG-18430",
         "Nathan Gelder",
         "217.10"
        ],
        [
         "JC-16105",
         "Julie Creighton",
         "201.60"
        ],
        [
         "VP-21730",
         "Victor Preis",
         "205.39"
        ],
        [
         "NP-18670",
         "Nra Paige",
         "513.15"
        ],
        [
         "KM-16375",
         "Katherine Murray",
         "973.37"
        ],
        [
         "RP-19390",
         "Resi Plking",
         "464.96"
        ],
        [
         "ED-13885",
         "NA",
         "670.45"
        ],
        [
         "MM-17920",
         "Michael Moore",
         "81.46"
        ],
        [
         "EH-14125",
         "Eugene Hildebrand",
         "96.21"
        ],
        [
         "JS-15685",
         "Jim Sink",
         "-54.86"
        ],
        [
         "IM-15055",
         "Ionia McGrath",
         "975.78"
        ],
        [
         "RD-19930",
         "Russell DAscenzo",
         "35.04"
        ],
        [
         "RE-19405",
         "Ricardo Emerson",
         "6.05"
        ],
        [
         "KS-16300",
         "Karen Seio",
         "0.11"
        ],
        [
         "TS-21205",
         "Thomas Seio",
         "862.94"
        ],
        [
         "FG-14260",
         "Frank Gastineau",
         "394.95"
        ],
        [
         "CS-12130",
         "Chad Sievert",
         "143.83"
        ],
        [
         "SS-20515",
         "Shirley Schmidt",
         "199.93"
        ],
        [
         "MH-17620",
         "Matt Hagelstein",
         "122.35"
        ],
        [
         "TC-20980",
         "Tamara Chand",
         "8981.32"
        ]
       ],
       "datasetInfos": [],
       "dbfsResultPath": null,
       "isJsonSchema": true,
       "metadata": {},
       "overflow": false,
       "plotOptions": {
        "customPlotOptions": {},
        "displayType": "table",
        "pivotAggregation": null,
        "pivotColumns": null,
        "xColumns": null,
        "yColumns": null
       },
       "removedWidgets": [],
       "schema": [
        {
         "metadata": "{}",
         "name": "Customer_ID",
         "type": "\"string\""
        },
        {
         "metadata": "{}",
         "name": "Customer_Name",
         "type": "\"string\""
        },
        {
         "metadata": "{}",
         "name": "Total_Profit",
         "type": "\"decimal(20,2)\""
        }
       ],
       "type": "table"
      }
     },
     "output_type": "display_data"
    }
   ],
   "source": [
    "%sql\n",
    "select \n",
    "Customer_ID,\n",
    "Customer_Name,\n",
    "sum(profit) as Total_Profit\n",
    "from finance_data.db_data.sales_mart\n",
    "group by Customer_ID, Customer_Name"
   ]
  },
  {
   "cell_type": "code",
   "execution_count": null,
   "metadata": {
    "application/vnd.databricks.v1+cell": {
     "cellMetadata": {
      "byteLimit": 2048000,
      "implicitDf": true,
      "rowLimit": 10000
     },
     "inputWidgets": {},
     "nuid": "499db83b-26f6-4240-ba95-eafc6ddb0f22",
     "showTitle": false,
     "title": ""
    }
   },
   "outputs": [
    {
     "data": {
      "text/html": [
       "<style scoped>\n",
       "  .table-result-container {\n",
       "    max-height: 300px;\n",
       "    overflow: auto;\n",
       "  }\n",
       "  table, th, td {\n",
       "    border: 1px solid black;\n",
       "    border-collapse: collapse;\n",
       "  }\n",
       "  th, td {\n",
       "    padding: 5px;\n",
       "  }\n",
       "  th {\n",
       "    text-align: left;\n",
       "  }\n",
       "</style><div class='table-result-container'><table class='table-result'><thead style='background-color: white'><tr><th>Customer_ID</th><th>Customer_Name</th><th>Year</th><th>Total_Profit</th></tr></thead><tbody><tr><td>MO-17800</td><td>Meg OConnel</td><td>2016</td><td>5.50</td></tr><tr><td>CC-12475</td><td>Cindy Chapman</td><td>2017</td><td>40.35</td></tr><tr><td>MP-18175</td><td>Mike Pelletier</td><td>2014</td><td>-125.29</td></tr><tr><td>TH-21115</td><td>Thea Hudgings</td><td>2017</td><td>-181.36</td></tr><tr><td>JL-15235</td><td>Janet Lee</td><td>2017</td><td>88.19</td></tr><tr><td>VW-21775</td><td>Victoria Wilson</td><td>2015</td><td>-1186.41</td></tr><tr><td>RE-19450</td><td>Richard Eichhorn</td><td>2015</td><td>211.06</td></tr><tr><td>ND-18370</td><td>Natalie DeCherney</td><td>2014</td><td>47.61</td></tr><tr><td>VF-21715</td><td>Vicky Freymann</td><td>2017</td><td>62.48</td></tr><tr><td>JG-15805</td><td>John Grady</td><td>2015</td><td>8.69</td></tr><tr><td>AB-10105</td><td>Adrian Barton</td><td>2016</td><td>4748.27</td></tr><tr><td>AR-10510</td><td>Andrew Roberts</td><td>2014</td><td>-8.41</td></tr><tr><td>AP-10915</td><td>Arthur Prichep</td><td>2017</td><td>-179.86</td></tr><tr><td>MP-18175</td><td>Mike Pelletier</td><td>2015</td><td>526.73</td></tr><tr><td>AC-10615</td><td>Ann Chong</td><td>2017</td><td>330.91</td></tr><tr><td>CD-11980</td><td>Carol Darley</td><td>2017</td><td>-214.46</td></tr><tr><td>PB-18805</td><td>Patrick Bzostek</td><td>2016</td><td>95.85</td></tr><tr><td>FM-14380</td><td>Fred McMath</td><td>2016</td><td>134.91</td></tr><tr><td>MA-17560</td><td>Matt Abelman</td><td>2016</td><td>28.38</td></tr><tr><td>PK-19075</td><td>Pete Kriz</td><td>2014</td><td>13.32</td></tr><tr><td>AB-10255</td><td>Alejandro Ballentine</td><td>2014</td><td>6.49</td></tr><tr><td>AG-10675</td><td>Anna Gayman</td><td>2016</td><td>-281.56</td></tr><tr><td>TC-21475</td><td>Tony Chapman</td><td>2016</td><td>32.39</td></tr><tr><td>JE-15715</td><td>Joe Elijah</td><td>2014</td><td>-59.80</td></tr><tr><td>KH-16360</td><td>Katherine Hughes</td><td>2017</td><td>502.51</td></tr><tr><td>AA-10480</td><td>Andrew Allen</td><td>2016</td><td>420.75</td></tr><tr><td>VM-21685</td><td>Valerie Mitchum</td><td>2016</td><td>371.70</td></tr><tr><td>MS-17980</td><td>Michael Stewart</td><td>2017</td><td>-20.38</td></tr><tr><td>LL-16840</td><td>Lauren Leatherbury</td><td>2015</td><td>404.91</td></tr><tr><td>NC-18625</td><td>Noah Childs</td><td>2015</td><td>16.85</td></tr><tr><td>JM-15535</td><td>Jessica Myrick</td><td>2014</td><td>58.99</td></tr><tr><td>GM-14500</td><td>Gene McClure</td><td>2016</td><td>17.57</td></tr><tr><td>DB-13405</td><td>Denny Blanton</td><td>2017</td><td>172.59</td></tr><tr><td>MP-17965</td><td>Michael Paige</td><td>2017</td><td>116.45</td></tr><tr><td>KT-16465</td><td>Kean Takahito</td><td>2015</td><td>28.81</td></tr><tr><td>JE-15610</td><td>Jim Epp</td><td>2016</td><td>22.24</td></tr><tr><td>CC-12670</td><td>Craig Carreira</td><td>2015</td><td>8.57</td></tr><tr><td>EM-14140</td><td>Eugene Moren</td><td>2016</td><td>968.57</td></tr><tr><td>MC-17425</td><td>Mark Cousins</td><td>2016</td><td>1610.20</td></tr><tr><td>FM-14215</td><td>Filia McAdams</td><td>2016</td><td>45.93</td></tr><tr><td>AH-10210</td><td>Alan Hwang</td><td>2015</td><td>269.15</td></tr><tr><td>TP-21415</td><td>Tom Prescott</td><td>2017</td><td>-1060.79</td></tr><tr><td>JM-16195</td><td>Justin MacKendrick</td><td>2017</td><td>235.11</td></tr><tr><td>BP-11230</td><td>Benjamin Patterson</td><td>2014</td><td>27.56</td></tr><tr><td>RD-19585</td><td>Rob Dowd</td><td>2014</td><td>341.38</td></tr><tr><td>LC-16885</td><td>Lena Creighton</td><td>2014</td><td>201.07</td></tr><tr><td>RB-19795</td><td>Ross Baird</td><td>2014</td><td>7.49</td></tr><tr><td>BM-11650</td><td>Brian Moss</td><td>2017</td><td>1937.73</td></tr><tr><td>TB-21595</td><td>Troy Blackwell</td><td>2014</td><td>6.75</td></tr><tr><td>KB-16405</td><td>Kat rina Bavinger</td><td>2017</td><td>230.90</td></tr><tr><td>PF-19225</td><td>Phillip Flathmann</td><td>2017</td><td>78.02</td></tr><tr><td>JB-15400</td><td>Jennifer Braxton</td><td>2015</td><td>128.05</td></tr><tr><td>MC-17605</td><td>Matt Connell</td><td>2015</td><td>13.08</td></tr><tr><td>ND-18460</td><td>Neil Ducich</td><td>2015</td><td>18.66</td></tr><tr><td>CS-12490</td><td>Cindy Schnelling</td><td>2016</td><td>-244.73</td></tr><tr><td>JM-15265</td><td>Janet Molinari</td><td>2017</td><td>149.28</td></tr><tr><td>HE-14800</td><td>Harold Engle</td><td>2016</td><td>112.71</td></tr><tr><td>TH-21550</td><td>Tracy Hopkins</td><td>2014</td><td>26.63</td></tr><tr><td>MC-17575</td><td>Matt Collins</td><td>2014</td><td>-6.34</td></tr><tr><td>JD-16015</td><td>Joy Daniels</td><td>2014</td><td>-10.34</td></tr><tr><td>DB-13210</td><td>Dean Braden</td><td>2017</td><td>277.97</td></tr><tr><td>BT-11530</td><td>Bradley Talbott</td><td>2016</td><td>-4.38</td></tr><tr><td>SA-20830</td><td>Sue Ann Reed</td><td>2017</td><td>177.85</td></tr><tr><td>JM-15250</td><td>Janet Martin</td><td>2016</td><td>155.23</td></tr><tr><td>GA-14725</td><td>Guy Armstrong</td><td>2014</td><td>101.45</td></tr><tr><td>ES-14020</td><td>Erica Smith</td><td>2015</td><td>44.05</td></tr><tr><td>AG-10390</td><td>Allen Goldenen</td><td>2016</td><td>-7.00</td></tr><tr><td>SM-20905</td><td>Susan MacKendrick</td><td>2016</td><td>-16510.34</td></tr><tr><td>JL-15175</td><td>James Lanier</td><td>2014</td><td>59.49</td></tr><tr><td>SC-20095</td><td>Sanjit Chand</td><td>2017</td><td>5.84</td></tr><tr><td>MG-17875</td><td>Michael Grace</td><td>2016</td><td>62.24</td></tr><tr><td>ND-18370</td><td>Natalie DeCherney</td><td>2015</td><td>330.80</td></tr><tr><td>SC-20725</td><td>Steven Cartwright</td><td>2016</td><td>273.18</td></tr><tr><td>JD-15790</td><td>John Dryer</td><td>2015</td><td>-313.52</td></tr><tr><td>MC-17275</td><td>Marc Crier</td><td>2017</td><td>7.22</td></tr><tr><td>BS-11380</td><td>Bil Stewart</td><td>2014</td><td>3.95</td></tr><tr><td>KF-16285</td><td>Karen Ferguson</td><td>2017</td><td>1206.84</td></tr><tr><td>BF-11080</td><td>Bart Folk</td><td>2017</td><td>107.03</td></tr><tr><td>SJ-20125</td><td>Sanjit Jacobs</td><td>2017</td><td>-56.58</td></tr><tr><td>CL-12700</td><td>Craig Leslie</td><td>2016</td><td>64.09</td></tr><tr><td>LO-17170</td><td>Lori Olson</td><td>2017</td><td>115.71</td></tr><tr><td>DM-12955</td><td>Dario Medina</td><td>2015</td><td>42.96</td></tr><tr><td>HJ-14875</td><td>Heather Jas</td><td>2017</td><td>13.97</td></tr><tr><td>JJ-15445</td><td>Jennifer Jackson</td><td>2015</td><td>181.85</td></tr><tr><td>EA-14035</td><td>Erin Ashbrook</td><td>2017</td><td>21.83</td></tr><tr><td>YC-21895</td><td>Yoseph Carroll</td><td>2015</td><td>7.07</td></tr><tr><td>JC-16105</td><td>Julie Creighton</td><td>2015</td><td>62.81</td></tr><tr><td>JG-15160</td><td>James Galang</td><td>2014</td><td>378.39</td></tr><tr><td>JB-15400</td><td>Jennifer Braxton</td><td>2017</td><td>251.19</td></tr><tr><td>KL-16645</td><td>Ken Lonsdale</td><td>2014</td><td>395.60</td></tr><tr><td>BF-11170</td><td>Ben Ferrer</td><td>2016</td><td>697.47</td></tr><tr><td>DL-13315</td><td>Delfina Latchford</td><td>2016</td><td>206.58</td></tr><tr><td>AT-10435</td><td>Alyssa Tate</td><td>2016</td><td>6.43</td></tr><tr><td>AT-10435</td><td>Alyssa Tate</td><td>2017</td><td>96.13</td></tr><tr><td>TC-20980</td><td>Tamara Chand</td><td>2014</td><td>178.65</td></tr><tr><td>TS-21085</td><td>Thais Sissman</td><td>2017</td><td>-1.97</td></tr><tr><td>TH-21235</td><td>Tiffany House</td><td>2016</td><td>70.78</td></tr><tr><td>AR-10825</td><td>Anthony Rawles</td><td>2017</td><td>105.07</td></tr><tr><td>FO-14305</td><td>Frank Olsen</td><td>2015</td><td>18.99</td></tr><tr><td>JE-15715</td><td>Joe Elijah</td><td>2016</td><td>1210.66</td></tr><tr><td>JB-16045</td><td>Julia Barnett</td><td>2016</td><td>84.97</td></tr><tr><td>AG-10270</td><td>Alejandro Grove</td><td>2016</td><td>696.30</td></tr><tr><td>CW-11905</td><td>Carl Weiss</td><td>2014</td><td>17.16</td></tr><tr><td>TC-21535</td><td>Tracy Collins</td><td>2017</td><td>22.41</td></tr><tr><td>MY-17380</td><td>Maribeth Yedwab</td><td>2015</td><td>2.65</td></tr><tr><td>JG-15805</td><td>John Grady</td><td>2016</td><td>91.13</td></tr><tr><td>SH-20395</td><td>ShahiHopkins</td><td>2015</td><td>2.24</td></tr><tr><td>SH-20395</td><td>ShahiHopkins</td><td>2016</td><td>-1.48</td></tr><tr><td>LP-17095</td><td>Liz Preis</td><td>2016</td><td>79.36</td></tr><tr><td>AG-10765</td><td>Anthony Garverick</td><td>2015</td><td>61.71</td></tr><tr><td>DS-13180</td><td>David Smith</td><td>2017</td><td>-29.56</td></tr><tr><td>DP-13000</td><td>Darren Powers</td><td>2015</td><td>260.74</td></tr><tr><td>MW-18220</td><td>Mitch Webber</td><td>2017</td><td>8.49</td></tr><tr><td>SF-20065</td><td>Sandra Flanagan</td><td>2014</td><td>98.59</td></tr><tr><td>BT-11485</td><td>Brad Thomas</td><td>2015</td><td>117.39</td></tr><tr><td>GT-14635</td><td>Grant Thornton</td><td>2014</td><td>-292.19</td></tr><tr><td>NC-18340</td><td>Nat Carroll</td><td>2014</td><td>11.16</td></tr><tr><td>MH-17620</td><td>Matt Hagelstein</td><td>2017</td><td>108.05</td></tr><tr><td>DH-13675</td><td>Duane Huffman</td><td>2014</td><td>87.79</td></tr><tr><td>JE-15610</td><td>Jim Epp</td><td>2017</td><td>1703.57</td></tr><tr><td>JH-15430</td><td>Jennifer Halladay</td><td>2017</td><td>-42.85</td></tr><tr><td>CP-12340</td><td>Christine Phan</td><td>2017</td><td>-17.02</td></tr><tr><td>SH-19975</td><td>NA</td><td>2017</td><td>129.85</td></tr><tr><td>HP-14815</td><td>Harold Pawlan</td><td>2017</td><td>293.88</td></tr><tr><td>GM-14695</td><td>Greg Maxwell</td><td>2016</td><td>175.36</td></tr><tr><td>AJ-10795</td><td>Anthony Johnson</td><td>2017</td><td>255.24</td></tr><tr><td>MC-17575</td><td>Matt Collins</td><td>2016</td><td>15.59</td></tr><tr><td>MO-17800</td><td>Meg OConnel</td><td>2015</td><td>-16.97</td></tr><tr><td>SM-20005</td><td>Sally Matthias</td><td>2014</td><td>51.25</td></tr><tr><td>SP-20620</td><td>Stefania Perrino</td><td>2015</td><td>-0.62</td></tr><tr><td>LF-17185</td><td>Luke Foster</td><td>2014</td><td>-3802.08</td></tr><tr><td>MG-17650</td><td>Matthew Grinstein</td><td>2016</td><td>204.85</td></tr><tr><td>CD-12790</td><td>Cynthia Delaney</td><td>2016</td><td>346.71</td></tr><tr><td>AS-10240</td><td>Alan Shonely</td><td>2017</td><td>-31.92</td></tr><tr><td>KD-16495</td><td>Keith Dawkins</td><td>2017</td><td>134.84</td></tr><tr><td>CM-12715</td><td>Craig M olinari</td><td>2014</td><td>206.22</td></tr><tr><td>SC-20305</td><td>Sean Christensen</td><td>2015</td><td>0.00</td></tr><tr><td>JC-15340</td><td>Jasper Cacioppo</td><td>2017</td><td>2.40</td></tr><tr><td>CS-12250</td><td>Chris Selesnick</td><td>2015</td><td>95.26</td></tr><tr><td>NC-18340</td><td>Nat Carroll</td><td>2015</td><td>326.28</td></tr><tr><td>DP-13105</td><td>Dave Poirier</td><td>2016</td><td>486.12</td></tr><tr><td>BB-10990</td><td>Barry Blumstein</td><td>2017</td><td>6.92</td></tr><tr><td>AR-10510</td><td>Andrew Roberts</td><td>2017</td><td>5.18</td></tr><tr><td>JH-16180</td><td>Justin Hirsh</td><td>2015</td><td>106.41</td></tr><tr><td>Dp-13240</td><td>Dean perceR</td><td>2014</td><td>100.92</td></tr><tr><td>AS-10240</td><td>Alan Shonely</td><td>2015</td><td>5.08</td></tr><tr><td>EM-14200</td><td>Evan Minnotte</td><td>2015</td><td>4.00</td></tr><tr><td>NP-18670</td><td>Nra Paige</td><td>2017</td><td>186.21</td></tr><tr><td>HA-14920</td><td>Helen Andreada</td><td>2016</td><td>-55.04</td></tr><tr><td>JL-15130</td><td>Jack Lebron</td><td>2014</td><td>9.87</td></tr><tr><td>RS-19765</td><td>Roland Schwarz</td><td>2014</td><td>552.00</td></tr><tr><td>FH-14365</td><td>Fred Hopkins</td><td>2015</td><td>2139.74</td></tr><tr><td>MS-17710</td><td>Maurice Satty</td><td>2015</td><td>299.80</td></tr><tr><td>DM-12955</td><td>Dario Medina</td><td>2017</td><td>7.14</td></tr><tr><td>KM-16375</td><td>Katherine Murray</td><td>2016</td><td>128.90</td></tr><tr><td>CV-12805</td><td>Cynthia Voltz</td><td>2016</td><td>-35.39</td></tr><tr><td>AS-10225</td><td>Alan Schoenberger</td><td>2016</td><td>-6.21</td></tr><tr><td>EM-14065</td><td>ErinMull</td><td>2016</td><td>-4.79</td></tr><tr><td>GB-14530</td><td>Ge orge Bell</td><td>2017</td><td>44.29</td></tr><tr><td>SC-20380</td><td>ShahiCollister</td><td>2015</td><td>52.91</td></tr><tr><td>BG-11740</td><td>Bruce Geld</td><td>2017</td><td>41.76</td></tr><tr><td>AB-10165</td><td>Alan Barnes</td><td>2017</td><td>141.73</td></tr><tr><td>LP-17080</td><td>Liz Pelletier</td><td>2017</td><td>87.89</td></tr><tr><td>CY-12745</td><td>Craig Yedwab</td><td>2016</td><td>49.73</td></tr><tr><td>RD-19900</td><td>Ruben Dartt</td><td>2015</td><td>9.09</td></tr><tr><td>CB-12025</td><td>Cassandra Brandow</td><td>2014</td><td>5.27</td></tr><tr><td>HJ-14875</td><td>Heather Jas</td><td>2016</td><td>55.99</td></tr><tr><td>BG-11695</td><td>Brooke Gillingham</td><td>2016</td><td>57.92</td></tr><tr><td>BM-11575</td><td>Brendan Murry</td><td>2015</td><td>37.33</td></tr><tr><td>HD-14785</td><td>Harold Dahlen</td><td>2014</td><td>-167.32</td></tr><tr><td>KL-16555</td><td>Kelly Lampkin</td><td>2014</td><td>-69.25</td></tr><tr><td>TB-21055</td><td>Ted Butterfield</td><td>2016</td><td>267.71</td></tr><tr><td>CG-12520</td><td>Claire Gute</td><td>2015</td><td>-93.38</td></tr><tr><td>SC-20680</td><td>Steve Carroll</td><td>2015</td><td>213.70</td></tr><tr><td>SV-20935</td><td>Susan Vittorini</td><td>2017</td><td>136.82</td></tr><tr><td>MZ-17335</td><td>Maria Zettner</td><td>2016</td><td>0.16</td></tr><tr><td>AB-10165</td><td>Alan Barnes</td><td>2015</td><td>79.95</td></tr><tr><td>AH-10585</td><td>Angele Hood</td><td>2014</td><td>41.60</td></tr><tr><td>TT-21220</td><td>Thomas Thornton</td><td>2017</td><td>147.47</td></tr><tr><td>YC-21895</td><td>Yoseph Carroll</td><td>2017</td><td>37.53</td></tr><tr><td>JK-15370</td><td>Jay Kimmel</td><td>2016</td><td>83.50</td></tr><tr><td>RD-19720</td><td>Roger Demir</td><td>2016</td><td>31.20</td></tr><tr><td>ZC-21910</td><td>Zuschuss Carroll</td><td>2014</td><td>328.83</td></tr><tr><td>CS-12250</td><td>Chris Selesnick</td><td>2014</td><td>446.75</td></tr><tr><td>BE-11455</td><td>Brad Eason</td><td>2016</td><td>71.07</td></tr><tr><td>RR-19525</td><td>Rick Reed</td><td>2017</td><td>99.94</td></tr><tr><td>LR-16915</td><td>Lena Radford</td><td>2015</td><td>30.79</td></tr><tr><td>DF-13135</td><td>David Flashing</td><td>2016</td><td>-397.13</td></tr><tr><td>HG-14845</td><td>Harry Greene</td><td>2017</td><td>127.42</td></tr><tr><td>JK-16090</td><td>Juliana Krohn</td><td>2017</td><td>357.77</td></tr><tr><td>BD-11620</td><td>Brian DeCherney</td><td>2014</td><td>108.74</td></tr><tr><td>LD-17005</td><td>Lisa DeCherney</td><td>2014</td><td>445.51</td></tr><tr><td>CW-11905</td><td>Carl Weiss</td><td>2017</td><td>309.80</td></tr><tr><td>RB-19435</td><td>Richard Bierner</td><td>2014</td><td>65.12</td></tr><tr><td>DR-12940</td><td>Daniel Raglin</td><td>2015</td><td>296.67</td></tr><tr><td>PM-19135</td><td>Peter McVee</td><td>2016</td><td>30.35</td></tr><tr><td>TG-21640</td><td>Trudy Glocke</td><td>2017</td><td>84.42</td></tr><tr><td>SF-20065</td><td>Sandra Flanagan</td><td>2016</td><td>3.06</td></tr><tr><td>BO-11350</td><td>Bil Overfelt</td><td>2017</td><td>-79.60</td></tr><tr><td>HK-14890</td><td>Heather Kirkland</td><td>2015</td><td>300.07</td></tr><tr><td>CA-12265</td><td>Christina Anderson</td><td>2015</td><td>118.66</td></tr><tr><td>TB-21520</td><td>Tracy Blumstein</td><td>2015</td><td>-1524.02</td></tr><tr><td>CD-11920</td><td>Carlos Daly</td><td>2017</td><td>349.82</td></tr><tr><td>PO-19195</td><td>Phillina Ober</td><td>2017</td><td>28.80</td></tr><tr><td>JD-15790</td><td>John Dryer</td><td>2016</td><td>36.47</td></tr><tr><td>RB-19705</td><td>Roger Barcio</td><td>2017</td><td>325.86</td></tr><tr><td>LC-17140</td><td>Logan Currie</td><td>2015</td><td>19.40</td></tr><tr><td>CA-12055</td><td>Cthy Armstrong</td><td>2016</td><td>259.37</td></tr><tr><td>RF-19735</td><td>Roland Fjeld</td><td>2016</td><td>110.62</td></tr><tr><td>BW-11110</td><td>Bart Watters</td><td>2016</td><td>97.06</td></tr><tr><td>CC-12430</td><td>Chuck Clark</td><td>2017</td><td>108.97</td></tr><tr><td>LC-16885</td><td>Lena Creighton</td><td>2015</td><td>1007.76</td></tr><tr><td>JW-15220</td><td>Jane Waco</td><td>2017</td><td>1953.60</td></tr><tr><td>CD-12280</td><td>Christina DeMoss</td><td>2017</td><td>233.48</td></tr><tr><td>AH-10690</td><td>Anna Hberlin</td><td>2016</td><td>1144.07</td></tr><tr><td>CP-12085</td><td>Cathy Prescott</td><td>2014</td><td>62.39</td></tr><tr><td>JC-16105</td><td>Julie Creighton</td><td>2014</td><td>76.49</td></tr><tr><td>TD-20995</td><td>Tamara Dahlen</td><td>2015</td><td>-4.52</td></tr><tr><td>PR-18880</td><td>Patrick Ryan</td><td>2014</td><td>2.00</td></tr><tr><td>GW-14605</td><td>Giulietta Weimer</td><td>2016</td><td>44.58</td></tr><tr><td>PK-18910</td><td>Paul Knutson</td><td>2014</td><td>9.07</td></tr><tr><td>AS-10225</td><td>Alan Schoenberger</td><td>2015</td><td>12.86</td></tr><tr><td>EP-13915</td><td>Emily Phan</td><td>2015</td><td>361.20</td></tr><tr><td>PO-19195</td><td>Phillina Ober</td><td>2015</td><td>-12.50</td></tr><tr><td>AH-10465</td><td>Amy Hunt</td><td>2016</td><td>-1.78</td></tr><tr><td>BT-11530</td><td>Bradley Talbott</td><td>2014</td><td>66.77</td></tr><tr><td>AJ-10945</td><td>Ashley Jarboe</td><td>2014</td><td>3.40</td></tr><tr><td>EH-13990</td><td>Erica Hackney</td><td>2016</td><td>67.90</td></tr><tr><td>YC-21895</td><td>Yoseph Carroll</td><td>2016</td><td>427.27</td></tr><tr><td>AH-10120</td><td>Adrian Hane</td><td>2017</td><td>322.56</td></tr><tr><td>RM-19675</td><td>Robert Marley</td><td>2017</td><td>1041.91</td></tr><tr><td>PR-18880</td><td>Patrick Ryan</td><td>2015</td><td>38.27</td></tr><tr><td>HM-14860</td><td>Harry Marie</td><td>2015</td><td>2451.01</td></tr><tr><td>SV-20815</td><td>Stuart Van</td><td>2015</td><td>184.20</td></tr><tr><td>TB-21175</td><td>Thomas Boland</td><td>2016</td><td>-6.98</td></tr><tr><td>ME-17320</td><td>Maria Etezadi</td><td>2014</td><td>1343.07</td></tr><tr><td>AG-10900</td><td>Arthur Gainer</td><td>2014</td><td>144.46</td></tr><tr><td>ND-18370</td><td>Natalie DeCherney</td><td>2016</td><td>58.86</td></tr><tr><td>CC-12610</td><td>Corey Catlett</td><td>2014</td><td>481.45</td></tr><tr><td>JK-16120</td><td>Julie Kriz</td><td>2016</td><td>108.52</td></tr><tr><td>DK-12835</td><td>Damala Kotsonis</td><td>2016</td><td>185.34</td></tr><tr><td>AH-10585</td><td>Angele Hood</td><td>2016</td><td>13.45</td></tr><tr><td>NR-18550</td><td>Nick Radford</td><td>2014</td><td>-123.79</td></tr><tr><td>PK-18910</td><td>Paul Knutson</td><td>2016</td><td>-807.78</td></tr><tr><td>MM-17920</td><td>Michael Moore</td><td>2014</td><td>55.03</td></tr><tr><td>KM-16225</td><td>Kalyca Meade</td><td>2015</td><td>450.16</td></tr><tr><td>RD-19660</td><td>Robert Dilbeck</td><td>2016</td><td>151.77</td></tr><tr><td>VP-21760</td><td>Victoria Pisteka</td><td>2016</td><td>31.65</td></tr><tr><td>VS-21820</td><td>Vivek Sundaresam</td><td>2015</td><td>-176.60</td></tr><tr><td>CR-12820</td><td>Cyra Reiten</td><td>2015</td><td>2.13</td></tr><tr><td>NP-18685</td><td>Nora Pelletier</td><td>2014</td><td>33.64</td></tr><tr><td>GK-14620</td><td>Grace Kelly</td><td>2014</td><td>42.92</td></tr><tr><td>AF-10885</td><td>Art Foster</td><td>2015</td><td>101.18</td></tr><tr><td>RA-19885</td><td>Ruben Ausman</td><td>2017</td><td>510.77</td></tr><tr><td>DC-13285</td><td>Debra Catini</td><td>2015</td><td>55.75</td></tr><tr><td>TC-21535</td><td>Tracy Collins</td><td>2016</td><td>161.53</td></tr><tr><td>BF-11080</td><td>Bart Folk</td><td>2014</td><td>3.96</td></tr><tr><td>JK-16120</td><td>Julie Kriz</td><td>2014</td><td>239.98</td></tr><tr><td>AB-10150</td><td>Aimee Bixby</td><td>2015</td><td>7.02</td></tr><tr><td>JP-15460</td><td>Jennifer Patt</td><td>2015</td><td>100.93</td></tr><tr><td>AG-10495</td><td>Andrew Gjertsen</td><td>2016</td><td>6.03</td></tr><tr><td>DW-13480</td><td>Dianna Wilson</td><td>2016</td><td>31.09</td></tr><tr><td>RF-19840</td><td>Roy Franzsisch</td><td>2017</td><td>-0.30</td></tr><tr><td>PJ-19015</td><td>Pauline Johnson</td><td>2016</td><td>30.40</td></tr><tr><td>SB-20185</td><td>Sarah Brown</td><td>2014</td><td>-66.52</td></tr><tr><td>HA-14905</td><td>Helen Abelman</td><td>2016</td><td>129.77</td></tr><tr><td>HR-14770</td><td>Hallie Redmond</td><td>2015</td><td>48.12</td></tr><tr><td>FM-14380</td><td>Fred McMath</td><td>2017</td><td>38.70</td></tr><tr><td>AC-10660</td><td>Anna Chung</td><td>2017</td><td>-32.34</td></tr><tr><td>CM-12445</td><td>Chuck Magee</td><td>2016</td><td>53.19</td></tr><tr><td>CM-12235</td><td>Chris McAfee</td><td>2016</td><td>365.03</td></tr><tr><td>CK-12325</td><td>Christine Kargatis</td><td>2014</td><td>326.42</td></tr><tr><td>MC-17605</td><td>Matt Connell</td><td>2017</td><td>121.69</td></tr><tr><td>SS-20140</td><td>Saphhira Shifley</td><td>2014</td><td>-88.04</td></tr><tr><td>SP-20860</td><td>Sung Pak</td><td>2017</td><td>11.85</td></tr><tr><td>FA-14230</td><td>Frank Atkinson</td><td>2017</td><td>252.38</td></tr><tr><td>SG-20605</td><td>Speros Goranitis</td><td>2017</td><td>25.46</td></tr><tr><td>CS-12505</td><td>Cindy Stewart</td><td>2014</td><td>9.00</td></tr><tr><td>RD-19660</td><td>Robert Dilbeck</td><td>2017</td><td>757.41</td></tr><tr><td>BP-11290</td><td>Beth Paige</td><td>2014</td><td>-70.10</td></tr><tr><td>DW-13585</td><td>Dorothy Wardle</td><td>2014</td><td>6.63</td></tr><tr><td>JM-15865</td><td>John Murray</td><td>2015</td><td>371.88</td></tr><tr><td>MV-18190</td><td>Mike Vitt orini</td><td>2016</td><td>225.26</td></tr><tr><td>RH-19510</td><td>Rick Huthwaite</td><td>2015</td><td>125.67</td></tr><tr><td>DR-12940</td><td>Daniel Raglin</td><td>2014</td><td>22.68</td></tr><tr><td>LE-16810</td><td>Laurel Elliston</td><td>2015</td><td>5.08</td></tr><tr><td>MC-17605</td><td>Matt Connell</td><td>2016</td><td>11.31</td></tr><tr><td>TC-21535</td><td>Tracy Collins</td><td>2014</td><td>3.36</td></tr><tr><td>KB-16585</td><td>Ken Black</td><td>2017</td><td>240.99</td></tr><tr><td>KD-16495</td><td>Keith Dawkins</td><td>2015</td><td>2810.35</td></tr><tr><td>JK-15730</td><td>Joe Kamberova</td><td>2017</td><td>30.95</td></tr><tr><td>EP-13915</td><td>Emily Phan</td><td>2017</td><td>2.60</td></tr><tr><td>DM-13015</td><td>Darrin Martin</td><td>2016</td><td>-35.45</td></tr><tr><td>EN-13780</td><td>Edward Nazzal</td><td>2017</td><td>6.55</td></tr><tr><td>DW-13195</td><td>David Wiener</td><td>2017</td><td>-108.28</td></tr><tr><td>CM-12385</td><td>Christopher Martinez</td><td>2017</td><td>702.26</td></tr><tr><td>AD-10180</td><td>Alan Dominguez</td><td>2014</td><td>-6.60</td></tr><tr><td>ME-17725</td><td>Max Engle</td><td>2014</td><td>16.28</td></tr><tr><td>JW-15220</td><td>Jane Waco</td><td>2016</td><td>131.25</td></tr><tr><td>CW-11905</td><td>Carl Weiss</td><td>2016</td><td>22.77</td></tr><tr><td>NS-18640</td><td>Noel Staavos</td><td>2014</td><td>11.20</td></tr><tr><td>AJ-10795</td><td>Anthony Johnson</td><td>2016</td><td>400.21</td></tr><tr><td>RW-19690</td><td>Robert Waldorf</td><td>2017</td><td>710.18</td></tr><tr><td>DC-13285</td><td>Debra Catini</td><td>2017</td><td>11.06</td></tr><tr><td>RM-19750</td><td>Roland Murray</td><td>2017</td><td>28.68</td></tr><tr><td>AS-10285</td><td>Alejandro Savely</td><td>2016</td><td>331.37</td></tr><tr><td>NH-18610</td><td>Nicole Hansen</td><td>2014</td><td>33.20</td></tr><tr><td>NL-18310</td><td>Nancy Lomonaco</td><td>2016</td><td>18.66</td></tr><tr><td>DB-13615</td><td>Doug Bickford</td><td>2014</td><td>13.49</td></tr><tr><td>JC-15775</td><td>John Castell</td><td>2017</td><td>117.31</td></tr><tr><td>SG-20605</td><td>Speros Goranitis</td><td>2015</td><td>162.96</td></tr><tr><td>PB-19150</td><td>Philip Brown</td><td>2017</td><td>71.93</td></tr><tr><td>JO-15280</td><td>Jas OCarroll</td><td>2017</td><td>-54.88</td></tr><tr><td>BD-11500</td><td>Bradley Drucker</td><td>2017</td><td>762.06</td></tr><tr><td>CC-12685</td><td>Craig Carroll</td><td>2014</td><td>-45.32</td></tr><tr><td>CB-12535</td><td>Claudia Bergmann</td><td>2016</td><td>458.64</td></tr><tr><td>CS-12400</td><td>Christopher Schild</td><td>2017</td><td>-384.96</td></tr><tr><td>EM-13810</td><td>NA</td><td>2015</td><td>-202.06</td></tr><tr><td>AJ-10795</td><td>Anthony Johnson</td><td>2014</td><td>503.26</td></tr><tr><td>TH-21235</td><td>Tiffany House</td><td>2017</td><td>24.70</td></tr><tr><td>RS-19765</td><td>Roland Schwarz</td><td>2015</td><td>5.01</td></tr><tr><td>LW-17125</td><td>Liz Willingham</td><td>2016</td><td>165.80</td></tr><tr><td>HG-15025</td><td>Hunter Glantz</td><td>2016</td><td>50.24</td></tr><tr><td>OT-18730</td><td>Olvera Toch</td><td>2016</td><td>-1182.11</td></tr><tr><td>TS-21610</td><td>Troy Staebel</td><td>2017</td><td>-10.11</td></tr><tr><td>JF-15490</td><td>Jeremy Farry</td><td>2017</td><td>36.98</td></tr><tr><td>JM-15265</td><td>Janet Molinari</td><td>2015</td><td>-11.90</td></tr><tr><td>LS-17200</td><td>Luke Schmidt</td><td>2016</td><td>18.28</td></tr><tr><td>JP-16135</td><td>Julie Prescott</td><td>2014</td><td>6.92</td></tr><tr><td>TW-21025</td><td>Tamara Willingham</td><td>2016</td><td>33.01</td></tr><tr><td>JC-15775</td><td>John Castell</td><td>2016</td><td>70.55</td></tr><tr><td>CP-12085</td><td>Cathy Prescott</td><td>2016</td><td>31.54</td></tr><tr><td>PS-18970</td><td>Paul Stevenson</td><td>2015</td><td>42.15</td></tr><tr><td>Dl-13600</td><td>Dorris liebe</td><td>2017</td><td>-0.33</td></tr><tr><td>KC-16540</td><td>Kelly Collister</td><td>2017</td><td>24.48</td></tr><tr><td>ES-14080</td><td>Erin Smith</td><td>2017</td><td>239.29</td></tr><tr><td>JD-15895</td><td>Jonathan Doherty</td><td>2014</td><td>-194.20</td></tr><tr><td>LE-16810</td><td>Laurel Elliston</td><td>2016</td><td>179.75</td></tr><tr><td>LC-17050</td><td>Liz Carlisle</td><td>2014</td><td>-128.09</td></tr><tr><td>EH-13990</td><td>Erica Hackney</td><td>2014</td><td>54.09</td></tr><tr><td>DW-13195</td><td>David Wiener</td><td>2016</td><td>-34.16</td></tr><tr><td>SN-20710</td><td>Steve Nguyen</td><td>2015</td><td>91.22</td></tr><tr><td>JW-15955</td><td>Joni Waerman</td><td>2017</td><td>170.87</td></tr><tr><td>RB-19795</td><td>Ross Baird</td><td>2017</td><td>-502.56</td></tr><tr><td>GP-14740</td><td>Guy Phonely</td><td>2014</td><td>-35.93</td></tr><tr><td>VW-21775</td><td>Victoria Wilson</td><td>2017</td><td>565.88</td></tr><tr><td>AC-10420</td><td>Alyssa Crouse</td><td>2014</td><td>-14.66</td></tr><tr><td>PL-18925</td><td>Paul Lucas</td><td>2017</td><td>-18.94</td></tr><tr><td>JB-16045</td><td>Julia Barnett</td><td>2015</td><td>106.54</td></tr><tr><td>DC-12850</td><td>Dan Campbell</td><td>2014</td><td>-77.87</td></tr><tr><td>PM-19135</td><td>Peter McVee</td><td>2015</td><td>426.81</td></tr><tr><td>FP-14320</td><td>Frank Preis</td><td>2015</td><td>-140.57</td></tr><tr><td>GH-14425</td><td>Gary Hwang</td><td>2014</td><td>1073.14</td></tr><tr><td>DL-12865</td><td>Dan Lawera</td><td>2015</td><td>9.04</td></tr><tr><td>LS-17245</td><td>Lynn Smith</td><td>2017</td><td>52.59</td></tr><tr><td>VG-21790</td><td>Vivek Gonzalez</td><td>2017</td><td>106.10</td></tr><tr><td>CC-12670</td><td>Craig Carreira</td><td>2017</td><td>114.35</td></tr><tr><td>LT-17110</td><td>Liz Thompson</td><td>2017</td><td>-22.02</td></tr><tr><td>TP-21565</td><td>Tracy P oddar</td><td>2017</td><td>-0.04</td></tr><tr><td>MV-18190</td><td>Mike Vitt orini</td><td>2015</td><td>15.36</td></tr><tr><td>CS-12505</td><td>Cindy Stewart</td><td>2015</td><td>17.34</td></tr><tr><td>DJ-13420</td><td>Denny Joy</td><td>2016</td><td>378.27</td></tr><tr><td>ML-17410</td><td>Maris LaWare</td><td>2017</td><td>-345.71</td></tr><tr><td>BD-11320</td><td>Bil Donatelli</td><td>2016</td><td>97.23</td></tr><tr><td>SV-20785</td><td>Stewart Visinsky</td><td>2016</td><td>76.77</td></tr><tr><td>SO-20335</td><td>Sean ODonnell</td><td>2015</td><td>-282.31</td></tr><tr><td>MK-17905</td><td>Michael Kennedy</td><td>2015</td><td>0.60</td></tr><tr><td>AS-10285</td><td>Alejandro Savely</td><td>2017</td><td>23.26</td></tr><tr><td>TB-21625</td><td>Trudy Brown</td><td>2017</td><td>233.36</td></tr><tr><td>CM-11935</td><td>Carlos Meador</td><td>2016</td><td>-56.90</td></tr><tr><td>PS-18970</td><td>Paul Stevenson</td><td>2014</td><td>108.00</td></tr><tr><td>CK-12595</td><td>Clytie Kelty</td><td>2014</td><td>1.23</td></tr><tr><td>AR-10540</td><td>Andy Reiter</td><td>2015</td><td>247.28</td></tr><tr><td>JK-15640</td><td>Jim Kriz</td><td>2015</td><td>181.04</td></tr><tr><td>DK-13375</td><td>Dennis Kane</td><td>2016</td><td>360.97</td></tr><tr><td>BB-11545</td><td>Brenda Bowman</td><td>2016</td><td>431.81</td></tr><tr><td>LD-16855</td><td>Lela Donovan</td><td>2016</td><td>0.46</td></tr><tr><td>CM-12655</td><td>Corinna Mitchell</td><td>2015</td><td>116.62</td></tr><tr><td>LW-17125</td><td>Liz Willingham</td><td>2017</td><td>5.08</td></tr><tr><td>RA-19945</td><td>Ryan Akin</td><td>2014</td><td>-436.73</td></tr><tr><td>JB-16000</td><td>Joy Bell</td><td>2017</td><td>111.09</td></tr><tr><td>AH-10195</td><td>Alan Haines</td><td>2015</td><td>-12.10</td></tr><tr><td>SP-20620</td><td>Stefania Perrino</td><td>2017</td><td>-165.80</td></tr><tr><td>ML-18040</td><td>Michelle Lonsdale</td><td>2017</td><td>138.71</td></tr><tr><td>SK-19990</td><td>Sally Knutson</td><td>2016</td><td>3.44</td></tr><tr><td>DB-13660</td><td>Duane Benoit</td><td>2016</td><td>-35.22</td></tr><tr><td>AH-10120</td><td>Adrian Hane</td><td>2014</td><td>-25.91</td></tr><tr><td>CS-12400</td><td>Christopher Schild</td><td>2016</td><td>-114.17</td></tr><tr><td>RB-19645</td><td>Robert Barroso</td><td>2014</td><td>24.92</td></tr><tr><td>CJ-12010</td><td>Caroline Jumper</td><td>2017</td><td>-524.22</td></tr><tr><td>GZ-14470</td><td>Gary Zandusky</td><td>2015</td><td>126.31</td></tr><tr><td>KC-16540</td><td>Kelly Collister</td><td>2016</td><td>635.68</td></tr><tr><td>TB-21520</td><td>Tracy Blumstein</td><td>2016</td><td>3.95</td></tr><tr><td>MG-17650</td><td>Matthew Grinstein</td><td>2014</td><td>24.37</td></tr><tr><td>GT-14755</td><td>Guy Thornton</td><td>2016</td><td>6.30</td></tr><tr><td>JG-15805</td><td>John Grady</td><td>2017</td><td>78.02</td></tr><tr><td>MP-17470</td><td>Mark Packer</td><td>2014</td><td>279.86</td></tr><tr><td>DL-13330</td><td>Denise Leinenbach</td><td>2017</td><td>17.38</td></tr><tr><td>EB-13705</td><td>Ed Braxton</td><td>2016</td><td>82.42</td></tr><tr><td>SS-20140</td><td>Saphhira Shifley</td><td>2015</td><td>25.79</td></tr><tr><td>KH-16630</td><td>Ken Heidel</td><td>2015</td><td>501.54</td></tr><tr><td>PJ-18835</td><td>Patrick Jones</td><td>2014</td><td>7.95</td></tr><tr><td>GA-14725</td><td>Guy Armstrong</td><td>2017</td><td>23.50</td></tr><tr><td>PW-19240</td><td>Pierre Wener</td><td>2016</td><td>-0.59</td></tr><tr><td>NM-18445</td><td>Nathan Mautz</td><td>2014</td><td>2413.85</td></tr><tr><td>JF-15355</td><td>Jay Fein</td><td>2017</td><td>128.34</td></tr><tr><td>AW-10930</td><td>Arthur Wiediger</td><td>2014</td><td>-42.56</td></tr><tr><td>GP-14740</td><td>Guy Phonely</td><td>2015</td><td>67.77</td></tr><tr><td>DH-13075</td><td>Dave Hallsten</td><td>2016</td><td>-19.60</td></tr><tr><td>AH-10075</td><td>Adam Hart</td><td>2014</td><td>2.40</td></tr><tr><td>SV-20815</td><td>Stuart Van</td><td>2016</td><td>11.24</td></tr><tr><td>DB-13210</td><td>Dean Braden</td><td>2016</td><td>-66.47</td></tr><tr><td>KS-16300</td><td>Karen Seio</td><td>2015</td><td>6.49</td></tr><tr><td>CS-12505</td><td>Cindy Stewart</td><td>2016</td><td>-6696.29</td></tr><tr><td>RD-19585</td><td>Rob Dowd</td><td>2015</td><td>302.64</td></tr><tr><td>EB-13930</td><td>Eric Barreto</td><td>2017</td><td>-75.19</td></tr><tr><td>RB-19330</td><td>Randy Bradley</td><td>2014</td><td>-90.10</td></tr><tr><td>JL-15850</td><td>John Lucas</td><td>2014</td><td>1.33</td></tr><tr><td>JK-15205</td><td>Jamie Kunitz</td><td>2015</td><td>615.03</td></tr><tr><td>TB-21355</td><td>Todd Boyes</td><td>2016</td><td>62.39</td></tr><tr><td>PS-19045</td><td>Penelope Sewall</td><td>2015</td><td>1493.94</td></tr><tr><td>LS-16975</td><td>Lindsay Shagiari</td><td>2014</td><td>138.16</td></tr><tr><td>HE-14800</td><td>Harold Engle</td><td>2017</td><td>161.26</td></tr><tr><td>BM-11140</td><td>Becky Martin</td><td>2014</td><td>-1878.79</td></tr><tr><td>HP-14815</td><td>Harold Pawlan</td><td>2015</td><td>-21.70</td></tr><tr><td>KW-16570</td><td>Kelly Williams</td><td>2014</td><td>11.25</td></tr><tr><td>SW-20275</td><td>Scott Williamson</td><td>2016</td><td>221.48</td></tr><tr><td>KH-16510</td><td>Keith Herrera</td><td>2015</td><td>227.57</td></tr><tr><td>JD-16015</td><td>Joy Daniels</td><td>2017</td><td>37.06</td></tr><tr><td>TS-21160</td><td>Theresa Swint</td><td>2015</td><td>311.54</td></tr><tr><td>DK-13225</td><td>Dean Katz</td><td>2014</td><td>6.00</td></tr><tr><td>AH-10210</td><td>Alan Hwang</td><td>2014</td><td>87.19</td></tr><tr><td>MS-17980</td><td>Michael Stewart</td><td>2014</td><td>16.26</td></tr><tr><td>AB-10165</td><td>Alan Barnes</td><td>2014</td><td>-1.07</td></tr><tr><td>IG-15085</td><td>Ivan Gibson</td><td>2016</td><td>54.86</td></tr><tr><td>VM-21685</td><td>Valerie Mitchum</td><td>2015</td><td>-3.71</td></tr><tr><td>ME-17725</td><td>Max Engle</td><td>2017</td><td>23.16</td></tr><tr><td>FM-14290</td><td>Frank Merwin</td><td>2017</td><td>530.86</td></tr><tr><td>DK-12895</td><td>Dana Kaydos</td><td>2017</td><td>316.38</td></tr><tr><td>KM-16720</td><td>Kunst Miller</td><td>2017</td><td>364.68</td></tr><tr><td>CR-12820</td><td>Cyra Reiten</td><td>2017</td><td>81.14</td></tr><tr><td>KA-16525</td><td>Kelly Andreada</td><td>2014</td><td>49.01</td></tr><tr><td>JK-15205</td><td>Jamie Kunitz</td><td>2017</td><td>557.69</td></tr><tr><td>TZ-21580</td><td>Tracy Zic</td><td>2015</td><td>15.28</td></tr><tr><td>LP-17080</td><td>Liz Pelletier</td><td>2014</td><td>0.96</td></tr><tr><td>JF-15490</td><td>Jeremy Farry</td><td>2016</td><td>13.11</td></tr><tr><td>SP-20860</td><td>Sung Pak</td><td>2015</td><td>-65.06</td></tr><tr><td>SC-20725</td><td>Steven Cartwright</td><td>2015</td><td>404.63</td></tr><tr><td>SU-20665</td><td>Stephanie Ulpright</td><td>2017</td><td>623.11</td></tr><tr><td>HA-14905</td><td>Helen Abelman</td><td>2015</td><td>111.29</td></tr><tr><td>XP-21865</td><td>Xylona Preis</td><td>2017</td><td>80.12</td></tr><tr><td>DL-13315</td><td>Delfina Latchford</td><td>2017</td><td>94.23</td></tr><tr><td>PO-19195</td><td>Phillina Ober</td><td>2014</td><td>-65.99</td></tr><tr><td>CC-12145</td><td>Charles Crestani</td><td>2017</td><td>8.33</td></tr><tr><td>TP-21130</td><td>Theone Pippenger</td><td>2016</td><td>376.74</td></tr><tr><td>DK-13375</td><td>Dennis Kane</td><td>2017</td><td>2.65</td></tr><tr><td>PO-19180</td><td>Philisse Overcash</td><td>2016</td><td>178.45</td></tr><tr><td>PF-19120</td><td>Peter Fuller</td><td>2015</td><td>-631.70</td></tr><tr><td>KH-16630</td><td>Ken Heidel</td><td>2016</td><td>30.61</td></tr><tr><td>AG-10495</td><td>Andrew Gjertsen</td><td>2015</td><td>264.76</td></tr><tr><td>RD-19900</td><td>Ruben Dartt</td><td>2016</td><td>177.10</td></tr><tr><td>MT-17815</td><td>Meg Tillman</td><td>2016</td><td>432.26</td></tr><tr><td>TD-20995</td><td>Tamara Dahlen</td><td>2017</td><td>13.68</td></tr><tr><td>CV-12295</td><td>Christina VanderZanden</td><td>2014</td><td>163.49</td></tr><tr><td>SC-20305</td><td>Sean Christensen</td><td>2017</td><td>98.25</td></tr><tr><td>PS-19045</td><td>Penelope Sewall</td><td>2014</td><td>623.20</td></tr><tr><td>DM-13345</td><td>Denise Monton</td><td>2016</td><td>-61.90</td></tr><tr><td>SS-20515</td><td>Shirley Schmidt</td><td>2016</td><td>14.87</td></tr><tr><td>AW-10930</td><td>Arthur Wiediger</td><td>2016</td><td>-213.35</td></tr><tr><td>BF-11020</td><td>Barry Franzsisch</td><td>2016</td><td>20.32</td></tr><tr><td>JW-15955</td><td>Joni Waerman</td><td>2015</td><td>-201.65</td></tr><tr><td>SJ-20500</td><td>Shirley Jackson</td><td>2016</td><td>253.82</td></tr><tr><td>CR-12730</td><td>Craig Reiter</td><td>2016</td><td>59.57</td></tr><tr><td>AB-10150</td><td>Aimee Bixby</td><td>2017</td><td>40.00</td></tr><tr><td>SP-20920</td><td>Susan Pistek</td><td>2016</td><td>8.70</td></tr><tr><td>PF-19120</td><td>Peter Fuller</td><td>2014</td><td>17.68</td></tr><tr><td>RB-19465</td><td>Rick Bensley</td><td>2017</td><td>179.78</td></tr><tr><td>AR-10570</td><td>Anemone Ratner</td><td>2016</td><td>32.64</td></tr><tr><td>NS-18640</td><td>Noel Staavos</td><td>2015</td><td>151.68</td></tr><tr><td>DW-13585</td><td>Dorothy Wardle</td><td>2017</td><td>5.11</td></tr><tr><td>NC-18535</td><td>Nick Crebassa</td><td>2017</td><td>607.03</td></tr><tr><td>EB-13705</td><td>Ed Braxton</td><td>2017</td><td>10.60</td></tr><tr><td>AA-10375</td><td>Allen Armold</td><td>2015</td><td>69.03</td></tr><tr><td>PC-18745</td><td>Pamela Coakley</td><td>2014</td><td>196.69</td></tr><tr><td>KB-16240</td><td>Karen Bern</td><td>2016</td><td>-18.18</td></tr><tr><td>SH-20635</td><td>Stefanie Holloman</td><td>2015</td><td>190.43</td></tr><tr><td>JS-15880</td><td>John Stevenson</td><td>2015</td><td>392.89</td></tr><tr><td>JL-15505</td><td>Jeremy Lonsdale</td><td>2016</td><td>21.75</td></tr><tr><td>AG-10270</td><td>Alejandro Grove</td><td>2017</td><td>1.50</td></tr><tr><td>BD-11725</td><td>Bruce Degenhardt</td><td>2015</td><td>149.49</td></tr><tr><td>ML-17395</td><td>Marina Lichtenstein</td><td>2014</td><td>486.58</td></tr><tr><td>SC-20680</td><td>Steve Carroll</td><td>2016</td><td>109.82</td></tr><tr><td>AG-10330</td><td>Alex Grayson</td><td>2017</td><td>-67.10</td></tr><tr><td>HM-14860</td><td>Harry Marie</td><td>2017</td><td>-16.56</td></tr><tr><td>CR-12625</td><td>Corey Roper</td><td>2014</td><td>114.40</td></tr><tr><td>AW-10840</td><td>Anth ony Witt</td><td>2017</td><td>79.28</td></tr><tr><td>Co-12640</td><td>CoreyLock</td><td>2015</td><td>44.03</td></tr><tr><td>NK-18490</td><td>Neil Knudson</td><td>2017</td><td>80.03</td></tr><tr><td>CA-12310</td><td>Christine Abelman</td><td>2014</td><td>101.40</td></tr><tr><td>CB-12535</td><td>Claudia Bergmann</td><td>2017</td><td>341.51</td></tr><tr><td>LB-16795</td><td>Laurel Beltran</td><td>2014</td><td>-21.36</td></tr><tr><td>LR-16915</td><td>Lena Radford</td><td>2014</td><td>604.58</td></tr><tr><td>LW-16825</td><td>Laurel Workman</td><td>2016</td><td>-393.34</td></tr><tr><td>TT-21265</td><td>Tim Taslimi</td><td>2015</td><td>61.39</td></tr><tr><td>SW-20455</td><td>Shaun Weien</td><td>2015</td><td>618.44</td></tr><tr><td>AH-10210</td><td>Alan Hwang</td><td>2017</td><td>946.65</td></tr><tr><td>JO-15280</td><td>Jas OCarroll</td><td>2016</td><td>51.21</td></tr><tr><td>GK-14620</td><td>Grace Kelly</td><td>2016</td><td>1315.57</td></tr><tr><td>MM-17260</td><td>Magdelene Morse</td><td>2016</td><td>166.51</td></tr><tr><td>JL-15835</td><td>John Lee</td><td>2014</td><td>-863.93</td></tr><tr><td>SB-20170</td><td>Sarah Bern</td><td>2017</td><td>191.07</td></tr><tr><td>MC-18130</td><td>Mike Caudle</td><td>2016</td><td>86.95</td></tr><tr><td>SM-20950</td><td>Suzanne McNair</td><td>2015</td><td>468.40</td></tr><tr><td>ST-20530</td><td>Shui Tom</td><td>2017</td><td>12.79</td></tr><tr><td>MC-18130</td><td>Mike Caudle</td><td>2014</td><td>24.98</td></tr><tr><td>NF-18475</td><td>Neil Franzsisch</td><td>2014</td><td>31.87</td></tr><tr><td>JG-15805</td><td>John Grady</td><td>2014</td><td>28.26</td></tr><tr><td>GR-14560</td><td>Georgia Rosenberg</td><td>2014</td><td>359.88</td></tr><tr><td>NW-18400</td><td>Natalie Webber</td><td>2014</td><td>-387.79</td></tr><tr><td>LB-16795</td><td>Laurel Beltran</td><td>2017</td><td>627.99</td></tr><tr><td>NC-18415</td><td>Nathan Cano</td><td>2016</td><td>79.19</td></tr><tr><td>GA-14515</td><td>George Ashbrook</td><td>2014</td><td>22.41</td></tr><tr><td>RP-19390</td><td>Resi Plking</td><td>2016</td><td>154.14</td></tr><tr><td>JH-16180</td><td>Justin Hirsh</td><td>2016</td><td>-203.37</td></tr><tr><td>TP-21130</td><td>Theone Pippenger</td><td>2017</td><td>753.76</td></tr><tr><td>CT-11995</td><td>Carol Triggs</td><td>2014</td><td>285.45</td></tr><tr><td>BS-11755</td><td>Bruce Stewart</td><td>2016</td><td>82.95</td></tr><tr><td>EH-13765</td><td>Edward Hooks</td><td>2017</td><td>405.82</td></tr><tr><td>BT-11440</td><td>Bobby Trafton</td><td>2016</td><td>-71.90</td></tr><tr><td>KE-16420</td><td>Kat rina Edelman</td><td>2015</td><td>235.64</td></tr><tr><td>CP-12085</td><td>Cathy Prescott</td><td>2015</td><td>102.44</td></tr><tr><td>JM-15865</td><td>John Murray</td><td>2014</td><td>1228.18</td></tr><tr><td>MH-17620</td><td>Matt Hagelstein</td><td>2015</td><td>14.67</td></tr><tr><td>RB-19465</td><td>Rick Bensley</td><td>2016</td><td>123.81</td></tr><tr><td>JC-15340</td><td>Jasper Cacioppo</td><td>2014</td><td>1.33</td></tr><tr><td>TH-21100</td><td>Thea Hendricks</td><td>2016</td><td>9.19</td></tr><tr><td>EB-13975</td><td>Erica Bern</td><td>2017</td><td>11.00</td></tr><tr><td>HK-14890</td><td>Heather Kirkland</td><td>2017</td><td>399.01</td></tr><tr><td>BD-11605</td><td>Brian Dahlen</td><td>2014</td><td>342.92</td></tr><tr><td>NZ-18565</td><td>Nick Zandusky</td><td>2017</td><td>102.32</td></tr><tr><td>SW-20350</td><td>Sean Wendt</td><td>2017</td><td>-50.25</td></tr><tr><td>LH-17020</td><td>Lisa Hazard</td><td>2016</td><td>16.46</td></tr><tr><td>AS-10090</td><td>Adam Shillingsburg</td><td>2014</td><td>129.55</td></tr><tr><td>JO-15550</td><td>Jesus Ocampo</td><td>2017</td><td>13.22</td></tr><tr><td>AB-10105</td><td>Adrian Barton</td><td>2014</td><td>498.73</td></tr><tr><td>IM-15070</td><td>Irene Maddox</td><td>2015</td><td>-55.70</td></tr><tr><td>EJ-13720</td><td>Ed Jacobs</td><td>2017</td><td>423.72</td></tr><tr><td>JH-15910</td><td>Jonathan Howell</td><td>2016</td><td>63.17</td></tr><tr><td>JM-15865</td><td>John Murray</td><td>2017</td><td>24.63</td></tr><tr><td>LR-17035</td><td>Lisa Ryan</td><td>2017</td><td>99.27</td></tr><tr><td>JP-15520</td><td>Jeremy Pistek</td><td>2014</td><td>199.41</td></tr><tr><td>SR-20425</td><td>Sharelle Roach</td><td>2014</td><td>57.49</td></tr><tr><td>SM-20005</td><td>Sally Matthias</td><td>2016</td><td>-77.84</td></tr><tr><td>CS-12130</td><td>Chad Sievert</td><td>2015</td><td>45.72</td></tr><tr><td>SP-20545</td><td>Sibella Parks</td><td>2014</td><td>2.81</td></tr><tr><td>BO-11425</td><td>Bobby Odegard</td><td>2015</td><td>2.07</td></tr><tr><td>BD-11635</td><td>Brian Derr</td><td>2017</td><td>27.69</td></tr><tr><td>AG-10390</td><td>Allen Goldenen</td><td>2017</td><td>8.30</td></tr><tr><td>RD-19480</td><td>Rick Duston</td><td>2016</td><td>69.39</td></tr><tr><td>PG-18820</td><td>Patrick Gardner</td><td>2017</td><td>96.42</td></tr><tr><td>VS-21820</td><td>Vivek Sundaresam</td><td>2014</td><td>-72.25</td></tr><tr><td>BP-11290</td><td>Beth Paige</td><td>2016</td><td>-65.75</td></tr><tr><td>CA-12265</td><td>Christina Anderson</td><td>2017</td><td>119.67</td></tr><tr><td>AB-10105</td><td>Adrian Barton</td><td>2015</td><td>-142.67</td></tr><tr><td>AG-10270</td><td>Alejandro Grove</td><td>2014</td><td>17.99</td></tr><tr><td>EA-14035</td><td>Erin Ashbrook</td><td>2015</td><td>321.74</td></tr><tr><td>RK-19300</td><td>Ralph Kennedy</td><td>2017</td><td>4.11</td></tr><tr><td>LE-16810</td><td>Laurel Elliston</td><td>2017</td><td>-10.24</td></tr><tr><td>CC-12100</td><td>Chad Cunningham</td><td>2016</td><td>-11.70</td></tr><tr><td>CM-12715</td><td>Craig M olinari</td><td>2015</td><td>-29.90</td></tr><tr><td>MT-18070</td><td>Michelle Tran</td><td>2017</td><td>2.05</td></tr><tr><td>CA-12775</td><td>Cynthia Arntzen</td><td>2017</td><td>191.87</td></tr><tr><td>LS-16975</td><td>Lindsay Shagiari</td><td>2016</td><td>2.94</td></tr><tr><td>GM-14455</td><td>Gary Mitchum</td><td>2016</td><td>102.52</td></tr><tr><td>KC-16255</td><td>Karen Carlisle</td><td>2014</td><td>43.06</td></tr><tr><td>ZC-21910</td><td>Zuschuss Carroll</td><td>2016</td><td>-1731.01</td></tr><tr><td>DG-13300</td><td>Deirdre Greer</td><td>2014</td><td>22.07</td></tr><tr><td>SE-20110</td><td>Sanjit Engle</td><td>2015</td><td>159.32</td></tr><tr><td>SG-20470</td><td>Sheri Gordon</td><td>2015</td><td>44.50</td></tr><tr><td>NC-18625</td><td>Noah Childs</td><td>2014</td><td>36.66</td></tr><tr><td>RE-19450</td><td>Richard Eichhorn</td><td>2016</td><td>13.32</td></tr><tr><td>VM-21835</td><td>Vivian Mathis</td><td>2014</td><td>6.51</td></tr><tr><td>MW-18235</td><td>Mitch Willingham</td><td>2017</td><td>216.00</td></tr><tr><td>RS-19870</td><td>Roy Skaria</td><td>2017</td><td>6.08</td></tr><tr><td>MM-18280</td><td>Muhammed MacIntyre</td><td>2014</td><td>-51.52</td></tr><tr><td>MB-17305</td><td>Maria Bertelson</td><td>2015</td><td>77.99</td></tr><tr><td>EB-13705</td><td>Ed Braxton</td><td>2014</td><td>-127.42</td></tr><tr><td>ON-18715</td><td>Odella Nelson</td><td>2015</td><td>-31.11</td></tr><tr><td>MD-17350</td><td>Maribeth Dona</td><td>2014</td><td>-84.11</td></tr><tr><td>HR-14830</td><td>Harold Ryan</td><td>2014</td><td>79.74</td></tr><tr><td>BS-11380</td><td>Bil Stewart</td><td>2015</td><td>206.62</td></tr><tr><td>BT-11395</td><td>Bil Tyler</td><td>2017</td><td>-14.99</td></tr><tr><td>JF-15295</td><td>Jason Fortune</td><td>2016</td><td>-9.88</td></tr><tr><td>TB-21595</td><td>Troy Blackwell</td><td>2016</td><td>-144.59</td></tr><tr><td>SJ-20215</td><td>Sarah Jordon</td><td>2016</td><td>-3.24</td></tr><tr><td>JP-15460</td><td>Jennifer Patt</td><td>2017</td><td>10.66</td></tr><tr><td>AA-10645</td><td>Anna Andreadi</td><td>2014</td><td>77.64</td></tr><tr><td>TG-21640</td><td>Trudy Glocke</td><td>2014</td><td>89.42</td></tr><tr><td>BV-11245</td><td>Benjamin Venier</td><td>2017</td><td>105.94</td></tr><tr><td>BF-10975</td><td>Barbara Fisher</td><td>2014</td><td>61.99</td></tr><tr><td>TD-20995</td><td>Tamara Dahlen</td><td>2016</td><td>70.25</td></tr><tr><td>TC-20980</td><td>Tamara Chand</td><td>2016</td><td>8764.95</td></tr><tr><td>RD-19900</td><td>Ruben Dartt</td><td>2014</td><td>186.49</td></tr><tr><td>DJ-13420</td><td>Denny Joy</td><td>2015</td><td>64.99</td></tr><tr><td>MH-17455</td><td>Mark Hamilton</td><td>2016</td><td>375.67</td></tr><tr><td>SC-20095</td><td>Sanjit Chand</td><td>2015</td><td>92.68</td></tr><tr><td>BT-11680</td><td>Brian Thompson</td><td>2015</td><td>435.64</td></tr><tr><td>AT-10735</td><td>Annie Thurman</td><td>2016</td><td>51.67</td></tr><tr><td>LH-17155</td><td>Logan Haushalter</td><td>2016</td><td>212.10</td></tr><tr><td>MC-17635</td><td>Matthew Clasen</td><td>2014</td><td>41.89</td></tr><tr><td>NZ-18565</td><td>Nick Zandusky</td><td>2014</td><td>248.03</td></tr><tr><td>BT-11305</td><td>Beth Thompson</td><td>2014</td><td>290.89</td></tr><tr><td>TB-21400</td><td>Tom Boeckenhauer</td><td>2016</td><td>12.18</td></tr><tr><td>MP-17470</td><td>Mark Packer</td><td>2016</td><td>8.94</td></tr><tr><td>AD-10180</td><td>Alan Dominguez</td><td>2015</td><td>9.60</td></tr><tr><td>EB-13840</td><td>Ellis Ballard</td><td>2014</td><td>-36.36</td></tr><tr><td>VB-21745</td><td>Victo ria Brennan</td><td>2015</td><td>84.62</td></tr><tr><td>BF-11005</td><td>Barry Franz</td><td>2017</td><td>71.98</td></tr><tr><td>MT-18070</td><td>Michelle Tran</td><td>2016</td><td>70.49</td></tr><tr><td>JO-15280</td><td>Jas OCarroll</td><td>2014</td><td>0.97</td></tr><tr><td>SC-20770</td><td>Stewart Carmichael</td><td>2017</td><td>-84.83</td></tr><tr><td>TG-21310</td><td>Toby Gnade</td><td>2015</td><td>-198.33</td></tr><tr><td>JF-15355</td><td>Jay Fein</td><td>2015</td><td>161.11</td></tr><tr><td>WB-21850</td><td>William Brown</td><td>2015</td><td>-87.06</td></tr><tr><td>AR-10540</td><td>Andy Reiter</td><td>2017</td><td>2607.68</td></tr><tr><td>SL-20155</td><td>Sara Luxemburg</td><td>2014</td><td>22.25</td></tr><tr><td>BP-11095</td><td>Bart Pistole</td><td>2015</td><td>53.56</td></tr><tr><td>MT-18070</td><td>Michelle Tran</td><td>2014</td><td>-89.70</td></tr><tr><td>GT-14755</td><td>Guy Thornton</td><td>2017</td><td>-39.64</td></tr><tr><td>MS-17530</td><td>MaryBeth Skach</td><td>2016</td><td>36.04</td></tr><tr><td>CS-12130</td><td>Chad Sievert</td><td>2014</td><td>84.36</td></tr><tr><td>CM-12655</td><td>Corinna Mitchell</td><td>2017</td><td>855.93</td></tr><tr><td>VP-21760</td><td>Victoria Pisteka</td><td>2017</td><td>-964.48</td></tr><tr><td>LW-17215</td><td>Luke Weiss</td><td>2014</td><td>420.59</td></tr><tr><td>CS-12355</td><td>Christine Sundaresam</td><td>2014</td><td>77.03</td></tr><tr><td>KA-16525</td><td>Kelly Andreada</td><td>2017</td><td>39.94</td></tr><tr><td>MN-17935</td><td>Michael Nguyen</td><td>2016</td><td>5.52</td></tr><tr><td>KW-16570</td><td>Kelly Williams</td><td>2015</td><td>97.14</td></tr><tr><td>KS-16300</td><td>Karen Seio</td><td>2017</td><td>-6.38</td></tr><tr><td>EP-13915</td><td>Emily Phan</td><td>2016</td><td>-393.66</td></tr><tr><td>PO-18850</td><td>Patrick OBrill</td><td>2014</td><td>56.31</td></tr><tr><td>TZ-21580</td><td>Tracy Zic</td><td>2017</td><td>1.34</td></tr><tr><td>TB-21625</td><td>Trudy Brown</td><td>2015</td><td>-8.47</td></tr><tr><td>EN-13780</td><td>Edward Nazzal</td><td>2016</td><td>438.40</td></tr><tr><td>RR-19525</td><td>Rick Reed</td><td>2014</td><td>543.57</td></tr><tr><td>MO-17500</td><td>Mary ORourke</td><td>2017</td><td>-67.54</td></tr><tr><td>TM-21010</td><td>Tamara Manning</td><td>2014</td><td>112.58</td></tr><tr><td>LM-17065</td><td>Liz MacKendrick</td><td>2014</td><td>76.10</td></tr><tr><td>DJ-13630</td><td>Doug Jacobs</td><td>2016</td><td>25.78</td></tr><tr><td>JS-15595</td><td>Ji Stevenson</td><td>2014</td><td>-204.14</td></tr><tr><td>MC-18100</td><td>Mick Crebagga</td><td>2015</td><td>-73.30</td></tr><tr><td>JO-15145</td><td>Jack OBriant</td><td>2017</td><td>40.40</td></tr><tr><td>EB-14170</td><td>Evan Bailliet</td><td>2016</td><td>4.44</td></tr><tr><td>BM-11650</td><td>Brian Moss</td><td>2015</td><td>181.48</td></tr><tr><td>MM-18055</td><td>Michelle Moray</td><td>2015</td><td>-247.37</td></tr><tr><td>JD-15895</td><td>Jonathan Doherty</td><td>2015</td><td>64.82</td></tr><tr><td>DB-12970</td><td>Darren Budd</td><td>2017</td><td>64.81</td></tr><tr><td>VB-21745</td><td>Victo ria Brennan</td><td>2017</td><td>181.21</td></tr><tr><td>DB-13555</td><td>Dorothy Badders</td><td>2014</td><td>8.35</td></tr><tr><td>TG-21310</td><td>Toby Gnade</td><td>2017</td><td>35.86</td></tr><tr><td>BF-11215</td><td>Benjamin Farhat</td><td>2017</td><td>328.37</td></tr><tr><td>DK-12985</td><td>Darren Koutras</td><td>2017</td><td>-22.94</td></tr><tr><td>MB-17305</td><td>Maria Bertelson</td><td>2016</td><td>83.51</td></tr><tr><td>KT-16480</td><td>Kean Thornton</td><td>2015</td><td>36.70</td></tr><tr><td>MH-18025</td><td>Michelle Huthwaite</td><td>2014</td><td>10.65</td></tr><tr><td>AC-10660</td><td>Anna Chung</td><td>2014</td><td>-4.97</td></tr><tr><td>NG-18355</td><td>Nat Gilpin</td><td>2017</td><td>86.50</td></tr><tr><td>KB-16600</td><td>Ken Brennan</td><td>2017</td><td>259.43</td></tr><tr><td>AG-10300</td><td>Aleksandra Gannaway</td><td>2015</td><td>8.39</td></tr><tr><td>SG-20470</td><td>Sheri Gordon</td><td>2017</td><td>-295.98</td></tr><tr><td>BM-11785</td><td>Bryan Mills</td><td>2015</td><td>-39.67</td></tr><tr><td>PO-18865</td><td>Patrick ODonnell</td><td>2017</td><td>238.16</td></tr><tr><td>BF-11275</td><td>Beth Fritzler</td><td>2014</td><td>-12.12</td></tr><tr><td>TB-21250</td><td>Tim Brockman</td><td>2014</td><td>13.81</td></tr><tr><td>FH-14350</td><td>Fred Harton</td><td>2015</td><td>365.68</td></tr><tr><td>AG-10390</td><td>Allen Goldenen</td><td>2014</td><td>67.97</td></tr><tr><td>MS-17980</td><td>Michael Stewart</td><td>2015</td><td>59.35</td></tr><tr><td>CS-11860</td><td>Cari Schnelling</td><td>2017</td><td>14.92</td></tr><tr><td>JR-15700</td><td>Jocasta Rupert</td><td>2017</td><td>107.99</td></tr><tr><td>MB-18085</td><td>Mick Brown</td><td>2014</td><td>4.88</td></tr><tr><td>CS-11845</td><td>Cari Sayre</td><td>2014</td><td>-13.90</td></tr><tr><td>KB-16405</td><td>Kat rina Bavinger</td><td>2015</td><td>42.96</td></tr><tr><td>HG-14845</td><td>Harry Greene</td><td>2014</td><td>21.60</td></tr><tr><td>BS-11800</td><td>Bryan Spruell</td><td>2015</td><td>77.11</td></tr><tr><td>GT-14635</td><td>Grant Thornton</td><td>2015</td><td>8.87</td></tr><tr><td>CA-11965</td><td>Carol Adams</td><td>2016</td><td>899.98</td></tr><tr><td>RB-19465</td><td>Rick Bensley</td><td>2014</td><td>336.96</td></tr><tr><td>TM-21010</td><td>Tamara Manning</td><td>2015</td><td>255.04</td></tr><tr><td>AI-10855</td><td>Arianne Irving</td><td>2014</td><td>288.24</td></tr><tr><td>MK-18160</td><td>Mike Kennedy</td><td>2017</td><td>209.04</td></tr><tr><td>PR-18880</td><td>Patrick Ryan</td><td>2017</td><td>5555.93</td></tr><tr><td>RM-19375</td><td>Raymond Messe</td><td>2017</td><td>196.75</td></tr><tr><td>LW-16825</td><td>Laurel Workman</td><td>2014</td><td>423.61</td></tr><tr><td>TB-21355</td><td>Todd Boyes</td><td>2017</td><td>206.57</td></tr><tr><td>KH-16510</td><td>Keith Herrera</td><td>2014</td><td>-2.74</td></tr><tr><td>ML-17395</td><td>Marina Lichtenstein</td><td>2015</td><td>-4.94</td></tr><tr><td>SC-20695</td><td>Steve Chapman</td><td>2015</td><td>222.93</td></tr><tr><td>PM-19135</td><td>Peter McVee</td><td>2017</td><td>69.60</td></tr><tr><td>CS-12355</td><td>Christine Sundaresam</td><td>2015</td><td>288.11</td></tr><tr><td>EB-14110</td><td>Eugene Barchas</td><td>2017</td><td>-47.40</td></tr><tr><td>VP-21730</td><td>Victor Preis</td><td>2015</td><td>8.93</td></tr><tr><td>TS-21160</td><td>Theresa Swint</td><td>2014</td><td>-2.00</td></tr><tr><td>DO-13435</td><td>Denny Ordway</td><td>2014</td><td>6.09</td></tr><tr><td>PP-18955</td><td>Paul Prost</td><td>2016</td><td>707.59</td></tr><tr><td>LH-17155</td><td>Logan Haushalter</td><td>2014</td><td>9.58</td></tr><tr><td>HG-14965</td><td>Henry Goldwyn</td><td>2015</td><td>34.84</td></tr><tr><td>QJ-19255</td><td>Quincy Jones</td><td>2017</td><td>-99.70</td></tr><tr><td>BC-11125</td><td>Becky Castell</td><td>2016</td><td>62.26</td></tr><tr><td>CC-12220</td><td>Chris Cortes</td><td>2017</td><td>393.60</td></tr><tr><td>EH-13990</td><td>Erica Hackney</td><td>2015</td><td>28.38</td></tr><tr><td>MC-17590</td><td>Matt Collister</td><td>2014</td><td>-137.20</td></tr><tr><td>JF-15565</td><td>Jill Fjeld</td><td>2016</td><td>849.66</td></tr><tr><td>MS-17365</td><td>Maribeth chnelling</td><td>2017</td><td>40.75</td></tr><tr><td>NS-18640</td><td>Noel Staavos</td><td>2017</td><td>-99.52</td></tr><tr><td>GM-14440</td><td>Gary McGarr</td><td>2014</td><td>202.78</td></tr><tr><td>SF-20200</td><td>Sarah Foster</td><td>2014</td><td>58.03</td></tr><tr><td>JR-15670</td><td>Jim Radford</td><td>2015</td><td>-785.16</td></tr><tr><td>FH-14275</td><td>Frank Hawley</td><td>2014</td><td>297.18</td></tr><tr><td>SC-20095</td><td>Sanjit Chand</td><td>2014</td><td>5462.59</td></tr><tr><td>LC-16870</td><td>NA</td><td>2016</td><td>-291.75</td></tr><tr><td>LH-16900</td><td>Lena Hernandez</td><td>2015</td><td>121.11</td></tr><tr><td>DC-13285</td><td>Debra Catini</td><td>2014</td><td>54.80</td></tr><tr><td>AP-10720</td><td>Anne Pryor</td><td>2017</td><td>-11.07</td></tr><tr><td>CS-11950</td><td>Carlos Soltero</td><td>2017</td><td>76.20</td></tr><tr><td>FO-14305</td><td>Frank Olsen</td><td>2014</td><td>245.02</td></tr><tr><td>LR-17035</td><td>Lisa Ryan</td><td>2016</td><td>-387.68</td></tr><tr><td>BV-11245</td><td>Benjamin Venier</td><td>2015</td><td>82.28</td></tr><tr><td>EL-13735</td><td>Ed Ludwig</td><td>2016</td><td>8.66</td></tr><tr><td>KH-16690</td><td>Kristen Hastings</td><td>2017</td><td>217.49</td></tr><tr><td>AJ-10945</td><td>Ashley Jarboe</td><td>2015</td><td>316.58</td></tr><tr><td>JM-16195</td><td>Justin MacKendrick</td><td>2014</td><td>273.40</td></tr><tr><td>SS-20875</td><td>Sung Shariari</td><td>2016</td><td>-1.91</td></tr><tr><td>JC-16105</td><td>Julie Creighton</td><td>2017</td><td>62.30</td></tr><tr><td>BM-11650</td><td>Brian Moss</td><td>2014</td><td>81.65</td></tr><tr><td>SC-20845</td><td>Sung Chung</td><td>2017</td><td>29.95</td></tr><tr><td>VM-21835</td><td>Vivian Mathis</td><td>2017</td><td>6.97</td></tr><tr><td>LS-16945</td><td>Linda Southworth</td><td>2016</td><td>21.74</td></tr><tr><td>HR-14770</td><td>Hallie Redmond</td><td>2017</td><td>135.68</td></tr><tr><td>DW-13540</td><td>Don Weiss</td><td>2017</td><td>53.65</td></tr><tr><td>NC-18625</td><td>Noah Childs</td><td>2016</td><td>-461.20</td></tr><tr><td>SZ-20035</td><td>Sam Zeldin</td><td>2016</td><td>49.32</td></tr><tr><td>BW-11110</td><td>Bart Watters</td><td>2017</td><td>720.83</td></tr><tr><td>MS-17770</td><td>Maxwell Schwartz</td><td>2014</td><td>-102.26</td></tr><tr><td>PN-18775</td><td>Parhena Norris</td><td>2016</td><td>137.23</td></tr><tr><td>EJ-13720</td><td>Ed Jacobs</td><td>2015</td><td>15.86</td></tr><tr><td>AZ-10750</td><td>Annie Zypern</td><td>2016</td><td>32.57</td></tr><tr><td>TB-21520</td><td>Tracy Blumstein</td><td>2017</td><td>42.26</td></tr><tr><td>HG-15025</td><td>Hunter Glantz</td><td>2017</td><td>82.02</td></tr><tr><td>CS-11950</td><td>Carlos Soltero</td><td>2015</td><td>16.46</td></tr><tr><td>AD-10180</td><td>Alan Dominguez</td><td>2017</td><td>1866.92</td></tr><tr><td>HH-15010</td><td>Hilary Holden</td><td>2017</td><td>26.46</td></tr><tr><td>MS-17365</td><td>Maribeth chnelling</td><td>2014</td><td>143.90</td></tr><tr><td>PV-18985</td><td>PaulVan Hugh</td><td>2014</td><td>-4.56</td></tr><tr><td>TS-21505</td><td>NA</td><td>2016</td><td>-69.83</td></tr><tr><td>TS-21340</td><td>Toby Swindell</td><td>2015</td><td>92.71</td></tr><tr><td>BD-11605</td><td>Brian Dahlen</td><td>2015</td><td>79.41</td></tr><tr><td>KT-16465</td><td>Kean Takahito</td><td>2014</td><td>68.80</td></tr><tr><td>JD-16150</td><td>Justin Deggeller</td><td>2017</td><td>1116.34</td></tr><tr><td>BB-10990</td><td>Barry Blumstein</td><td>2016</td><td>12.87</td></tr><tr><td>MG-18145</td><td>Mike Gockenbach</td><td>2015</td><td>-137.49</td></tr><tr><td>JM-15865</td><td>John Murray</td><td>2016</td><td>-49.62</td></tr><tr><td>EH-13765</td><td>Edward Hooks</td><td>2015</td><td>224.83</td></tr><tr><td>JL-15835</td><td>John Lee</td><td>2017</td><td>837.23</td></tr><tr><td>SW-20245</td><td>Scot Wooten</td><td>2017</td><td>-64.07</td></tr><tr><td>JP-16135</td><td>Julie Prescott</td><td>2015</td><td>7.43</td></tr><tr><td>SF-20965</td><td>Sylvia Foulston</td><td>2014</td><td>12.27</td></tr><tr><td>JF-15490</td><td>Jeremy Farry</td><td>2015</td><td>-103.54</td></tr><tr><td>SF-20065</td><td>Sandra Flanagan</td><td>2017</td><td>110.13</td></tr><tr><td>NB-18655</td><td>Nona Balk</td><td>2015</td><td>127.06</td></tr><tr><td>FM-14380</td><td>Fred McMath</td><td>2015</td><td>17.48</td></tr><tr><td>JJ-15760</td><td>Joel Jenkins</td><td>2015</td><td>34.46</td></tr><tr><td>AB-10060</td><td>Adam Bellavance</td><td>2017</td><td>477.84</td></tr><tr><td>CS-12400</td><td>Christopher Schild</td><td>2015</td><td>75.70</td></tr><tr><td>IL-15100</td><td>Ivan Liston</td><td>2014</td><td>6.91</td></tr><tr><td>SC-20680</td><td>Steve Carroll</td><td>2017</td><td>15.12</td></tr><tr><td>TP-21565</td><td>Tracy P oddar</td><td>2015</td><td>34.74</td></tr><tr><td>RW-19630</td><td>Rob Williams</td><td>2014</td><td>30.78</td></tr><tr><td>MF-18250</td><td>Monica Federle</td><td>2014</td><td>16.89</td></tr><tr><td>CY-12745</td><td>Craig Yedwab</td><td>2015</td><td>107.00</td></tr><tr><td>RM-19375</td><td>Raymond Messe</td><td>2016</td><td>162.05</td></tr><tr><td>RB-19795</td><td>Ross Baird</td><td>2016</td><td>51.79</td></tr><tr><td>BC-11125</td><td>Becky Castell</td><td>2017</td><td>58.80</td></tr><tr><td>IG-15085</td><td>Ivan Gibson</td><td>2014</td><td>28.35</td></tr><tr><td>ZC-21910</td><td>Zuschuss Carroll</td><td>2015</td><td>307.48</td></tr><tr><td>ML-18265</td><td>Muhammed Lee</td><td>2015</td><td>1.16</td></tr><tr><td>RP-19390</td><td>Resi Plking</td><td>2015</td><td>19.71</td></tr><tr><td>KN-16705</td><td>Kristina Nunn</td><td>2017</td><td>301.88</td></tr><tr><td>LF-17185</td><td>Luke Foster</td><td>2016</td><td>0.72</td></tr><tr><td>CG-12040</td><td>Catherine Glotzbach</td><td>2017</td><td>21.87</td></tr><tr><td>LR-17035</td><td>Lisa Ryan</td><td>2014</td><td>48.13</td></tr><tr><td>EB-14170</td><td>Evan Bailliet</td><td>2015</td><td>119.43</td></tr><tr><td>CM-12160</td><td>Charles McCrossin</td><td>2016</td><td>-315.75</td></tr><tr><td>EA-14035</td><td>Erin Ashbrook</td><td>2014</td><td>-53.44</td></tr><tr><td>KT-16480</td><td>Kean Thornton</td><td>2016</td><td>19.61</td></tr><tr><td>ME-18010</td><td>Michelle Ellison</td><td>2017</td><td>-6.40</td></tr><tr><td>VP-21760</td><td>Victoria Pisteka</td><td>2015</td><td>-204.15</td></tr><tr><td>MW-18235</td><td>Mitch Willingham</td><td>2014</td><td>1449.52</td></tr><tr><td>HZ-14950</td><td>Henia Zydlo</td><td>2017</td><td>-136.68</td></tr><tr><td>SB-20290</td><td>Sean Braxton</td><td>2016</td><td>16.89</td></tr><tr><td>LC-17050</td><td>Liz Carlisle</td><td>2017</td><td>-10.40</td></tr><tr><td>NM-18520</td><td>Neoma Murray</td><td>2016</td><td>812.79</td></tr><tr><td>AS-10045</td><td>Aaron Smayling</td><td>2017</td><td>-377.96</td></tr><tr><td>HA-14905</td><td>Helen Abelman</td><td>2014</td><td>108.80</td></tr><tr><td>RD-19480</td><td>Rick Duston</td><td>2015</td><td>25.41</td></tr><tr><td>LR-17035</td><td>Lisa Ryan</td><td>2015</td><td>-142.91</td></tr><tr><td>BT-11530</td><td>Bradley Talbott</td><td>2017</td><td>347.10</td></tr><tr><td>SP-20860</td><td>Sung Pak</td><td>2014</td><td>1.19</td></tr><tr><td>GM-14455</td><td>Gary Mitchum</td><td>2014</td><td>316.15</td></tr><tr><td>CM-11815</td><td>Candace McMahon</td><td>2014</td><td>25.23</td></tr><tr><td>SC-20725</td><td>Steven Cartwright</td><td>2014</td><td>114.84</td></tr><tr><td>MW-18220</td><td>Mitch Webber</td><td>2014</td><td>1204.43</td></tr><tr><td>TT-21070</td><td>Ted Trevino</td><td>2016</td><td>2.69</td></tr><tr><td>SG-20890</td><td>Susan Gilcrest</td><td>2017</td><td>-13.27</td></tr><tr><td>DP-13000</td><td>Darren Powers</td><td>2014</td><td>24.24</td></tr><tr><td>JG-15160</td><td>James Galang</td><td>2017</td><td>69.85</td></tr><tr><td>SU-20665</td><td>Stephanie Ulpright</td><td>2016</td><td>64.19</td></tr><tr><td>AM-10705</td><td>Anne McFarland</td><td>2017</td><td>392.01</td></tr><tr><td>AB-10150</td><td>Aimee Bixby</td><td>2016</td><td>5.44</td></tr><tr><td>SL-20155</td><td>Sara Luxemburg</td><td>2017</td><td>437.91</td></tr><tr><td>SB-20170</td><td>Sarah Bern</td><td>2014</td><td>-33.39</td></tr><tr><td>KD-16615</td><td>NA</td><td>2017</td><td>198.92</td></tr><tr><td>JH-15985</td><td>Joseph Holt</td><td>2016</td><td>72.03</td></tr><tr><td>MH-17290</td><td>Marc Harrigan</td><td>2016</td><td>57.21</td></tr><tr><td>CL-11890</td><td>Carl Ludwig</td><td>2016</td><td>4.35</td></tr><tr><td>DV-13465</td><td>Dianna Vittorini</td><td>2017</td><td>151.65</td></tr><tr><td>MC-17425</td><td>Mark Cousins</td><td>2015</td><td>57.20</td></tr><tr><td>RD-19810</td><td>Ross DeVincentis</td><td>2016</td><td>115.76</td></tr><tr><td>MG-17680</td><td>Maureen Gastineau</td><td>2014</td><td>12.91</td></tr><tr><td>NG-18430</td><td>Nathan Gelder</td><td>2017</td><td>28.28</td></tr><tr><td>RS-19420</td><td>Ricardo Sperren</td><td>2016</td><td>14.42</td></tr><tr><td>SC-20305</td><td>Sean Christensen</td><td>2016</td><td>37.46</td></tr><tr><td>PH-18790</td><td>Patricia Hirasaki</td><td>2017</td><td>47.89</td></tr><tr><td>MH-17290</td><td>Marc Harrigan</td><td>2014</td><td>12.21</td></tr><tr><td>SB-20185</td><td>Sarah Brown</td><td>2015</td><td>939.16</td></tr><tr><td>Co-12640</td><td>CoreyLock</td><td>2014</td><td>142.68</td></tr><tr><td>JP-15520</td><td>Jeremy Pistek</td><td>2017</td><td>422.26</td></tr><tr><td>GD-14590</td><td>Giulietta Dortch</td><td>2017</td><td>364.24</td></tr><tr><td>RM-19675</td><td>Robert Marley</td><td>2015</td><td>660.52</td></tr><tr><td>DP-13000</td><td>Darren Powers</td><td>2016</td><td>4.88</td></tr><tr><td>KT-16465</td><td>Kean Takahito</td><td>2016</td><td>156.14</td></tr><tr><td>BE-11455</td><td>Brad Eason</td><td>2015</td><td>120.21</td></tr><tr><td>SC-20575</td><td>Sonia Cooley</td><td>2015</td><td>-2.43</td></tr><tr><td>CA-12265</td><td>Christina Anderson</td><td>2016</td><td>24.60</td></tr><tr><td>BS-11665</td><td>Brian Stugart</td><td>2014</td><td>1.08</td></tr><tr><td>PJ-18835</td><td>Patrick Jones</td><td>2015</td><td>382.38</td></tr><tr><td>DM-12955</td><td>Dario Medina</td><td>2016</td><td>0.26</td></tr><tr><td>BS-11755</td><td>Bruce Stewart</td><td>2015</td><td>18.45</td></tr><tr><td>BW-11200</td><td>Ben Wallace</td><td>2017</td><td>-14.11</td></tr><tr><td>MC-18100</td><td>Mick Crebagga</td><td>2017</td><td>26.70</td></tr><tr><td>AG-10900</td><td>Arthur Gainer</td><td>2015</td><td>18.82</td></tr><tr><td>AG-10525</td><td>Andy Gerbode</td><td>2014</td><td>-93.53</td></tr><tr><td>BF-11215</td><td>Benjamin Farhat</td><td>2014</td><td>21.48</td></tr><tr><td>LC-16960</td><td>Lindsay Castell</td><td>2016</td><td>21.27</td></tr><tr><td>RH-19600</td><td>Rob Haberlin</td><td>2016</td><td>7.25</td></tr><tr><td>BS-11590</td><td>Brendan Sweed</td><td>2014</td><td>97.46</td></tr><tr><td>RH-19600</td><td>Rob Haberlin</td><td>2015</td><td>165.38</td></tr><tr><td>VD-21670</td><td>Valerie Dominguez</td><td>2014</td><td>576.56</td></tr><tr><td>AM-10360</td><td>Alice McCarthy</td><td>2016</td><td>9.98</td></tr><tr><td>DB-12910</td><td>Daniel Byrd</td><td>2017</td><td>280.92</td></tr><tr><td>RD-19480</td><td>Rick Duston</td><td>2017</td><td>276.27</td></tr><tr><td>SV-20365</td><td>Seth Vernon</td><td>2017</td><td>1570.94</td></tr><tr><td>CW-11905</td><td>Carl Weiss</td><td>2015</td><td>21.11</td></tr><tr><td>BN-11470</td><td>Brad Norvell</td><td>2014</td><td>24.68</td></tr><tr><td>RP-19390</td><td>Resi Plking</td><td>2017</td><td>28.30</td></tr><tr><td>NP-18325</td><td>NA</td><td>2014</td><td>314.40</td></tr><tr><td>ML-17410</td><td>Maris LaWare</td><td>2016</td><td>15.00</td></tr><tr><td>DM-13525</td><td>Don Miller</td><td>2016</td><td>18.17</td></tr><tr><td>AG-10765</td><td>Anthony Garverick</td><td>2017</td><td>-66.01</td></tr><tr><td>SR-20740</td><td>Steven Roelle</td><td>2016</td><td>181.53</td></tr><tr><td>SC-20380</td><td>ShahiCollister</td><td>2017</td><td>270.29</td></tr><tr><td>CP-12340</td><td>Christine Phan</td><td>2014</td><td>-1031.67</td></tr><tr><td>EB-14110</td><td>Eugene Barchas</td><td>2016</td><td>187.62</td></tr><tr><td>FW-14395</td><td>Fred Waerman</td><td>2016</td><td>12.21</td></tr><tr><td>GB-14530</td><td>Ge orge Bell</td><td>2016</td><td>-77.54</td></tr><tr><td>IM-15055</td><td>Ionia McGrath</td><td>2016</td><td>956.54</td></tr><tr><td>RS-19420</td><td>Ricardo Sperren</td><td>2014</td><td>318.93</td></tr><tr><td>FC-14335</td><td>Fred Chung</td><td>2017</td><td>502.97</td></tr><tr><td>NG-18430</td><td>Nathan Gelder</td><td>2014</td><td>134.82</td></tr><tr><td>DC-13285</td><td>Debra Catini</td><td>2016</td><td>10.47</td></tr><tr><td>PC-19000</td><td>Pauline Chand</td><td>2014</td><td>-11.83</td></tr><tr><td>CB-12025</td><td>Cassandra Brandow</td><td>2016</td><td>161.25</td></tr><tr><td>NP-18700</td><td>Nora Preis</td><td>2014</td><td>285.95</td></tr><tr><td>SH-20395</td><td>ShahiHopkins</td><td>2014</td><td>-252.19</td></tr><tr><td>JS-15940</td><td>Joni Sundaresam</td><td>2016</td><td>-18.74</td></tr><tr><td>BK-11260</td><td>Berenike Kampe</td><td>2015</td><td>42.04</td></tr><tr><td>MY-18295</td><td>Muhammed YeDwab</td><td>2016</td><td>-290.17</td></tr><tr><td>DP-13105</td><td>Dave Poirier</td><td>2015</td><td>16.29</td></tr><tr><td>DK-13150</td><td>David K lendrick</td><td>2014</td><td>78.50</td></tr><tr><td>SM-20950</td><td>Suzanne McNair</td><td>2016</td><td>43.00</td></tr><tr><td>JA-15970</td><td>Joseph Airdo</td><td>2017</td><td>-1031.00</td></tr><tr><td>PB-19105</td><td>Peter Bhler</td><td>2016</td><td>0.90</td></tr><tr><td>MO-17950</td><td>Michael Oakman</td><td>2017</td><td>-2.70</td></tr><tr><td>TW-21025</td><td>Tamara Willingham</td><td>2017</td><td>-6.06</td></tr><tr><td>NP-18685</td><td>Nora Pelletier</td><td>2015</td><td>449.44</td></tr><tr><td>MO-17950</td><td>Michael Oakman</td><td>2015</td><td>-79.31</td></tr><tr><td>HR-14770</td><td>Hallie Redmond</td><td>2014</td><td>1.60</td></tr><tr><td>RB-19705</td><td>Roger Barcio</td><td>2015</td><td>-82.78</td></tr><tr><td>BD-11620</td><td>Brian DeCherney</td><td>2017</td><td>78.10</td></tr><tr><td>EM-14095</td><td>Eudokia Martin</td><td>2017</td><td>16.93</td></tr><tr><td>SC-20770</td><td>Stewart Carmichael</td><td>2016</td><td>-734.27</td></tr><tr><td>MF-18250</td><td>Monica Federle</td><td>2017</td><td>287.24</td></tr><tr><td>AR-10345</td><td>Alex Russell</td><td>2017</td><td>23.96</td></tr><tr><td>MA-17560</td><td>Matt Abelman</td><td>2014</td><td>562.98</td></tr><tr><td>GZ-14470</td><td>Gary Zandusky</td><td>2017</td><td>259.10</td></tr><tr><td>SS-20410</td><td>ShahiShariari</td><td>2014</td><td>-565.75</td></tr><tr><td>AH-10195</td><td>Alan Haines</td><td>2017</td><td>-16.58</td></tr><tr><td>CD-11980</td><td>Carol Darley</td><td>2016</td><td>7.75</td></tr><tr><td>JF-15190</td><td>Jamie Frazer</td><td>2016</td><td>173.31</td></tr><tr><td>BK-11260</td><td>Berenike Kampe</td><td>2014</td><td>-129.02</td></tr><tr><td>ZC-21910</td><td>Zuschuss Carroll</td><td>2017</td><td>62.34</td></tr><tr><td>BP-11230</td><td>Benjamin Patterson</td><td>2016</td><td>10.21</td></tr><tr><td>PA-19060</td><td>Pete Armstrong</td><td>2015</td><td>121.57</td></tr><tr><td>AG-10900</td><td>Arthur Gainer</td><td>2016</td><td>252.36</td></tr><tr><td>DJ-13510</td><td>Don Jones</td><td>2014</td><td>187.74</td></tr><tr><td>CM-12385</td><td>Christopher Martinez</td><td>2015</td><td>3197.78</td></tr><tr><td>DB-13060</td><td>Dave Brooks</td><td>2016</td><td>294.18</td></tr><tr><td>RW-19630</td><td>Rob Williams</td><td>2016</td><td>346.37</td></tr><tr><td>KA-16525</td><td>Kelly Andreada</td><td>2016</td><td>67.44</td></tr><tr><td>BW-11065</td><td>Barry Weirich</td><td>2017</td><td>-77.13</td></tr><tr><td>KB-16315</td><td>Karl Braun</td><td>2014</td><td>-29.74</td></tr><tr><td>PG-18820</td><td>Patrick Gardner</td><td>2015</td><td>-564.68</td></tr><tr><td>MH-17785</td><td>Maya Herman</td><td>2014</td><td>133.96</td></tr><tr><td>SS-20410</td><td>ShahiShariari</td><td>2017</td><td>58.91</td></tr><tr><td>NR-18550</td><td>Nick Radford</td><td>2017</td><td>48.07</td></tr><tr><td>CK-12760</td><td>Cyma Kinney</td><td>2015</td><td>14.50</td></tr><tr><td>EB-13750</td><td>Edward Becker</td><td>2016</td><td>139.81</td></tr><tr><td>BO-11350</td><td>Bil Overfelt</td><td>2016</td><td>358.03</td></tr><tr><td>JD-16060</td><td>Julia Dunbar</td><td>2014</td><td>8.48</td></tr><tr><td>KF-16285</td><td>Karen Ferguson</td><td>2014</td><td>82.52</td></tr><tr><td>JS-16030</td><td>Joy Smith</td><td>2014</td><td>3.40</td></tr><tr><td>RF-19735</td><td>Roland Fjeld</td><td>2017</td><td>391.47</td></tr><tr><td>GW-14605</td><td>Giulietta Weimer</td><td>2014</td><td>3.63</td></tr><tr><td>MZ-17515</td><td>Mary Zewe</td><td>2016</td><td>-25.24</td></tr><tr><td>SC-20800</td><td>Stuart Calhoun</td><td>2017</td><td>2.58</td></tr><tr><td>SE-20110</td><td>Sanjit Engle</td><td>2016</td><td>2673.77</td></tr><tr><td>MG-18205</td><td>Mitch Gastineau</td><td>2017</td><td>-1.24</td></tr><tr><td>RP-19855</td><td>Roy Phan</td><td>2016</td><td>143.06</td></tr><tr><td>RA-19945</td><td>Ryan Akin</td><td>2015</td><td>96.54</td></tr><tr><td>SV-20785</td><td>Stewart Visinsky</td><td>2017</td><td>9.29</td></tr><tr><td>BC-11125</td><td>Becky Castell</td><td>2015</td><td>92.00</td></tr><tr><td>MH-17290</td><td>Marc Harrigan</td><td>2015</td><td>2.18</td></tr><tr><td>PA-19060</td><td>Pete Armstrong</td><td>2016</td><td>22.56</td></tr><tr><td>RA-19915</td><td>Russell Applegate</td><td>2015</td><td>-118.15</td></tr><tr><td>DM-13015</td><td>Darrin Martin</td><td>2014</td><td>1600.06</td></tr><tr><td>LC-16930</td><td>Linda Cazamias</td><td>2016</td><td>246.91</td></tr><tr><td>PT-19090</td><td>Pete Takahito</td><td>2016</td><td>-17.52</td></tr><tr><td>PF-19165</td><td>Philip Fox</td><td>2015</td><td>75.23</td></tr><tr><td>SC-20095</td><td>Sanjit Chand</td><td>2016</td><td>196.19</td></tr><tr><td>DL-13330</td><td>Denise Leinenbach</td><td>2014</td><td>2.10</td></tr><tr><td>MV-17485</td><td>Mark Van Huff</td><td>2016</td><td>106.42</td></tr><tr><td>FA-14230</td><td>Frank Atkinson</td><td>2016</td><td>39.81</td></tr><tr><td>RM-19675</td><td>Robert Marley</td><td>2014</td><td>200.12</td></tr><tr><td>NF-18595</td><td>Nicole Fjeld</td><td>2015</td><td>258.10</td></tr><tr><td>BW-11110</td><td>Bart Watters</td><td>2015</td><td>103.49</td></tr><tr><td>DB-13270</td><td>Deborah Brumfield</td><td>2014</td><td>45.10</td></tr><tr><td>JE-15745</td><td>Joel Eaton</td><td>2016</td><td>126.62</td></tr><tr><td>SH-19975</td><td>NA</td><td>2015</td><td>51.87</td></tr><tr><td>JM-15535</td><td>Jessica Myrick</td><td>2015</td><td>46.85</td></tr><tr><td>SA-20830</td><td>Sue Ann Reed</td><td>2016</td><td>-17.11</td></tr><tr><td>BD-11725</td><td>Bruce Degenhardt</td><td>2016</td><td>18.00</td></tr><tr><td>CC-12220</td><td>Chris Cortes</td><td>2014</td><td>12.41</td></tr><tr><td>BD-11770</td><td>Bryan Davis</td><td>2017</td><td>30.58</td></tr><tr><td>MG-17890</td><td>Michael Granlund</td><td>2017</td><td>37.99</td></tr><tr><td>AM-10705</td><td>Anne McFarland</td><td>2014</td><td>472.09</td></tr><tr><td>DB-13120</td><td>David Bremer</td><td>2015</td><td>-285.06</td></tr><tr><td>CK-12205</td><td>Chloris Kastensmidt</td><td>2016</td><td>-128.01</td></tr><tr><td>AH-10030</td><td>Aaron Hawkins</td><td>2014</td><td>188.28</td></tr><tr><td>MP-17965</td><td>Michael Paige</td><td>2016</td><td>265.54</td></tr><tr><td>MC-18100</td><td>Mick Crebagga</td><td>2014</td><td>-18.73</td></tr><tr><td>CS-12355</td><td>Christine Sundaresam</td><td>2017</td><td>456.48</td></tr><tr><td>JH-15985</td><td>Joseph Holt</td><td>2017</td><td>68.87</td></tr><tr><td>CK-12595</td><td>Clytie Kelty</td><td>2016</td><td>315.73</td></tr><tr><td>SW-20275</td><td>Scott Williamson</td><td>2017</td><td>100.28</td></tr><tr><td>LC-17050</td><td>Liz Carlisle</td><td>2016</td><td>225.26</td></tr><tr><td>SM-20950</td><td>Suzanne McNair</td><td>2017</td><td>442.28</td></tr><tr><td>PC-19000</td><td>Pauline Chand</td><td>2015</td><td>-172.51</td></tr><tr><td>CC-12475</td><td>Cindy Chapman</td><td>2016</td><td>111.12</td></tr><tr><td>DK-12985</td><td>Darren Koutras</td><td>2015</td><td>-76.43</td></tr><tr><td>PS-19045</td><td>Penelope Sewall</td><td>2017</td><td>1060.32</td></tr><tr><td>PW-19030</td><td>Pauline Webber</td><td>2014</td><td>17.47</td></tr><tr><td>SG-20080</td><td>Sandra Glassco</td><td>2017</td><td>218.25</td></tr><tr><td>GT-14755</td><td>Guy Thornton</td><td>2015</td><td>27.20</td></tr><tr><td>AZ-10750</td><td>Annie Zypern</td><td>2014</td><td>72.86</td></tr><tr><td>GZ-14470</td><td>Gary Zandusky</td><td>2014</td><td>50.43</td></tr><tr><td>RR-19315</td><td>Ralph Ritter</td><td>2016</td><td>3.47</td></tr><tr><td>PB-19150</td><td>Philip Brown</td><td>2016</td><td>38.38</td></tr><tr><td>JM-15535</td><td>Jessica Myrick</td><td>2016</td><td>232.13</td></tr><tr><td>LC-16885</td><td>Lena Creighton</td><td>2016</td><td>147.88</td></tr><tr><td>MG-17890</td><td>Michael Granlund</td><td>2016</td><td>25.93</td></tr><tr><td>KH-16630</td><td>Ken Heidel</td><td>2017</td><td>66.93</td></tr><tr><td>CK-12205</td><td>Chloris Kastensmidt</td><td>2017</td><td>181.08</td></tr><tr><td>YS-21880</td><td>Yana Sorensen</td><td>2015</td><td>254.18</td></tr><tr><td>ON-18715</td><td>Odella Nelson</td><td>2014</td><td>183.11</td></tr><tr><td>SM-20950</td><td>Suzanne McNair</td><td>2014</td><td>-372.11</td></tr><tr><td>KN-16705</td><td>Kristina Nunn</td><td>2014</td><td>186.00</td></tr><tr><td>DB-13270</td><td>Deborah Brumfield</td><td>2015</td><td>1.72</td></tr><tr><td>PP-18955</td><td>Paul Prost</td><td>2015</td><td>67.56</td></tr><tr><td>AG-10300</td><td>Aleksandra Gannaway</td><td>2017</td><td>1.67</td></tr><tr><td>ML-18265</td><td>Muhammed Lee</td><td>2017</td><td>41.51</td></tr><tr><td>RB-19795</td><td>Ross Baird</td><td>2015</td><td>-18.46</td></tr><tr><td>BP-11155</td><td>Becky Pak</td><td>2015</td><td>431.98</td></tr><tr><td>BS-11590</td><td>Brendan Sweed</td><td>2016</td><td>12.36</td></tr><tr><td>AY-10555</td><td>Andy Yotov</td><td>2016</td><td>6.70</td></tr><tr><td>SH-19975</td><td>NA</td><td>2016</td><td>317.46</td></tr><tr><td>AH-10465</td><td>Amy Hunt</td><td>2017</td><td>147.87</td></tr><tr><td>RP-19390</td><td>Resi Plking</td><td>2014</td><td>262.81</td></tr><tr><td>GB-14575</td><td>Giulietta Baptist</td><td>2016</td><td>73.22</td></tr><tr><td>PO-18865</td><td>Patrick ODonnell</td><td>2016</td><td>67.60</td></tr><tr><td>CK-12760</td><td>Cyma Kinney</td><td>2014</td><td>66.59</td></tr><tr><td>MC-17275</td><td>Marc Crier</td><td>2016</td><td>20.91</td></tr><tr><td>MS-17830</td><td>Melanie Seite</td><td>2015</td><td>32.45</td></tr><tr><td>NW-18400</td><td>Natalie Webber</td><td>2017</td><td>11.82</td></tr><tr><td>JP-15460</td><td>Jennifer Patt</td><td>2014</td><td>10.81</td></tr><tr><td>WB-21850</td><td>William Brown</td><td>2016</td><td>293.65</td></tr><tr><td>AI-10855</td><td>Arianne Irving</td><td>2017</td><td>77.28</td></tr><tr><td>JO-15145</td><td>Jack OBriant</td><td>2014</td><td>101.03</td></tr><tr><td>DB-13615</td><td>Doug Bickford</td><td>2017</td><td>60.50</td></tr><tr><td>DL-12925</td><td>Daniel Lacy</td><td>2014</td><td>-324.87</td></tr><tr><td>CS-12460</td><td>Chuck Sachs</td><td>2017</td><td>156.27</td></tr><tr><td>SU-20665</td><td>Stephanie Ulpright</td><td>2015</td><td>76.40</td></tr><tr><td>AH-10465</td><td>Amy Hunt</td><td>2015</td><td>-342.08</td></tr><tr><td>TB-21625</td><td>Trudy Brown</td><td>2014</td><td>83.99</td></tr><tr><td>RS-19420</td><td>Ricardo Sperren</td><td>2017</td><td>300.10</td></tr><tr><td>FP-14320</td><td>Frank Preis</td><td>2017</td><td>49.32</td></tr><tr><td>AH-10585</td><td>Angele Hood</td><td>2017</td><td>28.92</td></tr><tr><td>AA-10315</td><td>Alex Avila</td><td>2014</td><td>280.68</td></tr><tr><td>QJ-19255</td><td>Quincy Jones</td><td>2016</td><td>168.88</td></tr><tr><td>JA-15970</td><td>Joseph Airdo</td><td>2016</td><td>114.19</td></tr><tr><td>KM-16225</td><td>Kalyca Meade</td><td>2016</td><td>56.34</td></tr><tr><td>LS-17230</td><td>Lycoris Saunders</td><td>2015</td><td>55.24</td></tr><tr><td>CA-11965</td><td>Carol Adams</td><td>2017</td><td>16.48</td></tr><tr><td>JL-15235</td><td>Janet Lee</td><td>2014</td><td>-190.51</td></tr><tr><td>MS-17530</td><td>MaryBeth Skach</td><td>2015</td><td>45.29</td></tr><tr><td>SA-20830</td><td>Sue Ann Reed</td><td>2014</td><td>351.32</td></tr><tr><td>KH-16360</td><td>Katherine Hughes</td><td>2016</td><td>57.83</td></tr><tr><td>BF-11005</td><td>Barry Franz</td><td>2014</td><td>2.37</td></tr><tr><td>CR-12580</td><td>Clay Rozendal</td><td>2017</td><td>108.80</td></tr><tr><td>RD-19480</td><td>Rick Duston</td><td>2014</td><td>109.52</td></tr><tr><td>FM-14290</td><td>Frank Merwin</td><td>2015</td><td>1.03</td></tr><tr><td>SE-20110</td><td>Sanjit Engle</td><td>2014</td><td>54.41</td></tr><tr><td>DM-13015</td><td>Darrin Martin</td><td>2017</td><td>106.77</td></tr><tr><td>GT-14710</td><td>Greg Tran</td><td>2014</td><td>738.65</td></tr><tr><td>SW-20245</td><td>Scot Wooten</td><td>2016</td><td>82.53</td></tr><tr><td>SJ-20500</td><td>Shirley Jackson</td><td>2014</td><td>57.93</td></tr><tr><td>PB-19210</td><td>Phillip Breyer</td><td>2016</td><td>0.70</td></tr><tr><td>RD-19660</td><td>Robert Dilbeck</td><td>2015</td><td>-73.41</td></tr><tr><td>JL-15235</td><td>Janet Lee</td><td>2016</td><td>103.36</td></tr><tr><td>TG-21640</td><td>Trudy Glocke</td><td>2015</td><td>191.28</td></tr><tr><td>AB-10600</td><td>Ann Blume</td><td>2017</td><td>-256.46</td></tr><tr><td>PW-19030</td><td>Pauline Webber</td><td>2017</td><td>333.80</td></tr><tr><td>SL-20155</td><td>Sara Luxemburg</td><td>2015</td><td>64.77</td></tr><tr><td>TG-21310</td><td>Toby Gnade</td><td>2016</td><td>844.64</td></tr><tr><td>JM-16195</td><td>Justin MacKendrick</td><td>2016</td><td>23.86</td></tr><tr><td>MG-17875</td><td>Michael Grace</td><td>2017</td><td>-29.44</td></tr><tr><td>LC-16960</td><td>Lindsay Castell</td><td>2015</td><td>278.20</td></tr><tr><td>MD-17350</td><td>Maribeth Dona</td><td>2015</td><td>51.66</td></tr><tr><td>TN-21040</td><td>Tanja Norvell</td><td>2015</td><td>167.98</td></tr><tr><td>CS-12505</td><td>Cindy Stewart</td><td>2017</td><td>43.71</td></tr><tr><td>TR-21325</td><td>Toby Ritter</td><td>2014</td><td>28.52</td></tr><tr><td>JL-15505</td><td>Jeremy Lonsdale</td><td>2017</td><td>529.02</td></tr><tr><td>CL-11890</td><td>Carl Ludwig</td><td>2017</td><td>353.07</td></tr><tr><td>CA-11965</td><td>Carol Adams</td><td>2015</td><td>182.16</td></tr><tr><td>AB-10060</td><td>Adam Bellavance</td><td>2015</td><td>8.71</td></tr><tr><td>SA-20830</td><td>Sue Ann Reed</td><td>2015</td><td>98.08</td></tr><tr><td>NL-18310</td><td>Nancy Lomonaco</td><td>2015</td><td>34.59</td></tr><tr><td>CY-12745</td><td>Craig Yedwab</td><td>2017</td><td>240.54</td></tr><tr><td>MA-17560</td><td>Matt Abelman</td><td>2017</td><td>30.13</td></tr><tr><td>MO-17500</td><td>Mary ORourke</td><td>2016</td><td>120.86</td></tr><tr><td>MH-17440</td><td>Mark Haberlin</td><td>2016</td><td>12.58</td></tr><tr><td>RF-19840</td><td>Roy Franzsisch</td><td>2015</td><td>0.06</td></tr><tr><td>LH-17155</td><td>Logan Haushalter</td><td>2015</td><td>94.85</td></tr><tr><td>JK-15625</td><td>Jim Karlsson</td><td>2017</td><td>8.86</td></tr><tr><td>CJ-11875</td><td>Carl Jackson</td><td>2016</td><td>1.65</td></tr><tr><td>KB-16315</td><td>Karl Braun</td><td>2015</td><td>-18.21</td></tr><tr><td>RF-19345</td><td>Randy Ferguson</td><td>2014</td><td>92.94</td></tr><tr><td>MK-17905</td><td>Michael Kennedy</td><td>2017</td><td>7.01</td></tr><tr><td>JM-15535</td><td>Jessica Myrick</td><td>2017</td><td>18.56</td></tr><tr><td>LS-16975</td><td>Lindsay Shagiari</td><td>2017</td><td>229.37</td></tr><tr><td>TM-21010</td><td>Tamara Manning</td><td>2017</td><td>205.84</td></tr><tr><td>BT-11680</td><td>Brian Thompson</td><td>2016</td><td>176.51</td></tr><tr><td>MZ-17515</td><td>Mary Zewe</td><td>2014</td><td>786.80</td></tr><tr><td>RF-19735</td><td>Roland Fjeld</td><td>2015</td><td>187.10</td></tr><tr><td>KD-16615</td><td>NA</td><td>2015</td><td>272.58</td></tr><tr><td>HR-14830</td><td>Harold Ryan</td><td>2017</td><td>1000.69</td></tr><tr><td>DP-13390</td><td>Dennis Pardue</td><td>2015</td><td>-223.85</td></tr><tr><td>HP-14815</td><td>Harold Pawlan</td><td>2014</td><td>101.69</td></tr><tr><td>KM-16375</td><td>Katherine Murray</td><td>2015</td><td>29.31</td></tr><tr><td>TN-21040</td><td>Tanja Norvell</td><td>2016</td><td>-903.28</td></tr><tr><td>SH-19975</td><td>NA</td><td>2014</td><td>54.47</td></tr><tr><td>SC-20380</td><td>ShahiCollister</td><td>2014</td><td>-3462.20</td></tr><tr><td>RB-19570</td><td>Rob Beeghly</td><td>2017</td><td>82.88</td></tr><tr><td>DV-13465</td><td>Dianna Vittorini</td><td>2015</td><td>101.77</td></tr><tr><td>GT-14710</td><td>Greg Tran</td><td>2017</td><td>83.62</td></tr><tr><td>SN-20710</td><td>Steve Nguyen</td><td>2014</td><td>32.94</td></tr><tr><td>KN-16450</td><td>Kean Nguyen</td><td>2017</td><td>112.42</td></tr><tr><td>JF-15565</td><td>Jill Fjeld</td><td>2014</td><td>78.55</td></tr><tr><td>MC-17845</td><td>Michael Chen</td><td>2014</td><td>395.76</td></tr><tr><td>CA-12775</td><td>Cynthia Arntzen</td><td>2014</td><td>111.79</td></tr><tr><td>DL-13495</td><td>Dionis Lloyd</td><td>2016</td><td>97.84</td></tr><tr><td>XP-21865</td><td>Xylona Preis</td><td>2016</td><td>314.09</td></tr><tr><td>AA-10645</td><td>Anna Andreadi</td><td>2016</td><td>334.63</td></tr><tr><td>PS-18760</td><td>Pamela Stobb</td><td>2016</td><td>133.30</td></tr><tr><td>SC-20680</td><td>Steve Carroll</td><td>2014</td><td>31.53</td></tr><tr><td>DV-13045</td><td>Darrin Van Huff</td><td>2016</td><td>17.48</td></tr><tr><td>DL-13330</td><td>Denise Leinenbach</td><td>2016</td><td>5.22</td></tr><tr><td>EM-14095</td><td>Eudokia Martin</td><td>2016</td><td>30.63</td></tr><tr><td>AB-10255</td><td>Alejandro Ballentine</td><td>2015</td><td>34.34</td></tr><tr><td>BB-10990</td><td>Barry Blumstein</td><td>2014</td><td>0.00</td></tr><tr><td>JE-15715</td><td>Joe Elijah</td><td>2017</td><td>60.42</td></tr><tr><td>AA-10645</td><td>Anna Andreadi</td><td>2015</td><td>439.31</td></tr><tr><td>BF-11170</td><td>Ben Ferrer</td><td>2015</td><td>137.03</td></tr><tr><td>CM-12655</td><td>Corinna Mitchell</td><td>2016</td><td>599.89</td></tr><tr><td>LT-16765</td><td>Larry Tron</td><td>2015</td><td>20.16</td></tr><tr><td>FW-14395</td><td>Fred Waerman</td><td>2017</td><td>5.81</td></tr><tr><td>AA-10375</td><td>Allen Armold</td><td>2016</td><td>122.73</td></tr><tr><td>SG-20470</td><td>Sheri Gordon</td><td>2014</td><td>150.92</td></tr><tr><td>ST-20530</td><td>Shui Tom</td><td>2014</td><td>45.32</td></tr><tr><td>RL-19615</td><td>Rob Lucas</td><td>2015</td><td>110.11</td></tr><tr><td>MY-18295</td><td>Muhammed YeDwab</td><td>2017</td><td>21.59</td></tr><tr><td>NF-18385</td><td>Natalie Fritzler</td><td>2015</td><td>-1980.38</td></tr><tr><td>AC-10615</td><td>Ann Chong</td><td>2015</td><td>-32.30</td></tr><tr><td>PG-18820</td><td>Patrick Gardner</td><td>2014</td><td>54.45</td></tr><tr><td>BT-11395</td><td>Bil Tyler</td><td>2015</td><td>194.73</td></tr><tr><td>MC-17635</td><td>Matthew Clasen</td><td>2016</td><td>27.42</td></tr><tr><td>DJ-13630</td><td>Doug Jacobs</td><td>2015</td><td>36.00</td></tr><tr><td>MM-18280</td><td>Muhammed MacIntyre</td><td>2015</td><td>68.20</td></tr><tr><td>NC-18415</td><td>Nathan Cano</td><td>2017</td><td>-2330.27</td></tr><tr><td>DK-13090</td><td>Dave Kipp</td><td>2015</td><td>173.71</td></tr><tr><td>PA-19060</td><td>Pete Armstrong</td><td>2017</td><td>35.89</td></tr><tr><td>DM-13525</td><td>Don Miller</td><td>2014</td><td>14.49</td></tr><tr><td>HF-14995</td><td>Herbert Flentye</td><td>2017</td><td>20.49</td></tr><tr><td>KC-16540</td><td>Kelly Collister</td><td>2015</td><td>49.27</td></tr><tr><td>FH-14275</td><td>Frank Hawley</td><td>2017</td><td>12936.86</td></tr><tr><td>VF-21715</td><td>Vicky Freymann</td><td>2014</td><td>-158.76</td></tr><tr><td>HW-14935</td><td>Helen Waerman</td><td>2016</td><td>200.27</td></tr><tr><td>LP-17095</td><td>Liz Preis</td><td>2017</td><td>259.09</td></tr><tr><td>BS-11365</td><td>Bi l Shonely</td><td>2014</td><td>210.70</td></tr><tr><td>SC-20230</td><td>Scot Coram</td><td>2016</td><td>435.65</td></tr><tr><td>GH-14425</td><td>Gary Hwang</td><td>2015</td><td>59.65</td></tr><tr><td>NC-18625</td><td>Noah Childs</td><td>2017</td><td>48.78</td></tr><tr><td>VD-21670</td><td>Valerie Dominguez</td><td>2016</td><td>50.19</td></tr><tr><td>CS-12175</td><td>Charles Sheldon</td><td>2016</td><td>18.35</td></tr><tr><td>AJ-10960</td><td>Astrea Jones</td><td>2017</td><td>2.77</td></tr><tr><td>AP-10915</td><td>Arthur Prichep</td><td>2014</td><td>420.70</td></tr><tr><td>ED-13885</td><td>NA</td><td>2017</td><td>-107.98</td></tr><tr><td>MW-18220</td><td>Mitch Webber</td><td>2016</td><td>0.50</td></tr><tr><td>JC-15775</td><td>John Castell</td><td>2015</td><td>27.63</td></tr><tr><td>TS-21655</td><td>Trudy Schmidt</td><td>2016</td><td>364.87</td></tr><tr><td>AB-10015</td><td>Aaron Bergman</td><td>2016</td><td>116.86</td></tr><tr><td>CK-12205</td><td>Chloris Kastensmidt</td><td>2015</td><td>5.53</td></tr><tr><td>BM-11785</td><td>Bryan Mills</td><td>2016</td><td>56.37</td></tr><tr><td>SW-20455</td><td>Shaun Weien</td><td>2016</td><td>125.20</td></tr><tr><td>VB-21745</td><td>Victo ria Brennan</td><td>2016</td><td>105.42</td></tr><tr><td>RH-19555</td><td>Ritsa Hightower</td><td>2016</td><td>6.34</td></tr><tr><td>DJ-13420</td><td>Denny Joy</td><td>2014</td><td>39.77</td></tr><tr><td>ML-17395</td><td>Marina Lichtenstein</td><td>2016</td><td>192.19</td></tr><tr><td>SP-20545</td><td>Sibella Parks</td><td>2017</td><td>81.96</td></tr><tr><td>SC-20800</td><td>Stuart Calhoun</td><td>2015</td><td>40.63</td></tr><tr><td>MK-18160</td><td>Mike Kennedy</td><td>2016</td><td>41.08</td></tr><tr><td>PV-18985</td><td>PaulVan Hugh</td><td>2017</td><td>283.49</td></tr><tr><td>ZD-21925</td><td>Zuschuss Donatelli</td><td>2016</td><td>206.67</td></tr><tr><td>TC-21475</td><td>Tony Chapman</td><td>2015</td><td>27.00</td></tr><tr><td>TB-21520</td><td>Tracy Blumstein</td><td>2014</td><td>-125.24</td></tr><tr><td>CC-12475</td><td>Cindy Chapman</td><td>2014</td><td>3.38</td></tr><tr><td>SS-20875</td><td>Sung Shariari</td><td>2014</td><td>-9.15</td></tr><tr><td>AM-10705</td><td>Anne McFarland</td><td>2016</td><td>90.26</td></tr><tr><td>NM-18445</td><td>Nathan Mautz</td><td>2017</td><td>4.35</td></tr><tr><td>SC-20575</td><td>Sonia Cooley</td><td>2017</td><td>70.27</td></tr><tr><td>VD-21670</td><td>Valerie Dominguez</td><td>2015</td><td>990.86</td></tr><tr><td>PA-19060</td><td>Pete Armstrong</td><td>2014</td><td>45.84</td></tr><tr><td>JE-15475</td><td>Jeremy Ellison</td><td>2016</td><td>185.63</td></tr><tr><td>MB-17305</td><td>Maria Bertelson</td><td>2014</td><td>-13.83</td></tr><tr><td>BG-11740</td><td>Bruce Geld</td><td>2016</td><td>59.30</td></tr><tr><td>RF-19345</td><td>Randy Ferguson</td><td>2016</td><td>438.73</td></tr><tr><td>EB-13840</td><td>Ellis Ballard</td><td>2015</td><td>610.86</td></tr><tr><td>LS-17245</td><td>Lynn Smith</td><td>2015</td><td>4.80</td></tr><tr><td>PS-19045</td><td>Penelope Sewall</td><td>2016</td><td>6.32</td></tr><tr><td>HF-14995</td><td>Herbert Flentye</td><td>2014</td><td>132.47</td></tr><tr><td>JS-15685</td><td>Jim Sink</td><td>2017</td><td>45.13</td></tr><tr><td>NS-18505</td><td>Neola Schneider</td><td>2017</td><td>-31.86</td></tr><tr><td>MF-18250</td><td>Monica Federle</td><td>2015</td><td>152.73</td></tr><tr><td>CK-12205</td><td>Chloris Kastensmidt</td><td>2014</td><td>82.99</td></tr><tr><td>GK-14620</td><td>Grace Kelly</td><td>2015</td><td>86.65</td></tr><tr><td>AY-10555</td><td>Andy Yotov</td><td>2014</td><td>65.60</td></tr><tr><td>AG-10330</td><td>Alex Grayson</td><td>2016</td><td>61.74</td></tr><tr><td>MG-18145</td><td>Mike Gockenbach</td><td>2017</td><td>196.72</td></tr><tr><td>LH-17020</td><td>Lisa Hazard</td><td>2014</td><td>-79.34</td></tr><tr><td>HG-14845</td><td>Harry Greene</td><td>2015</td><td>-2.01</td></tr><tr><td>MZ-17335</td><td>Maria Zettner</td><td>2017</td><td>15.51</td></tr><tr><td>KB-16315</td><td>Karl Braun</td><td>2017</td><td>69.64</td></tr><tr><td>TB-21250</td><td>Tim Brockman</td><td>2016</td><td>-40.36</td></tr><tr><td>BF-11170</td><td>Ben Ferrer</td><td>2014</td><td>666.39</td></tr><tr><td>CG-12040</td><td>Catherine Glotzbach</td><td>2016</td><td>58.68</td></tr><tr><td>NF-18385</td><td>Natalie Fritzler</td><td>2017</td><td>163.46</td></tr><tr><td>MZ-17515</td><td>Mary Zewe</td><td>2015</td><td>8.21</td></tr><tr><td>KN-16450</td><td>Kean Nguyen</td><td>2014</td><td>119.98</td></tr><tr><td>AH-10210</td><td>Alan Hwang</td><td>2016</td><td>5.57</td></tr><tr><td>MN-17935</td><td>Michael Nguyen</td><td>2014</td><td>31.17</td></tr><tr><td>EM-13960</td><td>Eric Murdock</td><td>2017</td><td>50.37</td></tr><tr><td>BS-11755</td><td>Bruce Stewart</td><td>2014</td><td>-330.55</td></tr><tr><td>EB-13930</td><td>Eric Barreto</td><td>2016</td><td>74.27</td></tr><tr><td>BD-11605</td><td>Brian Dahlen</td><td>2017</td><td>87.99</td></tr><tr><td>AO-10810</td><td>Anthony ODonnell</td><td>2016</td><td>12.10</td></tr><tr><td>ES-14080</td><td>Erin Smith</td><td>2016</td><td>-99.22</td></tr><tr><td>DP-13105</td><td>Dave Poirier</td><td>2017</td><td>60.54</td></tr><tr><td>PK-19075</td><td>Pete Kriz</td><td>2016</td><td>407.41</td></tr><tr><td>IL-15100</td><td>Ivan Liston</td><td>2016</td><td>19.56</td></tr><tr><td>BD-11500</td><td>Bradley Drucker</td><td>2015</td><td>70.98</td></tr><tr><td>SB-20185</td><td>Sarah Brown</td><td>2017</td><td>13.32</td></tr><tr><td>BM-11140</td><td>Becky Martin</td><td>2016</td><td>118.92</td></tr><tr><td>BP-11230</td><td>Benjamin Patterson</td><td>2017</td><td>20.58</td></tr><tr><td>EM-14140</td><td>Eugene Moren</td><td>2015</td><td>271.41</td></tr><tr><td>SC-20440</td><td>Shaun Chance</td><td>2015</td><td>375.28</td></tr><tr><td>SR-20740</td><td>Steven Roelle</td><td>2015</td><td>2.40</td></tr><tr><td>HZ-14950</td><td>Henia Zydlo</td><td>2016</td><td>6.29</td></tr><tr><td>TT-21070</td><td>Ted Trevino</td><td>2014</td><td>121.40</td></tr><tr><td>JK-16090</td><td>Juliana Krohn</td><td>2015</td><td>228.90</td></tr><tr><td>HM-14860</td><td>Harry Marie</td><td>2016</td><td>82.75</td></tr><tr><td>CC-12670</td><td>Craig Carreira</td><td>2016</td><td>53.66</td></tr><tr><td>TB-21190</td><td>Thomas Brumley</td><td>2014</td><td>161.97</td></tr><tr><td>LW-17125</td><td>Liz Willingham</td><td>2014</td><td>21.75</td></tr><tr><td>SS-20590</td><td>Sonia Sunley</td><td>2015</td><td>8.02</td></tr><tr><td>DE-13255</td><td>NA</td><td>2014</td><td>9.85</td></tr><tr><td>EA-14035</td><td>Erin Ashbrook</td><td>2016</td><td>-342.69</td></tr><tr><td>DL-13315</td><td>Delfina Latchford</td><td>2014</td><td>-11.89</td></tr><tr><td>GH-14665</td><td>Greg Hansen</td><td>2017</td><td>-8.88</td></tr><tr><td>SN-20710</td><td>Steve Nguyen</td><td>2017</td><td>-18.19</td></tr><tr><td>KW-16435</td><td>Kat rina Willman</td><td>2017</td><td>123.13</td></tr><tr><td>CC-12430</td><td>Chuck Clark</td><td>2016</td><td>255.32</td></tr><tr><td>GH-14410</td><td>Gary Hansen</td><td>2014</td><td>53.34</td></tr><tr><td>BH-11710</td><td>Brosina Hoffman</td><td>2015</td><td>5.84</td></tr><tr><td>SG-20890</td><td>Susan Gilcrest</td><td>2016</td><td>6.63</td></tr><tr><td>Dl-13600</td><td>Dorris liebe</td><td>2016</td><td>146.39</td></tr><tr><td>PB-19150</td><td>Philip Brown</td><td>2015</td><td>157.66</td></tr><tr><td>DR-12880</td><td>Dan Reichenbach</td><td>2016</td><td>126.06</td></tr><tr><td>JS-15595</td><td>Ji Stevenson</td><td>2016</td><td>78.40</td></tr><tr><td>CK-12325</td><td>Christine Kargatis</td><td>2017</td><td>-124.27</td></tr><tr><td>BF-11275</td><td>Beth Fritzler</td><td>2017</td><td>38.00</td></tr><tr><td>TB-21250</td><td>Tim Brockman</td><td>2015</td><td>318.53</td></tr><tr><td>DO-13435</td><td>Denny Ordway</td><td>2017</td><td>83.17</td></tr><tr><td>AS-10240</td><td>Alan Shonely</td><td>2016</td><td>23.18</td></tr><tr><td>Dp-13240</td><td>Dean perceR</td><td>2015</td><td>1145.83</td></tr><tr><td>JL-15835</td><td>John Lee</td><td>2016</td><td>2.80</td></tr><tr><td>JL-15130</td><td>Jack Lebron</td><td>2017</td><td>-218.57</td></tr><tr><td>VP-21760</td><td>Victoria Pisteka</td><td>2014</td><td>118.07</td></tr><tr><td>SW-20755</td><td>Steven Ward</td><td>2016</td><td>48.52</td></tr><tr><td>AF-10870</td><td>Art Ferguson</td><td>2017</td><td>-75.19</td></tr><tr><td>KL-16645</td><td>Ken Lonsdale</td><td>2017</td><td>161.72</td></tr><tr><td>AR-10510</td><td>Andrew Roberts</td><td>2016</td><td>18.89</td></tr><tr><td>EH-14185</td><td>Evan Henry</td><td>2014</td><td>26.43</td></tr><tr><td>CS-11950</td><td>Carlos Soltero</td><td>2014</td><td>-88.07</td></tr><tr><td>CA-12265</td><td>Christina Anderson</td><td>2014</td><td>16.97</td></tr><tr><td>Dl-13600</td><td>Dorris liebe</td><td>2014</td><td>29.17</td></tr><tr><td>TC-21475</td><td>Tony Chapman</td><td>2014</td><td>-16.47</td></tr><tr><td>BH-11710</td><td>Brosina Hoffman</td><td>2017</td><td>119.51</td></tr><tr><td>TA-21385</td><td>Tom Ashbrook</td><td>2016</td><td>-76.00</td></tr><tr><td>VS-21820</td><td>Vivek Sundaresam</td><td>2016</td><td>-7.81</td></tr><tr><td>SC-20725</td><td>Steven Cartwright</td><td>2017</td><td>483.77</td></tr><tr><td>MC-17275</td><td>Marc Crier</td><td>2015</td><td>197.66</td></tr><tr><td>BN-11515</td><td>Bradley Nguyen</td><td>2016</td><td>112.78</td></tr><tr><td>RH-19510</td><td>Rick Huthwaite</td><td>2016</td><td>1152.82</td></tr><tr><td>CH-12070</td><td>Cathy Hwang</td><td>2015</td><td>57.39</td></tr><tr><td>BM-11785</td><td>Bryan Mills</td><td>2017</td><td>6.92</td></tr><tr><td>LA-16780</td><td>Laura Armstrong</td><td>2015</td><td>-0.12</td></tr><tr><td>KB-16585</td><td>Ken Black</td><td>2014</td><td>175.16</td></tr><tr><td>RF-19345</td><td>Randy Ferguson</td><td>2015</td><td>102.01</td></tr><tr><td>AT-10435</td><td>Alyssa Tate</td><td>2015</td><td>-2.53</td></tr><tr><td>TH-21550</td><td>Tracy Hopkins</td><td>2017</td><td>-990.17</td></tr><tr><td>BC-11125</td><td>Becky Castell</td><td>2014</td><td>38.13</td></tr><tr><td>MP-17965</td><td>Michael Paige</td><td>2015</td><td>255.75</td></tr><tr><td>PJ-19015</td><td>Pauline Johnson</td><td>2015</td><td>40.07</td></tr><tr><td>MC-17605</td><td>Matt Connell</td><td>2014</td><td>49.37</td></tr><tr><td>EC-14050</td><td>Erin Creighton</td><td>2016</td><td>43.09</td></tr><tr><td>MM-17920</td><td>Michael Moore</td><td>2015</td><td>-373.30</td></tr><tr><td>AI-10855</td><td>Arianne Irving</td><td>2015</td><td>17.03</td></tr><tr><td>SB-20290</td><td>Sean Braxton</td><td>2015</td><td>79.76</td></tr><tr><td>AM-10705</td><td>Anne McFarland</td><td>2015</td><td>14.70</td></tr><tr><td>MT-17815</td><td>Meg Tillman</td><td>2017</td><td>74.98</td></tr><tr><td>AH-10690</td><td>Anna Hberlin</td><td>2015</td><td>106.62</td></tr><tr><td>TP-21415</td><td>Tom Prescott</td><td>2016</td><td>-91.11</td></tr><tr><td>KT-16480</td><td>Kean Thornton</td><td>2017</td><td>34.32</td></tr><tr><td>HH-15010</td><td>Hilary Holden</td><td>2014</td><td>60.27</td></tr><tr><td>KE-16420</td><td>Kat rina Edelman</td><td>2017</td><td>-18.38</td></tr><tr><td>KN-16705</td><td>Kristina Nunn</td><td>2015</td><td>-183.11</td></tr><tr><td>DH-13075</td><td>Dave Hallsten</td><td>2014</td><td>323.13</td></tr><tr><td>MG-17695</td><td>Maureen Gnade</td><td>2015</td><td>-392.86</td></tr><tr><td>AC-10450</td><td>Amy Cox</td><td>2015</td><td>24.98</td></tr><tr><td>TH-21235</td><td>Tiffany House</td><td>2014</td><td>-2.93</td></tr><tr><td>JE-15475</td><td>Jeremy Ellison</td><td>2015</td><td>57.22</td></tr><tr><td>AG-10675</td><td>Anna Gayman</td><td>2015</td><td>-25.99</td></tr><tr><td>PS-18760</td><td>Pamela Stobb</td><td>2014</td><td>11.88</td></tr><tr><td>BD-11320</td><td>Bil Donatelli</td><td>2017</td><td>197.79</td></tr><tr><td>JB-15400</td><td>Jennifer Braxton</td><td>2014</td><td>-124.57</td></tr><tr><td>NF-18385</td><td>Natalie Fritzler</td><td>2014</td><td>186.74</td></tr><tr><td>DE-13255</td><td>NA</td><td>2015</td><td>438.48</td></tr><tr><td>GH-14665</td><td>Greg Hansen</td><td>2015</td><td>3.07</td></tr><tr><td>TH-21100</td><td>Thea Hendricks</td><td>2017</td><td>10.05</td></tr><tr><td>MH-18115</td><td>Mick Hernandez</td><td>2017</td><td>387.20</td></tr><tr><td>EG-13900</td><td>Emily Grady</td><td>2015</td><td>55.00</td></tr><tr><td>BT-11440</td><td>Bobby Trafton</td><td>2014</td><td>-5.37</td></tr><tr><td>CS-12250</td><td>Chris Selesnick</td><td>2016</td><td>22.14</td></tr><tr><td>GH-14485</td><td>Gene Hale</td><td>2015</td><td>-71.00</td></tr><tr><td>LC-16885</td><td>Lena Creighton</td><td>2017</td><td>-67.97</td></tr><tr><td>DB-13555</td><td>Dorothy Badders</td><td>2017</td><td>101.29</td></tr><tr><td>RP-19270</td><td>Rachel Payne</td><td>2014</td><td>97.86</td></tr><tr><td>EB-13870</td><td>Emily Burns</td><td>2014</td><td>16.02</td></tr><tr><td>NB-18655</td><td>Nona Balk</td><td>2016</td><td>-157.96</td></tr><tr><td>EH-14125</td><td>Eugene Hildebrand</td><td>2017</td><td>265.62</td></tr><tr><td>MS-17365</td><td>Maribeth chnelling</td><td>2016</td><td>514.79</td></tr><tr><td>AT-10735</td><td>Annie Thurman</td><td>2017</td><td>111.72</td></tr><tr><td>ED-13885</td><td>NA</td><td>2016</td><td>185.14</td></tr><tr><td>DK-12835</td><td>Damala Kotsonis</td><td>2014</td><td>-22.36</td></tr><tr><td>JG-15310</td><td>Jason Gross</td><td>2017</td><td>26.52</td></tr><tr><td>KM-16660</td><td>Khloe Miller</td><td>2015</td><td>34.35</td></tr><tr><td>MY-18295</td><td>Muhammed YeDwab</td><td>2014</td><td>-103.13</td></tr><tr><td>GH-14410</td><td>Gary Hansen</td><td>2017</td><td>-496.24</td></tr><tr><td>PS-18760</td><td>Pamela Stobb</td><td>2017</td><td>-166.52</td></tr><tr><td>HD-14785</td><td>Harold Dahlen</td><td>2015</td><td>30.99</td></tr><tr><td>KH-16330</td><td>Katharine Harms</td><td>2014</td><td>261.33</td></tr><tr><td>JK-15370</td><td>Jay Kimmel</td><td>2017</td><td>79.47</td></tr><tr><td>DL-13495</td><td>Dionis Lloyd</td><td>2015</td><td>50.35</td></tr><tr><td>KC-16675</td><td>Kimberly Carter</td><td>2017</td><td>156.37</td></tr><tr><td>SC-20260</td><td>Scott Cohen</td><td>2017</td><td>200.26</td></tr><tr><td>JP-16135</td><td>Julie Prescott</td><td>2016</td><td>275.44</td></tr><tr><td>RD-19930</td><td>Russell DAscenzo</td><td>2015</td><td>39.00</td></tr><tr><td>OT-18730</td><td>Olvera Toch</td><td>2017</td><td>175.55</td></tr><tr><td>MS-17530</td><td>MaryBeth Skach</td><td>2014</td><td>2.69</td></tr><tr><td>MH-17455</td><td>Mark Hamilton</td><td>2015</td><td>16.18</td></tr><tr><td>LH-16750</td><td>Larry Hughes</td><td>2017</td><td>17.67</td></tr><tr><td>JH-15910</td><td>Jonathan Howell</td><td>2017</td><td>-125.38</td></tr><tr><td>TT-21460</td><td>Tonja Turnell</td><td>2016</td><td>2.40</td></tr><tr><td>PB-18805</td><td>Patrick Bzostek</td><td>2015</td><td>7.56</td></tr><tr><td>CM-12115</td><td>Chad McGuire</td><td>2017</td><td>400.47</td></tr><tr><td>DB-13360</td><td>Dennis Bolton</td><td>2017</td><td>113.54</td></tr><tr><td>BS-11665</td><td>Brian Stugart</td><td>2016</td><td>62.26</td></tr><tr><td>PN-18775</td><td>Parhena Norris</td><td>2017</td><td>48.35</td></tr><tr><td>AC-10660</td><td>Anna Chung</td><td>2016</td><td>8.61</td></tr><tr><td>BS-11800</td><td>Bryan Spruell</td><td>2017</td><td>116.94</td></tr><tr><td>SJ-20125</td><td>Sanjit Jacobs</td><td>2016</td><td>266.13</td></tr><tr><td>ES-14020</td><td>Erica Smith</td><td>2017</td><td>871.82</td></tr><tr><td>EH-14005</td><td>Erica Hernandez</td><td>2017</td><td>144.29</td></tr><tr><td>DE-13255</td><td>NA</td><td>2016</td><td>16.15</td></tr><tr><td>DB-13060</td><td>Dave Brooks</td><td>2014</td><td>409.76</td></tr><tr><td>TB-21595</td><td>Troy Blackwell</td><td>2017</td><td>1.37</td></tr><tr><td>KB-16240</td><td>Karen Bern</td><td>2015</td><td>19.85</td></tr><tr><td>LL-16840</td><td>Lauren Leatherbury</td><td>2017</td><td>44.72</td></tr><tr><td>AH-10075</td><td>Adam Hart</td><td>2017</td><td>-54.58</td></tr><tr><td>BD-11635</td><td>Brian Derr</td><td>2015</td><td>102.25</td></tr><tr><td>NR-18550</td><td>Nick Radford</td><td>2016</td><td>50.59</td></tr><tr><td>AY-10555</td><td>Andy Yotov</td><td>2017</td><td>31.04</td></tr><tr><td>SG-20470</td><td>Sheri Gordon</td><td>2016</td><td>-18.45</td></tr><tr><td>EM-13825</td><td>Elizabeth Moffitt</td><td>2015</td><td>238.47</td></tr><tr><td>SR-20740</td><td>Steven Roelle</td><td>2017</td><td>1676.32</td></tr><tr><td>TB-21175</td><td>Thomas Boland</td><td>2017</td><td>829.65</td></tr><tr><td>TS-21205</td><td>Thomas Seio</td><td>2016</td><td>104.77</td></tr><tr><td>BW-11065</td><td>Barry Weirich</td><td>2014</td><td>6.73</td></tr><tr><td>TH-21115</td><td>Thea Hudgings</td><td>2014</td><td>5.45</td></tr><tr><td>BE-11410</td><td>Bobby Elias</td><td>2017</td><td>178.71</td></tr><tr><td>NF-18595</td><td>Nicole Fjeld</td><td>2017</td><td>87.86</td></tr><tr><td>RA-19285</td><td>Ralph Arnett</td><td>2016</td><td>-6.57</td></tr><tr><td>AZ-10750</td><td>Annie Zypern</td><td>2017</td><td>15.00</td></tr><tr><td>CM-12445</td><td>Chuck Magee</td><td>2014</td><td>10.78</td></tr><tr><td>DB-12970</td><td>Darren Budd</td><td>2015</td><td>45.65</td></tr><tr><td>YC-21895</td><td>Yoseph Carroll</td><td>2014</td><td>833.77</td></tr><tr><td>CL-12700</td><td>Craig Leslie</td><td>2017</td><td>164.91</td></tr><tr><td>TM-21490</td><td>Tony Molinari</td><td>2017</td><td>292.53</td></tr><tr><td>DW-13585</td><td>Dorothy Wardle</td><td>2015</td><td>-371.25</td></tr><tr><td>HA-14905</td><td>Helen Abelman</td><td>2017</td><td>-79.00</td></tr><tr><td>CC-12100</td><td>Chad Cunningham</td><td>2014</td><td>142.85</td></tr><tr><td>VG-21790</td><td>Vivek Gonzalez</td><td>2014</td><td>19.54</td></tr><tr><td>PM-18940</td><td>Paul MacIntyre</td><td>2016</td><td>158.53</td></tr><tr><td>TS-21370</td><td>Todd Sumrall</td><td>2014</td><td>18.62</td></tr><tr><td>RA-19915</td><td>Russell Applegate</td><td>2014</td><td>278.43</td></tr><tr><td>GM-14680</td><td>Greg Matthias</td><td>2014</td><td>214.53</td></tr><tr><td>EH-14125</td><td>Eugene Hildebrand</td><td>2014</td><td>20.10</td></tr><tr><td>AS-10135</td><td>Adrian Shami</td><td>2017</td><td>20.34</td></tr><tr><td>CV-12295</td><td>Christina VanderZanden</td><td>2016</td><td>51.98</td></tr><tr><td>DH-13675</td><td>Duane Huffman</td><td>2015</td><td>28.89</td></tr><tr><td>FA-14230</td><td>Frank Atkinson</td><td>2014</td><td>3.58</td></tr><tr><td>AW-10930</td><td>Arthur Wiediger</td><td>2017</td><td>87.22</td></tr><tr><td>FC-14335</td><td>Fred Chung</td><td>2015</td><td>12.60</td></tr><tr><td>XP-21865</td><td>Xylona Preis</td><td>2014</td><td>202.31</td></tr><tr><td>BP-11155</td><td>Becky Pak</td><td>2016</td><td>188.78</td></tr><tr><td>JK-15625</td><td>Jim Karlsson</td><td>2014</td><td>303.87</td></tr><tr><td>SW-20455</td><td>Shaun Weien</td><td>2017</td><td>50.00</td></tr><tr><td>SN-20560</td><td>Skye Norling</td><td>2017</td><td>-1130.43</td></tr><tr><td>MP-18175</td><td>Mike Pelletier</td><td>2016</td><td>-295.64</td></tr><tr><td>EJ-13720</td><td>Ed Jacobs</td><td>2014</td><td>-7403.61</td></tr><tr><td>BP-11185</td><td>Ben Peterman</td><td>2017</td><td>330.74</td></tr><tr><td>XP-21865</td><td>Xylona Preis</td><td>2015</td><td>24.85</td></tr><tr><td>MG-17875</td><td>Michael Grace</td><td>2014</td><td>-4.52</td></tr><tr><td>PM-18940</td><td>Paul MacIntyre</td><td>2014</td><td>21.06</td></tr><tr><td>DA-13450</td><td>Dianna Arnett</td><td>2017</td><td>35.07</td></tr><tr><td>JE-15745</td><td>Joel Eaton</td><td>2017</td><td>560.58</td></tr><tr><td>BE-11335</td><td>Bil Eplett</td><td>2016</td><td>47.24</td></tr><tr><td>ND-18460</td><td>Neil Ducich</td><td>2017</td><td>379.25</td></tr><tr><td>MH-17785</td><td>Maya Herman</td><td>2016</td><td>7.00</td></tr><tr><td>DM-13345</td><td>Denise Monton</td><td>2017</td><td>1374.42</td></tr><tr><td>TA-21385</td><td>Tom Ashbrook</td><td>2014</td><td>180.52</td></tr><tr><td>SB-20290</td><td>Sean Braxton</td><td>2017</td><td>-907.05</td></tr><tr><td>DN-13690</td><td>Duane Noonan</td><td>2017</td><td>138.42</td></tr><tr><td>DR-12940</td><td>Daniel Raglin</td><td>2016</td><td>2337.76</td></tr><tr><td>AR-10825</td><td>Anthony Rawles</td><td>2014</td><td>10.37</td></tr><tr><td>GT-14635</td><td>Grant Thornton</td><td>2017</td><td>-3825.34</td></tr><tr><td>TT-21265</td><td>Tim Taslimi</td><td>2016</td><td>32.53</td></tr><tr><td>MA-17995</td><td>Michelle Arnett</td><td>2017</td><td>31.94</td></tr><tr><td>KN-16390</td><td>Katherine Nockton</td><td>2017</td><td>10.26</td></tr><tr><td>EN-13780</td><td>Edward Nazzal</td><td>2015</td><td>51.27</td></tr><tr><td>DC-12850</td><td>Dan Campbell</td><td>2017</td><td>-1128.75</td></tr><tr><td>BG-11695</td><td>Brooke Gillingham</td><td>2014</td><td>9.70</td></tr><tr><td>DK-13225</td><td>Dean Katz</td><td>2016</td><td>227.45</td></tr><tr><td>SP-20545</td><td>Sibella Parks</td><td>2016</td><td>-203.15</td></tr><tr><td>SD-20485</td><td>Shirley Daniels</td><td>2014</td><td>122.77</td></tr><tr><td>ER-13855</td><td>Elpida Rittenbach</td><td>2015</td><td>4.57</td></tr><tr><td>RD-19720</td><td>Roger Demir</td><td>2017</td><td>78.99</td></tr><tr><td>GH-14485</td><td>Gene Hale</td><td>2016</td><td>-24.49</td></tr><tr><td>NH-18610</td><td>Nicole Hansen</td><td>2016</td><td>5.18</td></tr><tr><td>JW-16075</td><td>Julia West</td><td>2016</td><td>20.38</td></tr><tr><td>JF-15565</td><td>Jill Fjeld</td><td>2015</td><td>147.35</td></tr><tr><td>CS-11845</td><td>Cari Sayre</td><td>2015</td><td>-5.73</td></tr><tr><td>AP-10720</td><td>Anne Pryor</td><td>2015</td><td>-1.36</td></tr><tr><td>GM-14680</td><td>Greg Matthias</td><td>2017</td><td>-57.12</td></tr><tr><td>CA-12775</td><td>Cynthia Arntzen</td><td>2015</td><td>-101.60</td></tr><tr><td>SN-20560</td><td>Skye Norling</td><td>2016</td><td>229.01</td></tr><tr><td>GA-14515</td><td>George Ashbrook</td><td>2017</td><td>139.07</td></tr><tr><td>LS-16945</td><td>Linda Southworth</td><td>2015</td><td>9.82</td></tr><tr><td>SV-20785</td><td>Stewart Visinsky</td><td>2015</td><td>209.66</td></tr><tr><td>Dp-13240</td><td>Dean perceR</td><td>2016</td><td>117.74</td></tr><tr><td>RA-19285</td><td>Ralph Arnett</td><td>2017</td><td>317.48</td></tr><tr><td>KM-16375</td><td>Katherine Murray</td><td>2014</td><td>955.86</td></tr><tr><td>DR-12880</td><td>Dan Reichenbach</td><td>2015</td><td>428.64</td></tr><tr><td>ME-17320</td><td>Maria Etezadi</td><td>2015</td><td>-9.56</td></tr><tr><td>MS-17830</td><td>Melanie Seite</td><td>2016</td><td>-23.94</td></tr><tr><td>BF-10975</td><td>Barbara Fisher</td><td>2017</td><td>6.97</td></tr><tr><td>AP-10720</td><td>Anne Pryor</td><td>2016</td><td>243.58</td></tr><tr><td>CC-12610</td><td>Corey Catlett</td><td>2016</td><td>-202.27</td></tr><tr><td>AT-10735</td><td>Annie Thurman</td><td>2014</td><td>71.66</td></tr><tr><td>DK-13090</td><td>Dave Kipp</td><td>2017</td><td>400.99</td></tr><tr><td>EH-13765</td><td>Edward Hooks</td><td>2016</td><td>758.80</td></tr><tr><td>TB-21625</td><td>Trudy Brown</td><td>2016</td><td>70.93</td></tr><tr><td>EM-13960</td><td>Eric Murdock</td><td>2015</td><td>51.93</td></tr><tr><td>LH-16900</td><td>Lena Hernandez</td><td>2016</td><td>56.70</td></tr><tr><td>AB-10060</td><td>Adam Bellavance</td><td>2016</td><td>1568.05</td></tr><tr><td>LC-16870</td><td>NA</td><td>2015</td><td>107.63</td></tr><tr><td>CC-12370</td><td>Christopher Conant</td><td>2017</td><td>93.73</td></tr><tr><td>PG-18895</td><td>Paul Gonzalez</td><td>2014</td><td>-70.73</td></tr><tr><td>DV-13465</td><td>Dianna Vittorini</td><td>2016</td><td>89.95</td></tr><tr><td>KB-16600</td><td>Ken Brennan</td><td>2015</td><td>17.00</td></tr><tr><td>LE-16810</td><td>Laurel Elliston</td><td>2014</td><td>-12.84</td></tr><tr><td>TH-21115</td><td>Thea Hudgings</td><td>2016</td><td>-76.64</td></tr><tr><td>AW-10840</td><td>Anth ony Witt</td><td>2015</td><td>-13.50</td></tr><tr><td>SN-20560</td><td>Skye Norling</td><td>2015</td><td>184.58</td></tr><tr><td>RL-19615</td><td>Rob Lucas</td><td>2017</td><td>68.15</td></tr><tr><td>DR-12880</td><td>Dan Reichenbach</td><td>2017</td><td>1086.84</td></tr><tr><td>CJ-12010</td><td>Caroline Jumper</td><td>2016</td><td>1382.97</td></tr><tr><td>TC-20980</td><td>Tamara Chand</td><td>2015</td><td>37.72</td></tr><tr><td>EJ-14155</td><td>Eva Jacobs</td><td>2017</td><td>140.02</td></tr><tr><td>DM-13345</td><td>Denise Monton</td><td>2014</td><td>3.71</td></tr><tr><td>MC-17845</td><td>Michael Chen</td><td>2016</td><td>60.54</td></tr><tr><td>VM-21685</td><td>Valerie Mitchum</td><td>2014</td><td>78.23</td></tr><tr><td>MN-17935</td><td>Michael Nguyen</td><td>2017</td><td>254.13</td></tr><tr><td>EH-14125</td><td>Eugene Hildebrand</td><td>2016</td><td>-71.64</td></tr><tr><td>SC-20305</td><td>Sean Christensen</td><td>2014</td><td>93.40</td></tr><tr><td>KN-16705</td><td>Kristina Nunn</td><td>2016</td><td>25.00</td></tr><tr><td>JH-15820</td><td>John Huston</td><td>2015</td><td>19.60</td></tr><tr><td>HF-14995</td><td>Herbert Flentye</td><td>2016</td><td>-167.31</td></tr><tr><td>RB-19570</td><td>Rob Beeghly</td><td>2016</td><td>-5.98</td></tr><tr><td>CT-11995</td><td>Carol Triggs</td><td>2015</td><td>19.45</td></tr><tr><td>PP-18955</td><td>Paul Prost</td><td>2017</td><td>247.93</td></tr><tr><td>KB-16600</td><td>Ken Brennan</td><td>2014</td><td>2.85</td></tr><tr><td>LS-17230</td><td>Lycoris Saunders</td><td>2014</td><td>9.33</td></tr><tr><td>DD-13570</td><td>Dorothy Dickinson</td><td>2017</td><td>51.97</td></tr><tr><td>RW-19630</td><td>Rob Williams</td><td>2017</td><td>321.91</td></tr><tr><td>MC-18100</td><td>Mick Crebagga</td><td>2016</td><td>0.93</td></tr><tr><td>SC-20770</td><td>Stewart Carmichael</td><td>2015</td><td>147.72</td></tr><tr><td>BP-11155</td><td>Becky Pak</td><td>2017</td><td>26.24</td></tr><tr><td>FC-14335</td><td>Fred Chung</td><td>2016</td><td>86.15</td></tr><tr><td>HL-15040</td><td>Hunter Lopez</td><td>2014</td><td>448.03</td></tr><tr><td>BT-11680</td><td>Brian Thompson</td><td>2014</td><td>-199.77</td></tr><tr><td>NF-18595</td><td>Nicole Fjeld</td><td>2014</td><td>42.35</td></tr><tr><td>AA-10315</td><td>Alex Avila</td><td>2017</td><td>96.51</td></tr><tr><td>DD-13570</td><td>Dorothy Dickinson</td><td>2016</td><td>-6.90</td></tr><tr><td>SP-20860</td><td>Sung Pak</td><td>2016</td><td>619.14</td></tr><tr><td>CD-11920</td><td>Carlos Daly</td><td>2016</td><td>46.94</td></tr><tr><td>LA-16780</td><td>Laura Armstrong</td><td>2014</td><td>482.57</td></tr><tr><td>LS-16945</td><td>Linda Southworth</td><td>2017</td><td>-350.00</td></tr><tr><td>LH-16750</td><td>Larry Hughes</td><td>2014</td><td>-5.04</td></tr><tr><td>KB-16585</td><td>Ken Black</td><td>2016</td><td>96.32</td></tr><tr><td>AB-10600</td><td>Ann Blume</td><td>2015</td><td>5.07</td></tr><tr><td>GM-14695</td><td>Greg Maxwell</td><td>2014</td><td>112.28</td></tr><tr><td>BH-11710</td><td>Brosina Hoffman</td><td>2016</td><td>428.93</td></tr><tr><td>MC-17590</td><td>Matt Collister</td><td>2016</td><td>379.01</td></tr><tr><td>NC-18415</td><td>Nathan Cano</td><td>2015</td><td>36.23</td></tr><tr><td>TS-21085</td><td>Thais Sissman</td><td>2015</td><td>-1.35</td></tr><tr><td>LA-16780</td><td>Laura Armstrong</td><td>2016</td><td>1526.67</td></tr><tr><td>BG-11035</td><td>Barry Gonzalez</td><td>2015</td><td>-998.91</td></tr><tr><td>JF-15190</td><td>Jamie Frazer</td><td>2017</td><td>347.08</td></tr><tr><td>MG-17890</td><td>Michael Granlund</td><td>2015</td><td>112.33</td></tr><tr><td>AS-10630</td><td>Ann Steele</td><td>2014</td><td>71.95</td></tr><tr><td>RC-19960</td><td>Ryan Crowe</td><td>2016</td><td>102.93</td></tr><tr><td>SJ-20500</td><td>Shirley Jackson</td><td>2017</td><td>-243.16</td></tr><tr><td>FG-14260</td><td>Frank Gastineau</td><td>2017</td><td>80.43</td></tr><tr><td>JL-15850</td><td>John Lucas</td><td>2016</td><td>-37.95</td></tr><tr><td>JM-15580</td><td>Jill Matthias</td><td>2016</td><td>113.72</td></tr><tr><td>ME-17725</td><td>Max Engle</td><td>2016</td><td>-1.62</td></tr><tr><td>JG-15310</td><td>Jason Gross</td><td>2016</td><td>-22.93</td></tr><tr><td>FP-14320</td><td>Frank Preis</td><td>2016</td><td>359.70</td></tr><tr><td>LF-17185</td><td>Luke Foster</td><td>2017</td><td>71.54</td></tr><tr><td>EB-13870</td><td>Emily Burns</td><td>2016</td><td>84.07</td></tr><tr><td>CL-12565</td><td>Clay Ludtke</td><td>2015</td><td>490.37</td></tr><tr><td>FC-14245</td><td>Frank Carlisle</td><td>2015</td><td>35.53</td></tr><tr><td>TN-21040</td><td>Tanja Norvell</td><td>2017</td><td>22.00</td></tr><tr><td>SP-20920</td><td>Susan Pistek</td><td>2014</td><td>24.22</td></tr><tr><td>PO-18850</td><td>Patrick OBrill</td><td>2017</td><td>290.64</td></tr><tr><td>JF-15190</td><td>Jamie Frazer</td><td>2014</td><td>37.40</td></tr><tr><td>MS-17770</td><td>Maxwell Schwartz</td><td>2016</td><td>164.04</td></tr><tr><td>CS-11845</td><td>Cari Sayre</td><td>2017</td><td>205.18</td></tr><tr><td>RR-19525</td><td>Rick Reed</td><td>2016</td><td>45.68</td></tr><tr><td>TS-21340</td><td>Toby Swindell</td><td>2014</td><td>-285.00</td></tr><tr><td>KM-16720</td><td>Kunst Miller</td><td>2016</td><td>54.92</td></tr><tr><td>KD-16270</td><td>Karen Danels</td><td>2015</td><td>129.49</td></tr><tr><td>JF-15190</td><td>Jamie Frazer</td><td>2015</td><td>17.99</td></tr><tr><td>EH-14185</td><td>Evan Henry</td><td>2017</td><td>6.42</td></tr><tr><td>JL-15835</td><td>John Lee</td><td>2015</td><td>252.43</td></tr><tr><td>TB-21400</td><td>Tom Boeckenhauer</td><td>2014</td><td>2567.33</td></tr><tr><td>NF-18475</td><td>Neil Franzsisch</td><td>2016</td><td>-18.84</td></tr><tr><td>CB-12415</td><td>Christy Brittain</td><td>2016</td><td>201.66</td></tr><tr><td>NS-18640</td><td>Noel Staavos</td><td>2016</td><td>-298.25</td></tr><tr><td>EG-13900</td><td>Emily Grady</td><td>2016</td><td>46.31</td></tr><tr><td>AT-10735</td><td>Annie Thurman</td><td>2015</td><td>739.52</td></tr><tr><td>MO-17500</td><td>Mary ORourke</td><td>2014</td><td>6.04</td></tr><tr><td>MB-18085</td><td>Mick Brown</td><td>2017</td><td>67.85</td></tr><tr><td>DJ-13630</td><td>Doug Jacobs</td><td>2017</td><td>669.79</td></tr><tr><td>JK-15205</td><td>Jamie Kunitz</td><td>2014</td><td>47.81</td></tr><tr><td>PF-19165</td><td>Philip Fox</td><td>2014</td><td>-407.68</td></tr><tr><td>SZ-20035</td><td>Sam Zeldin</td><td>2017</td><td>50.42</td></tr><tr><td>MC-17575</td><td>Matt Collins</td><td>2017</td><td>138.90</td></tr><tr><td>EM-14200</td><td>Evan Minnotte</td><td>2017</td><td>17.83</td></tr><tr><td>PJ-18835</td><td>Patrick Jones</td><td>2017</td><td>43.61</td></tr><tr><td>BS-11365</td><td>Bi l Shonely</td><td>2016</td><td>2405.71</td></tr><tr><td>TT-21070</td><td>Ted Trevino</td><td>2015</td><td>205.15</td></tr><tr><td>LD-17005</td><td>Lisa DeCherney</td><td>2016</td><td>111.26</td></tr><tr><td>JD-16060</td><td>Julia Dunbar</td><td>2015</td><td>-29.25</td></tr><tr><td>SF-20965</td><td>Sylvia Foulston</td><td>2016</td><td>70.20</td></tr><tr><td>SP-20650</td><td>Stephanie Phelps</td><td>2015</td><td>95.84</td></tr><tr><td>AI-10855</td><td>Arianne Irving</td><td>2016</td><td>485.32</td></tr><tr><td>AB-10015</td><td>Aaron Bergman</td><td>2014</td><td>12.82</td></tr><tr><td>SD-20485</td><td>Shirley Daniels</td><td>2016</td><td>20.82</td></tr><tr><td>CA-11965</td><td>Carol Adams</td><td>2014</td><td>44.77</td></tr><tr><td>DS-13180</td><td>David Smith</td><td>2015</td><td>182.58</td></tr><tr><td>KH-16690</td><td>Kristen Hastings</td><td>2015</td><td>-36.13</td></tr><tr><td>EM-13810</td><td>NA</td><td>2016</td><td>57.59</td></tr><tr><td>KN-16450</td><td>Kean Nguyen</td><td>2015</td><td>-118.58</td></tr><tr><td>NP-18670</td><td>Nra Paige</td><td>2015</td><td>80.84</td></tr><tr><td>NH-18610</td><td>Nicole Hansen</td><td>2015</td><td>85.83</td></tr><tr><td>DK-13375</td><td>Dennis Kane</td><td>2015</td><td>-95.80</td></tr><tr><td>BE-11455</td><td>Brad Eason</td><td>2017</td><td>-52.07</td></tr><tr><td>DL-13330</td><td>Denise Leinenbach</td><td>2015</td><td>197.99</td></tr><tr><td>JS-16030</td><td>Joy Smith</td><td>2017</td><td>-766.57</td></tr><tr><td>OT-18730</td><td>Olvera Toch</td><td>2015</td><td>81.00</td></tr><tr><td>DB-13660</td><td>Duane Benoit</td><td>2015</td><td>-17.29</td></tr><tr><td>JE-15475</td><td>Jeremy Ellison</td><td>2017</td><td>33.60</td></tr><tr><td>SC-20050</td><td>Sample Company A</td><td>2016</td><td>146.65</td></tr><tr><td>BP-11185</td><td>Ben Peterman</td><td>2015</td><td>66.76</td></tr><tr><td>SB-20290</td><td>Sean Braxton</td><td>2014</td><td>-1272.35</td></tr><tr><td>AB-10150</td><td>Aimee Bixby</td><td>2014</td><td>261.20</td></tr><tr><td>BD-11320</td><td>Bil Donatelli</td><td>2015</td><td>799.49</td></tr><tr><td>MH-17455</td><td>Mark Hamilton</td><td>2017</td><td>84.94</td></tr><tr><td>BN-11515</td><td>Bradley Nguyen</td><td>2017</td><td>42.57</td></tr><tr><td>SP-20650</td><td>Stephanie Phelps</td><td>2016</td><td>100.23</td></tr><tr><td>KD-16270</td><td>Karen Danels</td><td>2014</td><td>-1340.60</td></tr><tr><td>KL-16555</td><td>Kelly Lampkin</td><td>2017</td><td>-163.66</td></tr><tr><td>BS-11755</td><td>Bruce Stewart</td><td>2017</td><td>115.84</td></tr><tr><td>LH-16900</td><td>Lena Hernandez</td><td>2014</td><td>282.09</td></tr><tr><td>TS-21655</td><td>Trudy Schmidt</td><td>2015</td><td>-34.09</td></tr><tr><td>DF-13135</td><td>David Flashing</td><td>2014</td><td>37.88</td></tr><tr><td>TP-21415</td><td>Tom Prescott</td><td>2015</td><td>64.52</td></tr><tr><td>RB-19330</td><td>Randy Bradley</td><td>2017</td><td>-74.31</td></tr><tr><td>NL-18310</td><td>Nancy Lomonaco</td><td>2017</td><td>282.27</td></tr><tr><td>EM-14065</td><td>ErinMull</td><td>2014</td><td>59.26</td></tr><tr><td>DK-12985</td><td>Darren Koutras</td><td>2014</td><td>-8.08</td></tr><tr><td>RC-19960</td><td>Ryan Crowe</td><td>2014</td><td>-98.43</td></tr><tr><td>GB-14530</td><td>Ge orge Bell</td><td>2015</td><td>74.29</td></tr><tr><td>DC-12850</td><td>Dan Campbell</td><td>2015</td><td>4.89</td></tr><tr><td>JH-15910</td><td>Jonathan Howell</td><td>2015</td><td>48.66</td></tr><tr><td>TS-21430</td><td>Tom Stivers</td><td>2016</td><td>17.05</td></tr><tr><td>CG-12520</td><td>Claire Gute</td><td>2016</td><td>261.49</td></tr><tr><td>TH-21100</td><td>Thea Hendricks</td><td>2015</td><td>0.81</td></tr><tr><td>JH-15985</td><td>Joseph Holt</td><td>2014</td><td>644.00</td></tr><tr><td>JB-15925</td><td>Joni Blumstein</td><td>2014</td><td>72.58</td></tr><tr><td>NM-18520</td><td>Neoma Murray</td><td>2015</td><td>-26.66</td></tr><tr><td>RM-19375</td><td>Raymond Messe</td><td>2014</td><td>13.83</td></tr><tr><td>MC-17845</td><td>Michael Chen</td><td>2017</td><td>242.12</td></tr><tr><td>PB-19105</td><td>Peter Bhler</td><td>2017</td><td>13.19</td></tr><tr><td>GH-14410</td><td>Gary Hansen</td><td>2015</td><td>38.97</td></tr><tr><td>BT-11680</td><td>Brian Thompson</td><td>2017</td><td>35.43</td></tr><tr><td>FM-14290</td><td>Frank Merwin</td><td>2014</td><td>22.98</td></tr><tr><td>JS-15595</td><td>Ji Stevenson</td><td>2015</td><td>4.53</td></tr><tr><td>KH-16690</td><td>Kristen Hastings</td><td>2016</td><td>7.18</td></tr><tr><td>SG-20890</td><td>Susan Gilcrest</td><td>2014</td><td>2.94</td></tr><tr><td>SM-20320</td><td>Sean Miller</td><td>2017</td><td>34.28</td></tr><tr><td>TS-21505</td><td>NA</td><td>2014</td><td>87.45</td></tr><tr><td>MS-17365</td><td>Maribeth chnelling</td><td>2015</td><td>145.51</td></tr><tr><td>AF-10870</td><td>Art Ferguson</td><td>2016</td><td>390.80</td></tr><tr><td>TR-21325</td><td>Toby Ritter</td><td>2016</td><td>115.04</td></tr><tr><td>KB-16600</td><td>Ken Brennan</td><td>2016</td><td>14.62</td></tr><tr><td>DK-13090</td><td>Dave Kipp</td><td>2016</td><td>-38.31</td></tr><tr><td>AJ-10945</td><td>Ashley Jarboe</td><td>2016</td><td>33.22</td></tr><tr><td>MM-17260</td><td>Magdelene Morse</td><td>2017</td><td>-39.46</td></tr><tr><td>RR-19315</td><td>Ralph Ritter</td><td>2017</td><td>-77.30</td></tr><tr><td>BW-11200</td><td>Ben Wallace</td><td>2014</td><td>87.45</td></tr><tr><td>SC-20050</td><td>Sample Company A</td><td>2014</td><td>764.53</td></tr><tr><td>ES-14020</td><td>Erica Smith</td><td>2016</td><td>71.99</td></tr><tr><td>RE-19450</td><td>Richard Eichhorn</td><td>2017</td><td>9.74</td></tr><tr><td>TH-21100</td><td>Thea Hendricks</td><td>2014</td><td>-155.27</td></tr><tr><td>KN-16390</td><td>Katherine Nockton</td><td>2015</td><td>-191.36</td></tr><tr><td>MR-17545</td><td>Mathew Reese</td><td>2014</td><td>9.11</td></tr><tr><td>MD-17860</td><td>Michael Dominguez</td><td>2017</td><td>43.31</td></tr><tr><td>FH-14365</td><td>Fred Hopkins</td><td>2017</td><td>76.82</td></tr><tr><td>BM-11575</td><td>Brendan Murry</td><td>2017</td><td>-51.19</td></tr><tr><td>BP-11050</td><td>Barry Pond</td><td>2017</td><td>24.18</td></tr><tr><td>EJ-14155</td><td>Eva Jacobs</td><td>2014</td><td>-23.49</td></tr><tr><td>MH-17620</td><td>Matt Hagelstein</td><td>2016</td><td>-0.37</td></tr><tr><td>PB-19210</td><td>Phillip Breyer</td><td>2014</td><td>21.20</td></tr><tr><td>JK-16120</td><td>Julie Kriz</td><td>2017</td><td>-273.77</td></tr><tr><td>AH-10195</td><td>Alan Haines</td><td>2016</td><td>-349.36</td></tr><tr><td>CT-11995</td><td>Carol Triggs</td><td>2017</td><td>159.26</td></tr><tr><td>KH-16690</td><td>Kristen Hastings</td><td>2014</td><td>1038.59</td></tr><tr><td>LW-16990</td><td>Lindsay Williams</td><td>2017</td><td>340.51</td></tr><tr><td>HW-14935</td><td>Helen Waerman</td><td>2017</td><td>1946.70</td></tr><tr><td>RK-19300</td><td>Ralph Kennedy</td><td>2015</td><td>265.58</td></tr><tr><td>ML-17395</td><td>Marina Lichtenstein</td><td>2017</td><td>11.10</td></tr><tr><td>AS-10090</td><td>Adam Shillingsburg</td><td>2016</td><td>22.55</td></tr><tr><td>AC-10420</td><td>Alyssa Crouse</td><td>2017</td><td>-69.06</td></tr><tr><td>HJ-14875</td><td>Heather Jas</td><td>2015</td><td>28.71</td></tr><tr><td>CD-11920</td><td>Carlos Daly</td><td>2014</td><td>11.70</td></tr><tr><td>MG-17680</td><td>Maureen Gastineau</td><td>2015</td><td>-1.20</td></tr><tr><td>PO-18850</td><td>Patrick OBrill</td><td>2015</td><td>7.32</td></tr><tr><td>SJ-20125</td><td>Sanjit Jacobs</td><td>2015</td><td>-65.82</td></tr><tr><td>WB-21850</td><td>William Brown</td><td>2014</td><td>106.42</td></tr><tr><td>EB-13930</td><td>Eric Barreto</td><td>2014</td><td>1.35</td></tr><tr><td>MY-17380</td><td>Maribeth Yedwab</td><td>2016</td><td>33.05</td></tr><tr><td>JE-16165</td><td>Justin Ellison</td><td>2017</td><td>13.67</td></tr><tr><td>KD-16345</td><td>Katherine Ducich</td><td>2014</td><td>64.70</td></tr><tr><td>BW-11200</td><td>Ben Wallace</td><td>2016</td><td>173.66</td></tr><tr><td>IM-15055</td><td>Ionia McGrath</td><td>2014</td><td>19.24</td></tr><tr><td>DK-13225</td><td>Dean Katz</td><td>2015</td><td>-339.65</td></tr><tr><td>EL-13735</td><td>Ed Ludwig</td><td>2017</td><td>18.45</td></tr><tr><td>JD-15895</td><td>Jonathan Doherty</td><td>2016</td><td>1179.82</td></tr><tr><td>DO-13435</td><td>Denny Ordway</td><td>2015</td><td>-136.09</td></tr><tr><td>GG-14650</td><td>Greg Guthrie</td><td>2016</td><td>15.93</td></tr><tr><td>DB-13405</td><td>Denny Blanton</td><td>2015</td><td>266.33</td></tr><tr><td>FO-14305</td><td>Frank Olsen</td><td>2017</td><td>-70.98</td></tr><tr><td>TB-21250</td><td>Tim Brockman</td><td>2017</td><td>-31.68</td></tr><tr><td>MC-17635</td><td>Matthew Clasen</td><td>2017</td><td>-317.03</td></tr><tr><td>LT-16765</td><td>Larry Tron</td><td>2017</td><td>23.24</td></tr><tr><td>MS-17770</td><td>Maxwell Schwartz</td><td>2017</td><td>9.70</td></tr><tr><td>BM-11650</td><td>Brian Moss</td><td>2016</td><td>-2.03</td></tr><tr><td>JD-16060</td><td>Julia Dunbar</td><td>2017</td><td>131.89</td></tr><tr><td>RE-19450</td><td>Richard Eichhorn</td><td>2014</td><td>-24.87</td></tr><tr><td>MA-17995</td><td>Michelle Arnett</td><td>2016</td><td>191.39</td></tr><tr><td>HL-15040</td><td>Hunter Lopez</td><td>2017</td><td>5045.86</td></tr><tr><td>SC-20695</td><td>Steve Chapman</td><td>2014</td><td>52.53</td></tr><tr><td>FH-14365</td><td>Fred Hopkins</td><td>2014</td><td>-172.46</td></tr><tr><td>AS-10045</td><td>Aaron Smayling</td><td>2014</td><td>32.23</td></tr><tr><td>JG-15115</td><td>Jack Garza</td><td>2015</td><td>-50.17</td></tr><tr><td>ST-20530</td><td>Shui Tom</td><td>2015</td><td>27.01</td></tr><tr><td>DP-13000</td><td>Darren Powers</td><td>2017</td><td>-48.17</td></tr><tr><td>MK-18160</td><td>Mike Kennedy</td><td>2014</td><td>-22.69</td></tr><tr><td>BF-11215</td><td>Benjamin Farhat</td><td>2016</td><td>173.24</td></tr><tr><td>AS-10225</td><td>Alan Schoenberger</td><td>2014</td><td>444.69</td></tr><tr><td>SP-20620</td><td>Stefania Perrino</td><td>2016</td><td>-171.23</td></tr><tr><td>BG-11740</td><td>Bruce Geld</td><td>2015</td><td>15.07</td></tr><tr><td>CS-12175</td><td>Charles Sheldon</td><td>2014</td><td>98.11</td></tr><tr><td>NP-18700</td><td>Nora Preis</td><td>2017</td><td>71.95</td></tr><tr><td>BF-11005</td><td>Barry Franz</td><td>2016</td><td>-365.72</td></tr><tr><td>PF-19225</td><td>Phillip Flathmann</td><td>2016</td><td>513.27</td></tr><tr><td>LR-16915</td><td>Lena Radford</td><td>2016</td><td>172.50</td></tr><tr><td>FA-14230</td><td>Frank Atkinson</td><td>2015</td><td>224.56</td></tr><tr><td>LC-17140</td><td>Logan Currie</td><td>2017</td><td>2.40</td></tr><tr><td>DN-13690</td><td>Duane Noonan</td><td>2014</td><td>179.72</td></tr><tr><td>GZ-14470</td><td>Gary Zandusky</td><td>2016</td><td>652.32</td></tr><tr><td>AH-10030</td><td>Aaron Hawkins</td><td>2015</td><td>136.56</td></tr><tr><td>JW-15955</td><td>Joni Waerman</td><td>2016</td><td>1.20</td></tr><tr><td>JS-15940</td><td>Joni Sundaresam</td><td>2015</td><td>-312.06</td></tr><tr><td>RR-19525</td><td>Rick Reed</td><td>2015</td><td>32.50</td></tr><tr><td>SV-20785</td><td>Stewart Visinsky</td><td>2014</td><td>189.13</td></tr><tr><td>LO-17170</td><td>Lori Olson</td><td>2015</td><td>34.45</td></tr><tr><td>SW-20275</td><td>Scott Williamson</td><td>2014</td><td>11.00</td></tr><tr><td>ER-13855</td><td>Elpida Rittenbach</td><td>2016</td><td>-299.90</td></tr><tr><td>PO-19180</td><td>Philisse Overcash</td><td>2017</td><td>153.55</td></tr><tr><td>JB-15400</td><td>Jennifer Braxton</td><td>2016</td><td>-98.62</td></tr><tr><td>JH-15985</td><td>Joseph Holt</td><td>2015</td><td>-1429.38</td></tr><tr><td>CC-12220</td><td>Chris Cortes</td><td>2016</td><td>-33.05</td></tr><tr><td>PO-19180</td><td>Philisse Overcash</td><td>2015</td><td>823.24</td></tr><tr><td>JC-15385</td><td>Jenna Caffey</td><td>2017</td><td>502.93</td></tr><tr><td>DL-13495</td><td>Dionis Lloyd</td><td>2017</td><td>-200.58</td></tr><tr><td>NP-18700</td><td>Nora Preis</td><td>2016</td><td>272.92</td></tr><tr><td>MV-17485</td><td>Mark Van Huff</td><td>2014</td><td>15.08</td></tr><tr><td>DB-12910</td><td>Daniel Byrd</td><td>2014</td><td>3.63</td></tr><tr><td>MS-17710</td><td>Maurice Satty</td><td>2016</td><td>-93.10</td></tr><tr><td>RH-19495</td><td>Rick Hansen</td><td>2015</td><td>480.63</td></tr><tr><td>MM-18280</td><td>Muhammed MacIntyre</td><td>2017</td><td>33.04</td></tr><tr><td>MS-17830</td><td>Melanie Seite</td><td>2014</td><td>10.92</td></tr><tr><td>JG-15160</td><td>James Galang</td><td>2015</td><td>736.76</td></tr><tr><td>BN-11515</td><td>Bradley Nguyen</td><td>2014</td><td>185.37</td></tr><tr><td>MV-17485</td><td>Mark Van Huff</td><td>2015</td><td>-1.28</td></tr><tr><td>CL-12565</td><td>Clay Ludtke</td><td>2017</td><td>529.60</td></tr><tr><td>SS-20410</td><td>ShahiShariari</td><td>2015</td><td>-504.24</td></tr><tr><td>BF-10975</td><td>Barbara Fisher</td><td>2015</td><td>0.96</td></tr><tr><td>RB-19435</td><td>Richard Bierner</td><td>2015</td><td>49.57</td></tr><tr><td>BT-11395</td><td>Bil Tyler</td><td>2014</td><td>74.81</td></tr><tr><td>EH-13765</td><td>Edward Hooks</td><td>2014</td><td>4.05</td></tr><tr><td>NB-18655</td><td>Nona Balk</td><td>2017</td><td>61.16</td></tr><tr><td>BD-11635</td><td>Brian Derr</td><td>2014</td><td>11.49</td></tr><tr><td>CR-12730</td><td>Craig Reiter</td><td>2017</td><td>253.37</td></tr><tr><td>AP-10915</td><td>Arthur Prichep</td><td>2016</td><td>338.86</td></tr><tr><td>TC-21535</td><td>Tracy Collins</td><td>2015</td><td>30.65</td></tr><tr><td>MH-18025</td><td>Michelle Huthwaite</td><td>2017</td><td>374.93</td></tr><tr><td>PG-18895</td><td>Paul Gonzalez</td><td>2015</td><td>174.73</td></tr><tr><td>SM-20320</td><td>Sean Miller</td><td>2015</td><td>-225.52</td></tr><tr><td>AG-10765</td><td>Anthony Garverick</td><td>2014</td><td>-4.12</td></tr><tr><td>TC-21145</td><td>Theresa Coyne</td><td>2017</td><td>265.59</td></tr><tr><td>AH-10075</td><td>Adam Hart</td><td>2016</td><td>332.64</td></tr><tr><td>BT-11395</td><td>Bil Tyler</td><td>2016</td><td>3.35</td></tr><tr><td>JH-15820</td><td>John Huston</td><td>2017</td><td>-19.94</td></tr><tr><td>DW-13540</td><td>Don Weiss</td><td>2016</td><td>16.01</td></tr><tr><td>DK-12835</td><td>Damala Kotsonis</td><td>2015</td><td>369.26</td></tr><tr><td>JL-15175</td><td>James Lanier</td><td>2017</td><td>110.48</td></tr><tr><td>DW-13195</td><td>David Wiener</td><td>2014</td><td>55.47</td></tr><tr><td>NF-18385</td><td>Natalie Fritzler</td><td>2016</td><td>-66.17</td></tr><tr><td>EG-13900</td><td>Emily Grady</td><td>2017</td><td>2.59</td></tr><tr><td>DG-13300</td><td>Deirdre Greer</td><td>2016</td><td>9.33</td></tr><tr><td>AB-10255</td><td>Alejandro Ballentine</td><td>2017</td><td>197.67</td></tr><tr><td>BD-11725</td><td>Bruce Degenhardt</td><td>2017</td><td>166.98</td></tr><tr><td>PS-18970</td><td>Paul Stevenson</td><td>2016</td><td>3.44</td></tr><tr><td>FG-14260</td><td>Frank Gastineau</td><td>2014</td><td>314.52</td></tr><tr><td>DM-12955</td><td>Dario Medina</td><td>2014</td><td>58.40</td></tr><tr><td>LS-17245</td><td>Lynn Smith</td><td>2016</td><td>60.37</td></tr><tr><td>BD-11500</td><td>Bradley Drucker</td><td>2014</td><td>309.08</td></tr><tr><td>NG-18355</td><td>Nat Gilpin</td><td>2014</td><td>219.08</td></tr><tr><td>LH-17020</td><td>Lisa Hazard</td><td>2017</td><td>-152.87</td></tr><tr><td>JM-15580</td><td>Jill Matthias</td><td>2017</td><td>-0.60</td></tr><tr><td>NB-18580</td><td>Nicole Brennan</td><td>2014</td><td>24.79</td></tr><tr><td>DF-13135</td><td>David Flashing</td><td>2015</td><td>99.94</td></tr><tr><td>SC-20260</td><td>Scott Cohen</td><td>2014</td><td>96.77</td></tr><tr><td>BP-11290</td><td>Beth Paige</td><td>2017</td><td>-183.00</td></tr><tr><td>TT-21460</td><td>Tonja Turnell</td><td>2017</td><td>840.98</td></tr><tr><td>LS-17200</td><td>Luke Schmidt</td><td>2014</td><td>167.72</td></tr><tr><td>LT-17110</td><td>Liz Thompson</td><td>2014</td><td>238.40</td></tr><tr><td>PG-18895</td><td>Paul Gonzalez</td><td>2017</td><td>220.26</td></tr><tr><td>AG-10300</td><td>Aleksandra Gannaway</td><td>2016</td><td>20.49</td></tr><tr><td>PC-18745</td><td>Pamela Coakley</td><td>2017</td><td>-0.99</td></tr><tr><td>MM-17920</td><td>Michael Moore</td><td>2016</td><td>447.84</td></tr><tr><td>RD-19585</td><td>Rob Dowd</td><td>2017</td><td>66.27</td></tr><tr><td>SS-20515</td><td>Shirley Schmidt</td><td>2015</td><td>174.01</td></tr><tr><td>JL-15505</td><td>Jeremy Lonsdale</td><td>2014</td><td>41.27</td></tr><tr><td>JB-16045</td><td>Julia Barnett</td><td>2017</td><td>9.89</td></tr><tr><td>EK-13795</td><td>Eileen Kiefer</td><td>2014</td><td>70.49</td></tr><tr><td>EM-14140</td><td>Eugene Moren</td><td>2014</td><td>2.21</td></tr><tr><td>KB-16240</td><td>Karen Bern</td><td>2014</td><td>-1.00</td></tr><tr><td>PJ-19015</td><td>Pauline Johnson</td><td>2014</td><td>2.78</td></tr><tr><td>DK-12835</td><td>Damala Kotsonis</td><td>2017</td><td>349.28</td></tr><tr><td>PS-18760</td><td>Pamela Stobb</td><td>2015</td><td>-113.10</td></tr><tr><td>KC-16675</td><td>Kimberly Carter</td><td>2014</td><td>5.82</td></tr><tr><td>BE-11335</td><td>Bil Eplett</td><td>2017</td><td>1440.55</td></tr><tr><td>CM-12190</td><td>Charlotte Melton</td><td>2015</td><td>16.89</td></tr><tr><td>SD-20485</td><td>Shirley Daniels</td><td>2015</td><td>1954.80</td></tr><tr><td>JF-15565</td><td>Jill Fjeld</td><td>2017</td><td>-1.49</td></tr><tr><td>KD-16615</td><td>NA</td><td>2016</td><td>68.22</td></tr><tr><td>DP-13165</td><td>David Philippe</td><td>2014</td><td>-41.94</td></tr><tr><td>SC-20575</td><td>Sonia Cooley</td><td>2014</td><td>32.39</td></tr><tr><td>AH-10030</td><td>Aaron Hawkins</td><td>2017</td><td>2.34</td></tr><tr><td>SC-20230</td><td>Scot Coram</td><td>2017</td><td>4.18</td></tr><tr><td>TP-21565</td><td>Tracy P oddar</td><td>2016</td><td>104.74</td></tr><tr><td>KM-16375</td><td>Katherine Murray</td><td>2017</td><td>-140.70</td></tr><tr><td>AH-10120</td><td>Adrian Hane</td><td>2016</td><td>-299.15</td></tr><tr><td>MH-18115</td><td>Mick Hernandez</td><td>2016</td><td>-216.22</td></tr><tr><td>SN-20710</td><td>Steve Nguyen</td><td>2016</td><td>375.78</td></tr><tr><td>NG-18430</td><td>Nathan Gelder</td><td>2015</td><td>54.00</td></tr><tr><td>ED-13885</td><td>NA</td><td>2014</td><td>18.48</td></tr><tr><td>EM-14065</td><td>ErinMull</td><td>2017</td><td>-14.44</td></tr><tr><td>BD-11560</td><td>Brendan Dodson</td><td>2015</td><td>36.47</td></tr><tr><td>TP-21130</td><td>Theone Pippenger</td><td>2015</td><td>-1.85</td></tr><tr><td>LT-16765</td><td>Larry Tron</td><td>2014</td><td>15.64</td></tr><tr><td>PF-19165</td><td>Philip Fox</td><td>2016</td><td>478.68</td></tr><tr><td>CL-12565</td><td>Clay Ludtke</td><td>2014</td><td>199.77</td></tr><tr><td>CB-12415</td><td>Christy Brittain</td><td>2017</td><td>74.23</td></tr><tr><td>DB-13660</td><td>Duane Benoit</td><td>2017</td><td>199.44</td></tr><tr><td>TB-21400</td><td>Tom Boeckenhauer</td><td>2017</td><td>218.55</td></tr><tr><td>MM-18055</td><td>Michelle Moray</td><td>2017</td><td>-403.76</td></tr><tr><td>KN-16390</td><td>Katherine Nockton</td><td>2014</td><td>29.95</td></tr><tr><td>JR-16210</td><td>Justin Ritter</td><td>2016</td><td>44.21</td></tr><tr><td>BD-11605</td><td>Brian Dahlen</td><td>2016</td><td>124.51</td></tr><tr><td>MR-17545</td><td>Mathew Reese</td><td>2017</td><td>153.35</td></tr><tr><td>AS-10090</td><td>Adam Shillingsburg</td><td>2017</td><td>-331.64</td></tr><tr><td>DB-13270</td><td>Deborah Brumfield</td><td>2016</td><td>810.57</td></tr><tr><td>NH-18610</td><td>Nicole Hansen</td><td>2017</td><td>635.96</td></tr><tr><td>NS-18505</td><td>Neola Schneider</td><td>2016</td><td>19.55</td></tr><tr><td>CR-12580</td><td>Clay Rozendal</td><td>2016</td><td>-34.40</td></tr><tr><td>CS-11950</td><td>Carlos Soltero</td><td>2016</td><td>-131.21</td></tr><tr><td>CL-12565</td><td>Clay Ludtke</td><td>2016</td><td>713.45</td></tr><tr><td>HM-14860</td><td>Harry Marie</td><td>2014</td><td>-79.13</td></tr><tr><td>SV-20365</td><td>Seth Vernon</td><td>2014</td><td>-218.93</td></tr><tr><td>JL-15130</td><td>Jack Lebron</td><td>2016</td><td>1.39</td></tr><tr><td>PF-19165</td><td>Philip Fox</td><td>2017</td><td>50.65</td></tr><tr><td>AA-10480</td><td>Andrew Allen</td><td>2014</td><td>9.89</td></tr><tr><td>GD-14590</td><td>Giulietta Dortch</td><td>2014</td><td>21.66</td></tr><tr><td>JW-15220</td><td>Jane Waco</td><td>2015</td><td>89.20</td></tr><tr><td>CC-12220</td><td>Chris Cortes</td><td>2015</td><td>21.01</td></tr><tr><td>TB-21280</td><td>Toby Braunhardt</td><td>2016</td><td>290.98</td></tr><tr><td>RA-19885</td><td>Ruben Ausman</td><td>2014</td><td>776.48</td></tr><tr><td>BM-11785</td><td>Bryan Mills</td><td>2014</td><td>114.10</td></tr><tr><td>CG-12040</td><td>Catherine Glotzbach</td><td>2015</td><td>5.76</td></tr><tr><td>DJ-13510</td><td>Don Jones</td><td>2016</td><td>100.20</td></tr><tr><td>CV-12295</td><td>Christina VanderZanden</td><td>2017</td><td>277.62</td></tr><tr><td>SF-20965</td><td>Sylvia Foulston</td><td>2017</td><td>8.49</td></tr><tr><td>BG-11035</td><td>Barry Gonzalez</td><td>2017</td><td>221.68</td></tr><tr><td>LS-17245</td><td>Lynn Smith</td><td>2014</td><td>230.21</td></tr><tr><td>MD-17350</td><td>Maribeth Dona</td><td>2017</td><td>-194.56</td></tr><tr><td>JF-15355</td><td>Jay Fein</td><td>2016</td><td>40.75</td></tr><tr><td>EB-13870</td><td>Emily Burns</td><td>2017</td><td>-80.44</td></tr><tr><td>MZ-17515</td><td>Mary Zewe</td><td>2017</td><td>17.38</td></tr><tr><td>BG-11035</td><td>Barry Gonzalez</td><td>2016</td><td>12.24</td></tr><tr><td>RA-19285</td><td>Ralph Arnett</td><td>2014</td><td>0.00</td></tr><tr><td>BH-11710</td><td>Brosina Hoffman</td><td>2014</td><td>235.35</td></tr><tr><td>DL-12865</td><td>Dan Lawera</td><td>2017</td><td>-6.90</td></tr><tr><td>BG-11695</td><td>Brooke Gillingham</td><td>2015</td><td>28.31</td></tr><tr><td>SR-20425</td><td>Sharelle Roach</td><td>2017</td><td>-3391.66</td></tr><tr><td>GD-14590</td><td>Giulietta Dortch</td><td>2016</td><td>-155.30</td></tr><tr><td>RL-19615</td><td>Rob Lucas</td><td>2016</td><td>-6.57</td></tr><tr><td>SE-20110</td><td>Sanjit Engle</td><td>2017</td><td>-236.83</td></tr><tr><td>DP-13390</td><td>Dennis Pardue</td><td>2014</td><td>83.79</td></tr><tr><td>LC-17140</td><td>Logan Currie</td><td>2016</td><td>235.33</td></tr><tr><td>RB-19360</td><td>Raymond Buch</td><td>2017</td><td>6780.90</td></tr><tr><td>SF-20200</td><td>Sarah Foster</td><td>2017</td><td>294.84</td></tr><tr><td>NW-18400</td><td>Natalie Webber</td><td>2016</td><td>-255.46</td></tr><tr><td>FM-14215</td><td>Filia McAdams</td><td>2014</td><td>228.77</td></tr><tr><td>PW-19240</td><td>Pierre Wener</td><td>2014</td><td>-86.27</td></tr><tr><td>CC-12370</td><td>Christopher Conant</td><td>2016</td><td>2083.34</td></tr><tr><td>BT-11305</td><td>Beth Thompson</td><td>2015</td><td>87.46</td></tr><tr><td>RM-19375</td><td>Raymond Messe</td><td>2015</td><td>19.97</td></tr><tr><td>AJ-10945</td><td>Ashley Jarboe</td><td>2017</td><td>167.94</td></tr><tr><td>LR-16915</td><td>Lena Radford</td><td>2017</td><td>-272.58</td></tr><tr><td>CD-12790</td><td>Cynthia Delaney</td><td>2015</td><td>2.53</td></tr><tr><td>NP-18325</td><td>NA</td><td>2015</td><td>852.92</td></tr><tr><td>SC-20050</td><td>Sample Company A</td><td>2017</td><td>91.45</td></tr><tr><td>MP-17470</td><td>Mark Packer</td><td>2015</td><td>311.50</td></tr><tr><td>MJ-17740</td><td>Max Jones</td><td>2016</td><td>728.75</td></tr><tr><td>HG-14965</td><td>Henry Goldwyn</td><td>2014</td><td>2.45</td></tr><tr><td>JR-15670</td><td>Jim Radford</td><td>2016</td><td>0.00</td></tr><tr><td>SC-20380</td><td>ShahiCollister</td><td>2016</td><td>-25.00</td></tr><tr><td>MV-18190</td><td>Mike Vitt orini</td><td>2014</td><td>11.90</td></tr><tr><td>TS-21610</td><td>Troy Staebel</td><td>2016</td><td>-57.29</td></tr><tr><td>HM-14980</td><td>Henry MacAllister</td><td>2016</td><td>1.73</td></tr><tr><td>SC-20020</td><td>Sam Craven</td><td>2014</td><td>-360.83</td></tr><tr><td>DS-13180</td><td>David Smith</td><td>2016</td><td>-46.95</td></tr><tr><td>LC-16930</td><td>Linda Cazamias</td><td>2014</td><td>29.34</td></tr><tr><td>CP-12340</td><td>Christine Phan</td><td>2016</td><td>242.84</td></tr><tr><td>FW-14395</td><td>Fred Waerman</td><td>2015</td><td>5.48</td></tr><tr><td>VS-21820</td><td>Vivek Sundaresam</td><td>2017</td><td>-6.42</td></tr><tr><td>GT-14710</td><td>Greg Tran</td><td>2015</td><td>974.31</td></tr><tr><td>NC-18340</td><td>Nat Carroll</td><td>2016</td><td>26.29</td></tr><tr><td>CS-11860</td><td>Cari Schnelling</td><td>2015</td><td>-2.84</td></tr><tr><td>SC-20260</td><td>Scott Cohen</td><td>2015</td><td>373.95</td></tr><tr><td>DB-13660</td><td>Duane Benoit</td><td>2014</td><td>31.01</td></tr><tr><td>AR-10405</td><td>Allen Rosenblatt</td><td>2014</td><td>17.59</td></tr><tr><td>DW-13480</td><td>Dianna Wilson</td><td>2014</td><td>1154.67</td></tr><tr><td>JP-15520</td><td>Jeremy Pistek</td><td>2016</td><td>130.51</td></tr><tr><td>DL-12865</td><td>Dan Lawera</td><td>2016</td><td>311.98</td></tr><tr><td>KF-16285</td><td>Karen Ferguson</td><td>2016</td><td>371.05</td></tr><tr><td>SC-20440</td><td>Shaun Chance</td><td>2017</td><td>4.29</td></tr><tr><td>EJ-14155</td><td>Eva Jacobs</td><td>2016</td><td>335.35</td></tr><tr><td>DS-13180</td><td>David Smith</td><td>2014</td><td>57.59</td></tr><tr><td>EH-14185</td><td>Evan Henry</td><td>2016</td><td>209.28</td></tr><tr><td>DL-12865</td><td>Dan Lawera</td><td>2014</td><td>7.73</td></tr><tr><td>BD-11770</td><td>Bryan Davis</td><td>2016</td><td>110.70</td></tr><tr><td>RH-19495</td><td>Rick Hansen</td><td>2017</td><td>48.21</td></tr><tr><td>JA-15970</td><td>Joseph Airdo</td><td>2014</td><td>96.93</td></tr><tr><td>JF-15415</td><td>Jennifer Ferguson</td><td>2017</td><td>550.86</td></tr><tr><td>SF-20965</td><td>Sylvia Foulston</td><td>2015</td><td>448.98</td></tr><tr><td>BF-11170</td><td>Ben Ferrer</td><td>2017</td><td>437.78</td></tr><tr><td>MA-17995</td><td>Michelle Arnett</td><td>2014</td><td>53.70</td></tr><tr><td>SR-20740</td><td>Steven Roelle</td><td>2014</td><td>130.18</td></tr><tr><td>GK-14620</td><td>Grace Kelly</td><td>2017</td><td>3.45</td></tr><tr><td>SZ-20035</td><td>Sam Zeldin</td><td>2014</td><td>6.49</td></tr><tr><td>DM-13015</td><td>Darrin Martin</td><td>2015</td><td>6.60</td></tr><tr><td>MB-18085</td><td>Mick Brown</td><td>2016</td><td>45.32</td></tr><tr><td>AA-10645</td><td>Anna Andreadi</td><td>2017</td><td>6.22</td></tr><tr><td>ZD-21925</td><td>Zuschuss Donatelli</td><td>2017</td><td>16.59</td></tr><tr><td>LB-16795</td><td>Laurel Beltran</td><td>2016</td><td>-658.62</td></tr><tr><td>EB-13750</td><td>Edward Becker</td><td>2015</td><td>177.41</td></tr><tr><td>Dp-13240</td><td>Dean perceR</td><td>2017</td><td>-1031.12</td></tr><tr><td>CS-11860</td><td>Cari Schnelling</td><td>2014</td><td>93.74</td></tr><tr><td>DD-13570</td><td>Dorothy Dickinson</td><td>2014</td><td>-8.63</td></tr><tr><td>IG-15085</td><td>Ivan Gibson</td><td>2015</td><td>144.35</td></tr><tr><td>HG-15025</td><td>Hunter Glantz</td><td>2015</td><td>55.90</td></tr><tr><td>RA-19885</td><td>Ruben Ausman</td><td>2015</td><td>1.67</td></tr><tr><td>SL-20155</td><td>Sara Luxemburg</td><td>2016</td><td>3.11</td></tr><tr><td>MK-17905</td><td>Michael Kennedy</td><td>2014</td><td>43.22</td></tr><tr><td>JK-15730</td><td>Joe Kamberova</td><td>2015</td><td>42.08</td></tr><tr><td>DB-13360</td><td>Dennis Bolton</td><td>2015</td><td>15.61</td></tr><tr><td>AR-10825</td><td>Anthony Rawles</td><td>2016</td><td>370.30</td></tr><tr><td>AG-10495</td><td>Andrew Gjertsen</td><td>2017</td><td>25.05</td></tr><tr><td>EB-13840</td><td>Ellis Ballard</td><td>2017</td><td>81.70</td></tr><tr><td>BS-11380</td><td>Bil Stewart</td><td>2017</td><td>-228.10</td></tr><tr><td>KT-16480</td><td>Kean Thornton</td><td>2014</td><td>103.44</td></tr><tr><td>MH-17785</td><td>Maya Herman</td><td>2015</td><td>94.71</td></tr><tr><td>CR-12625</td><td>Corey Roper</td><td>2016</td><td>30.45</td></tr><tr><td>NF-18475</td><td>Neil Franzsisch</td><td>2015</td><td>72.89</td></tr><tr><td>GZ-14545</td><td>George Zrebassa</td><td>2014</td><td>12.00</td></tr><tr><td>DO-13435</td><td>Denny Ordway</td><td>2016</td><td>8.50</td></tr><tr><td>BK-11260</td><td>Berenike Kampe</td><td>2016</td><td>2.23</td></tr><tr><td>AF-10870</td><td>Art Ferguson</td><td>2015</td><td>2.02</td></tr><tr><td>SH-20395</td><td>ShahiHopkins</td><td>2017</td><td>106.91</td></tr><tr><td>VT-21700</td><td>Valerie Takahito</td><td>2014</td><td>33.00</td></tr><tr><td>NK-18490</td><td>Neil Knudson</td><td>2016</td><td>39.41</td></tr><tr><td>HG-14965</td><td>Henry Goldwyn</td><td>2016</td><td>136.14</td></tr><tr><td>QJ-19255</td><td>Quincy Jones</td><td>2015</td><td>1014.47</td></tr><tr><td>DN-13690</td><td>Duane Noonan</td><td>2016</td><td>222.39</td></tr><tr><td>AS-10225</td><td>Alan Schoenberger</td><td>2017</td><td>268.43</td></tr><tr><td>HG-14965</td><td>Henry Goldwyn</td><td>2017</td><td>-2971.38</td></tr><tr><td>DB-13360</td><td>Dennis Bolton</td><td>2016</td><td>81.97</td></tr><tr><td>TS-21655</td><td>Trudy Schmidt</td><td>2017</td><td>-110.05</td></tr><tr><td>JG-15160</td><td>James Galang</td><td>2016</td><td>230.36</td></tr><tr><td>BS-11590</td><td>Brendan Sweed</td><td>2015</td><td>103.10</td></tr><tr><td>BP-11230</td><td>Benjamin Patterson</td><td>2015</td><td>-255.74</td></tr><tr><td>MH-17785</td><td>Maya Herman</td><td>2017</td><td>3.35</td></tr><tr><td>SW-20755</td><td>Steven Ward</td><td>2014</td><td>19.72</td></tr><tr><td>KB-16315</td><td>Karl Braun</td><td>2016</td><td>27.53</td></tr><tr><td>BB-11545</td><td>Brenda Bowman</td><td>2015</td><td>-77.85</td></tr><tr><td>TZ-21580</td><td>Tracy Zic</td><td>2016</td><td>75.98</td></tr><tr><td>SZ-20035</td><td>Sam Zeldin</td><td>2015</td><td>260.19</td></tr><tr><td>LW-16825</td><td>Laurel Workman</td><td>2017</td><td>2.32</td></tr><tr><td>JP-15460</td><td>Jennifer Patt</td><td>2016</td><td>307.34</td></tr><tr><td>SM-20320</td><td>Sean Miller</td><td>2014</td><td>-1789.74</td></tr><tr><td>RB-19435</td><td>Richard Bierner</td><td>2017</td><td>362.94</td></tr><tr><td>AA-10315</td><td>Alex Avila</td><td>2015</td><td>7.00</td></tr><tr><td>PL-18925</td><td>Paul Lucas</td><td>2016</td><td>-13.65</td></tr><tr><td>MK-17905</td><td>Michael Kennedy</td><td>2016</td><td>-456.26</td></tr><tr><td>SV-20365</td><td>Seth Vernon</td><td>2016</td><td>39.77</td></tr><tr><td>AG-10900</td><td>Arthur Gainer</td><td>2017</td><td>-71.97</td></tr><tr><td>JM-15655</td><td>Jim Mitchum</td><td>2016</td><td>65.90</td></tr><tr><td>JP-16135</td><td>Julie Prescott</td><td>2017</td><td>19.51</td></tr><tr><td>CA-12310</td><td>Christine Abelman</td><td>2016</td><td>2.10</td></tr><tr><td>LH-16900</td><td>Lena Hernandez</td><td>2017</td><td>65.22</td></tr><tr><td>RH-19495</td><td>Rick Hansen</td><td>2014</td><td>34.94</td></tr><tr><td>PG-18820</td><td>Patrick Gardner</td><td>2016</td><td>551.30</td></tr><tr><td>RA-19945</td><td>Ryan Akin</td><td>2017</td><td>-105.50</td></tr><tr><td>AS-10240</td><td>Alan Shonely</td><td>2014</td><td>37.35</td></tr><tr><td>CP-12085</td><td>Cathy Prescott</td><td>2017</td><td>230.57</td></tr><tr><td>JK-15625</td><td>Jim Karlsson</td><td>2015</td><td>438.00</td></tr><tr><td>GM-14455</td><td>Gary Mitchum</td><td>2017</td><td>374.62</td></tr><tr><td>JL-15235</td><td>Janet Lee</td><td>2015</td><td>53.47</td></tr><tr><td>DP-13165</td><td>David Philippe</td><td>2015</td><td>1.00</td></tr><tr><td>RA-19885</td><td>Ruben Ausman</td><td>2016</td><td>3.89</td></tr><tr><td>AA-10375</td><td>Allen Armold</td><td>2014</td><td>16.72</td></tr><tr><td>RF-19735</td><td>Roland Fjeld</td><td>2014</td><td>22.65</td></tr><tr><td>LC-16870</td><td>NA</td><td>2017</td><td>-3.90</td></tr><tr><td>IG-15085</td><td>Ivan Gibson</td><td>2017</td><td>92.92</td></tr><tr><td>GG-14650</td><td>Greg Guthrie</td><td>2017</td><td>-10.07</td></tr><tr><td>KH-16330</td><td>Katharine Harms</td><td>2016</td><td>43.90</td></tr><tr><td>AW-10930</td><td>Arthur Wiediger</td><td>2015</td><td>64.25</td></tr><tr><td>AS-10090</td><td>Adam Shillingsburg</td><td>2015</td><td>243.86</td></tr><tr><td>AR-10345</td><td>Alex Russell</td><td>2015</td><td>-2.57</td></tr><tr><td>KL-16555</td><td>Kelly Lampkin</td><td>2016</td><td>50.12</td></tr><tr><td>MD-17860</td><td>Michael Dominguez</td><td>2014</td><td>-47.36</td></tr><tr><td>DB-13210</td><td>Dean Braden</td><td>2015</td><td>-41.79</td></tr><tr><td>DB-13270</td><td>Deborah Brumfield</td><td>2017</td><td>-15.55</td></tr><tr><td>PT-19090</td><td>Pete Takahito</td><td>2014</td><td>-8.03</td></tr><tr><td>GM-14680</td><td>Greg Matthias</td><td>2016</td><td>-121.94</td></tr><tr><td>SO-20335</td><td>Sean ODonnell</td><td>2017</td><td>200.89</td></tr><tr><td>GH-14410</td><td>Gary Hansen</td><td>2016</td><td>-173.08</td></tr><tr><td>AH-10075</td><td>Adam Hart</td><td>2015</td><td>0.34</td></tr><tr><td>MM-18055</td><td>Michelle Moray</td><td>2014</td><td>130.68</td></tr><tr><td>CC-12145</td><td>Charles Crestani</td><td>2014</td><td>78.74</td></tr><tr><td>CC-12685</td><td>Craig Carroll</td><td>2015</td><td>895.35</td></tr><tr><td>KM-16720</td><td>Kunst Miller</td><td>2015</td><td>112.10</td></tr><tr><td>HA-14920</td><td>Helen Andreada</td><td>2015</td><td>197.84</td></tr><tr><td>MG-18145</td><td>Mike Gockenbach</td><td>2014</td><td>-152.72</td></tr><tr><td>EP-13915</td><td>Emily Phan</td><td>2014</td><td>175.00</td></tr><tr><td>SC-20050</td><td>Sample Company A</td><td>2015</td><td>9.10</td></tr><tr><td>FH-14365</td><td>Fred Hopkins</td><td>2016</td><td>6.91</td></tr><tr><td>JD-16150</td><td>Justin Deggeller</td><td>2015</td><td>212.64</td></tr><tr><td>JK-15640</td><td>Jim Kriz</td><td>2017</td><td>981.67</td></tr><tr><td>AS-10630</td><td>Ann Steele</td><td>2015</td><td>-10.81</td></tr><tr><td>KD-16345</td><td>Katherine Ducich</td><td>2017</td><td>20.36</td></tr><tr><td>AC-10450</td><td>Amy Cox</td><td>2016</td><td>381.04</td></tr><tr><td>DJ-13510</td><td>Don Jones</td><td>2017</td><td>57.32</td></tr><tr><td>JB-15925</td><td>Joni Blumstein</td><td>2015</td><td>-359.56</td></tr><tr><td>ES-14080</td><td>Erin Smith</td><td>2014</td><td>134.03</td></tr><tr><td>LS-16975</td><td>Lindsay Shagiari</td><td>2015</td><td>-108.20</td></tr><tr><td>EK-13795</td><td>Eileen Kiefer</td><td>2017</td><td>6.07</td></tr><tr><td>DB-13360</td><td>Dennis Bolton</td><td>2014</td><td>79.89</td></tr><tr><td>NZ-18565</td><td>Nick Zandusky</td><td>2016</td><td>-30.61</td></tr><tr><td>FH-14350</td><td>Fred Harton</td><td>2017</td><td>340.37</td></tr><tr><td>PO-18850</td><td>Patrick OBrill</td><td>2016</td><td>-316.63</td></tr><tr><td>PV-18985</td><td>PaulVan Hugh</td><td>2016</td><td>155.32</td></tr><tr><td>JF-15490</td><td>Jeremy Farry</td><td>2014</td><td>35.40</td></tr><tr><td>SK-19990</td><td>Sally Knutson</td><td>2017</td><td>165.35</td></tr><tr><td>HM-14980</td><td>Henry MacAllister</td><td>2015</td><td>73.82</td></tr><tr><td>RB-19645</td><td>Robert Barroso</td><td>2016</td><td>19.33</td></tr><tr><td>BS-11590</td><td>Brendan Sweed</td><td>2017</td><td>168.47</td></tr><tr><td>TS-21370</td><td>Todd Sumrall</td><td>2017</td><td>1218.01</td></tr><tr><td>JK-16120</td><td>Julie Kriz</td><td>2015</td><td>47.93</td></tr><tr><td>AG-10300</td><td>Aleksandra Gannaway</td><td>2014</td><td>28.75</td></tr><tr><td>IM-15070</td><td>Irene Maddox</td><td>2016</td><td>329.30</td></tr><tr><td>EM-14095</td><td>Eudokia Martin</td><td>2015</td><td>192.67</td></tr><tr><td>VW-21775</td><td>Victoria Wilson</td><td>2014</td><td>-65.32</td></tr><tr><td>MC-18130</td><td>Mike Caudle</td><td>2015</td><td>9.81</td></tr><tr><td>DK-13150</td><td>David K lendrick</td><td>2017</td><td>171.77</td></tr><tr><td>SW-20245</td><td>Scot Wooten</td><td>2015</td><td>-10.84</td></tr><tr><td>DP-13390</td><td>Dennis Pardue</td><td>2016</td><td>1694.64</td></tr><tr><td>VG-21805</td><td>Vivek Grady</td><td>2014</td><td>-82.88</td></tr><tr><td>SC-20020</td><td>Sam Craven</td><td>2015</td><td>43.32</td></tr><tr><td>SC-20800</td><td>Stuart Calhoun</td><td>2016</td><td>9.00</td></tr><tr><td>BP-11050</td><td>Barry Pond</td><td>2014</td><td>2.50</td></tr><tr><td>DK-12895</td><td>Dana Kaydos</td><td>2015</td><td>609.59</td></tr><tr><td>CV-12805</td><td>Cynthia Voltz</td><td>2017</td><td>134.09</td></tr><tr><td>RP-19855</td><td>Roy Phan</td><td>2015</td><td>375.38</td></tr><tr><td>DG-13300</td><td>Deirdre Greer</td><td>2015</td><td>0.42</td></tr><tr><td>RF-19840</td><td>Roy Franzsisch</td><td>2016</td><td>264.16</td></tr><tr><td>ME-17320</td><td>Maria Etezadi</td><td>2017</td><td>74.00</td></tr><tr><td>BS-11665</td><td>Brian Stugart</td><td>2015</td><td>175.39</td></tr><tr><td>TS-21430</td><td>Tom Stivers</td><td>2017</td><td>14.71</td></tr><tr><td>EM-13825</td><td>Elizabeth Moffitt</td><td>2017</td><td>444.42</td></tr><tr><td>NL-18310</td><td>Nancy Lomonaco</td><td>2014</td><td>8.28</td></tr><tr><td>KC-16675</td><td>Kimberly Carter</td><td>2016</td><td>-4.95</td></tr><tr><td>RD-19930</td><td>Russell DAscenzo</td><td>2014</td><td>-23.29</td></tr><tr><td>EC-14050</td><td>Erin Creighton</td><td>2014</td><td>-4.02</td></tr><tr><td>LM-17065</td><td>Liz MacKendrick</td><td>2015</td><td>-142.52</td></tr><tr><td>TS-21205</td><td>Thomas Seio</td><td>2014</td><td>471.81</td></tr><tr><td>PB-19150</td><td>Philip Brown</td><td>2014</td><td>12.30</td></tr><tr><td>RL-19615</td><td>Rob Lucas</td><td>2014</td><td>42.29</td></tr><tr><td>DH-13075</td><td>Dave Hallsten</td><td>2015</td><td>783.24</td></tr><tr><td>RD-19930</td><td>Russell DAscenzo</td><td>2017</td><td>19.33</td></tr><tr><td>IL-15100</td><td>Ivan Liston</td><td>2017</td><td>438.68</td></tr><tr><td>CS-12355</td><td>Christine Sundaresam</td><td>2016</td><td>10.32</td></tr><tr><td>BG-11740</td><td>Bruce Geld</td><td>2014</td><td>3.22</td></tr><tr><td>MJ-17740</td><td>Max Jones</td><td>2017</td><td>403.72</td></tr><tr><td>BB-11545</td><td>Brenda Bowman</td><td>2017</td><td>660.69</td></tr><tr><td>MZ-17335</td><td>Maria Zettner</td><td>2015</td><td>69.35</td></tr><tr><td>JB-16000</td><td>Joy Bell</td><td>2016</td><td>15.97</td></tr><tr><td>SP-20920</td><td>Susan Pistek</td><td>2017</td><td>-18.55</td></tr><tr><td>JK-15205</td><td>Jamie Kunitz</td><td>2016</td><td>1.03</td></tr><tr><td>JR-16210</td><td>Justin Ritter</td><td>2015</td><td>152.39</td></tr><tr><td>MV-18190</td><td>Mike Vitt orini</td><td>2017</td><td>21.47</td></tr><tr><td>RP-19270</td><td>Rachel Payne</td><td>2016</td><td>11.70</td></tr><tr><td>DB-13615</td><td>Doug Bickford</td><td>2015</td><td>342.08</td></tr><tr><td>AC-10420</td><td>Alyssa Crouse</td><td>2016</td><td>21.59</td></tr><tr><td>CA-12775</td><td>Cynthia Arntzen</td><td>2016</td><td>1.67</td></tr><tr><td>RH-19555</td><td>Ritsa Hightower</td><td>2015</td><td>-6.03</td></tr><tr><td>TC-21295</td><td>Toby Carlisle</td><td>2017</td><td>231.66</td></tr><tr><td>ND-18460</td><td>Neil Ducich</td><td>2014</td><td>45.43</td></tr><tr><td>SD-20485</td><td>Shirley Daniels</td><td>2017</td><td>-113.20</td></tr><tr><td>PW-19030</td><td>Pauline Webber</td><td>2015</td><td>15.15</td></tr><tr><td>CS-12250</td><td>Chris Selesnick</td><td>2017</td><td>174.26</td></tr><tr><td>BD-11560</td><td>Brendan Dodson</td><td>2017</td><td>80.24</td></tr><tr><td>RD-19810</td><td>Ross DeVincentis</td><td>2014</td><td>7.66</td></tr><tr><td>SW-20245</td><td>Scot Wooten</td><td>2014</td><td>-27.20</td></tr><tr><td>SP-20650</td><td>Stephanie Phelps</td><td>2014</td><td>72.40</td></tr><tr><td>TN-21040</td><td>Tanja Norvell</td><td>2014</td><td>21.25</td></tr><tr><td>KD-16270</td><td>Karen Danels</td><td>2016</td><td>2318.71</td></tr><tr><td>NP-18325</td><td>NA</td><td>2017</td><td>41.82</td></tr><tr><td>TZ-21580</td><td>Tracy Zic</td><td>2014</td><td>132.30</td></tr><tr><td>LT-17110</td><td>Liz Thompson</td><td>2015</td><td>76.22</td></tr><tr><td>CA-12055</td><td>Cthy Armstrong</td><td>2015</td><td>-47.73</td></tr><tr><td>DR-12940</td><td>Daniel Raglin</td><td>2017</td><td>211.97</td></tr><tr><td>JD-16150</td><td>Justin Deggeller</td><td>2016</td><td>272.20</td></tr><tr><td>JK-15640</td><td>Jim Kriz</td><td>2014</td><td>10.19</td></tr><tr><td>TS-21160</td><td>Theresa Swint</td><td>2016</td><td>-48.91</td></tr><tr><td>DC-12850</td><td>Dan Campbell</td><td>2016</td><td>-239.55</td></tr><tr><td>AG-10675</td><td>Anna Gayman</td><td>2017</td><td>61.15</td></tr><tr><td>IM-15070</td><td>Irene Maddox</td><td>2014</td><td>240.60</td></tr><tr><td>NW-18400</td><td>Natalie Webber</td><td>2015</td><td>1654.06</td></tr><tr><td>JF-15415</td><td>Jennifer Ferguson</td><td>2015</td><td>56.64</td></tr><tr><td>MC-17425</td><td>Mark Cousins</td><td>2014</td><td>135.00</td></tr><tr><td>DW-13480</td><td>Dianna Wilson</td><td>2017</td><td>162.99</td></tr><tr><td>SV-20935</td><td>Susan Vittorini</td><td>2016</td><td>-30.20</td></tr><tr><td>SC-20695</td><td>Steve Chapman</td><td>2016</td><td>347.96</td></tr><tr><td>KM-16720</td><td>Kunst Miller</td><td>2014</td><td>213.70</td></tr><tr><td>RA-19285</td><td>Ralph Arnett</td><td>2015</td><td>234.81</td></tr><tr><td>MG-17650</td><td>Matthew Grinstein</td><td>2017</td><td>112.69</td></tr><tr><td>LP-17080</td><td>Liz Pelletier</td><td>2016</td><td>21.94</td></tr><tr><td>GG-14650</td><td>Greg Guthrie</td><td>2014</td><td>122.55</td></tr><tr><td>AA-10375</td><td>Allen Armold</td><td>2017</td><td>68.92</td></tr><tr><td>YS-21880</td><td>Yana Sorensen</td><td>2017</td><td>1524.13</td></tr><tr><td>NK-18490</td><td>Neil Knudson</td><td>2015</td><td>1.79</td></tr><tr><td>AB-10105</td><td>Adrian Barton</td><td>2017</td><td>340.64</td></tr><tr><td>TT-21070</td><td>Ted Trevino</td><td>2017</td><td>422.93</td></tr><tr><td>MP-18175</td><td>Mike Pelletier</td><td>2017</td><td>119.69</td></tr><tr><td>KB-16585</td><td>Ken Black</td><td>2015</td><td>66.42</td></tr><tr><td>SJ-20215</td><td>Sarah Jordon</td><td>2017</td><td>-26.04</td></tr><tr><td>CM-12115</td><td>Chad McGuire</td><td>2015</td><td>8.11</td></tr><tr><td>NB-18655</td><td>Nona Balk</td><td>2014</td><td>87.38</td></tr><tr><td>PL-18925</td><td>Paul Lucas</td><td>2014</td><td>31.83</td></tr><tr><td>JS-15685</td><td>Jim Sink</td><td>2016</td><td>-99.99</td></tr><tr><td>MM-17260</td><td>Magdelene Morse</td><td>2014</td><td>51.36</td></tr><tr><td>EH-13945</td><td>Eric Hoffmann</td><td>2016</td><td>-13.38</td></tr><tr><td>HM-14980</td><td>Henry MacAllister</td><td>2017</td><td>41.23</td></tr><tr><td>PG-18895</td><td>Paul Gonzalez</td><td>2016</td><td>10.71</td></tr><tr><td>JR-16210</td><td>Justin Ritter</td><td>2017</td><td>255.77</td></tr><tr><td>DB-12970</td><td>Darren Budd</td><td>2014</td><td>17.78</td></tr><tr><td>NC-18535</td><td>Nick Crebassa</td><td>2016</td><td>16.79</td></tr><tr><td>MY-17380</td><td>Maribeth Yedwab</td><td>2017</td><td>283.44</td></tr><tr><td>JC-15340</td><td>Jasper Cacioppo</td><td>2016</td><td>-4.08</td></tr><tr><td>CM-12160</td><td>Charles McCrossin</td><td>2017</td><td>-78.62</td></tr><tr><td>EH-14005</td><td>Erica Hernandez</td><td>2016</td><td>9.95</td></tr><tr><td>CM-11935</td><td>Carlos Meador</td><td>2015</td><td>13.17</td></tr><tr><td>CY-12745</td><td>Craig Yedwab</td><td>2014</td><td>-336.63</td></tr><tr><td>CC-12610</td><td>Corey Catlett</td><td>2015</td><td>18.31</td></tr><tr><td>HL-15040</td><td>Hunter Lopez</td><td>2016</td><td>128.54</td></tr><tr><td>TS-21505</td><td>NA</td><td>2017</td><td>-6.23</td></tr><tr><td>JM-16195</td><td>Justin MacKendrick</td><td>2015</td><td>221.33</td></tr><tr><td>CK-12760</td><td>Cyma Kinney</td><td>2016</td><td>101.86</td></tr><tr><td>RC-19825</td><td>Roy Collins</td><td>2016</td><td>56.69</td></tr><tr><td>SC-20845</td><td>Sung Chung</td><td>2016</td><td>1.23</td></tr><tr><td>MC-17590</td><td>Matt Collister</td><td>2017</td><td>47.18</td></tr><tr><td>JE-15745</td><td>Joel Eaton</td><td>2014</td><td>42.09</td></tr><tr><td>CM-11815</td><td>Candace McMahon</td><td>2016</td><td>3.69</td></tr><tr><td>LF-17185</td><td>Luke Foster</td><td>2015</td><td>146.21</td></tr><tr><td>GM-14440</td><td>Gary McGarr</td><td>2016</td><td>108.18</td></tr><tr><td>JF-15295</td><td>Jason Fortune</td><td>2014</td><td>47.35</td></tr><tr><td>GM-14500</td><td>Gene McClure</td><td>2017</td><td>61.60</td></tr><tr><td>AH-10690</td><td>Anna Hberlin</td><td>2014</td><td>46.20</td></tr><tr><td>AR-10345</td><td>Alex Russell</td><td>2014</td><td>-242.44</td></tr><tr><td>JC-15775</td><td>John Castell</td><td>2014</td><td>64.08</td></tr><tr><td>FP-14320</td><td>Frank Preis</td><td>2014</td><td>138.01</td></tr><tr><td>AB-10255</td><td>Alejandro Ballentine</td><td>2016</td><td>26.07</td></tr><tr><td>TS-21610</td><td>Troy Staebel</td><td>2014</td><td>-227.49</td></tr><tr><td>GW-14605</td><td>Giulietta Weimer</td><td>2015</td><td>134.33</td></tr><tr><td>FM-14290</td><td>Frank Merwin</td><td>2016</td><td>-356.98</td></tr><tr><td>RW-19690</td><td>Robert Waldorf</td><td>2016</td><td>-2.63</td></tr><tr><td>ON-18715</td><td>Odella Nelson</td><td>2016</td><td>-157.53</td></tr><tr><td>RB-19645</td><td>Robert Barroso</td><td>2015</td><td>28.43</td></tr><tr><td>JS-16030</td><td>Joy Smith</td><td>2016</td><td>451.92</td></tr><tr><td>RB-19360</td><td>Raymond Buch</td><td>2016</td><td>195.46</td></tr><tr><td>EB-13750</td><td>Edward Becker</td><td>2017</td><td>-397.51</td></tr><tr><td>NP-18670</td><td>Nra Paige</td><td>2016</td><td>246.10</td></tr><tr><td>SF-20065</td><td>Sandra Flanagan</td><td>2015</td><td>15.98</td></tr><tr><td>JJ-15445</td><td>Jennifer Jackson</td><td>2016</td><td>18.71</td></tr><tr><td>DB-12970</td><td>Darren Budd</td><td>2016</td><td>84.30</td></tr><tr><td>CB-12535</td><td>Claudia Bergmann</td><td>2015</td><td>249.13</td></tr><tr><td>KH-16510</td><td>Keith Herrera</td><td>2017</td><td>431.29</td></tr><tr><td>VG-21805</td><td>Vivek Grady</td><td>2017</td><td>2.41</td></tr><tr><td>CC-12100</td><td>Chad Cunningham</td><td>2015</td><td>77.45</td></tr><tr><td>LS-17200</td><td>Luke Schmidt</td><td>2017</td><td>57.82</td></tr><tr><td>SF-20200</td><td>Sarah Foster</td><td>2015</td><td>-87.01</td></tr><tr><td>AR-10510</td><td>Andrew Roberts</td><td>2015</td><td>27.99</td></tr><tr><td>JL-15175</td><td>James Lanier</td><td>2015</td><td>41.14</td></tr><tr><td>LL-16840</td><td>Lauren Leatherbury</td><td>2014</td><td>110.88</td></tr><tr><td>JK-15325</td><td>Jason Klamczynski</td><td>2016</td><td>11.68</td></tr><tr><td>TB-21175</td><td>Thomas Boland</td><td>2014</td><td>6.04</td></tr><tr><td>BP-11095</td><td>Bart Pistole</td><td>2017</td><td>228.64</td></tr><tr><td>RS-19870</td><td>Roy Skaria</td><td>2016</td><td>3.50</td></tr><tr><td>TA-21385</td><td>Tom Ashbrook</td><td>2017</td><td>4599.21</td></tr><tr><td>JS-15880</td><td>John Stevenson</td><td>2014</td><td>-94.66</td></tr><tr><td>PJ-19015</td><td>Pauline Johnson</td><td>2017</td><td>609.43</td></tr><tr><td>RA-19915</td><td>Russell Applegate</td><td>2016</td><td>115.46</td></tr><tr><td>SS-20875</td><td>Sung Shariari</td><td>2017</td><td>14.82</td></tr><tr><td>RC-19960</td><td>Ryan Crowe</td><td>2017</td><td>6.04</td></tr><tr><td>KB-16240</td><td>Karen Bern</td><td>2017</td><td>763.56</td></tr><tr><td>PN-18775</td><td>Parhena Norris</td><td>2015</td><td>6.46</td></tr><tr><td>CD-12790</td><td>Cynthia Delaney</td><td>2014</td><td>40.21</td></tr><tr><td>BP-11050</td><td>Barry Pond</td><td>2016</td><td>182.98</td></tr><tr><td>CC-12430</td><td>Chuck Clark</td><td>2015</td><td>60.39</td></tr><tr><td>RD-19585</td><td>Rob Dowd</td><td>2016</td><td>24.23</td></tr><tr><td>AS-10630</td><td>Ann Steele</td><td>2016</td><td>6.37</td></tr><tr><td>TT-21220</td><td>Thomas Thornton</td><td>2016</td><td>60.39</td></tr><tr><td>JE-16165</td><td>Justin Ellison</td><td>2016</td><td>776.35</td></tr><tr><td>CS-12175</td><td>Charles Sheldon</td><td>2017</td><td>-3.31</td></tr><tr><td>JK-15730</td><td>Joe Kamberova</td><td>2014</td><td>-212.61</td></tr><tr><td>ED-13885</td><td>NA</td><td>2015</td><td>574.81</td></tr><tr><td>GM-14500</td><td>Gene McClure</td><td>2015</td><td>359.46</td></tr><tr><td>CB-12415</td><td>Christy Brittain</td><td>2015</td><td>-3.49</td></tr><tr><td>KW-16435</td><td>Kat rina Willman</td><td>2016</td><td>32.16</td></tr><tr><td>MT-18070</td><td>Michelle Tran</td><td>2015</td><td>-6.29</td></tr><tr><td>EB-13840</td><td>Ellis Ballard</td><td>2016</td><td>0.00</td></tr><tr><td>RP-19855</td><td>Roy Phan</td><td>2014</td><td>56.53</td></tr><tr><td>BG-11035</td><td>Barry Gonzalez</td><td>2014</td><td>54.19</td></tr><tr><td>EH-14005</td><td>Erica Hernandez</td><td>2014</td><td>-248.96</td></tr><tr><td>CC-12670</td><td>Craig Carreira</td><td>2014</td><td>11.30</td></tr><tr><td>BW-11065</td><td>Barry Weirich</td><td>2015</td><td>12.11</td></tr><tr><td>MB-17305</td><td>Maria Bertelson</td><td>2017</td><td>65.67</td></tr><tr><td>AF-10885</td><td>Art Foster</td><td>2016</td><td>-5.75</td></tr><tr><td>KM-16660</td><td>Khloe Miller</td><td>2016</td><td>11.83</td></tr><tr><td>TC-21295</td><td>Toby Carlisle</td><td>2016</td><td>-27.83</td></tr><tr><td>RH-19510</td><td>Rick Huthwaite</td><td>2014</td><td>10.96</td></tr><tr><td>HW-14935</td><td>Helen Waerman</td><td>2015</td><td>17.20</td></tr><tr><td>AJ-10780</td><td>Anthony Jacobs</td><td>2015</td><td>5.32</td></tr><tr><td>BD-11620</td><td>Brian DeCherney</td><td>2016</td><td>20.18</td></tr><tr><td>JM-15250</td><td>Janet Martin</td><td>2017</td><td>-135.65</td></tr><tr><td>TR-21325</td><td>Toby Ritter</td><td>2017</td><td>76.80</td></tr><tr><td>VW-21775</td><td>Victoria Wilson</td><td>2016</td><td>-188.81</td></tr><tr><td>GT-14710</td><td>Greg Tran</td><td>2016</td><td>366.71</td></tr><tr><td>NC-18415</td><td>Nathan Cano</td><td>2014</td><td>10.04</td></tr><tr><td>GA-14515</td><td>George Ashbrook</td><td>2016</td><td>53.56</td></tr><tr><td>CC-12145</td><td>Charles Crestani</td><td>2016</td><td>7.86</td></tr><tr><td>AZ-10750</td><td>Annie Zypern</td><td>2015</td><td>34.34</td></tr><tr><td>GB-14530</td><td>Ge orge Bell</td><td>2014</td><td>-33.19</td></tr><tr><td>ML-17410</td><td>Maris LaWare</td><td>2014</td><td>254.24</td></tr><tr><td>BB-10990</td><td>Barry Blumstein</td><td>2015</td><td>-8.22</td></tr><tr><td>JD-16150</td><td>Justin Deggeller</td><td>2014</td><td>17.56</td></tr><tr><td>ME-17320</td><td>Maria Etezadi</td><td>2016</td><td>451.46</td></tr><tr><td>KH-16360</td><td>Katherine Hughes</td><td>2014</td><td>-32.05</td></tr><tr><td>KC-16255</td><td>Karen Carlisle</td><td>2016</td><td>523.09</td></tr><tr><td>GM-14440</td><td>Gary McGarr</td><td>2017</td><td>36.31</td></tr><tr><td>DV-13045</td><td>Darrin Van Huff</td><td>2017</td><td>-445.11</td></tr><tr><td>GM-14500</td><td>Gene McClure</td><td>2014</td><td>2.69</td></tr><tr><td>BF-10975</td><td>Barbara Fisher</td><td>2016</td><td>157.38</td></tr><tr><td>TS-21340</td><td>Toby Swindell</td><td>2017</td><td>7.29</td></tr><tr><td>CD-11920</td><td>Carlos Daly</td><td>2015</td><td>17.75</td></tr><tr><td>EH-13945</td><td>Eric Hoffmann</td><td>2015</td><td>10.62</td></tr><tr><td>KM-16225</td><td>Kalyca Meade</td><td>2017</td><td>128.93</td></tr><tr><td>GG-14650</td><td>Greg Guthrie</td><td>2015</td><td>-115.72</td></tr><tr><td>MG-17680</td><td>Maureen Gastineau</td><td>2017</td><td>14.18</td></tr><tr><td>CK-12760</td><td>Cyma Kinney</td><td>2017</td><td>-521.39</td></tr><tr><td>AT-10435</td><td>Alyssa Tate</td><td>2014</td><td>0.84</td></tr><tr><td>SS-20875</td><td>Sung Shariari</td><td>2015</td><td>-79.33</td></tr><tr><td>QJ-19255</td><td>Quincy Jones</td><td>2014</td><td>120.04</td></tr><tr><td>MC-17275</td><td>Marc Crier</td><td>2014</td><td>235.23</td></tr><tr><td>BP-11095</td><td>Bart Pistole</td><td>2016</td><td>19.68</td></tr><tr><td>PJ-18835</td><td>Patrick Jones</td><td>2016</td><td>8.20</td></tr><tr><td>MD-17350</td><td>Maribeth Dona</td><td>2016</td><td>-14.22</td></tr><tr><td>JM-15265</td><td>Janet Molinari</td><td>2014</td><td>59.06</td></tr><tr><td>AG-10270</td><td>Alejandro Grove</td><td>2015</td><td>16.96</td></tr><tr><td>GH-14425</td><td>Gary Hwang</td><td>2017</td><td>43.60</td></tr><tr><td>BF-11020</td><td>Barry Franzsisch</td><td>2017</td><td>4.60</td></tr><tr><td>PM-18940</td><td>Paul MacIntyre</td><td>2015</td><td>-21.71</td></tr><tr><td>JO-15145</td><td>Jack OBriant</td><td>2016</td><td>440.01</td></tr><tr><td>LB-16735</td><td>Larry Blacks</td><td>2017</td><td>7.91</td></tr><tr><td>CC-12610</td><td>Corey Catlett</td><td>2017</td><td>33.78</td></tr><tr><td>AJ-10780</td><td>Anthony Jacobs</td><td>2017</td><td>208.05</td></tr><tr><td>GB-14575</td><td>Giulietta Baptist</td><td>2015</td><td>767.60</td></tr><tr><td>FH-14275</td><td>Frank Hawley</td><td>2016</td><td>166.29</td></tr><tr><td>AJ-10960</td><td>Astrea Jones</td><td>2014</td><td>57.66</td></tr><tr><td>DL-12925</td><td>Daniel Lacy</td><td>2017</td><td>24.87</td></tr><tr><td>KL-16645</td><td>Ken Lonsdale</td><td>2016</td><td>-3.35</td></tr><tr><td>AF-10885</td><td>Art Foster</td><td>2014</td><td>-258.56</td></tr><tr><td>MG-17695</td><td>Maureen Gnade</td><td>2014</td><td>-22.64</td></tr><tr><td>SW-20350</td><td>Sean Wendt</td><td>2016</td><td>146.09</td></tr><tr><td>CM-12190</td><td>Charlotte Melton</td><td>2017</td><td>74.32</td></tr><tr><td>SC-20695</td><td>Steve Chapman</td><td>2017</td><td>-11.60</td></tr><tr><td>KD-16495</td><td>Keith Dawkins</td><td>2014</td><td>35.02</td></tr><tr><td>ME-18010</td><td>Michelle Ellison</td><td>2014</td><td>104.98</td></tr><tr><td>KA-16525</td><td>Kelly Andreada</td><td>2015</td><td>77.97</td></tr><tr><td>KD-16345</td><td>Katherine Ducich</td><td>2015</td><td>243.53</td></tr><tr><td>BV-11245</td><td>Benjamin Venier</td><td>2016</td><td>127.01</td></tr><tr><td>JS-15940</td><td>Joni Sundaresam</td><td>2014</td><td>2.87</td></tr><tr><td>VG-21805</td><td>Vivek Grady</td><td>2016</td><td>28.14</td></tr><tr><td>CK-12595</td><td>Clytie Kelty</td><td>2015</td><td>-36.93</td></tr><tr><td>LC-16930</td><td>Linda Cazamias</td><td>2017</td><td>12.04</td></tr><tr><td>JE-15610</td><td>Jim Epp</td><td>2014</td><td>27.19</td></tr><tr><td>DL-12925</td><td>Daniel Lacy</td><td>2015</td><td>304.39</td></tr><tr><td>JM-15265</td><td>Janet Molinari</td><td>2016</td><td>306.55</td></tr><tr><td>AS-10630</td><td>Ann Steele</td><td>2017</td><td>69.09</td></tr><tr><td>MF-17665</td><td>Maureen Fritzler</td><td>2014</td><td>-459.99</td></tr><tr><td>KL-16645</td><td>Ken Lonsdale</td><td>2015</td><td>252.53</td></tr><tr><td>ME-18010</td><td>Michelle Ellison</td><td>2015</td><td>8.77</td></tr><tr><td>GM-14695</td><td>Greg Maxwell</td><td>2017</td><td>-99.18</td></tr><tr><td>BE-11410</td><td>Bobby Elias</td><td>2016</td><td>577.20</td></tr><tr><td>RP-19855</td><td>Roy Phan</td><td>2017</td><td>19.81</td></tr><tr><td>CK-12595</td><td>Clytie Kelty</td><td>2017</td><td>211.09</td></tr><tr><td>EH-13945</td><td>Eric Hoffmann</td><td>2017</td><td>34.40</td></tr><tr><td>AC-10450</td><td>Amy Cox</td><td>2017</td><td>876.48</td></tr><tr><td>DP-13390</td><td>Dennis Pardue</td><td>2017</td><td>17.25</td></tr><tr><td>CR-12730</td><td>Craig Reiter</td><td>2014</td><td>-6.02</td></tr><tr><td>BN-11470</td><td>Brad Norvell</td><td>2017</td><td>7.84</td></tr><tr><td>RW-19540</td><td>Rick Wi lson</td><td>2017</td><td>1660.85</td></tr><tr><td>EH-14125</td><td>Eugene Hildebrand</td><td>2015</td><td>-117.87</td></tr><tr><td>BP-11185</td><td>Ben Peterman</td><td>2016</td><td>-33.89</td></tr><tr><td>PC-18745</td><td>Pamela Coakley</td><td>2016</td><td>76.98</td></tr><tr><td>RP-19270</td><td>Rachel Payne</td><td>2015</td><td>-50.04</td></tr><tr><td>BM-11575</td><td>Brendan Murry</td><td>2016</td><td>109.44</td></tr><tr><td>EB-14170</td><td>Evan Bailliet</td><td>2014</td><td>155.02</td></tr><tr><td>BT-11305</td><td>Beth Thompson</td><td>2017</td><td>39.23</td></tr><tr><td>NC-18340</td><td>Nat Carroll</td><td>2017</td><td>216.58</td></tr><tr><td>MM-18280</td><td>Muhammed MacIntyre</td><td>2016</td><td>8.84</td></tr><tr><td>AB-10600</td><td>Ann Blume</td><td>2014</td><td>-23.89</td></tr><tr><td>ZD-21925</td><td>Zuschuss Donatelli</td><td>2014</td><td>25.49</td></tr><tr><td>KH-16630</td><td>Ken Heidel</td><td>2014</td><td>128.43</td></tr><tr><td>PP-18955</td><td>Paul Prost</td><td>2014</td><td>472.39</td></tr><tr><td>SP-20620</td><td>Stefania Perrino</td><td>2014</td><td>67.46</td></tr><tr><td>LM-17065</td><td>Liz MacKendrick</td><td>2016</td><td>21.54</td></tr><tr><td>AM-10360</td><td>Alice McCarthy</td><td>2014</td><td>7.68</td></tr><tr><td>TC-21295</td><td>Toby Carlisle</td><td>2014</td><td>402.54</td></tr><tr><td>DK-13225</td><td>Dean Katz</td><td>2017</td><td>316.47</td></tr><tr><td>CP-12340</td><td>Christine Phan</td><td>2015</td><td>-1044.46</td></tr><tr><td>GB-14575</td><td>Giulietta Baptist</td><td>2017</td><td>295.02</td></tr><tr><td>DV-13465</td><td>Dianna Vittorini</td><td>2014</td><td>9.72</td></tr><tr><td>TT-21220</td><td>Thomas Thornton</td><td>2014</td><td>18.38</td></tr><tr><td>DS-13030</td><td>Darrin Sayre</td><td>2014</td><td>29.47</td></tr><tr><td>PS-18970</td><td>Paul Stevenson</td><td>2017</td><td>44.94</td></tr><tr><td>NZ-18565</td><td>Nick Zandusky</td><td>2015</td><td>82.82</td></tr><tr><td>JF-15415</td><td>Jennifer Ferguson</td><td>2014</td><td>28.14</td></tr><tr><td>AR-10405</td><td>Allen Rosenblatt</td><td>2015</td><td>105.47</td></tr><tr><td>VM-21685</td><td>Valerie Mitchum</td><td>2017</td><td>67.41</td></tr><tr><td>SJ-20215</td><td>Sarah Jordon</td><td>2015</td><td>5.90</td></tr><tr><td>FO-14305</td><td>Frank Olsen</td><td>2016</td><td>22.56</td></tr><tr><td>JH-15430</td><td>Jennifer Halladay</td><td>2014</td><td>18.79</td></tr><tr><td>MJ-17740</td><td>Max Jones</td><td>2015</td><td>-77.93</td></tr><tr><td>JL-15175</td><td>James Lanier</td><td>2016</td><td>-2.00</td></tr><tr><td>SS-20140</td><td>Saphhira Shifley</td><td>2016</td><td>6.55</td></tr><tr><td>GA-14725</td><td>Guy Armstrong</td><td>2015</td><td>11.54</td></tr><tr><td>GA-14515</td><td>George Ashbrook</td><td>2015</td><td>625.85</td></tr><tr><td>JH-15820</td><td>John Huston</td><td>2014</td><td>26.41</td></tr><tr><td>EM-13810</td><td>NA</td><td>2017</td><td>10.48</td></tr><tr><td>DO-13645</td><td>Doug OConnell</td><td>2017</td><td>267.03</td></tr><tr><td>MS-17770</td><td>Maxwell Schwartz</td><td>2015</td><td>209.33</td></tr><tr><td>RW-19540</td><td>Rick Wi lson</td><td>2015</td><td>-74.62</td></tr><tr><td>DA-13450</td><td>Dianna Arnett</td><td>2014</td><td>21.72</td></tr><tr><td>AA-10315</td><td>Alex Avila</td><td>2016</td><td>-747.09</td></tr><tr><td>FC-14335</td><td>Fred Chung</td><td>2014</td><td>112.57</td></tr><tr><td>JL-15850</td><td>John Lucas</td><td>2015</td><td>816.52</td></tr><tr><td>HA-14920</td><td>Helen Andreada</td><td>2017</td><td>12.71</td></tr><tr><td>EH-13945</td><td>Eric Hoffmann</td><td>2014</td><td>22.15</td></tr><tr><td>TD-20995</td><td>Tamara Dahlen</td><td>2014</td><td>9.23</td></tr><tr><td>JK-15325</td><td>Jason Klamczynski</td><td>2017</td><td>26.35</td></tr><tr><td>LA-16780</td><td>Laura Armstrong</td><td>2017</td><td>16.07</td></tr><tr><td>PO-18865</td><td>Patrick ODonnell</td><td>2014</td><td>132.18</td></tr><tr><td>EM-13825</td><td>Elizabeth Moffitt</td><td>2014</td><td>7.99</td></tr><tr><td>EM-14140</td><td>Eugene Moren</td><td>2017</td><td>76.76</td></tr><tr><td>AR-10405</td><td>Allen Rosenblatt</td><td>2017</td><td>-221.58</td></tr><tr><td>TW-21025</td><td>Tamara Willingham</td><td>2014</td><td>100.14</td></tr><tr><td>ML-17755</td><td>Max Ludwig</td><td>2016</td><td>63.83</td></tr><tr><td>CL-11890</td><td>Carl Ludwig</td><td>2014</td><td>-29.34</td></tr><tr><td>HA-14920</td><td>Helen Andreada</td><td>2014</td><td>-57.04</td></tr><tr><td>BK-11260</td><td>Berenike Kampe</td><td>2017</td><td>21.45</td></tr><tr><td>ES-14020</td><td>Erica Smith</td><td>2014</td><td>15.22</td></tr><tr><td>AR-10540</td><td>Andy Reiter</td><td>2016</td><td>9.53</td></tr><tr><td>NM-18520</td><td>Neoma Murray</td><td>2017</td><td>2.82</td></tr><tr><td>ND-18370</td><td>Natalie DeCherney</td><td>2017</td><td>-84.03</td></tr><tr><td>AP-10720</td><td>Anne Pryor</td><td>2014</td><td>54.65</td></tr><tr><td>RE-19405</td><td>Ricardo Emerson</td><td>2014</td><td>6.05</td></tr><tr><td>PW-19240</td><td>Pierre Wener</td><td>2015</td><td>1378.01</td></tr><tr><td>KH-16330</td><td>Katharine Harms</td><td>2017</td><td>150.46</td></tr><tr><td>JP-15520</td><td>Jeremy Pistek</td><td>2015</td><td>5.01</td></tr><tr><td>HK-14890</td><td>Heather Kirkland</td><td>2014</td><td>240.86</td></tr><tr><td>MA-17995</td><td>Michelle Arnett</td><td>2015</td><td>3.48</td></tr><tr><td>NM-18445</td><td>Nathan Mautz</td><td>2015</td><td>333.50</td></tr><tr><td>MH-18025</td><td>Michelle Huthwaite</td><td>2015</td><td>91.16</td></tr><tr><td>MH-17290</td><td>Marc Harrigan</td><td>2017</td><td>-42.62</td></tr><tr><td>AR-10825</td><td>Anthony Rawles</td><td>2015</td><td>9.33</td></tr><tr><td>RS-19765</td><td>Roland Schwarz</td><td>2017</td><td>649.38</td></tr><tr><td>TW-21025</td><td>Tamara Willingham</td><td>2015</td><td>610.30</td></tr><tr><td>DH-13075</td><td>Dave Hallsten</td><td>2017</td><td>106.98</td></tr><tr><td>EB-14110</td><td>Eugene Barchas</td><td>2015</td><td>44.54</td></tr><tr><td>ME-17725</td><td>Max Engle</td><td>2015</td><td>39.77</td></tr><tr><td>CG-12520</td><td>Claire Gute</td><td>2017</td><td>1.82</td></tr><tr><td>JM-15655</td><td>Jim Mitchum</td><td>2014</td><td>7.72</td></tr><tr><td>DB-13060</td><td>Dave Brooks</td><td>2017</td><td>-231.31</td></tr><tr><td>WB-21850</td><td>William Brown</td><td>2017</td><td>401.51</td></tr><tr><td>BM-11140</td><td>Becky Martin</td><td>2017</td><td>99.90</td></tr><tr><td>RD-19900</td><td>Ruben Dartt</td><td>2017</td><td>82.84</td></tr><tr><td>ES-14080</td><td>Erin Smith</td><td>2015</td><td>-27.16</td></tr><tr><td>CA-12310</td><td>Christine Abelman</td><td>2017</td><td>143.36</td></tr><tr><td>LW-17215</td><td>Luke Weiss</td><td>2017</td><td>67.07</td></tr><tr><td>JE-15745</td><td>Joel Eaton</td><td>2015</td><td>-507.06</td></tr><tr><td>JK-15325</td><td>Jason Klamczynski</td><td>2014</td><td>17.55</td></tr><tr><td>RO-19780</td><td>Rose OBrian</td><td>2015</td><td>-998.00</td></tr><tr><td>MG-17695</td><td>Maureen Gnade</td><td>2016</td><td>16.70</td></tr><tr><td>BP-11095</td><td>Bart Pistole</td><td>2014</td><td>131.71</td></tr><tr><td>MT-17815</td><td>Meg Tillman</td><td>2015</td><td>1.78</td></tr><tr><td>PK-19075</td><td>Pete Kriz</td><td>2017</td><td>1617.17</td></tr><tr><td>TT-21220</td><td>Thomas Thornton</td><td>2015</td><td>52.51</td></tr><tr><td>KM-16660</td><td>Khloe Miller</td><td>2017</td><td>41.49</td></tr><tr><td>AG-10525</td><td>Andy Gerbode</td><td>2015</td><td>-59.22</td></tr><tr><td>GW-14605</td><td>Giulietta Weimer</td><td>2017</td><td>-451.09</td></tr><tr><td>RD-19720</td><td>Roger Demir</td><td>2014</td><td>73.68</td></tr><tr><td>BN-11470</td><td>Brad Norvell</td><td>2015</td><td>4.09</td></tr><tr><td>FC-14245</td><td>Frank Carlisle</td><td>2017</td><td>209.40</td></tr><tr><td>TS-21430</td><td>Tom Stivers</td><td>2014</td><td>17.14</td></tr><tr><td>CM-11815</td><td>Candace McMahon</td><td>2017</td><td>185.93</td></tr><tr><td>KC-16255</td><td>Karen Carlisle</td><td>2015</td><td>279.99</td></tr><tr><td>CB-12025</td><td>Cassandra Brandow</td><td>2017</td><td>-239.46</td></tr><tr><td>MC-17575</td><td>Matt Collins</td><td>2015</td><td>62.77</td></tr><tr><td>MH-17440</td><td>Mark Haberlin</td><td>2014</td><td>48.85</td></tr><tr><td>AM-10360</td><td>Alice McCarthy</td><td>2017</td><td>-1.57</td></tr><tr><td>LH-17020</td><td>Lisa Hazard</td><td>2015</td><td>-27.00</td></tr><tr><td>JK-15730</td><td>Joe Kamberova</td><td>2016</td><td>194.58</td></tr><tr><td>AC-10450</td><td>Amy Cox</td><td>2014</td><td>84.00</td></tr><tr><td>LW-17215</td><td>Luke Weiss</td><td>2016</td><td>350.01</td></tr><tr><td>RO-19780</td><td>Rose OBrian</td><td>2017</td><td>-174.32</td></tr><tr><td>TT-21460</td><td>Tonja Turnell</td><td>2015</td><td>281.00</td></tr><tr><td>LW-16990</td><td>Lindsay Williams</td><td>2016</td><td>322.32</td></tr><tr><td>AJ-10780</td><td>Anthony Jacobs</td><td>2016</td><td>-5.70</td></tr><tr><td>VG-21790</td><td>Vivek Gonzalez</td><td>2016</td><td>18.48</td></tr><tr><td>AR-10540</td><td>Andy Reiter</td><td>2014</td><td>20.12</td></tr><tr><td>DG-13300</td><td>Deirdre Greer</td><td>2017</td><td>530.95</td></tr><tr><td>RD-19720</td><td>Roger Demir</td><td>2015</td><td>23.85</td></tr><tr><td>NP-18685</td><td>Nora Pelletier</td><td>2016</td><td>31.42</td></tr><tr><td>LC-17140</td><td>Logan Currie</td><td>2014</td><td>-26.60</td></tr><tr><td>SV-20365</td><td>Seth Vernon</td><td>2015</td><td>-191.64</td></tr><tr><td>AH-10030</td><td>Aaron Hawkins</td><td>2016</td><td>38.04</td></tr><tr><td>PT-19090</td><td>Pete Takahito</td><td>2017</td><td>5.50</td></tr><tr><td>DB-13120</td><td>David Bremer</td><td>2017</td><td>-1136.72</td></tr><tr><td>JO-15550</td><td>Jesus Ocampo</td><td>2015</td><td>153.91</td></tr><tr><td>JK-15370</td><td>Jay Kimmel</td><td>2014</td><td>129.54</td></tr><tr><td>MV-17485</td><td>Mark Van Huff</td><td>2017</td><td>68.79</td></tr><tr><td>SV-20815</td><td>Stuart Van</td><td>2017</td><td>4.20</td></tr><tr><td>PW-19030</td><td>Pauline Webber</td><td>2016</td><td>437.40</td></tr><tr><td>EB-13975</td><td>Erica Bern</td><td>2016</td><td>151.89</td></tr><tr><td>TS-21205</td><td>Thomas Seio</td><td>2017</td><td>286.36</td></tr><tr><td>JK-15370</td><td>Jay Kimmel</td><td>2015</td><td>37.34</td></tr><tr><td>VM-21835</td><td>Vivian Mathis</td><td>2016</td><td>103.16</td></tr><tr><td>JG-15115</td><td>Jack Garza</td><td>2014</td><td>734.70</td></tr><tr><td>JE-15610</td><td>Jim Epp</td><td>2015</td><td>-129.89</td></tr><tr><td>CS-12490</td><td>Cindy Schnelling</td><td>2015</td><td>-58.13</td></tr><tr><td>KE-16420</td><td>Kat rina Edelman</td><td>2016</td><td>19.00</td></tr><tr><td>SG-20080</td><td>Sandra Glassco</td><td>2015</td><td>352.20</td></tr><tr><td>NG-18355</td><td>Nat Gilpin</td><td>2015</td><td>8.05</td></tr><tr><td>HR-14830</td><td>Harold Ryan</td><td>2015</td><td>116.94</td></tr><tr><td>AM-10360</td><td>Alice McCarthy</td><td>2015</td><td>178.90</td></tr><tr><td>SS-20590</td><td>Sonia Sunley</td><td>2016</td><td>112.38</td></tr><tr><td>BF-11020</td><td>Barry Franzsisch</td><td>2015</td><td>269.31</td></tr><tr><td>RF-19840</td><td>Roy Franzsisch</td><td>2014</td><td>16.17</td></tr><tr><td>MH-17455</td><td>Mark Hamilton</td><td>2014</td><td>8.49</td></tr><tr><td>JM-15655</td><td>Jim Mitchum</td><td>2017</td><td>43.58</td></tr><tr><td>HG-15025</td><td>Hunter Glantz</td><td>2014</td><td>616.46</td></tr><tr><td>JW-16075</td><td>Julia West</td><td>2015</td><td>133.51</td></tr><tr><td>AJ-10780</td><td>Anthony Jacobs</td><td>2014</td><td>-56.95</td></tr><tr><td>PB-18805</td><td>Patrick Bzostek</td><td>2017</td><td>125.36</td></tr><tr><td>CT-11995</td><td>Carol Triggs</td><td>2016</td><td>-303.26</td></tr><tr><td>RO-19780</td><td>Rose OBrian</td><td>2016</td><td>-90.48</td></tr><tr><td>EC-14050</td><td>Erin Creighton</td><td>2017</td><td>57.37</td></tr><tr><td>CH-12070</td><td>Cathy Hwang</td><td>2016</td><td>126.90</td></tr><tr><td>JF-15295</td><td>Jason Fortune</td><td>2017</td><td>59.94</td></tr><tr><td>RC-19825</td><td>Roy Collins</td><td>2014</td><td>6.88</td></tr><tr><td>JS-15595</td><td>Ji Stevenson</td><td>2017</td><td>-53.73</td></tr><tr><td>MS-17710</td><td>Maurice Satty</td><td>2014</td><td>40.73</td></tr><tr><td>HK-14890</td><td>Heather Kirkland</td><td>2016</td><td>17.03</td></tr><tr><td>MA-17560</td><td>Matt Abelman</td><td>2015</td><td>619.07</td></tr><tr><td>RD-19810</td><td>Ross DeVincentis</td><td>2017</td><td>195.03</td></tr><tr><td>MW-18220</td><td>Mitch Webber</td><td>2015</td><td>24.50</td></tr><tr><td>Co-12640</td><td>CoreyLock</td><td>2016</td><td>19.19</td></tr><tr><td>EM-13825</td><td>Elizabeth Moffitt</td><td>2016</td><td>-8.32</td></tr><tr><td>KE-16420</td><td>Kat rina Edelman</td><td>2014</td><td>161.63</td></tr><tr><td>MF-17665</td><td>Maureen Fritzler</td><td>2016</td><td>118.46</td></tr><tr><td>EB-13705</td><td>Ed Braxton</td><td>2015</td><td>47.96</td></tr><tr><td>BF-11020</td><td>Barry Franzsisch</td><td>2014</td><td>7.21</td></tr><tr><td>BO-11425</td><td>Bobby Odegard</td><td>2017</td><td>57.39</td></tr><tr><td>AS-10045</td><td>Aaron Smayling</td><td>2016</td><td>92.14</td></tr><tr><td>SH-20635</td><td>Stefanie Holloman</td><td>2014</td><td>70.20</td></tr><tr><td>DK-13375</td><td>Dennis Kane</td><td>2014</td><td>109.61</td></tr><tr><td>DS-13030</td><td>Darrin Sayre</td><td>2017</td><td>164.31</td></tr><tr><td>EB-13870</td><td>Emily Burns</td><td>2015</td><td>242.30</td></tr><tr><td>CC-12145</td><td>Charles Crestani</td><td>2015</td><td>297.36</td></tr><tr><td>KM-16660</td><td>Khloe Miller</td><td>2014</td><td>3.00</td></tr><tr><td>MO-17800</td><td>Meg OConnel</td><td>2017</td><td>180.45</td></tr><tr><td>EK-13795</td><td>Eileen Kiefer</td><td>2015</td><td>20.54</td></tr><tr><td>AA-10480</td><td>Andrew Allen</td><td>2017</td><td>5.44</td></tr><tr><td>KW-16435</td><td>Kat rina Willman</td><td>2015</td><td>1600.85</td></tr><tr><td>DB-13615</td><td>Doug Bickford</td><td>2016</td><td>22.73</td></tr><tr><td>DM-13345</td><td>Denise Monton</td><td>2015</td><td>2.84</td></tr><tr><td>GZ-14545</td><td>George Zrebassa</td><td>2017</td><td>816.17</td></tr><tr><td>BT-11485</td><td>Brad Thomas</td><td>2016</td><td>9.48</td></tr><tr><td>TH-21550</td><td>Tracy Hopkins</td><td>2015</td><td>391.56</td></tr><tr><td>SS-20140</td><td>Saphhira Shifley</td><td>2017</td><td>387.73</td></tr><tr><td>SS-20590</td><td>Sonia Sunley</td><td>2014</td><td>15.51</td></tr><tr><td>JO-15280</td><td>Jas OCarroll</td><td>2015</td><td>203.94</td></tr><tr><td>DW-13585</td><td>Dorothy Wardle</td><td>2016</td><td>92.61</td></tr><tr><td>TB-21190</td><td>Thomas Brumley</td><td>2015</td><td>3.06</td></tr><tr><td>KD-16495</td><td>Keith Dawkins</td><td>2016</td><td>58.72</td></tr><tr><td>LT-17110</td><td>Liz Thompson</td><td>2016</td><td>28.38</td></tr><tr><td>RA-19915</td><td>Russell Applegate</td><td>2017</td><td>29.55</td></tr><tr><td>AS-10135</td><td>Adrian Shami</td><td>2016</td><td>1.50</td></tr><tr><td>TB-21280</td><td>Toby Braunhardt</td><td>2014</td><td>200.15</td></tr><tr><td>VT-21700</td><td>Valerie Takahito</td><td>2015</td><td>-257.93</td></tr><tr><td>FM-14215</td><td>Filia McAdams</td><td>2017</td><td>-24.75</td></tr><tr><td>DB-12910</td><td>Daniel Byrd</td><td>2016</td><td>146.83</td></tr><tr><td>SG-20605</td><td>Speros Goranitis</td><td>2014</td><td>274.85</td></tr><tr><td>FC-14245</td><td>Frank Carlisle</td><td>2016</td><td>972.25</td></tr><tr><td>JS-15880</td><td>John Stevenson</td><td>2016</td><td>266.74</td></tr><tr><td>CS-12400</td><td>Christopher Schild</td><td>2014</td><td>80.63</td></tr><tr><td>DO-13645</td><td>Doug OConnell</td><td>2015</td><td>26.82</td></tr><tr><td>IL-15100</td><td>Ivan Liston</td><td>2015</td><td>656.68</td></tr><tr><td>SF-20200</td><td>Sarah Foster</td><td>2016</td><td>21.14</td></tr><tr><td>CK-12325</td><td>Christine Kargatis</td><td>2016</td><td>59.08</td></tr><tr><td>BG-11695</td><td>Brooke Gillingham</td><td>2017</td><td>11.66</td></tr><tr><td>NC-18535</td><td>Nick Crebassa</td><td>2014</td><td>690.20</td></tr><tr><td>SS-20515</td><td>Shirley Schmidt</td><td>2014</td><td>11.05</td></tr><tr><td>LB-16735</td><td>Larry Blacks</td><td>2016</td><td>10.74</td></tr><tr><td>JD-15790</td><td>John Dryer</td><td>2017</td><td>10.49</td></tr><tr><td>CC-12550</td><td>Clay Cheatham</td><td>2017</td><td>34.30</td></tr><tr><td>TB-21190</td><td>Thomas Brumley</td><td>2017</td><td>13.98</td></tr><tr><td>DM-13525</td><td>Don Miller</td><td>2015</td><td>167.54</td></tr><tr><td>TS-21370</td><td>Todd Sumrall</td><td>2015</td><td>1135.10</td></tr><tr><td>CS-12130</td><td>Chad Sievert</td><td>2016</td><td>13.75</td></tr><tr><td>PB-19105</td><td>Peter Bhler</td><td>2014</td><td>204.07</td></tr><tr><td>EB-14170</td><td>Evan Bailliet</td><td>2017</td><td>3.52</td></tr><tr><td>MG-17875</td><td>Michael Grace</td><td>2015</td><td>-499.05</td></tr><tr><td>TC-21475</td><td>Tony Chapman</td><td>2017</td><td>76.21</td></tr><tr><td>MG-17890</td><td>Michael Granlund</td><td>2014</td><td>-4.80</td></tr><tr><td>ML-17755</td><td>Max Ludwig</td><td>2017</td><td>346.16</td></tr><tr><td>TB-21055</td><td>Ted Butterfield</td><td>2017</td><td>122.05</td></tr><tr><td>JE-15715</td><td>Joe Elijah</td><td>2015</td><td>50.83</td></tr><tr><td>MM-17920</td><td>Michael Moore</td><td>2017</td><td>-48.11</td></tr><tr><td>VP-21730</td><td>Victor Preis</td><td>2017</td><td>196.46</td></tr><tr><td>CB-12025</td><td>Cassandra Brandow</td><td>2015</td><td>223.45</td></tr></tbody></table></div>"
      ]
     },
     "metadata": {
      "application/vnd.databricks.v1+output": {
       "addedWidgets": {},
       "aggData": [],
       "aggError": "",
       "aggOverflow": false,
       "aggSchema": [],
       "aggSeriesLimitReached": false,
       "aggType": "",
       "arguments": {},
       "columnCustomDisplayInfos": {},
       "data": [
        [
         "MO-17800",
         "Meg OConnel",
         2016,
         "5.50"
        ],
        [
         "CC-12475",
         "Cindy Chapman",
         2017,
         "40.35"
        ],
        [
         "MP-18175",
         "Mike Pelletier",
         2014,
         "-125.29"
        ],
        [
         "TH-21115",
         "Thea Hudgings",
         2017,
         "-181.36"
        ],
        [
         "JL-15235",
         "Janet Lee",
         2017,
         "88.19"
        ],
        [
         "VW-21775",
         "Victoria Wilson",
         2015,
         "-1186.41"
        ],
        [
         "RE-19450",
         "Richard Eichhorn",
         2015,
         "211.06"
        ],
        [
         "ND-18370",
         "Natalie DeCherney",
         2014,
         "47.61"
        ],
        [
         "VF-21715",
         "Vicky Freymann",
         2017,
         "62.48"
        ],
        [
         "JG-15805",
         "John Grady",
         2015,
         "8.69"
        ],
        [
         "AB-10105",
         "Adrian Barton",
         2016,
         "4748.27"
        ],
        [
         "AR-10510",
         "Andrew Roberts",
         2014,
         "-8.41"
        ],
        [
         "AP-10915",
         "Arthur Prichep",
         2017,
         "-179.86"
        ],
        [
         "MP-18175",
         "Mike Pelletier",
         2015,
         "526.73"
        ],
        [
         "AC-10615",
         "Ann Chong",
         2017,
         "330.91"
        ],
        [
         "CD-11980",
         "Carol Darley",
         2017,
         "-214.46"
        ],
        [
         "PB-18805",
         "Patrick Bzostek",
         2016,
         "95.85"
        ],
        [
         "FM-14380",
         "Fred McMath",
         2016,
         "134.91"
        ],
        [
         "MA-17560",
         "Matt Abelman",
         2016,
         "28.38"
        ],
        [
         "PK-19075",
         "Pete Kriz",
         2014,
         "13.32"
        ],
        [
         "AB-10255",
         "Alejandro Ballentine",
         2014,
         "6.49"
        ],
        [
         "AG-10675",
         "Anna Gayman",
         2016,
         "-281.56"
        ],
        [
         "TC-21475",
         "Tony Chapman",
         2016,
         "32.39"
        ],
        [
         "JE-15715",
         "Joe Elijah",
         2014,
         "-59.80"
        ],
        [
         "KH-16360",
         "Katherine Hughes",
         2017,
         "502.51"
        ],
        [
         "AA-10480",
         "Andrew Allen",
         2016,
         "420.75"
        ],
        [
         "VM-21685",
         "Valerie Mitchum",
         2016,
         "371.70"
        ],
        [
         "MS-17980",
         "Michael Stewart",
         2017,
         "-20.38"
        ],
        [
         "LL-16840",
         "Lauren Leatherbury",
         2015,
         "404.91"
        ],
        [
         "NC-18625",
         "Noah Childs",
         2015,
         "16.85"
        ],
        [
         "JM-15535",
         "Jessica Myrick",
         2014,
         "58.99"
        ],
        [
         "GM-14500",
         "Gene McClure",
         2016,
         "17.57"
        ],
        [
         "DB-13405",
         "Denny Blanton",
         2017,
         "172.59"
        ],
        [
         "MP-17965",
         "Michael Paige",
         2017,
         "116.45"
        ],
        [
         "KT-16465",
         "Kean Takahito",
         2015,
         "28.81"
        ],
        [
         "JE-15610",
         "Jim Epp",
         2016,
         "22.24"
        ],
        [
         "CC-12670",
         "Craig Carreira",
         2015,
         "8.57"
        ],
        [
         "EM-14140",
         "Eugene Moren",
         2016,
         "968.57"
        ],
        [
         "MC-17425",
         "Mark Cousins",
         2016,
         "1610.20"
        ],
        [
         "FM-14215",
         "Filia McAdams",
         2016,
         "45.93"
        ],
        [
         "AH-10210",
         "Alan Hwang",
         2015,
         "269.15"
        ],
        [
         "TP-21415",
         "Tom Prescott",
         2017,
         "-1060.79"
        ],
        [
         "JM-16195",
         "Justin MacKendrick",
         2017,
         "235.11"
        ],
        [
         "BP-11230",
         "Benjamin Patterson",
         2014,
         "27.56"
        ],
        [
         "RD-19585",
         "Rob Dowd",
         2014,
         "341.38"
        ],
        [
         "LC-16885",
         "Lena Creighton",
         2014,
         "201.07"
        ],
        [
         "RB-19795",
         "Ross Baird",
         2014,
         "7.49"
        ],
        [
         "BM-11650",
         "Brian Moss",
         2017,
         "1937.73"
        ],
        [
         "TB-21595",
         "Troy Blackwell",
         2014,
         "6.75"
        ],
        [
         "KB-16405",
         "Kat rina Bavinger",
         2017,
         "230.90"
        ],
        [
         "PF-19225",
         "Phillip Flathmann",
         2017,
         "78.02"
        ],
        [
         "JB-15400",
         "Jennifer Braxton",
         2015,
         "128.05"
        ],
        [
         "MC-17605",
         "Matt Connell",
         2015,
         "13.08"
        ],
        [
         "ND-18460",
         "Neil Ducich",
         2015,
         "18.66"
        ],
        [
         "CS-12490",
         "Cindy Schnelling",
         2016,
         "-244.73"
        ],
        [
         "JM-15265",
         "Janet Molinari",
         2017,
         "149.28"
        ],
        [
         "HE-14800",
         "Harold Engle",
         2016,
         "112.71"
        ],
        [
         "TH-21550",
         "Tracy Hopkins",
         2014,
         "26.63"
        ],
        [
         "MC-17575",
         "Matt Collins",
         2014,
         "-6.34"
        ],
        [
         "JD-16015",
         "Joy Daniels",
         2014,
         "-10.34"
        ],
        [
         "DB-13210",
         "Dean Braden",
         2017,
         "277.97"
        ],
        [
         "BT-11530",
         "Bradley Talbott",
         2016,
         "-4.38"
        ],
        [
         "SA-20830",
         "Sue Ann Reed",
         2017,
         "177.85"
        ],
        [
         "JM-15250",
         "Janet Martin",
         2016,
         "155.23"
        ],
        [
         "GA-14725",
         "Guy Armstrong",
         2014,
         "101.45"
        ],
        [
         "ES-14020",
         "Erica Smith",
         2015,
         "44.05"
        ],
        [
         "AG-10390",
         "Allen Goldenen",
         2016,
         "-7.00"
        ],
        [
         "SM-20905",
         "Susan MacKendrick",
         2016,
         "-16510.34"
        ],
        [
         "JL-15175",
         "James Lanier",
         2014,
         "59.49"
        ],
        [
         "SC-20095",
         "Sanjit Chand",
         2017,
         "5.84"
        ],
        [
         "MG-17875",
         "Michael Grace",
         2016,
         "62.24"
        ],
        [
         "ND-18370",
         "Natalie DeCherney",
         2015,
         "330.80"
        ],
        [
         "SC-20725",
         "Steven Cartwright",
         2016,
         "273.18"
        ],
        [
         "JD-15790",
         "John Dryer",
         2015,
         "-313.52"
        ],
        [
         "MC-17275",
         "Marc Crier",
         2017,
         "7.22"
        ],
        [
         "BS-11380",
         "Bil Stewart",
         2014,
         "3.95"
        ],
        [
         "KF-16285",
         "Karen Ferguson",
         2017,
         "1206.84"
        ],
        [
         "BF-11080",
         "Bart Folk",
         2017,
         "107.03"
        ],
        [
         "SJ-20125",
         "Sanjit Jacobs",
         2017,
         "-56.58"
        ],
        [
         "CL-12700",
         "Craig Leslie",
         2016,
         "64.09"
        ],
        [
         "LO-17170",
         "Lori Olson",
         2017,
         "115.71"
        ],
        [
         "DM-12955",
         "Dario Medina",
         2015,
         "42.96"
        ],
        [
         "HJ-14875",
         "Heather Jas",
         2017,
         "13.97"
        ],
        [
         "JJ-15445",
         "Jennifer Jackson",
         2015,
         "181.85"
        ],
        [
         "EA-14035",
         "Erin Ashbrook",
         2017,
         "21.83"
        ],
        [
         "YC-21895",
         "Yoseph Carroll",
         2015,
         "7.07"
        ],
        [
         "JC-16105",
         "Julie Creighton",
         2015,
         "62.81"
        ],
        [
         "JG-15160",
         "James Galang",
         2014,
         "378.39"
        ],
        [
         "JB-15400",
         "Jennifer Braxton",
         2017,
         "251.19"
        ],
        [
         "KL-16645",
         "Ken Lonsdale",
         2014,
         "395.60"
        ],
        [
         "BF-11170",
         "Ben Ferrer",
         2016,
         "697.47"
        ],
        [
         "DL-13315",
         "Delfina Latchford",
         2016,
         "206.58"
        ],
        [
         "AT-10435",
         "Alyssa Tate",
         2016,
         "6.43"
        ],
        [
         "AT-10435",
         "Alyssa Tate",
         2017,
         "96.13"
        ],
        [
         "TC-20980",
         "Tamara Chand",
         2014,
         "178.65"
        ],
        [
         "TS-21085",
         "Thais Sissman",
         2017,
         "-1.97"
        ],
        [
         "TH-21235",
         "Tiffany House",
         2016,
         "70.78"
        ],
        [
         "AR-10825",
         "Anthony Rawles",
         2017,
         "105.07"
        ],
        [
         "FO-14305",
         "Frank Olsen",
         2015,
         "18.99"
        ],
        [
         "JE-15715",
         "Joe Elijah",
         2016,
         "1210.66"
        ],
        [
         "JB-16045",
         "Julia Barnett",
         2016,
         "84.97"
        ],
        [
         "AG-10270",
         "Alejandro Grove",
         2016,
         "696.30"
        ],
        [
         "CW-11905",
         "Carl Weiss",
         2014,
         "17.16"
        ],
        [
         "TC-21535",
         "Tracy Collins",
         2017,
         "22.41"
        ],
        [
         "MY-17380",
         "Maribeth Yedwab",
         2015,
         "2.65"
        ],
        [
         "JG-15805",
         "John Grady",
         2016,
         "91.13"
        ],
        [
         "SH-20395",
         "ShahiHopkins",
         2015,
         "2.24"
        ],
        [
         "SH-20395",
         "ShahiHopkins",
         2016,
         "-1.48"
        ],
        [
         "LP-17095",
         "Liz Preis",
         2016,
         "79.36"
        ],
        [
         "AG-10765",
         "Anthony Garverick",
         2015,
         "61.71"
        ],
        [
         "DS-13180",
         "David Smith",
         2017,
         "-29.56"
        ],
        [
         "DP-13000",
         "Darren Powers",
         2015,
         "260.74"
        ],
        [
         "MW-18220",
         "Mitch Webber",
         2017,
         "8.49"
        ],
        [
         "SF-20065",
         "Sandra Flanagan",
         2014,
         "98.59"
        ],
        [
         "BT-11485",
         "Brad Thomas",
         2015,
         "117.39"
        ],
        [
         "GT-14635",
         "Grant Thornton",
         2014,
         "-292.19"
        ],
        [
         "NC-18340",
         "Nat Carroll",
         2014,
         "11.16"
        ],
        [
         "MH-17620",
         "Matt Hagelstein",
         2017,
         "108.05"
        ],
        [
         "DH-13675",
         "Duane Huffman",
         2014,
         "87.79"
        ],
        [
         "JE-15610",
         "Jim Epp",
         2017,
         "1703.57"
        ],
        [
         "JH-15430",
         "Jennifer Halladay",
         2017,
         "-42.85"
        ],
        [
         "CP-12340",
         "Christine Phan",
         2017,
         "-17.02"
        ],
        [
         "SH-19975",
         "NA",
         2017,
         "129.85"
        ],
        [
         "HP-14815",
         "Harold Pawlan",
         2017,
         "293.88"
        ],
        [
         "GM-14695",
         "Greg Maxwell",
         2016,
         "175.36"
        ],
        [
         "AJ-10795",
         "Anthony Johnson",
         2017,
         "255.24"
        ],
        [
         "MC-17575",
         "Matt Collins",
         2016,
         "15.59"
        ],
        [
         "MO-17800",
         "Meg OConnel",
         2015,
         "-16.97"
        ],
        [
         "SM-20005",
         "Sally Matthias",
         2014,
         "51.25"
        ],
        [
         "SP-20620",
         "Stefania Perrino",
         2015,
         "-0.62"
        ],
        [
         "LF-17185",
         "Luke Foster",
         2014,
         "-3802.08"
        ],
        [
         "MG-17650",
         "Matthew Grinstein",
         2016,
         "204.85"
        ],
        [
         "CD-12790",
         "Cynthia Delaney",
         2016,
         "346.71"
        ],
        [
         "AS-10240",
         "Alan Shonely",
         2017,
         "-31.92"
        ],
        [
         "KD-16495",
         "Keith Dawkins",
         2017,
         "134.84"
        ],
        [
         "CM-12715",
         "Craig M olinari",
         2014,
         "206.22"
        ],
        [
         "SC-20305",
         "Sean Christensen",
         2015,
         "0.00"
        ],
        [
         "JC-15340",
         "Jasper Cacioppo",
         2017,
         "2.40"
        ],
        [
         "CS-12250",
         "Chris Selesnick",
         2015,
         "95.26"
        ],
        [
         "NC-18340",
         "Nat Carroll",
         2015,
         "326.28"
        ],
        [
         "DP-13105",
         "Dave Poirier",
         2016,
         "486.12"
        ],
        [
         "BB-10990",
         "Barry Blumstein",
         2017,
         "6.92"
        ],
        [
         "AR-10510",
         "Andrew Roberts",
         2017,
         "5.18"
        ],
        [
         "JH-16180",
         "Justin Hirsh",
         2015,
         "106.41"
        ],
        [
         "Dp-13240",
         "Dean perceR",
         2014,
         "100.92"
        ],
        [
         "AS-10240",
         "Alan Shonely",
         2015,
         "5.08"
        ],
        [
         "EM-14200",
         "Evan Minnotte",
         2015,
         "4.00"
        ],
        [
         "NP-18670",
         "Nra Paige",
         2017,
         "186.21"
        ],
        [
         "HA-14920",
         "Helen Andreada",
         2016,
         "-55.04"
        ],
        [
         "JL-15130",
         "Jack Lebron",
         2014,
         "9.87"
        ],
        [
         "RS-19765",
         "Roland Schwarz",
         2014,
         "552.00"
        ],
        [
         "FH-14365",
         "Fred Hopkins",
         2015,
         "2139.74"
        ],
        [
         "MS-17710",
         "Maurice Satty",
         2015,
         "299.80"
        ],
        [
         "DM-12955",
         "Dario Medina",
         2017,
         "7.14"
        ],
        [
         "KM-16375",
         "Katherine Murray",
         2016,
         "128.90"
        ],
        [
         "CV-12805",
         "Cynthia Voltz",
         2016,
         "-35.39"
        ],
        [
         "AS-10225",
         "Alan Schoenberger",
         2016,
         "-6.21"
        ],
        [
         "EM-14065",
         "ErinMull",
         2016,
         "-4.79"
        ],
        [
         "GB-14530",
         "Ge orge Bell",
         2017,
         "44.29"
        ],
        [
         "SC-20380",
         "ShahiCollister",
         2015,
         "52.91"
        ],
        [
         "BG-11740",
         "Bruce Geld",
         2017,
         "41.76"
        ],
        [
         "AB-10165",
         "Alan Barnes",
         2017,
         "141.73"
        ],
        [
         "LP-17080",
         "Liz Pelletier",
         2017,
         "87.89"
        ],
        [
         "CY-12745",
         "Craig Yedwab",
         2016,
         "49.73"
        ],
        [
         "RD-19900",
         "Ruben Dartt",
         2015,
         "9.09"
        ],
        [
         "CB-12025",
         "Cassandra Brandow",
         2014,
         "5.27"
        ],
        [
         "HJ-14875",
         "Heather Jas",
         2016,
         "55.99"
        ],
        [
         "BG-11695",
         "Brooke Gillingham",
         2016,
         "57.92"
        ],
        [
         "BM-11575",
         "Brendan Murry",
         2015,
         "37.33"
        ],
        [
         "HD-14785",
         "Harold Dahlen",
         2014,
         "-167.32"
        ],
        [
         "KL-16555",
         "Kelly Lampkin",
         2014,
         "-69.25"
        ],
        [
         "TB-21055",
         "Ted Butterfield",
         2016,
         "267.71"
        ],
        [
         "CG-12520",
         "Claire Gute",
         2015,
         "-93.38"
        ],
        [
         "SC-20680",
         "Steve Carroll",
         2015,
         "213.70"
        ],
        [
         "SV-20935",
         "Susan Vittorini",
         2017,
         "136.82"
        ],
        [
         "MZ-17335",
         "Maria Zettner",
         2016,
         "0.16"
        ],
        [
         "AB-10165",
         "Alan Barnes",
         2015,
         "79.95"
        ],
        [
         "AH-10585",
         "Angele Hood",
         2014,
         "41.60"
        ],
        [
         "TT-21220",
         "Thomas Thornton",
         2017,
         "147.47"
        ],
        [
         "YC-21895",
         "Yoseph Carroll",
         2017,
         "37.53"
        ],
        [
         "JK-15370",
         "Jay Kimmel",
         2016,
         "83.50"
        ],
        [
         "RD-19720",
         "Roger Demir",
         2016,
         "31.20"
        ],
        [
         "ZC-21910",
         "Zuschuss Carroll",
         2014,
         "328.83"
        ],
        [
         "CS-12250",
         "Chris Selesnick",
         2014,
         "446.75"
        ],
        [
         "BE-11455",
         "Brad Eason",
         2016,
         "71.07"
        ],
        [
         "RR-19525",
         "Rick Reed",
         2017,
         "99.94"
        ],
        [
         "LR-16915",
         "Lena Radford",
         2015,
         "30.79"
        ],
        [
         "DF-13135",
         "David Flashing",
         2016,
         "-397.13"
        ],
        [
         "HG-14845",
         "Harry Greene",
         2017,
         "127.42"
        ],
        [
         "JK-16090",
         "Juliana Krohn",
         2017,
         "357.77"
        ],
        [
         "BD-11620",
         "Brian DeCherney",
         2014,
         "108.74"
        ],
        [
         "LD-17005",
         "Lisa DeCherney",
         2014,
         "445.51"
        ],
        [
         "CW-11905",
         "Carl Weiss",
         2017,
         "309.80"
        ],
        [
         "RB-19435",
         "Richard Bierner",
         2014,
         "65.12"
        ],
        [
         "DR-12940",
         "Daniel Raglin",
         2015,
         "296.67"
        ],
        [
         "PM-19135",
         "Peter McVee",
         2016,
         "30.35"
        ],
        [
         "TG-21640",
         "Trudy Glocke",
         2017,
         "84.42"
        ],
        [
         "SF-20065",
         "Sandra Flanagan",
         2016,
         "3.06"
        ],
        [
         "BO-11350",
         "Bil Overfelt",
         2017,
         "-79.60"
        ],
        [
         "HK-14890",
         "Heather Kirkland",
         2015,
         "300.07"
        ],
        [
         "CA-12265",
         "Christina Anderson",
         2015,
         "118.66"
        ],
        [
         "TB-21520",
         "Tracy Blumstein",
         2015,
         "-1524.02"
        ],
        [
         "CD-11920",
         "Carlos Daly",
         2017,
         "349.82"
        ],
        [
         "PO-19195",
         "Phillina Ober",
         2017,
         "28.80"
        ],
        [
         "JD-15790",
         "John Dryer",
         2016,
         "36.47"
        ],
        [
         "RB-19705",
         "Roger Barcio",
         2017,
         "325.86"
        ],
        [
         "LC-17140",
         "Logan Currie",
         2015,
         "19.40"
        ],
        [
         "CA-12055",
         "Cthy Armstrong",
         2016,
         "259.37"
        ],
        [
         "RF-19735",
         "Roland Fjeld",
         2016,
         "110.62"
        ],
        [
         "BW-11110",
         "Bart Watters",
         2016,
         "97.06"
        ],
        [
         "CC-12430",
         "Chuck Clark",
         2017,
         "108.97"
        ],
        [
         "LC-16885",
         "Lena Creighton",
         2015,
         "1007.76"
        ],
        [
         "JW-15220",
         "Jane Waco",
         2017,
         "1953.60"
        ],
        [
         "CD-12280",
         "Christina DeMoss",
         2017,
         "233.48"
        ],
        [
         "AH-10690",
         "Anna Hberlin",
         2016,
         "1144.07"
        ],
        [
         "CP-12085",
         "Cathy Prescott",
         2014,
         "62.39"
        ],
        [
         "JC-16105",
         "Julie Creighton",
         2014,
         "76.49"
        ],
        [
         "TD-20995",
         "Tamara Dahlen",
         2015,
         "-4.52"
        ],
        [
         "PR-18880",
         "Patrick Ryan",
         2014,
         "2.00"
        ],
        [
         "GW-14605",
         "Giulietta Weimer",
         2016,
         "44.58"
        ],
        [
         "PK-18910",
         "Paul Knutson",
         2014,
         "9.07"
        ],
        [
         "AS-10225",
         "Alan Schoenberger",
         2015,
         "12.86"
        ],
        [
         "EP-13915",
         "Emily Phan",
         2015,
         "361.20"
        ],
        [
         "PO-19195",
         "Phillina Ober",
         2015,
         "-12.50"
        ],
        [
         "AH-10465",
         "Amy Hunt",
         2016,
         "-1.78"
        ],
        [
         "BT-11530",
         "Bradley Talbott",
         2014,
         "66.77"
        ],
        [
         "AJ-10945",
         "Ashley Jarboe",
         2014,
         "3.40"
        ],
        [
         "EH-13990",
         "Erica Hackney",
         2016,
         "67.90"
        ],
        [
         "YC-21895",
         "Yoseph Carroll",
         2016,
         "427.27"
        ],
        [
         "AH-10120",
         "Adrian Hane",
         2017,
         "322.56"
        ],
        [
         "RM-19675",
         "Robert Marley",
         2017,
         "1041.91"
        ],
        [
         "PR-18880",
         "Patrick Ryan",
         2015,
         "38.27"
        ],
        [
         "HM-14860",
         "Harry Marie",
         2015,
         "2451.01"
        ],
        [
         "SV-20815",
         "Stuart Van",
         2015,
         "184.20"
        ],
        [
         "TB-21175",
         "Thomas Boland",
         2016,
         "-6.98"
        ],
        [
         "ME-17320",
         "Maria Etezadi",
         2014,
         "1343.07"
        ],
        [
         "AG-10900",
         "Arthur Gainer",
         2014,
         "144.46"
        ],
        [
         "ND-18370",
         "Natalie DeCherney",
         2016,
         "58.86"
        ],
        [
         "CC-12610",
         "Corey Catlett",
         2014,
         "481.45"
        ],
        [
         "JK-16120",
         "Julie Kriz",
         2016,
         "108.52"
        ],
        [
         "DK-12835",
         "Damala Kotsonis",
         2016,
         "185.34"
        ],
        [
         "AH-10585",
         "Angele Hood",
         2016,
         "13.45"
        ],
        [
         "NR-18550",
         "Nick Radford",
         2014,
         "-123.79"
        ],
        [
         "PK-18910",
         "Paul Knutson",
         2016,
         "-807.78"
        ],
        [
         "MM-17920",
         "Michael Moore",
         2014,
         "55.03"
        ],
        [
         "KM-16225",
         "Kalyca Meade",
         2015,
         "450.16"
        ],
        [
         "RD-19660",
         "Robert Dilbeck",
         2016,
         "151.77"
        ],
        [
         "VP-21760",
         "Victoria Pisteka",
         2016,
         "31.65"
        ],
        [
         "VS-21820",
         "Vivek Sundaresam",
         2015,
         "-176.60"
        ],
        [
         "CR-12820",
         "Cyra Reiten",
         2015,
         "2.13"
        ],
        [
         "NP-18685",
         "Nora Pelletier",
         2014,
         "33.64"
        ],
        [
         "GK-14620",
         "Grace Kelly",
         2014,
         "42.92"
        ],
        [
         "AF-10885",
         "Art Foster",
         2015,
         "101.18"
        ],
        [
         "RA-19885",
         "Ruben Ausman",
         2017,
         "510.77"
        ],
        [
         "DC-13285",
         "Debra Catini",
         2015,
         "55.75"
        ],
        [
         "TC-21535",
         "Tracy Collins",
         2016,
         "161.53"
        ],
        [
         "BF-11080",
         "Bart Folk",
         2014,
         "3.96"
        ],
        [
         "JK-16120",
         "Julie Kriz",
         2014,
         "239.98"
        ],
        [
         "AB-10150",
         "Aimee Bixby",
         2015,
         "7.02"
        ],
        [
         "JP-15460",
         "Jennifer Patt",
         2015,
         "100.93"
        ],
        [
         "AG-10495",
         "Andrew Gjertsen",
         2016,
         "6.03"
        ],
        [
         "DW-13480",
         "Dianna Wilson",
         2016,
         "31.09"
        ],
        [
         "RF-19840",
         "Roy Franzsisch",
         2017,
         "-0.30"
        ],
        [
         "PJ-19015",
         "Pauline Johnson",
         2016,
         "30.40"
        ],
        [
         "SB-20185",
         "Sarah Brown",
         2014,
         "-66.52"
        ],
        [
         "HA-14905",
         "Helen Abelman",
         2016,
         "129.77"
        ],
        [
         "HR-14770",
         "Hallie Redmond",
         2015,
         "48.12"
        ],
        [
         "FM-14380",
         "Fred McMath",
         2017,
         "38.70"
        ],
        [
         "AC-10660",
         "Anna Chung",
         2017,
         "-32.34"
        ],
        [
         "CM-12445",
         "Chuck Magee",
         2016,
         "53.19"
        ],
        [
         "CM-12235",
         "Chris McAfee",
         2016,
         "365.03"
        ],
        [
         "CK-12325",
         "Christine Kargatis",
         2014,
         "326.42"
        ],
        [
         "MC-17605",
         "Matt Connell",
         2017,
         "121.69"
        ],
        [
         "SS-20140",
         "Saphhira Shifley",
         2014,
         "-88.04"
        ],
        [
         "SP-20860",
         "Sung Pak",
         2017,
         "11.85"
        ],
        [
         "FA-14230",
         "Frank Atkinson",
         2017,
         "252.38"
        ],
        [
         "SG-20605",
         "Speros Goranitis",
         2017,
         "25.46"
        ],
        [
         "CS-12505",
         "Cindy Stewart",
         2014,
         "9.00"
        ],
        [
         "RD-19660",
         "Robert Dilbeck",
         2017,
         "757.41"
        ],
        [
         "BP-11290",
         "Beth Paige",
         2014,
         "-70.10"
        ],
        [
         "DW-13585",
         "Dorothy Wardle",
         2014,
         "6.63"
        ],
        [
         "JM-15865",
         "John Murray",
         2015,
         "371.88"
        ],
        [
         "MV-18190",
         "Mike Vitt orini",
         2016,
         "225.26"
        ],
        [
         "RH-19510",
         "Rick Huthwaite",
         2015,
         "125.67"
        ],
        [
         "DR-12940",
         "Daniel Raglin",
         2014,
         "22.68"
        ],
        [
         "LE-16810",
         "Laurel Elliston",
         2015,
         "5.08"
        ],
        [
         "MC-17605",
         "Matt Connell",
         2016,
         "11.31"
        ],
        [
         "TC-21535",
         "Tracy Collins",
         2014,
         "3.36"
        ],
        [
         "KB-16585",
         "Ken Black",
         2017,
         "240.99"
        ],
        [
         "KD-16495",
         "Keith Dawkins",
         2015,
         "2810.35"
        ],
        [
         "JK-15730",
         "Joe Kamberova",
         2017,
         "30.95"
        ],
        [
         "EP-13915",
         "Emily Phan",
         2017,
         "2.60"
        ],
        [
         "DM-13015",
         "Darrin Martin",
         2016,
         "-35.45"
        ],
        [
         "EN-13780",
         "Edward Nazzal",
         2017,
         "6.55"
        ],
        [
         "DW-13195",
         "David Wiener",
         2017,
         "-108.28"
        ],
        [
         "CM-12385",
         "Christopher Martinez",
         2017,
         "702.26"
        ],
        [
         "AD-10180",
         "Alan Dominguez",
         2014,
         "-6.60"
        ],
        [
         "ME-17725",
         "Max Engle",
         2014,
         "16.28"
        ],
        [
         "JW-15220",
         "Jane Waco",
         2016,
         "131.25"
        ],
        [
         "CW-11905",
         "Carl Weiss",
         2016,
         "22.77"
        ],
        [
         "NS-18640",
         "Noel Staavos",
         2014,
         "11.20"
        ],
        [
         "AJ-10795",
         "Anthony Johnson",
         2016,
         "400.21"
        ],
        [
         "RW-19690",
         "Robert Waldorf",
         2017,
         "710.18"
        ],
        [
         "DC-13285",
         "Debra Catini",
         2017,
         "11.06"
        ],
        [
         "RM-19750",
         "Roland Murray",
         2017,
         "28.68"
        ],
        [
         "AS-10285",
         "Alejandro Savely",
         2016,
         "331.37"
        ],
        [
         "NH-18610",
         "Nicole Hansen",
         2014,
         "33.20"
        ],
        [
         "NL-18310",
         "Nancy Lomonaco",
         2016,
         "18.66"
        ],
        [
         "DB-13615",
         "Doug Bickford",
         2014,
         "13.49"
        ],
        [
         "JC-15775",
         "John Castell",
         2017,
         "117.31"
        ],
        [
         "SG-20605",
         "Speros Goranitis",
         2015,
         "162.96"
        ],
        [
         "PB-19150",
         "Philip Brown",
         2017,
         "71.93"
        ],
        [
         "JO-15280",
         "Jas OCarroll",
         2017,
         "-54.88"
        ],
        [
         "BD-11500",
         "Bradley Drucker",
         2017,
         "762.06"
        ],
        [
         "CC-12685",
         "Craig Carroll",
         2014,
         "-45.32"
        ],
        [
         "CB-12535",
         "Claudia Bergmann",
         2016,
         "458.64"
        ],
        [
         "CS-12400",
         "Christopher Schild",
         2017,
         "-384.96"
        ],
        [
         "EM-13810",
         "NA",
         2015,
         "-202.06"
        ],
        [
         "AJ-10795",
         "Anthony Johnson",
         2014,
         "503.26"
        ],
        [
         "TH-21235",
         "Tiffany House",
         2017,
         "24.70"
        ],
        [
         "RS-19765",
         "Roland Schwarz",
         2015,
         "5.01"
        ],
        [
         "LW-17125",
         "Liz Willingham",
         2016,
         "165.80"
        ],
        [
         "HG-15025",
         "Hunter Glantz",
         2016,
         "50.24"
        ],
        [
         "OT-18730",
         "Olvera Toch",
         2016,
         "-1182.11"
        ],
        [
         "TS-21610",
         "Troy Staebel",
         2017,
         "-10.11"
        ],
        [
         "JF-15490",
         "Jeremy Farry",
         2017,
         "36.98"
        ],
        [
         "JM-15265",
         "Janet Molinari",
         2015,
         "-11.90"
        ],
        [
         "LS-17200",
         "Luke Schmidt",
         2016,
         "18.28"
        ],
        [
         "JP-16135",
         "Julie Prescott",
         2014,
         "6.92"
        ],
        [
         "TW-21025",
         "Tamara Willingham",
         2016,
         "33.01"
        ],
        [
         "JC-15775",
         "John Castell",
         2016,
         "70.55"
        ],
        [
         "CP-12085",
         "Cathy Prescott",
         2016,
         "31.54"
        ],
        [
         "PS-18970",
         "Paul Stevenson",
         2015,
         "42.15"
        ],
        [
         "Dl-13600",
         "Dorris liebe",
         2017,
         "-0.33"
        ],
        [
         "KC-16540",
         "Kelly Collister",
         2017,
         "24.48"
        ],
        [
         "ES-14080",
         "Erin Smith",
         2017,
         "239.29"
        ],
        [
         "JD-15895",
         "Jonathan Doherty",
         2014,
         "-194.20"
        ],
        [
         "LE-16810",
         "Laurel Elliston",
         2016,
         "179.75"
        ],
        [
         "LC-17050",
         "Liz Carlisle",
         2014,
         "-128.09"
        ],
        [
         "EH-13990",
         "Erica Hackney",
         2014,
         "54.09"
        ],
        [
         "DW-13195",
         "David Wiener",
         2016,
         "-34.16"
        ],
        [
         "SN-20710",
         "Steve Nguyen",
         2015,
         "91.22"
        ],
        [
         "JW-15955",
         "Joni Waerman",
         2017,
         "170.87"
        ],
        [
         "RB-19795",
         "Ross Baird",
         2017,
         "-502.56"
        ],
        [
         "GP-14740",
         "Guy Phonely",
         2014,
         "-35.93"
        ],
        [
         "VW-21775",
         "Victoria Wilson",
         2017,
         "565.88"
        ],
        [
         "AC-10420",
         "Alyssa Crouse",
         2014,
         "-14.66"
        ],
        [
         "PL-18925",
         "Paul Lucas",
         2017,
         "-18.94"
        ],
        [
         "JB-16045",
         "Julia Barnett",
         2015,
         "106.54"
        ],
        [
         "DC-12850",
         "Dan Campbell",
         2014,
         "-77.87"
        ],
        [
         "PM-19135",
         "Peter McVee",
         2015,
         "426.81"
        ],
        [
         "FP-14320",
         "Frank Preis",
         2015,
         "-140.57"
        ],
        [
         "GH-14425",
         "Gary Hwang",
         2014,
         "1073.14"
        ],
        [
         "DL-12865",
         "Dan Lawera",
         2015,
         "9.04"
        ],
        [
         "LS-17245",
         "Lynn Smith",
         2017,
         "52.59"
        ],
        [
         "VG-21790",
         "Vivek Gonzalez",
         2017,
         "106.10"
        ],
        [
         "CC-12670",
         "Craig Carreira",
         2017,
         "114.35"
        ],
        [
         "LT-17110",
         "Liz Thompson",
         2017,
         "-22.02"
        ],
        [
         "TP-21565",
         "Tracy P oddar",
         2017,
         "-0.04"
        ],
        [
         "MV-18190",
         "Mike Vitt orini",
         2015,
         "15.36"
        ],
        [
         "CS-12505",
         "Cindy Stewart",
         2015,
         "17.34"
        ],
        [
         "DJ-13420",
         "Denny Joy",
         2016,
         "378.27"
        ],
        [
         "ML-17410",
         "Maris LaWare",
         2017,
         "-345.71"
        ],
        [
         "BD-11320",
         "Bil Donatelli",
         2016,
         "97.23"
        ],
        [
         "SV-20785",
         "Stewart Visinsky",
         2016,
         "76.77"
        ],
        [
         "SO-20335",
         "Sean ODonnell",
         2015,
         "-282.31"
        ],
        [
         "MK-17905",
         "Michael Kennedy",
         2015,
         "0.60"
        ],
        [
         "AS-10285",
         "Alejandro Savely",
         2017,
         "23.26"
        ],
        [
         "TB-21625",
         "Trudy Brown",
         2017,
         "233.36"
        ],
        [
         "CM-11935",
         "Carlos Meador",
         2016,
         "-56.90"
        ],
        [
         "PS-18970",
         "Paul Stevenson",
         2014,
         "108.00"
        ],
        [
         "CK-12595",
         "Clytie Kelty",
         2014,
         "1.23"
        ],
        [
         "AR-10540",
         "Andy Reiter",
         2015,
         "247.28"
        ],
        [
         "JK-15640",
         "Jim Kriz",
         2015,
         "181.04"
        ],
        [
         "DK-13375",
         "Dennis Kane",
         2016,
         "360.97"
        ],
        [
         "BB-11545",
         "Brenda Bowman",
         2016,
         "431.81"
        ],
        [
         "LD-16855",
         "Lela Donovan",
         2016,
         "0.46"
        ],
        [
         "CM-12655",
         "Corinna Mitchell",
         2015,
         "116.62"
        ],
        [
         "LW-17125",
         "Liz Willingham",
         2017,
         "5.08"
        ],
        [
         "RA-19945",
         "Ryan Akin",
         2014,
         "-436.73"
        ],
        [
         "JB-16000",
         "Joy Bell",
         2017,
         "111.09"
        ],
        [
         "AH-10195",
         "Alan Haines",
         2015,
         "-12.10"
        ],
        [
         "SP-20620",
         "Stefania Perrino",
         2017,
         "-165.80"
        ],
        [
         "ML-18040",
         "Michelle Lonsdale",
         2017,
         "138.71"
        ],
        [
         "SK-19990",
         "Sally Knutson",
         2016,
         "3.44"
        ],
        [
         "DB-13660",
         "Duane Benoit",
         2016,
         "-35.22"
        ],
        [
         "AH-10120",
         "Adrian Hane",
         2014,
         "-25.91"
        ],
        [
         "CS-12400",
         "Christopher Schild",
         2016,
         "-114.17"
        ],
        [
         "RB-19645",
         "Robert Barroso",
         2014,
         "24.92"
        ],
        [
         "CJ-12010",
         "Caroline Jumper",
         2017,
         "-524.22"
        ],
        [
         "GZ-14470",
         "Gary Zandusky",
         2015,
         "126.31"
        ],
        [
         "KC-16540",
         "Kelly Collister",
         2016,
         "635.68"
        ],
        [
         "TB-21520",
         "Tracy Blumstein",
         2016,
         "3.95"
        ],
        [
         "MG-17650",
         "Matthew Grinstein",
         2014,
         "24.37"
        ],
        [
         "GT-14755",
         "Guy Thornton",
         2016,
         "6.30"
        ],
        [
         "JG-15805",
         "John Grady",
         2017,
         "78.02"
        ],
        [
         "MP-17470",
         "Mark Packer",
         2014,
         "279.86"
        ],
        [
         "DL-13330",
         "Denise Leinenbach",
         2017,
         "17.38"
        ],
        [
         "EB-13705",
         "Ed Braxton",
         2016,
         "82.42"
        ],
        [
         "SS-20140",
         "Saphhira Shifley",
         2015,
         "25.79"
        ],
        [
         "KH-16630",
         "Ken Heidel",
         2015,
         "501.54"
        ],
        [
         "PJ-18835",
         "Patrick Jones",
         2014,
         "7.95"
        ],
        [
         "GA-14725",
         "Guy Armstrong",
         2017,
         "23.50"
        ],
        [
         "PW-19240",
         "Pierre Wener",
         2016,
         "-0.59"
        ],
        [
         "NM-18445",
         "Nathan Mautz",
         2014,
         "2413.85"
        ],
        [
         "JF-15355",
         "Jay Fein",
         2017,
         "128.34"
        ],
        [
         "AW-10930",
         "Arthur Wiediger",
         2014,
         "-42.56"
        ],
        [
         "GP-14740",
         "Guy Phonely",
         2015,
         "67.77"
        ],
        [
         "DH-13075",
         "Dave Hallsten",
         2016,
         "-19.60"
        ],
        [
         "AH-10075",
         "Adam Hart",
         2014,
         "2.40"
        ],
        [
         "SV-20815",
         "Stuart Van",
         2016,
         "11.24"
        ],
        [
         "DB-13210",
         "Dean Braden",
         2016,
         "-66.47"
        ],
        [
         "KS-16300",
         "Karen Seio",
         2015,
         "6.49"
        ],
        [
         "CS-12505",
         "Cindy Stewart",
         2016,
         "-6696.29"
        ],
        [
         "RD-19585",
         "Rob Dowd",
         2015,
         "302.64"
        ],
        [
         "EB-13930",
         "Eric Barreto",
         2017,
         "-75.19"
        ],
        [
         "RB-19330",
         "Randy Bradley",
         2014,
         "-90.10"
        ],
        [
         "JL-15850",
         "John Lucas",
         2014,
         "1.33"
        ],
        [
         "JK-15205",
         "Jamie Kunitz",
         2015,
         "615.03"
        ],
        [
         "TB-21355",
         "Todd Boyes",
         2016,
         "62.39"
        ],
        [
         "PS-19045",
         "Penelope Sewall",
         2015,
         "1493.94"
        ],
        [
         "LS-16975",
         "Lindsay Shagiari",
         2014,
         "138.16"
        ],
        [
         "HE-14800",
         "Harold Engle",
         2017,
         "161.26"
        ],
        [
         "BM-11140",
         "Becky Martin",
         2014,
         "-1878.79"
        ],
        [
         "HP-14815",
         "Harold Pawlan",
         2015,
         "-21.70"
        ],
        [
         "KW-16570",
         "Kelly Williams",
         2014,
         "11.25"
        ],
        [
         "SW-20275",
         "Scott Williamson",
         2016,
         "221.48"
        ],
        [
         "KH-16510",
         "Keith Herrera",
         2015,
         "227.57"
        ],
        [
         "JD-16015",
         "Joy Daniels",
         2017,
         "37.06"
        ],
        [
         "TS-21160",
         "Theresa Swint",
         2015,
         "311.54"
        ],
        [
         "DK-13225",
         "Dean Katz",
         2014,
         "6.00"
        ],
        [
         "AH-10210",
         "Alan Hwang",
         2014,
         "87.19"
        ],
        [
         "MS-17980",
         "Michael Stewart",
         2014,
         "16.26"
        ],
        [
         "AB-10165",
         "Alan Barnes",
         2014,
         "-1.07"
        ],
        [
         "IG-15085",
         "Ivan Gibson",
         2016,
         "54.86"
        ],
        [
         "VM-21685",
         "Valerie Mitchum",
         2015,
         "-3.71"
        ],
        [
         "ME-17725",
         "Max Engle",
         2017,
         "23.16"
        ],
        [
         "FM-14290",
         "Frank Merwin",
         2017,
         "530.86"
        ],
        [
         "DK-12895",
         "Dana Kaydos",
         2017,
         "316.38"
        ],
        [
         "KM-16720",
         "Kunst Miller",
         2017,
         "364.68"
        ],
        [
         "CR-12820",
         "Cyra Reiten",
         2017,
         "81.14"
        ],
        [
         "KA-16525",
         "Kelly Andreada",
         2014,
         "49.01"
        ],
        [
         "JK-15205",
         "Jamie Kunitz",
         2017,
         "557.69"
        ],
        [
         "TZ-21580",
         "Tracy Zic",
         2015,
         "15.28"
        ],
        [
         "LP-17080",
         "Liz Pelletier",
         2014,
         "0.96"
        ],
        [
         "JF-15490",
         "Jeremy Farry",
         2016,
         "13.11"
        ],
        [
         "SP-20860",
         "Sung Pak",
         2015,
         "-65.06"
        ],
        [
         "SC-20725",
         "Steven Cartwright",
         2015,
         "404.63"
        ],
        [
         "SU-20665",
         "Stephanie Ulpright",
         2017,
         "623.11"
        ],
        [
         "HA-14905",
         "Helen Abelman",
         2015,
         "111.29"
        ],
        [
         "XP-21865",
         "Xylona Preis",
         2017,
         "80.12"
        ],
        [
         "DL-13315",
         "Delfina Latchford",
         2017,
         "94.23"
        ],
        [
         "PO-19195",
         "Phillina Ober",
         2014,
         "-65.99"
        ],
        [
         "CC-12145",
         "Charles Crestani",
         2017,
         "8.33"
        ],
        [
         "TP-21130",
         "Theone Pippenger",
         2016,
         "376.74"
        ],
        [
         "DK-13375",
         "Dennis Kane",
         2017,
         "2.65"
        ],
        [
         "PO-19180",
         "Philisse Overcash",
         2016,
         "178.45"
        ],
        [
         "PF-19120",
         "Peter Fuller",
         2015,
         "-631.70"
        ],
        [
         "KH-16630",
         "Ken Heidel",
         2016,
         "30.61"
        ],
        [
         "AG-10495",
         "Andrew Gjertsen",
         2015,
         "264.76"
        ],
        [
         "RD-19900",
         "Ruben Dartt",
         2016,
         "177.10"
        ],
        [
         "MT-17815",
         "Meg Tillman",
         2016,
         "432.26"
        ],
        [
         "TD-20995",
         "Tamara Dahlen",
         2017,
         "13.68"
        ],
        [
         "CV-12295",
         "Christina VanderZanden",
         2014,
         "163.49"
        ],
        [
         "SC-20305",
         "Sean Christensen",
         2017,
         "98.25"
        ],
        [
         "PS-19045",
         "Penelope Sewall",
         2014,
         "623.20"
        ],
        [
         "DM-13345",
         "Denise Monton",
         2016,
         "-61.90"
        ],
        [
         "SS-20515",
         "Shirley Schmidt",
         2016,
         "14.87"
        ],
        [
         "AW-10930",
         "Arthur Wiediger",
         2016,
         "-213.35"
        ],
        [
         "BF-11020",
         "Barry Franzsisch",
         2016,
         "20.32"
        ],
        [
         "JW-15955",
         "Joni Waerman",
         2015,
         "-201.65"
        ],
        [
         "SJ-20500",
         "Shirley Jackson",
         2016,
         "253.82"
        ],
        [
         "CR-12730",
         "Craig Reiter",
         2016,
         "59.57"
        ],
        [
         "AB-10150",
         "Aimee Bixby",
         2017,
         "40.00"
        ],
        [
         "SP-20920",
         "Susan Pistek",
         2016,
         "8.70"
        ],
        [
         "PF-19120",
         "Peter Fuller",
         2014,
         "17.68"
        ],
        [
         "RB-19465",
         "Rick Bensley",
         2017,
         "179.78"
        ],
        [
         "AR-10570",
         "Anemone Ratner",
         2016,
         "32.64"
        ],
        [
         "NS-18640",
         "Noel Staavos",
         2015,
         "151.68"
        ],
        [
         "DW-13585",
         "Dorothy Wardle",
         2017,
         "5.11"
        ],
        [
         "NC-18535",
         "Nick Crebassa",
         2017,
         "607.03"
        ],
        [
         "EB-13705",
         "Ed Braxton",
         2017,
         "10.60"
        ],
        [
         "AA-10375",
         "Allen Armold",
         2015,
         "69.03"
        ],
        [
         "PC-18745",
         "Pamela Coakley",
         2014,
         "196.69"
        ],
        [
         "KB-16240",
         "Karen Bern",
         2016,
         "-18.18"
        ],
        [
         "SH-20635",
         "Stefanie Holloman",
         2015,
         "190.43"
        ],
        [
         "JS-15880",
         "John Stevenson",
         2015,
         "392.89"
        ],
        [
         "JL-15505",
         "Jeremy Lonsdale",
         2016,
         "21.75"
        ],
        [
         "AG-10270",
         "Alejandro Grove",
         2017,
         "1.50"
        ],
        [
         "BD-11725",
         "Bruce Degenhardt",
         2015,
         "149.49"
        ],
        [
         "ML-17395",
         "Marina Lichtenstein",
         2014,
         "486.58"
        ],
        [
         "SC-20680",
         "Steve Carroll",
         2016,
         "109.82"
        ],
        [
         "AG-10330",
         "Alex Grayson",
         2017,
         "-67.10"
        ],
        [
         "HM-14860",
         "Harry Marie",
         2017,
         "-16.56"
        ],
        [
         "CR-12625",
         "Corey Roper",
         2014,
         "114.40"
        ],
        [
         "AW-10840",
         "Anth ony Witt",
         2017,
         "79.28"
        ],
        [
         "Co-12640",
         "CoreyLock",
         2015,
         "44.03"
        ],
        [
         "NK-18490",
         "Neil Knudson",
         2017,
         "80.03"
        ],
        [
         "CA-12310",
         "Christine Abelman",
         2014,
         "101.40"
        ],
        [
         "CB-12535",
         "Claudia Bergmann",
         2017,
         "341.51"
        ],
        [
         "LB-16795",
         "Laurel Beltran",
         2014,
         "-21.36"
        ],
        [
         "LR-16915",
         "Lena Radford",
         2014,
         "604.58"
        ],
        [
         "LW-16825",
         "Laurel Workman",
         2016,
         "-393.34"
        ],
        [
         "TT-21265",
         "Tim Taslimi",
         2015,
         "61.39"
        ],
        [
         "SW-20455",
         "Shaun Weien",
         2015,
         "618.44"
        ],
        [
         "AH-10210",
         "Alan Hwang",
         2017,
         "946.65"
        ],
        [
         "JO-15280",
         "Jas OCarroll",
         2016,
         "51.21"
        ],
        [
         "GK-14620",
         "Grace Kelly",
         2016,
         "1315.57"
        ],
        [
         "MM-17260",
         "Magdelene Morse",
         2016,
         "166.51"
        ],
        [
         "JL-15835",
         "John Lee",
         2014,
         "-863.93"
        ],
        [
         "SB-20170",
         "Sarah Bern",
         2017,
         "191.07"
        ],
        [
         "MC-18130",
         "Mike Caudle",
         2016,
         "86.95"
        ],
        [
         "SM-20950",
         "Suzanne McNair",
         2015,
         "468.40"
        ],
        [
         "ST-20530",
         "Shui Tom",
         2017,
         "12.79"
        ],
        [
         "MC-18130",
         "Mike Caudle",
         2014,
         "24.98"
        ],
        [
         "NF-18475",
         "Neil Franzsisch",
         2014,
         "31.87"
        ],
        [
         "JG-15805",
         "John Grady",
         2014,
         "28.26"
        ],
        [
         "GR-14560",
         "Georgia Rosenberg",
         2014,
         "359.88"
        ],
        [
         "NW-18400",
         "Natalie Webber",
         2014,
         "-387.79"
        ],
        [
         "LB-16795",
         "Laurel Beltran",
         2017,
         "627.99"
        ],
        [
         "NC-18415",
         "Nathan Cano",
         2016,
         "79.19"
        ],
        [
         "GA-14515",
         "George Ashbrook",
         2014,
         "22.41"
        ],
        [
         "RP-19390",
         "Resi Plking",
         2016,
         "154.14"
        ],
        [
         "JH-16180",
         "Justin Hirsh",
         2016,
         "-203.37"
        ],
        [
         "TP-21130",
         "Theone Pippenger",
         2017,
         "753.76"
        ],
        [
         "CT-11995",
         "Carol Triggs",
         2014,
         "285.45"
        ],
        [
         "BS-11755",
         "Bruce Stewart",
         2016,
         "82.95"
        ],
        [
         "EH-13765",
         "Edward Hooks",
         2017,
         "405.82"
        ],
        [
         "BT-11440",
         "Bobby Trafton",
         2016,
         "-71.90"
        ],
        [
         "KE-16420",
         "Kat rina Edelman",
         2015,
         "235.64"
        ],
        [
         "CP-12085",
         "Cathy Prescott",
         2015,
         "102.44"
        ],
        [
         "JM-15865",
         "John Murray",
         2014,
         "1228.18"
        ],
        [
         "MH-17620",
         "Matt Hagelstein",
         2015,
         "14.67"
        ],
        [
         "RB-19465",
         "Rick Bensley",
         2016,
         "123.81"
        ],
        [
         "JC-15340",
         "Jasper Cacioppo",
         2014,
         "1.33"
        ],
        [
         "TH-21100",
         "Thea Hendricks",
         2016,
         "9.19"
        ],
        [
         "EB-13975",
         "Erica Bern",
         2017,
         "11.00"
        ],
        [
         "HK-14890",
         "Heather Kirkland",
         2017,
         "399.01"
        ],
        [
         "BD-11605",
         "Brian Dahlen",
         2014,
         "342.92"
        ],
        [
         "NZ-18565",
         "Nick Zandusky",
         2017,
         "102.32"
        ],
        [
         "SW-20350",
         "Sean Wendt",
         2017,
         "-50.25"
        ],
        [
         "LH-17020",
         "Lisa Hazard",
         2016,
         "16.46"
        ],
        [
         "AS-10090",
         "Adam Shillingsburg",
         2014,
         "129.55"
        ],
        [
         "JO-15550",
         "Jesus Ocampo",
         2017,
         "13.22"
        ],
        [
         "AB-10105",
         "Adrian Barton",
         2014,
         "498.73"
        ],
        [
         "IM-15070",
         "Irene Maddox",
         2015,
         "-55.70"
        ],
        [
         "EJ-13720",
         "Ed Jacobs",
         2017,
         "423.72"
        ],
        [
         "JH-15910",
         "Jonathan Howell",
         2016,
         "63.17"
        ],
        [
         "JM-15865",
         "John Murray",
         2017,
         "24.63"
        ],
        [
         "LR-17035",
         "Lisa Ryan",
         2017,
         "99.27"
        ],
        [
         "JP-15520",
         "Jeremy Pistek",
         2014,
         "199.41"
        ],
        [
         "SR-20425",
         "Sharelle Roach",
         2014,
         "57.49"
        ],
        [
         "SM-20005",
         "Sally Matthias",
         2016,
         "-77.84"
        ],
        [
         "CS-12130",
         "Chad Sievert",
         2015,
         "45.72"
        ],
        [
         "SP-20545",
         "Sibella Parks",
         2014,
         "2.81"
        ],
        [
         "BO-11425",
         "Bobby Odegard",
         2015,
         "2.07"
        ],
        [
         "BD-11635",
         "Brian Derr",
         2017,
         "27.69"
        ],
        [
         "AG-10390",
         "Allen Goldenen",
         2017,
         "8.30"
        ],
        [
         "RD-19480",
         "Rick Duston",
         2016,
         "69.39"
        ],
        [
         "PG-18820",
         "Patrick Gardner",
         2017,
         "96.42"
        ],
        [
         "VS-21820",
         "Vivek Sundaresam",
         2014,
         "-72.25"
        ],
        [
         "BP-11290",
         "Beth Paige",
         2016,
         "-65.75"
        ],
        [
         "CA-12265",
         "Christina Anderson",
         2017,
         "119.67"
        ],
        [
         "AB-10105",
         "Adrian Barton",
         2015,
         "-142.67"
        ],
        [
         "AG-10270",
         "Alejandro Grove",
         2014,
         "17.99"
        ],
        [
         "EA-14035",
         "Erin Ashbrook",
         2015,
         "321.74"
        ],
        [
         "RK-19300",
         "Ralph Kennedy",
         2017,
         "4.11"
        ],
        [
         "LE-16810",
         "Laurel Elliston",
         2017,
         "-10.24"
        ],
        [
         "CC-12100",
         "Chad Cunningham",
         2016,
         "-11.70"
        ],
        [
         "CM-12715",
         "Craig M olinari",
         2015,
         "-29.90"
        ],
        [
         "MT-18070",
         "Michelle Tran",
         2017,
         "2.05"
        ],
        [
         "CA-12775",
         "Cynthia Arntzen",
         2017,
         "191.87"
        ],
        [
         "LS-16975",
         "Lindsay Shagiari",
         2016,
         "2.94"
        ],
        [
         "GM-14455",
         "Gary Mitchum",
         2016,
         "102.52"
        ],
        [
         "KC-16255",
         "Karen Carlisle",
         2014,
         "43.06"
        ],
        [
         "ZC-21910",
         "Zuschuss Carroll",
         2016,
         "-1731.01"
        ],
        [
         "DG-13300",
         "Deirdre Greer",
         2014,
         "22.07"
        ],
        [
         "SE-20110",
         "Sanjit Engle",
         2015,
         "159.32"
        ],
        [
         "SG-20470",
         "Sheri Gordon",
         2015,
         "44.50"
        ],
        [
         "NC-18625",
         "Noah Childs",
         2014,
         "36.66"
        ],
        [
         "RE-19450",
         "Richard Eichhorn",
         2016,
         "13.32"
        ],
        [
         "VM-21835",
         "Vivian Mathis",
         2014,
         "6.51"
        ],
        [
         "MW-18235",
         "Mitch Willingham",
         2017,
         "216.00"
        ],
        [
         "RS-19870",
         "Roy Skaria",
         2017,
         "6.08"
        ],
        [
         "MM-18280",
         "Muhammed MacIntyre",
         2014,
         "-51.52"
        ],
        [
         "MB-17305",
         "Maria Bertelson",
         2015,
         "77.99"
        ],
        [
         "EB-13705",
         "Ed Braxton",
         2014,
         "-127.42"
        ],
        [
         "ON-18715",
         "Odella Nelson",
         2015,
         "-31.11"
        ],
        [
         "MD-17350",
         "Maribeth Dona",
         2014,
         "-84.11"
        ],
        [
         "HR-14830",
         "Harold Ryan",
         2014,
         "79.74"
        ],
        [
         "BS-11380",
         "Bil Stewart",
         2015,
         "206.62"
        ],
        [
         "BT-11395",
         "Bil Tyler",
         2017,
         "-14.99"
        ],
        [
         "JF-15295",
         "Jason Fortune",
         2016,
         "-9.88"
        ],
        [
         "TB-21595",
         "Troy Blackwell",
         2016,
         "-144.59"
        ],
        [
         "SJ-20215",
         "Sarah Jordon",
         2016,
         "-3.24"
        ],
        [
         "JP-15460",
         "Jennifer Patt",
         2017,
         "10.66"
        ],
        [
         "AA-10645",
         "Anna Andreadi",
         2014,
         "77.64"
        ],
        [
         "TG-21640",
         "Trudy Glocke",
         2014,
         "89.42"
        ],
        [
         "BV-11245",
         "Benjamin Venier",
         2017,
         "105.94"
        ],
        [
         "BF-10975",
         "Barbara Fisher",
         2014,
         "61.99"
        ],
        [
         "TD-20995",
         "Tamara Dahlen",
         2016,
         "70.25"
        ],
        [
         "TC-20980",
         "Tamara Chand",
         2016,
         "8764.95"
        ],
        [
         "RD-19900",
         "Ruben Dartt",
         2014,
         "186.49"
        ],
        [
         "DJ-13420",
         "Denny Joy",
         2015,
         "64.99"
        ],
        [
         "MH-17455",
         "Mark Hamilton",
         2016,
         "375.67"
        ],
        [
         "SC-20095",
         "Sanjit Chand",
         2015,
         "92.68"
        ],
        [
         "BT-11680",
         "Brian Thompson",
         2015,
         "435.64"
        ],
        [
         "AT-10735",
         "Annie Thurman",
         2016,
         "51.67"
        ],
        [
         "LH-17155",
         "Logan Haushalter",
         2016,
         "212.10"
        ],
        [
         "MC-17635",
         "Matthew Clasen",
         2014,
         "41.89"
        ],
        [
         "NZ-18565",
         "Nick Zandusky",
         2014,
         "248.03"
        ],
        [
         "BT-11305",
         "Beth Thompson",
         2014,
         "290.89"
        ],
        [
         "TB-21400",
         "Tom Boeckenhauer",
         2016,
         "12.18"
        ],
        [
         "MP-17470",
         "Mark Packer",
         2016,
         "8.94"
        ],
        [
         "AD-10180",
         "Alan Dominguez",
         2015,
         "9.60"
        ],
        [
         "EB-13840",
         "Ellis Ballard",
         2014,
         "-36.36"
        ],
        [
         "VB-21745",
         "Victo ria Brennan",
         2015,
         "84.62"
        ],
        [
         "BF-11005",
         "Barry Franz",
         2017,
         "71.98"
        ],
        [
         "MT-18070",
         "Michelle Tran",
         2016,
         "70.49"
        ],
        [
         "JO-15280",
         "Jas OCarroll",
         2014,
         "0.97"
        ],
        [
         "SC-20770",
         "Stewart Carmichael",
         2017,
         "-84.83"
        ],
        [
         "TG-21310",
         "Toby Gnade",
         2015,
         "-198.33"
        ],
        [
         "JF-15355",
         "Jay Fein",
         2015,
         "161.11"
        ],
        [
         "WB-21850",
         "William Brown",
         2015,
         "-87.06"
        ],
        [
         "AR-10540",
         "Andy Reiter",
         2017,
         "2607.68"
        ],
        [
         "SL-20155",
         "Sara Luxemburg",
         2014,
         "22.25"
        ],
        [
         "BP-11095",
         "Bart Pistole",
         2015,
         "53.56"
        ],
        [
         "MT-18070",
         "Michelle Tran",
         2014,
         "-89.70"
        ],
        [
         "GT-14755",
         "Guy Thornton",
         2017,
         "-39.64"
        ],
        [
         "MS-17530",
         "MaryBeth Skach",
         2016,
         "36.04"
        ],
        [
         "CS-12130",
         "Chad Sievert",
         2014,
         "84.36"
        ],
        [
         "CM-12655",
         "Corinna Mitchell",
         2017,
         "855.93"
        ],
        [
         "VP-21760",
         "Victoria Pisteka",
         2017,
         "-964.48"
        ],
        [
         "LW-17215",
         "Luke Weiss",
         2014,
         "420.59"
        ],
        [
         "CS-12355",
         "Christine Sundaresam",
         2014,
         "77.03"
        ],
        [
         "KA-16525",
         "Kelly Andreada",
         2017,
         "39.94"
        ],
        [
         "MN-17935",
         "Michael Nguyen",
         2016,
         "5.52"
        ],
        [
         "KW-16570",
         "Kelly Williams",
         2015,
         "97.14"
        ],
        [
         "KS-16300",
         "Karen Seio",
         2017,
         "-6.38"
        ],
        [
         "EP-13915",
         "Emily Phan",
         2016,
         "-393.66"
        ],
        [
         "PO-18850",
         "Patrick OBrill",
         2014,
         "56.31"
        ],
        [
         "TZ-21580",
         "Tracy Zic",
         2017,
         "1.34"
        ],
        [
         "TB-21625",
         "Trudy Brown",
         2015,
         "-8.47"
        ],
        [
         "EN-13780",
         "Edward Nazzal",
         2016,
         "438.40"
        ],
        [
         "RR-19525",
         "Rick Reed",
         2014,
         "543.57"
        ],
        [
         "MO-17500",
         "Mary ORourke",
         2017,
         "-67.54"
        ],
        [
         "TM-21010",
         "Tamara Manning",
         2014,
         "112.58"
        ],
        [
         "LM-17065",
         "Liz MacKendrick",
         2014,
         "76.10"
        ],
        [
         "DJ-13630",
         "Doug Jacobs",
         2016,
         "25.78"
        ],
        [
         "JS-15595",
         "Ji Stevenson",
         2014,
         "-204.14"
        ],
        [
         "MC-18100",
         "Mick Crebagga",
         2015,
         "-73.30"
        ],
        [
         "JO-15145",
         "Jack OBriant",
         2017,
         "40.40"
        ],
        [
         "EB-14170",
         "Evan Bailliet",
         2016,
         "4.44"
        ],
        [
         "BM-11650",
         "Brian Moss",
         2015,
         "181.48"
        ],
        [
         "MM-18055",
         "Michelle Moray",
         2015,
         "-247.37"
        ],
        [
         "JD-15895",
         "Jonathan Doherty",
         2015,
         "64.82"
        ],
        [
         "DB-12970",
         "Darren Budd",
         2017,
         "64.81"
        ],
        [
         "VB-21745",
         "Victo ria Brennan",
         2017,
         "181.21"
        ],
        [
         "DB-13555",
         "Dorothy Badders",
         2014,
         "8.35"
        ],
        [
         "TG-21310",
         "Toby Gnade",
         2017,
         "35.86"
        ],
        [
         "BF-11215",
         "Benjamin Farhat",
         2017,
         "328.37"
        ],
        [
         "DK-12985",
         "Darren Koutras",
         2017,
         "-22.94"
        ],
        [
         "MB-17305",
         "Maria Bertelson",
         2016,
         "83.51"
        ],
        [
         "KT-16480",
         "Kean Thornton",
         2015,
         "36.70"
        ],
        [
         "MH-18025",
         "Michelle Huthwaite",
         2014,
         "10.65"
        ],
        [
         "AC-10660",
         "Anna Chung",
         2014,
         "-4.97"
        ],
        [
         "NG-18355",
         "Nat Gilpin",
         2017,
         "86.50"
        ],
        [
         "KB-16600",
         "Ken Brennan",
         2017,
         "259.43"
        ],
        [
         "AG-10300",
         "Aleksandra Gannaway",
         2015,
         "8.39"
        ],
        [
         "SG-20470",
         "Sheri Gordon",
         2017,
         "-295.98"
        ],
        [
         "BM-11785",
         "Bryan Mills",
         2015,
         "-39.67"
        ],
        [
         "PO-18865",
         "Patrick ODonnell",
         2017,
         "238.16"
        ],
        [
         "BF-11275",
         "Beth Fritzler",
         2014,
         "-12.12"
        ],
        [
         "TB-21250",
         "Tim Brockman",
         2014,
         "13.81"
        ],
        [
         "FH-14350",
         "Fred Harton",
         2015,
         "365.68"
        ],
        [
         "AG-10390",
         "Allen Goldenen",
         2014,
         "67.97"
        ],
        [
         "MS-17980",
         "Michael Stewart",
         2015,
         "59.35"
        ],
        [
         "CS-11860",
         "Cari Schnelling",
         2017,
         "14.92"
        ],
        [
         "JR-15700",
         "Jocasta Rupert",
         2017,
         "107.99"
        ],
        [
         "MB-18085",
         "Mick Brown",
         2014,
         "4.88"
        ],
        [
         "CS-11845",
         "Cari Sayre",
         2014,
         "-13.90"
        ],
        [
         "KB-16405",
         "Kat rina Bavinger",
         2015,
         "42.96"
        ],
        [
         "HG-14845",
         "Harry Greene",
         2014,
         "21.60"
        ],
        [
         "BS-11800",
         "Bryan Spruell",
         2015,
         "77.11"
        ],
        [
         "GT-14635",
         "Grant Thornton",
         2015,
         "8.87"
        ],
        [
         "CA-11965",
         "Carol Adams",
         2016,
         "899.98"
        ],
        [
         "RB-19465",
         "Rick Bensley",
         2014,
         "336.96"
        ],
        [
         "TM-21010",
         "Tamara Manning",
         2015,
         "255.04"
        ],
        [
         "AI-10855",
         "Arianne Irving",
         2014,
         "288.24"
        ],
        [
         "MK-18160",
         "Mike Kennedy",
         2017,
         "209.04"
        ],
        [
         "PR-18880",
         "Patrick Ryan",
         2017,
         "5555.93"
        ],
        [
         "RM-19375",
         "Raymond Messe",
         2017,
         "196.75"
        ],
        [
         "LW-16825",
         "Laurel Workman",
         2014,
         "423.61"
        ],
        [
         "TB-21355",
         "Todd Boyes",
         2017,
         "206.57"
        ],
        [
         "KH-16510",
         "Keith Herrera",
         2014,
         "-2.74"
        ],
        [
         "ML-17395",
         "Marina Lichtenstein",
         2015,
         "-4.94"
        ],
        [
         "SC-20695",
         "Steve Chapman",
         2015,
         "222.93"
        ],
        [
         "PM-19135",
         "Peter McVee",
         2017,
         "69.60"
        ],
        [
         "CS-12355",
         "Christine Sundaresam",
         2015,
         "288.11"
        ],
        [
         "EB-14110",
         "Eugene Barchas",
         2017,
         "-47.40"
        ],
        [
         "VP-21730",
         "Victor Preis",
         2015,
         "8.93"
        ],
        [
         "TS-21160",
         "Theresa Swint",
         2014,
         "-2.00"
        ],
        [
         "DO-13435",
         "Denny Ordway",
         2014,
         "6.09"
        ],
        [
         "PP-18955",
         "Paul Prost",
         2016,
         "707.59"
        ],
        [
         "LH-17155",
         "Logan Haushalter",
         2014,
         "9.58"
        ],
        [
         "HG-14965",
         "Henry Goldwyn",
         2015,
         "34.84"
        ],
        [
         "QJ-19255",
         "Quincy Jones",
         2017,
         "-99.70"
        ],
        [
         "BC-11125",
         "Becky Castell",
         2016,
         "62.26"
        ],
        [
         "CC-12220",
         "Chris Cortes",
         2017,
         "393.60"
        ],
        [
         "EH-13990",
         "Erica Hackney",
         2015,
         "28.38"
        ],
        [
         "MC-17590",
         "Matt Collister",
         2014,
         "-137.20"
        ],
        [
         "JF-15565",
         "Jill Fjeld",
         2016,
         "849.66"
        ],
        [
         "MS-17365",
         "Maribeth chnelling",
         2017,
         "40.75"
        ],
        [
         "NS-18640",
         "Noel Staavos",
         2017,
         "-99.52"
        ],
        [
         "GM-14440",
         "Gary McGarr",
         2014,
         "202.78"
        ],
        [
         "SF-20200",
         "Sarah Foster",
         2014,
         "58.03"
        ],
        [
         "JR-15670",
         "Jim Radford",
         2015,
         "-785.16"
        ],
        [
         "FH-14275",
         "Frank Hawley",
         2014,
         "297.18"
        ],
        [
         "SC-20095",
         "Sanjit Chand",
         2014,
         "5462.59"
        ],
        [
         "LC-16870",
         "NA",
         2016,
         "-291.75"
        ],
        [
         "LH-16900",
         "Lena Hernandez",
         2015,
         "121.11"
        ],
        [
         "DC-13285",
         "Debra Catini",
         2014,
         "54.80"
        ],
        [
         "AP-10720",
         "Anne Pryor",
         2017,
         "-11.07"
        ],
        [
         "CS-11950",
         "Carlos Soltero",
         2017,
         "76.20"
        ],
        [
         "FO-14305",
         "Frank Olsen",
         2014,
         "245.02"
        ],
        [
         "LR-17035",
         "Lisa Ryan",
         2016,
         "-387.68"
        ],
        [
         "BV-11245",
         "Benjamin Venier",
         2015,
         "82.28"
        ],
        [
         "EL-13735",
         "Ed Ludwig",
         2016,
         "8.66"
        ],
        [
         "KH-16690",
         "Kristen Hastings",
         2017,
         "217.49"
        ],
        [
         "AJ-10945",
         "Ashley Jarboe",
         2015,
         "316.58"
        ],
        [
         "JM-16195",
         "Justin MacKendrick",
         2014,
         "273.40"
        ],
        [
         "SS-20875",
         "Sung Shariari",
         2016,
         "-1.91"
        ],
        [
         "JC-16105",
         "Julie Creighton",
         2017,
         "62.30"
        ],
        [
         "BM-11650",
         "Brian Moss",
         2014,
         "81.65"
        ],
        [
         "SC-20845",
         "Sung Chung",
         2017,
         "29.95"
        ],
        [
         "VM-21835",
         "Vivian Mathis",
         2017,
         "6.97"
        ],
        [
         "LS-16945",
         "Linda Southworth",
         2016,
         "21.74"
        ],
        [
         "HR-14770",
         "Hallie Redmond",
         2017,
         "135.68"
        ],
        [
         "DW-13540",
         "Don Weiss",
         2017,
         "53.65"
        ],
        [
         "NC-18625",
         "Noah Childs",
         2016,
         "-461.20"
        ],
        [
         "SZ-20035",
         "Sam Zeldin",
         2016,
         "49.32"
        ],
        [
         "BW-11110",
         "Bart Watters",
         2017,
         "720.83"
        ],
        [
         "MS-17770",
         "Maxwell Schwartz",
         2014,
         "-102.26"
        ],
        [
         "PN-18775",
         "Parhena Norris",
         2016,
         "137.23"
        ],
        [
         "EJ-13720",
         "Ed Jacobs",
         2015,
         "15.86"
        ],
        [
         "AZ-10750",
         "Annie Zypern",
         2016,
         "32.57"
        ],
        [
         "TB-21520",
         "Tracy Blumstein",
         2017,
         "42.26"
        ],
        [
         "HG-15025",
         "Hunter Glantz",
         2017,
         "82.02"
        ],
        [
         "CS-11950",
         "Carlos Soltero",
         2015,
         "16.46"
        ],
        [
         "AD-10180",
         "Alan Dominguez",
         2017,
         "1866.92"
        ],
        [
         "HH-15010",
         "Hilary Holden",
         2017,
         "26.46"
        ],
        [
         "MS-17365",
         "Maribeth chnelling",
         2014,
         "143.90"
        ],
        [
         "PV-18985",
         "PaulVan Hugh",
         2014,
         "-4.56"
        ],
        [
         "TS-21505",
         "NA",
         2016,
         "-69.83"
        ],
        [
         "TS-21340",
         "Toby Swindell",
         2015,
         "92.71"
        ],
        [
         "BD-11605",
         "Brian Dahlen",
         2015,
         "79.41"
        ],
        [
         "KT-16465",
         "Kean Takahito",
         2014,
         "68.80"
        ],
        [
         "JD-16150",
         "Justin Deggeller",
         2017,
         "1116.34"
        ],
        [
         "BB-10990",
         "Barry Blumstein",
         2016,
         "12.87"
        ],
        [
         "MG-18145",
         "Mike Gockenbach",
         2015,
         "-137.49"
        ],
        [
         "JM-15865",
         "John Murray",
         2016,
         "-49.62"
        ],
        [
         "EH-13765",
         "Edward Hooks",
         2015,
         "224.83"
        ],
        [
         "JL-15835",
         "John Lee",
         2017,
         "837.23"
        ],
        [
         "SW-20245",
         "Scot Wooten",
         2017,
         "-64.07"
        ],
        [
         "JP-16135",
         "Julie Prescott",
         2015,
         "7.43"
        ],
        [
         "SF-20965",
         "Sylvia Foulston",
         2014,
         "12.27"
        ],
        [
         "JF-15490",
         "Jeremy Farry",
         2015,
         "-103.54"
        ],
        [
         "SF-20065",
         "Sandra Flanagan",
         2017,
         "110.13"
        ],
        [
         "NB-18655",
         "Nona Balk",
         2015,
         "127.06"
        ],
        [
         "FM-14380",
         "Fred McMath",
         2015,
         "17.48"
        ],
        [
         "JJ-15760",
         "Joel Jenkins",
         2015,
         "34.46"
        ],
        [
         "AB-10060",
         "Adam Bellavance",
         2017,
         "477.84"
        ],
        [
         "CS-12400",
         "Christopher Schild",
         2015,
         "75.70"
        ],
        [
         "IL-15100",
         "Ivan Liston",
         2014,
         "6.91"
        ],
        [
         "SC-20680",
         "Steve Carroll",
         2017,
         "15.12"
        ],
        [
         "TP-21565",
         "Tracy P oddar",
         2015,
         "34.74"
        ],
        [
         "RW-19630",
         "Rob Williams",
         2014,
         "30.78"
        ],
        [
         "MF-18250",
         "Monica Federle",
         2014,
         "16.89"
        ],
        [
         "CY-12745",
         "Craig Yedwab",
         2015,
         "107.00"
        ],
        [
         "RM-19375",
         "Raymond Messe",
         2016,
         "162.05"
        ],
        [
         "RB-19795",
         "Ross Baird",
         2016,
         "51.79"
        ],
        [
         "BC-11125",
         "Becky Castell",
         2017,
         "58.80"
        ],
        [
         "IG-15085",
         "Ivan Gibson",
         2014,
         "28.35"
        ],
        [
         "ZC-21910",
         "Zuschuss Carroll",
         2015,
         "307.48"
        ],
        [
         "ML-18265",
         "Muhammed Lee",
         2015,
         "1.16"
        ],
        [
         "RP-19390",
         "Resi Plking",
         2015,
         "19.71"
        ],
        [
         "KN-16705",
         "Kristina Nunn",
         2017,
         "301.88"
        ],
        [
         "LF-17185",
         "Luke Foster",
         2016,
         "0.72"
        ],
        [
         "CG-12040",
         "Catherine Glotzbach",
         2017,
         "21.87"
        ],
        [
         "LR-17035",
         "Lisa Ryan",
         2014,
         "48.13"
        ],
        [
         "EB-14170",
         "Evan Bailliet",
         2015,
         "119.43"
        ],
        [
         "CM-12160",
         "Charles McCrossin",
         2016,
         "-315.75"
        ],
        [
         "EA-14035",
         "Erin Ashbrook",
         2014,
         "-53.44"
        ],
        [
         "KT-16480",
         "Kean Thornton",
         2016,
         "19.61"
        ],
        [
         "ME-18010",
         "Michelle Ellison",
         2017,
         "-6.40"
        ],
        [
         "VP-21760",
         "Victoria Pisteka",
         2015,
         "-204.15"
        ],
        [
         "MW-18235",
         "Mitch Willingham",
         2014,
         "1449.52"
        ],
        [
         "HZ-14950",
         "Henia Zydlo",
         2017,
         "-136.68"
        ],
        [
         "SB-20290",
         "Sean Braxton",
         2016,
         "16.89"
        ],
        [
         "LC-17050",
         "Liz Carlisle",
         2017,
         "-10.40"
        ],
        [
         "NM-18520",
         "Neoma Murray",
         2016,
         "812.79"
        ],
        [
         "AS-10045",
         "Aaron Smayling",
         2017,
         "-377.96"
        ],
        [
         "HA-14905",
         "Helen Abelman",
         2014,
         "108.80"
        ],
        [
         "RD-19480",
         "Rick Duston",
         2015,
         "25.41"
        ],
        [
         "LR-17035",
         "Lisa Ryan",
         2015,
         "-142.91"
        ],
        [
         "BT-11530",
         "Bradley Talbott",
         2017,
         "347.10"
        ],
        [
         "SP-20860",
         "Sung Pak",
         2014,
         "1.19"
        ],
        [
         "GM-14455",
         "Gary Mitchum",
         2014,
         "316.15"
        ],
        [
         "CM-11815",
         "Candace McMahon",
         2014,
         "25.23"
        ],
        [
         "SC-20725",
         "Steven Cartwright",
         2014,
         "114.84"
        ],
        [
         "MW-18220",
         "Mitch Webber",
         2014,
         "1204.43"
        ],
        [
         "TT-21070",
         "Ted Trevino",
         2016,
         "2.69"
        ],
        [
         "SG-20890",
         "Susan Gilcrest",
         2017,
         "-13.27"
        ],
        [
         "DP-13000",
         "Darren Powers",
         2014,
         "24.24"
        ],
        [
         "JG-15160",
         "James Galang",
         2017,
         "69.85"
        ],
        [
         "SU-20665",
         "Stephanie Ulpright",
         2016,
         "64.19"
        ],
        [
         "AM-10705",
         "Anne McFarland",
         2017,
         "392.01"
        ],
        [
         "AB-10150",
         "Aimee Bixby",
         2016,
         "5.44"
        ],
        [
         "SL-20155",
         "Sara Luxemburg",
         2017,
         "437.91"
        ],
        [
         "SB-20170",
         "Sarah Bern",
         2014,
         "-33.39"
        ],
        [
         "KD-16615",
         "NA",
         2017,
         "198.92"
        ],
        [
         "JH-15985",
         "Joseph Holt",
         2016,
         "72.03"
        ],
        [
         "MH-17290",
         "Marc Harrigan",
         2016,
         "57.21"
        ],
        [
         "CL-11890",
         "Carl Ludwig",
         2016,
         "4.35"
        ],
        [
         "DV-13465",
         "Dianna Vittorini",
         2017,
         "151.65"
        ],
        [
         "MC-17425",
         "Mark Cousins",
         2015,
         "57.20"
        ],
        [
         "RD-19810",
         "Ross DeVincentis",
         2016,
         "115.76"
        ],
        [
         "MG-17680",
         "Maureen Gastineau",
         2014,
         "12.91"
        ],
        [
         "NG-18430",
         "Nathan Gelder",
         2017,
         "28.28"
        ],
        [
         "RS-19420",
         "Ricardo Sperren",
         2016,
         "14.42"
        ],
        [
         "SC-20305",
         "Sean Christensen",
         2016,
         "37.46"
        ],
        [
         "PH-18790",
         "Patricia Hirasaki",
         2017,
         "47.89"
        ],
        [
         "MH-17290",
         "Marc Harrigan",
         2014,
         "12.21"
        ],
        [
         "SB-20185",
         "Sarah Brown",
         2015,
         "939.16"
        ],
        [
         "Co-12640",
         "CoreyLock",
         2014,
         "142.68"
        ],
        [
         "JP-15520",
         "Jeremy Pistek",
         2017,
         "422.26"
        ],
        [
         "GD-14590",
         "Giulietta Dortch",
         2017,
         "364.24"
        ],
        [
         "RM-19675",
         "Robert Marley",
         2015,
         "660.52"
        ],
        [
         "DP-13000",
         "Darren Powers",
         2016,
         "4.88"
        ],
        [
         "KT-16465",
         "Kean Takahito",
         2016,
         "156.14"
        ],
        [
         "BE-11455",
         "Brad Eason",
         2015,
         "120.21"
        ],
        [
         "SC-20575",
         "Sonia Cooley",
         2015,
         "-2.43"
        ],
        [
         "CA-12265",
         "Christina Anderson",
         2016,
         "24.60"
        ],
        [
         "BS-11665",
         "Brian Stugart",
         2014,
         "1.08"
        ],
        [
         "PJ-18835",
         "Patrick Jones",
         2015,
         "382.38"
        ],
        [
         "DM-12955",
         "Dario Medina",
         2016,
         "0.26"
        ],
        [
         "BS-11755",
         "Bruce Stewart",
         2015,
         "18.45"
        ],
        [
         "BW-11200",
         "Ben Wallace",
         2017,
         "-14.11"
        ],
        [
         "MC-18100",
         "Mick Crebagga",
         2017,
         "26.70"
        ],
        [
         "AG-10900",
         "Arthur Gainer",
         2015,
         "18.82"
        ],
        [
         "AG-10525",
         "Andy Gerbode",
         2014,
         "-93.53"
        ],
        [
         "BF-11215",
         "Benjamin Farhat",
         2014,
         "21.48"
        ],
        [
         "LC-16960",
         "Lindsay Castell",
         2016,
         "21.27"
        ],
        [
         "RH-19600",
         "Rob Haberlin",
         2016,
         "7.25"
        ],
        [
         "BS-11590",
         "Brendan Sweed",
         2014,
         "97.46"
        ],
        [
         "RH-19600",
         "Rob Haberlin",
         2015,
         "165.38"
        ],
        [
         "VD-21670",
         "Valerie Dominguez",
         2014,
         "576.56"
        ],
        [
         "AM-10360",
         "Alice McCarthy",
         2016,
         "9.98"
        ],
        [
         "DB-12910",
         "Daniel Byrd",
         2017,
         "280.92"
        ],
        [
         "RD-19480",
         "Rick Duston",
         2017,
         "276.27"
        ],
        [
         "SV-20365",
         "Seth Vernon",
         2017,
         "1570.94"
        ],
        [
         "CW-11905",
         "Carl Weiss",
         2015,
         "21.11"
        ],
        [
         "BN-11470",
         "Brad Norvell",
         2014,
         "24.68"
        ],
        [
         "RP-19390",
         "Resi Plking",
         2017,
         "28.30"
        ],
        [
         "NP-18325",
         "NA",
         2014,
         "314.40"
        ],
        [
         "ML-17410",
         "Maris LaWare",
         2016,
         "15.00"
        ],
        [
         "DM-13525",
         "Don Miller",
         2016,
         "18.17"
        ],
        [
         "AG-10765",
         "Anthony Garverick",
         2017,
         "-66.01"
        ],
        [
         "SR-20740",
         "Steven Roelle",
         2016,
         "181.53"
        ],
        [
         "SC-20380",
         "ShahiCollister",
         2017,
         "270.29"
        ],
        [
         "CP-12340",
         "Christine Phan",
         2014,
         "-1031.67"
        ],
        [
         "EB-14110",
         "Eugene Barchas",
         2016,
         "187.62"
        ],
        [
         "FW-14395",
         "Fred Waerman",
         2016,
         "12.21"
        ],
        [
         "GB-14530",
         "Ge orge Bell",
         2016,
         "-77.54"
        ],
        [
         "IM-15055",
         "Ionia McGrath",
         2016,
         "956.54"
        ],
        [
         "RS-19420",
         "Ricardo Sperren",
         2014,
         "318.93"
        ],
        [
         "FC-14335",
         "Fred Chung",
         2017,
         "502.97"
        ],
        [
         "NG-18430",
         "Nathan Gelder",
         2014,
         "134.82"
        ],
        [
         "DC-13285",
         "Debra Catini",
         2016,
         "10.47"
        ],
        [
         "PC-19000",
         "Pauline Chand",
         2014,
         "-11.83"
        ],
        [
         "CB-12025",
         "Cassandra Brandow",
         2016,
         "161.25"
        ],
        [
         "NP-18700",
         "Nora Preis",
         2014,
         "285.95"
        ],
        [
         "SH-20395",
         "ShahiHopkins",
         2014,
         "-252.19"
        ],
        [
         "JS-15940",
         "Joni Sundaresam",
         2016,
         "-18.74"
        ],
        [
         "BK-11260",
         "Berenike Kampe",
         2015,
         "42.04"
        ],
        [
         "MY-18295",
         "Muhammed YeDwab",
         2016,
         "-290.17"
        ],
        [
         "DP-13105",
         "Dave Poirier",
         2015,
         "16.29"
        ],
        [
         "DK-13150",
         "David K lendrick",
         2014,
         "78.50"
        ],
        [
         "SM-20950",
         "Suzanne McNair",
         2016,
         "43.00"
        ],
        [
         "JA-15970",
         "Joseph Airdo",
         2017,
         "-1031.00"
        ],
        [
         "PB-19105",
         "Peter Bhler",
         2016,
         "0.90"
        ],
        [
         "MO-17950",
         "Michael Oakman",
         2017,
         "-2.70"
        ],
        [
         "TW-21025",
         "Tamara Willingham",
         2017,
         "-6.06"
        ],
        [
         "NP-18685",
         "Nora Pelletier",
         2015,
         "449.44"
        ],
        [
         "MO-17950",
         "Michael Oakman",
         2015,
         "-79.31"
        ],
        [
         "HR-14770",
         "Hallie Redmond",
         2014,
         "1.60"
        ],
        [
         "RB-19705",
         "Roger Barcio",
         2015,
         "-82.78"
        ],
        [
         "BD-11620",
         "Brian DeCherney",
         2017,
         "78.10"
        ],
        [
         "EM-14095",
         "Eudokia Martin",
         2017,
         "16.93"
        ],
        [
         "SC-20770",
         "Stewart Carmichael",
         2016,
         "-734.27"
        ],
        [
         "MF-18250",
         "Monica Federle",
         2017,
         "287.24"
        ],
        [
         "AR-10345",
         "Alex Russell",
         2017,
         "23.96"
        ],
        [
         "MA-17560",
         "Matt Abelman",
         2014,
         "562.98"
        ],
        [
         "GZ-14470",
         "Gary Zandusky",
         2017,
         "259.10"
        ],
        [
         "SS-20410",
         "ShahiShariari",
         2014,
         "-565.75"
        ],
        [
         "AH-10195",
         "Alan Haines",
         2017,
         "-16.58"
        ],
        [
         "CD-11980",
         "Carol Darley",
         2016,
         "7.75"
        ],
        [
         "JF-15190",
         "Jamie Frazer",
         2016,
         "173.31"
        ],
        [
         "BK-11260",
         "Berenike Kampe",
         2014,
         "-129.02"
        ],
        [
         "ZC-21910",
         "Zuschuss Carroll",
         2017,
         "62.34"
        ],
        [
         "BP-11230",
         "Benjamin Patterson",
         2016,
         "10.21"
        ],
        [
         "PA-19060",
         "Pete Armstrong",
         2015,
         "121.57"
        ],
        [
         "AG-10900",
         "Arthur Gainer",
         2016,
         "252.36"
        ],
        [
         "DJ-13510",
         "Don Jones",
         2014,
         "187.74"
        ],
        [
         "CM-12385",
         "Christopher Martinez",
         2015,
         "3197.78"
        ],
        [
         "DB-13060",
         "Dave Brooks",
         2016,
         "294.18"
        ],
        [
         "RW-19630",
         "Rob Williams",
         2016,
         "346.37"
        ],
        [
         "KA-16525",
         "Kelly Andreada",
         2016,
         "67.44"
        ],
        [
         "BW-11065",
         "Barry Weirich",
         2017,
         "-77.13"
        ],
        [
         "KB-16315",
         "Karl Braun",
         2014,
         "-29.74"
        ],
        [
         "PG-18820",
         "Patrick Gardner",
         2015,
         "-564.68"
        ],
        [
         "MH-17785",
         "Maya Herman",
         2014,
         "133.96"
        ],
        [
         "SS-20410",
         "ShahiShariari",
         2017,
         "58.91"
        ],
        [
         "NR-18550",
         "Nick Radford",
         2017,
         "48.07"
        ],
        [
         "CK-12760",
         "Cyma Kinney",
         2015,
         "14.50"
        ],
        [
         "EB-13750",
         "Edward Becker",
         2016,
         "139.81"
        ],
        [
         "BO-11350",
         "Bil Overfelt",
         2016,
         "358.03"
        ],
        [
         "JD-16060",
         "Julia Dunbar",
         2014,
         "8.48"
        ],
        [
         "KF-16285",
         "Karen Ferguson",
         2014,
         "82.52"
        ],
        [
         "JS-16030",
         "Joy Smith",
         2014,
         "3.40"
        ],
        [
         "RF-19735",
         "Roland Fjeld",
         2017,
         "391.47"
        ],
        [
         "GW-14605",
         "Giulietta Weimer",
         2014,
         "3.63"
        ],
        [
         "MZ-17515",
         "Mary Zewe",
         2016,
         "-25.24"
        ],
        [
         "SC-20800",
         "Stuart Calhoun",
         2017,
         "2.58"
        ],
        [
         "SE-20110",
         "Sanjit Engle",
         2016,
         "2673.77"
        ],
        [
         "MG-18205",
         "Mitch Gastineau",
         2017,
         "-1.24"
        ],
        [
         "RP-19855",
         "Roy Phan",
         2016,
         "143.06"
        ],
        [
         "RA-19945",
         "Ryan Akin",
         2015,
         "96.54"
        ],
        [
         "SV-20785",
         "Stewart Visinsky",
         2017,
         "9.29"
        ],
        [
         "BC-11125",
         "Becky Castell",
         2015,
         "92.00"
        ],
        [
         "MH-17290",
         "Marc Harrigan",
         2015,
         "2.18"
        ],
        [
         "PA-19060",
         "Pete Armstrong",
         2016,
         "22.56"
        ],
        [
         "RA-19915",
         "Russell Applegate",
         2015,
         "-118.15"
        ],
        [
         "DM-13015",
         "Darrin Martin",
         2014,
         "1600.06"
        ],
        [
         "LC-16930",
         "Linda Cazamias",
         2016,
         "246.91"
        ],
        [
         "PT-19090",
         "Pete Takahito",
         2016,
         "-17.52"
        ],
        [
         "PF-19165",
         "Philip Fox",
         2015,
         "75.23"
        ],
        [
         "SC-20095",
         "Sanjit Chand",
         2016,
         "196.19"
        ],
        [
         "DL-13330",
         "Denise Leinenbach",
         2014,
         "2.10"
        ],
        [
         "MV-17485",
         "Mark Van Huff",
         2016,
         "106.42"
        ],
        [
         "FA-14230",
         "Frank Atkinson",
         2016,
         "39.81"
        ],
        [
         "RM-19675",
         "Robert Marley",
         2014,
         "200.12"
        ],
        [
         "NF-18595",
         "Nicole Fjeld",
         2015,
         "258.10"
        ],
        [
         "BW-11110",
         "Bart Watters",
         2015,
         "103.49"
        ],
        [
         "DB-13270",
         "Deborah Brumfield",
         2014,
         "45.10"
        ],
        [
         "JE-15745",
         "Joel Eaton",
         2016,
         "126.62"
        ],
        [
         "SH-19975",
         "NA",
         2015,
         "51.87"
        ],
        [
         "JM-15535",
         "Jessica Myrick",
         2015,
         "46.85"
        ],
        [
         "SA-20830",
         "Sue Ann Reed",
         2016,
         "-17.11"
        ],
        [
         "BD-11725",
         "Bruce Degenhardt",
         2016,
         "18.00"
        ],
        [
         "CC-12220",
         "Chris Cortes",
         2014,
         "12.41"
        ],
        [
         "BD-11770",
         "Bryan Davis",
         2017,
         "30.58"
        ],
        [
         "MG-17890",
         "Michael Granlund",
         2017,
         "37.99"
        ],
        [
         "AM-10705",
         "Anne McFarland",
         2014,
         "472.09"
        ],
        [
         "DB-13120",
         "David Bremer",
         2015,
         "-285.06"
        ],
        [
         "CK-12205",
         "Chloris Kastensmidt",
         2016,
         "-128.01"
        ],
        [
         "AH-10030",
         "Aaron Hawkins",
         2014,
         "188.28"
        ],
        [
         "MP-17965",
         "Michael Paige",
         2016,
         "265.54"
        ],
        [
         "MC-18100",
         "Mick Crebagga",
         2014,
         "-18.73"
        ],
        [
         "CS-12355",
         "Christine Sundaresam",
         2017,
         "456.48"
        ],
        [
         "JH-15985",
         "Joseph Holt",
         2017,
         "68.87"
        ],
        [
         "CK-12595",
         "Clytie Kelty",
         2016,
         "315.73"
        ],
        [
         "SW-20275",
         "Scott Williamson",
         2017,
         "100.28"
        ],
        [
         "LC-17050",
         "Liz Carlisle",
         2016,
         "225.26"
        ],
        [
         "SM-20950",
         "Suzanne McNair",
         2017,
         "442.28"
        ],
        [
         "PC-19000",
         "Pauline Chand",
         2015,
         "-172.51"
        ],
        [
         "CC-12475",
         "Cindy Chapman",
         2016,
         "111.12"
        ],
        [
         "DK-12985",
         "Darren Koutras",
         2015,
         "-76.43"
        ],
        [
         "PS-19045",
         "Penelope Sewall",
         2017,
         "1060.32"
        ],
        [
         "PW-19030",
         "Pauline Webber",
         2014,
         "17.47"
        ],
        [
         "SG-20080",
         "Sandra Glassco",
         2017,
         "218.25"
        ],
        [
         "GT-14755",
         "Guy Thornton",
         2015,
         "27.20"
        ],
        [
         "AZ-10750",
         "Annie Zypern",
         2014,
         "72.86"
        ],
        [
         "GZ-14470",
         "Gary Zandusky",
         2014,
         "50.43"
        ],
        [
         "RR-19315",
         "Ralph Ritter",
         2016,
         "3.47"
        ],
        [
         "PB-19150",
         "Philip Brown",
         2016,
         "38.38"
        ],
        [
         "JM-15535",
         "Jessica Myrick",
         2016,
         "232.13"
        ],
        [
         "LC-16885",
         "Lena Creighton",
         2016,
         "147.88"
        ],
        [
         "MG-17890",
         "Michael Granlund",
         2016,
         "25.93"
        ],
        [
         "KH-16630",
         "Ken Heidel",
         2017,
         "66.93"
        ],
        [
         "CK-12205",
         "Chloris Kastensmidt",
         2017,
         "181.08"
        ],
        [
         "YS-21880",
         "Yana Sorensen",
         2015,
         "254.18"
        ],
        [
         "ON-18715",
         "Odella Nelson",
         2014,
         "183.11"
        ],
        [
         "SM-20950",
         "Suzanne McNair",
         2014,
         "-372.11"
        ],
        [
         "KN-16705",
         "Kristina Nunn",
         2014,
         "186.00"
        ],
        [
         "DB-13270",
         "Deborah Brumfield",
         2015,
         "1.72"
        ],
        [
         "PP-18955",
         "Paul Prost",
         2015,
         "67.56"
        ],
        [
         "AG-10300",
         "Aleksandra Gannaway",
         2017,
         "1.67"
        ],
        [
         "ML-18265",
         "Muhammed Lee",
         2017,
         "41.51"
        ],
        [
         "RB-19795",
         "Ross Baird",
         2015,
         "-18.46"
        ],
        [
         "BP-11155",
         "Becky Pak",
         2015,
         "431.98"
        ],
        [
         "BS-11590",
         "Brendan Sweed",
         2016,
         "12.36"
        ],
        [
         "AY-10555",
         "Andy Yotov",
         2016,
         "6.70"
        ],
        [
         "SH-19975",
         "NA",
         2016,
         "317.46"
        ],
        [
         "AH-10465",
         "Amy Hunt",
         2017,
         "147.87"
        ],
        [
         "RP-19390",
         "Resi Plking",
         2014,
         "262.81"
        ],
        [
         "GB-14575",
         "Giulietta Baptist",
         2016,
         "73.22"
        ],
        [
         "PO-18865",
         "Patrick ODonnell",
         2016,
         "67.60"
        ],
        [
         "CK-12760",
         "Cyma Kinney",
         2014,
         "66.59"
        ],
        [
         "MC-17275",
         "Marc Crier",
         2016,
         "20.91"
        ],
        [
         "MS-17830",
         "Melanie Seite",
         2015,
         "32.45"
        ],
        [
         "NW-18400",
         "Natalie Webber",
         2017,
         "11.82"
        ],
        [
         "JP-15460",
         "Jennifer Patt",
         2014,
         "10.81"
        ],
        [
         "WB-21850",
         "William Brown",
         2016,
         "293.65"
        ],
        [
         "AI-10855",
         "Arianne Irving",
         2017,
         "77.28"
        ],
        [
         "JO-15145",
         "Jack OBriant",
         2014,
         "101.03"
        ],
        [
         "DB-13615",
         "Doug Bickford",
         2017,
         "60.50"
        ],
        [
         "DL-12925",
         "Daniel Lacy",
         2014,
         "-324.87"
        ],
        [
         "CS-12460",
         "Chuck Sachs",
         2017,
         "156.27"
        ],
        [
         "SU-20665",
         "Stephanie Ulpright",
         2015,
         "76.40"
        ],
        [
         "AH-10465",
         "Amy Hunt",
         2015,
         "-342.08"
        ],
        [
         "TB-21625",
         "Trudy Brown",
         2014,
         "83.99"
        ],
        [
         "RS-19420",
         "Ricardo Sperren",
         2017,
         "300.10"
        ],
        [
         "FP-14320",
         "Frank Preis",
         2017,
         "49.32"
        ],
        [
         "AH-10585",
         "Angele Hood",
         2017,
         "28.92"
        ],
        [
         "AA-10315",
         "Alex Avila",
         2014,
         "280.68"
        ],
        [
         "QJ-19255",
         "Quincy Jones",
         2016,
         "168.88"
        ],
        [
         "JA-15970",
         "Joseph Airdo",
         2016,
         "114.19"
        ],
        [
         "KM-16225",
         "Kalyca Meade",
         2016,
         "56.34"
        ],
        [
         "LS-17230",
         "Lycoris Saunders",
         2015,
         "55.24"
        ],
        [
         "CA-11965",
         "Carol Adams",
         2017,
         "16.48"
        ],
        [
         "JL-15235",
         "Janet Lee",
         2014,
         "-190.51"
        ],
        [
         "MS-17530",
         "MaryBeth Skach",
         2015,
         "45.29"
        ],
        [
         "SA-20830",
         "Sue Ann Reed",
         2014,
         "351.32"
        ],
        [
         "KH-16360",
         "Katherine Hughes",
         2016,
         "57.83"
        ],
        [
         "BF-11005",
         "Barry Franz",
         2014,
         "2.37"
        ],
        [
         "CR-12580",
         "Clay Rozendal",
         2017,
         "108.80"
        ],
        [
         "RD-19480",
         "Rick Duston",
         2014,
         "109.52"
        ],
        [
         "FM-14290",
         "Frank Merwin",
         2015,
         "1.03"
        ],
        [
         "SE-20110",
         "Sanjit Engle",
         2014,
         "54.41"
        ],
        [
         "DM-13015",
         "Darrin Martin",
         2017,
         "106.77"
        ],
        [
         "GT-14710",
         "Greg Tran",
         2014,
         "738.65"
        ],
        [
         "SW-20245",
         "Scot Wooten",
         2016,
         "82.53"
        ],
        [
         "SJ-20500",
         "Shirley Jackson",
         2014,
         "57.93"
        ],
        [
         "PB-19210",
         "Phillip Breyer",
         2016,
         "0.70"
        ],
        [
         "RD-19660",
         "Robert Dilbeck",
         2015,
         "-73.41"
        ],
        [
         "JL-15235",
         "Janet Lee",
         2016,
         "103.36"
        ],
        [
         "TG-21640",
         "Trudy Glocke",
         2015,
         "191.28"
        ],
        [
         "AB-10600",
         "Ann Blume",
         2017,
         "-256.46"
        ],
        [
         "PW-19030",
         "Pauline Webber",
         2017,
         "333.80"
        ],
        [
         "SL-20155",
         "Sara Luxemburg",
         2015,
         "64.77"
        ],
        [
         "TG-21310",
         "Toby Gnade",
         2016,
         "844.64"
        ],
        [
         "JM-16195",
         "Justin MacKendrick",
         2016,
         "23.86"
        ],
        [
         "MG-17875",
         "Michael Grace",
         2017,
         "-29.44"
        ],
        [
         "LC-16960",
         "Lindsay Castell",
         2015,
         "278.20"
        ],
        [
         "MD-17350",
         "Maribeth Dona",
         2015,
         "51.66"
        ],
        [
         "TN-21040",
         "Tanja Norvell",
         2015,
         "167.98"
        ],
        [
         "CS-12505",
         "Cindy Stewart",
         2017,
         "43.71"
        ],
        [
         "TR-21325",
         "Toby Ritter",
         2014,
         "28.52"
        ],
        [
         "JL-15505",
         "Jeremy Lonsdale",
         2017,
         "529.02"
        ],
        [
         "CL-11890",
         "Carl Ludwig",
         2017,
         "353.07"
        ],
        [
         "CA-11965",
         "Carol Adams",
         2015,
         "182.16"
        ],
        [
         "AB-10060",
         "Adam Bellavance",
         2015,
         "8.71"
        ],
        [
         "SA-20830",
         "Sue Ann Reed",
         2015,
         "98.08"
        ],
        [
         "NL-18310",
         "Nancy Lomonaco",
         2015,
         "34.59"
        ],
        [
         "CY-12745",
         "Craig Yedwab",
         2017,
         "240.54"
        ],
        [
         "MA-17560",
         "Matt Abelman",
         2017,
         "30.13"
        ],
        [
         "MO-17500",
         "Mary ORourke",
         2016,
         "120.86"
        ],
        [
         "MH-17440",
         "Mark Haberlin",
         2016,
         "12.58"
        ],
        [
         "RF-19840",
         "Roy Franzsisch",
         2015,
         "0.06"
        ],
        [
         "LH-17155",
         "Logan Haushalter",
         2015,
         "94.85"
        ],
        [
         "JK-15625",
         "Jim Karlsson",
         2017,
         "8.86"
        ],
        [
         "CJ-11875",
         "Carl Jackson",
         2016,
         "1.65"
        ],
        [
         "KB-16315",
         "Karl Braun",
         2015,
         "-18.21"
        ],
        [
         "RF-19345",
         "Randy Ferguson",
         2014,
         "92.94"
        ],
        [
         "MK-17905",
         "Michael Kennedy",
         2017,
         "7.01"
        ],
        [
         "JM-15535",
         "Jessica Myrick",
         2017,
         "18.56"
        ],
        [
         "LS-16975",
         "Lindsay Shagiari",
         2017,
         "229.37"
        ],
        [
         "TM-21010",
         "Tamara Manning",
         2017,
         "205.84"
        ],
        [
         "BT-11680",
         "Brian Thompson",
         2016,
         "176.51"
        ],
        [
         "MZ-17515",
         "Mary Zewe",
         2014,
         "786.80"
        ],
        [
         "RF-19735",
         "Roland Fjeld",
         2015,
         "187.10"
        ],
        [
         "KD-16615",
         "NA",
         2015,
         "272.58"
        ],
        [
         "HR-14830",
         "Harold Ryan",
         2017,
         "1000.69"
        ],
        [
         "DP-13390",
         "Dennis Pardue",
         2015,
         "-223.85"
        ],
        [
         "HP-14815",
         "Harold Pawlan",
         2014,
         "101.69"
        ],
        [
         "KM-16375",
         "Katherine Murray",
         2015,
         "29.31"
        ],
        [
         "TN-21040",
         "Tanja Norvell",
         2016,
         "-903.28"
        ],
        [
         "SH-19975",
         "NA",
         2014,
         "54.47"
        ],
        [
         "SC-20380",
         "ShahiCollister",
         2014,
         "-3462.20"
        ],
        [
         "RB-19570",
         "Rob Beeghly",
         2017,
         "82.88"
        ],
        [
         "DV-13465",
         "Dianna Vittorini",
         2015,
         "101.77"
        ],
        [
         "GT-14710",
         "Greg Tran",
         2017,
         "83.62"
        ],
        [
         "SN-20710",
         "Steve Nguyen",
         2014,
         "32.94"
        ],
        [
         "KN-16450",
         "Kean Nguyen",
         2017,
         "112.42"
        ],
        [
         "JF-15565",
         "Jill Fjeld",
         2014,
         "78.55"
        ],
        [
         "MC-17845",
         "Michael Chen",
         2014,
         "395.76"
        ],
        [
         "CA-12775",
         "Cynthia Arntzen",
         2014,
         "111.79"
        ],
        [
         "DL-13495",
         "Dionis Lloyd",
         2016,
         "97.84"
        ],
        [
         "XP-21865",
         "Xylona Preis",
         2016,
         "314.09"
        ],
        [
         "AA-10645",
         "Anna Andreadi",
         2016,
         "334.63"
        ],
        [
         "PS-18760",
         "Pamela Stobb",
         2016,
         "133.30"
        ],
        [
         "SC-20680",
         "Steve Carroll",
         2014,
         "31.53"
        ],
        [
         "DV-13045",
         "Darrin Van Huff",
         2016,
         "17.48"
        ],
        [
         "DL-13330",
         "Denise Leinenbach",
         2016,
         "5.22"
        ],
        [
         "EM-14095",
         "Eudokia Martin",
         2016,
         "30.63"
        ],
        [
         "AB-10255",
         "Alejandro Ballentine",
         2015,
         "34.34"
        ],
        [
         "BB-10990",
         "Barry Blumstein",
         2014,
         "0.00"
        ],
        [
         "JE-15715",
         "Joe Elijah",
         2017,
         "60.42"
        ],
        [
         "AA-10645",
         "Anna Andreadi",
         2015,
         "439.31"
        ],
        [
         "BF-11170",
         "Ben Ferrer",
         2015,
         "137.03"
        ],
        [
         "CM-12655",
         "Corinna Mitchell",
         2016,
         "599.89"
        ],
        [
         "LT-16765",
         "Larry Tron",
         2015,
         "20.16"
        ],
        [
         "FW-14395",
         "Fred Waerman",
         2017,
         "5.81"
        ],
        [
         "AA-10375",
         "Allen Armold",
         2016,
         "122.73"
        ],
        [
         "SG-20470",
         "Sheri Gordon",
         2014,
         "150.92"
        ],
        [
         "ST-20530",
         "Shui Tom",
         2014,
         "45.32"
        ],
        [
         "RL-19615",
         "Rob Lucas",
         2015,
         "110.11"
        ],
        [
         "MY-18295",
         "Muhammed YeDwab",
         2017,
         "21.59"
        ],
        [
         "NF-18385",
         "Natalie Fritzler",
         2015,
         "-1980.38"
        ],
        [
         "AC-10615",
         "Ann Chong",
         2015,
         "-32.30"
        ],
        [
         "PG-18820",
         "Patrick Gardner",
         2014,
         "54.45"
        ],
        [
         "BT-11395",
         "Bil Tyler",
         2015,
         "194.73"
        ],
        [
         "MC-17635",
         "Matthew Clasen",
         2016,
         "27.42"
        ],
        [
         "DJ-13630",
         "Doug Jacobs",
         2015,
         "36.00"
        ],
        [
         "MM-18280",
         "Muhammed MacIntyre",
         2015,
         "68.20"
        ],
        [
         "NC-18415",
         "Nathan Cano",
         2017,
         "-2330.27"
        ],
        [
         "DK-13090",
         "Dave Kipp",
         2015,
         "173.71"
        ],
        [
         "PA-19060",
         "Pete Armstrong",
         2017,
         "35.89"
        ],
        [
         "DM-13525",
         "Don Miller",
         2014,
         "14.49"
        ],
        [
         "HF-14995",
         "Herbert Flentye",
         2017,
         "20.49"
        ],
        [
         "KC-16540",
         "Kelly Collister",
         2015,
         "49.27"
        ],
        [
         "FH-14275",
         "Frank Hawley",
         2017,
         "12936.86"
        ],
        [
         "VF-21715",
         "Vicky Freymann",
         2014,
         "-158.76"
        ],
        [
         "HW-14935",
         "Helen Waerman",
         2016,
         "200.27"
        ],
        [
         "LP-17095",
         "Liz Preis",
         2017,
         "259.09"
        ],
        [
         "BS-11365",
         "Bi l Shonely",
         2014,
         "210.70"
        ],
        [
         "SC-20230",
         "Scot Coram",
         2016,
         "435.65"
        ],
        [
         "GH-14425",
         "Gary Hwang",
         2015,
         "59.65"
        ],
        [
         "NC-18625",
         "Noah Childs",
         2017,
         "48.78"
        ],
        [
         "VD-21670",
         "Valerie Dominguez",
         2016,
         "50.19"
        ],
        [
         "CS-12175",
         "Charles Sheldon",
         2016,
         "18.35"
        ],
        [
         "AJ-10960",
         "Astrea Jones",
         2017,
         "2.77"
        ],
        [
         "AP-10915",
         "Arthur Prichep",
         2014,
         "420.70"
        ],
        [
         "ED-13885",
         "NA",
         2017,
         "-107.98"
        ],
        [
         "MW-18220",
         "Mitch Webber",
         2016,
         "0.50"
        ],
        [
         "JC-15775",
         "John Castell",
         2015,
         "27.63"
        ],
        [
         "TS-21655",
         "Trudy Schmidt",
         2016,
         "364.87"
        ],
        [
         "AB-10015",
         "Aaron Bergman",
         2016,
         "116.86"
        ],
        [
         "CK-12205",
         "Chloris Kastensmidt",
         2015,
         "5.53"
        ],
        [
         "BM-11785",
         "Bryan Mills",
         2016,
         "56.37"
        ],
        [
         "SW-20455",
         "Shaun Weien",
         2016,
         "125.20"
        ],
        [
         "VB-21745",
         "Victo ria Brennan",
         2016,
         "105.42"
        ],
        [
         "RH-19555",
         "Ritsa Hightower",
         2016,
         "6.34"
        ],
        [
         "DJ-13420",
         "Denny Joy",
         2014,
         "39.77"
        ],
        [
         "ML-17395",
         "Marina Lichtenstein",
         2016,
         "192.19"
        ],
        [
         "SP-20545",
         "Sibella Parks",
         2017,
         "81.96"
        ],
        [
         "SC-20800",
         "Stuart Calhoun",
         2015,
         "40.63"
        ],
        [
         "MK-18160",
         "Mike Kennedy",
         2016,
         "41.08"
        ],
        [
         "PV-18985",
         "PaulVan Hugh",
         2017,
         "283.49"
        ],
        [
         "ZD-21925",
         "Zuschuss Donatelli",
         2016,
         "206.67"
        ],
        [
         "TC-21475",
         "Tony Chapman",
         2015,
         "27.00"
        ],
        [
         "TB-21520",
         "Tracy Blumstein",
         2014,
         "-125.24"
        ],
        [
         "CC-12475",
         "Cindy Chapman",
         2014,
         "3.38"
        ],
        [
         "SS-20875",
         "Sung Shariari",
         2014,
         "-9.15"
        ],
        [
         "AM-10705",
         "Anne McFarland",
         2016,
         "90.26"
        ],
        [
         "NM-18445",
         "Nathan Mautz",
         2017,
         "4.35"
        ],
        [
         "SC-20575",
         "Sonia Cooley",
         2017,
         "70.27"
        ],
        [
         "VD-21670",
         "Valerie Dominguez",
         2015,
         "990.86"
        ],
        [
         "PA-19060",
         "Pete Armstrong",
         2014,
         "45.84"
        ],
        [
         "JE-15475",
         "Jeremy Ellison",
         2016,
         "185.63"
        ],
        [
         "MB-17305",
         "Maria Bertelson",
         2014,
         "-13.83"
        ],
        [
         "BG-11740",
         "Bruce Geld",
         2016,
         "59.30"
        ],
        [
         "RF-19345",
         "Randy Ferguson",
         2016,
         "438.73"
        ],
        [
         "EB-13840",
         "Ellis Ballard",
         2015,
         "610.86"
        ],
        [
         "LS-17245",
         "Lynn Smith",
         2015,
         "4.80"
        ],
        [
         "PS-19045",
         "Penelope Sewall",
         2016,
         "6.32"
        ],
        [
         "HF-14995",
         "Herbert Flentye",
         2014,
         "132.47"
        ],
        [
         "JS-15685",
         "Jim Sink",
         2017,
         "45.13"
        ],
        [
         "NS-18505",
         "Neola Schneider",
         2017,
         "-31.86"
        ],
        [
         "MF-18250",
         "Monica Federle",
         2015,
         "152.73"
        ],
        [
         "CK-12205",
         "Chloris Kastensmidt",
         2014,
         "82.99"
        ],
        [
         "GK-14620",
         "Grace Kelly",
         2015,
         "86.65"
        ],
        [
         "AY-10555",
         "Andy Yotov",
         2014,
         "65.60"
        ],
        [
         "AG-10330",
         "Alex Grayson",
         2016,
         "61.74"
        ],
        [
         "MG-18145",
         "Mike Gockenbach",
         2017,
         "196.72"
        ],
        [
         "LH-17020",
         "Lisa Hazard",
         2014,
         "-79.34"
        ],
        [
         "HG-14845",
         "Harry Greene",
         2015,
         "-2.01"
        ],
        [
         "MZ-17335",
         "Maria Zettner",
         2017,
         "15.51"
        ],
        [
         "KB-16315",
         "Karl Braun",
         2017,
         "69.64"
        ],
        [
         "TB-21250",
         "Tim Brockman",
         2016,
         "-40.36"
        ],
        [
         "BF-11170",
         "Ben Ferrer",
         2014,
         "666.39"
        ],
        [
         "CG-12040",
         "Catherine Glotzbach",
         2016,
         "58.68"
        ],
        [
         "NF-18385",
         "Natalie Fritzler",
         2017,
         "163.46"
        ],
        [
         "MZ-17515",
         "Mary Zewe",
         2015,
         "8.21"
        ],
        [
         "KN-16450",
         "Kean Nguyen",
         2014,
         "119.98"
        ],
        [
         "AH-10210",
         "Alan Hwang",
         2016,
         "5.57"
        ],
        [
         "MN-17935",
         "Michael Nguyen",
         2014,
         "31.17"
        ],
        [
         "EM-13960",
         "Eric Murdock",
         2017,
         "50.37"
        ],
        [
         "BS-11755",
         "Bruce Stewart",
         2014,
         "-330.55"
        ],
        [
         "EB-13930",
         "Eric Barreto",
         2016,
         "74.27"
        ],
        [
         "BD-11605",
         "Brian Dahlen",
         2017,
         "87.99"
        ],
        [
         "AO-10810",
         "Anthony ODonnell",
         2016,
         "12.10"
        ],
        [
         "ES-14080",
         "Erin Smith",
         2016,
         "-99.22"
        ],
        [
         "DP-13105",
         "Dave Poirier",
         2017,
         "60.54"
        ],
        [
         "PK-19075",
         "Pete Kriz",
         2016,
         "407.41"
        ],
        [
         "IL-15100",
         "Ivan Liston",
         2016,
         "19.56"
        ],
        [
         "BD-11500",
         "Bradley Drucker",
         2015,
         "70.98"
        ],
        [
         "SB-20185",
         "Sarah Brown",
         2017,
         "13.32"
        ],
        [
         "BM-11140",
         "Becky Martin",
         2016,
         "118.92"
        ],
        [
         "BP-11230",
         "Benjamin Patterson",
         2017,
         "20.58"
        ],
        [
         "EM-14140",
         "Eugene Moren",
         2015,
         "271.41"
        ],
        [
         "SC-20440",
         "Shaun Chance",
         2015,
         "375.28"
        ],
        [
         "SR-20740",
         "Steven Roelle",
         2015,
         "2.40"
        ],
        [
         "HZ-14950",
         "Henia Zydlo",
         2016,
         "6.29"
        ],
        [
         "TT-21070",
         "Ted Trevino",
         2014,
         "121.40"
        ],
        [
         "JK-16090",
         "Juliana Krohn",
         2015,
         "228.90"
        ],
        [
         "HM-14860",
         "Harry Marie",
         2016,
         "82.75"
        ],
        [
         "CC-12670",
         "Craig Carreira",
         2016,
         "53.66"
        ],
        [
         "TB-21190",
         "Thomas Brumley",
         2014,
         "161.97"
        ],
        [
         "LW-17125",
         "Liz Willingham",
         2014,
         "21.75"
        ],
        [
         "SS-20590",
         "Sonia Sunley",
         2015,
         "8.02"
        ],
        [
         "DE-13255",
         "NA",
         2014,
         "9.85"
        ],
        [
         "EA-14035",
         "Erin Ashbrook",
         2016,
         "-342.69"
        ],
        [
         "DL-13315",
         "Delfina Latchford",
         2014,
         "-11.89"
        ],
        [
         "GH-14665",
         "Greg Hansen",
         2017,
         "-8.88"
        ],
        [
         "SN-20710",
         "Steve Nguyen",
         2017,
         "-18.19"
        ],
        [
         "KW-16435",
         "Kat rina Willman",
         2017,
         "123.13"
        ],
        [
         "CC-12430",
         "Chuck Clark",
         2016,
         "255.32"
        ],
        [
         "GH-14410",
         "Gary Hansen",
         2014,
         "53.34"
        ],
        [
         "BH-11710",
         "Brosina Hoffman",
         2015,
         "5.84"
        ],
        [
         "SG-20890",
         "Susan Gilcrest",
         2016,
         "6.63"
        ],
        [
         "Dl-13600",
         "Dorris liebe",
         2016,
         "146.39"
        ],
        [
         "PB-19150",
         "Philip Brown",
         2015,
         "157.66"
        ],
        [
         "DR-12880",
         "Dan Reichenbach",
         2016,
         "126.06"
        ],
        [
         "JS-15595",
         "Ji Stevenson",
         2016,
         "78.40"
        ],
        [
         "CK-12325",
         "Christine Kargatis",
         2017,
         "-124.27"
        ],
        [
         "BF-11275",
         "Beth Fritzler",
         2017,
         "38.00"
        ],
        [
         "TB-21250",
         "Tim Brockman",
         2015,
         "318.53"
        ],
        [
         "DO-13435",
         "Denny Ordway",
         2017,
         "83.17"
        ],
        [
         "AS-10240",
         "Alan Shonely",
         2016,
         "23.18"
        ],
        [
         "Dp-13240",
         "Dean perceR",
         2015,
         "1145.83"
        ],
        [
         "JL-15835",
         "John Lee",
         2016,
         "2.80"
        ],
        [
         "JL-15130",
         "Jack Lebron",
         2017,
         "-218.57"
        ],
        [
         "VP-21760",
         "Victoria Pisteka",
         2014,
         "118.07"
        ],
        [
         "SW-20755",
         "Steven Ward",
         2016,
         "48.52"
        ],
        [
         "AF-10870",
         "Art Ferguson",
         2017,
         "-75.19"
        ],
        [
         "KL-16645",
         "Ken Lonsdale",
         2017,
         "161.72"
        ],
        [
         "AR-10510",
         "Andrew Roberts",
         2016,
         "18.89"
        ],
        [
         "EH-14185",
         "Evan Henry",
         2014,
         "26.43"
        ],
        [
         "CS-11950",
         "Carlos Soltero",
         2014,
         "-88.07"
        ],
        [
         "CA-12265",
         "Christina Anderson",
         2014,
         "16.97"
        ],
        [
         "Dl-13600",
         "Dorris liebe",
         2014,
         "29.17"
        ],
        [
         "TC-21475",
         "Tony Chapman",
         2014,
         "-16.47"
        ],
        [
         "BH-11710",
         "Brosina Hoffman",
         2017,
         "119.51"
        ],
        [
         "TA-21385",
         "Tom Ashbrook",
         2016,
         "-76.00"
        ],
        [
         "VS-21820",
         "Vivek Sundaresam",
         2016,
         "-7.81"
        ],
        [
         "SC-20725",
         "Steven Cartwright",
         2017,
         "483.77"
        ],
        [
         "MC-17275",
         "Marc Crier",
         2015,
         "197.66"
        ],
        [
         "BN-11515",
         "Bradley Nguyen",
         2016,
         "112.78"
        ],
        [
         "RH-19510",
         "Rick Huthwaite",
         2016,
         "1152.82"
        ],
        [
         "CH-12070",
         "Cathy Hwang",
         2015,
         "57.39"
        ],
        [
         "BM-11785",
         "Bryan Mills",
         2017,
         "6.92"
        ],
        [
         "LA-16780",
         "Laura Armstrong",
         2015,
         "-0.12"
        ],
        [
         "KB-16585",
         "Ken Black",
         2014,
         "175.16"
        ],
        [
         "RF-19345",
         "Randy Ferguson",
         2015,
         "102.01"
        ],
        [
         "AT-10435",
         "Alyssa Tate",
         2015,
         "-2.53"
        ],
        [
         "TH-21550",
         "Tracy Hopkins",
         2017,
         "-990.17"
        ],
        [
         "BC-11125",
         "Becky Castell",
         2014,
         "38.13"
        ],
        [
         "MP-17965",
         "Michael Paige",
         2015,
         "255.75"
        ],
        [
         "PJ-19015",
         "Pauline Johnson",
         2015,
         "40.07"
        ],
        [
         "MC-17605",
         "Matt Connell",
         2014,
         "49.37"
        ],
        [
         "EC-14050",
         "Erin Creighton",
         2016,
         "43.09"
        ],
        [
         "MM-17920",
         "Michael Moore",
         2015,
         "-373.30"
        ],
        [
         "AI-10855",
         "Arianne Irving",
         2015,
         "17.03"
        ],
        [
         "SB-20290",
         "Sean Braxton",
         2015,
         "79.76"
        ],
        [
         "AM-10705",
         "Anne McFarland",
         2015,
         "14.70"
        ],
        [
         "MT-17815",
         "Meg Tillman",
         2017,
         "74.98"
        ],
        [
         "AH-10690",
         "Anna Hberlin",
         2015,
         "106.62"
        ],
        [
         "TP-21415",
         "Tom Prescott",
         2016,
         "-91.11"
        ],
        [
         "KT-16480",
         "Kean Thornton",
         2017,
         "34.32"
        ],
        [
         "HH-15010",
         "Hilary Holden",
         2014,
         "60.27"
        ],
        [
         "KE-16420",
         "Kat rina Edelman",
         2017,
         "-18.38"
        ],
        [
         "KN-16705",
         "Kristina Nunn",
         2015,
         "-183.11"
        ],
        [
         "DH-13075",
         "Dave Hallsten",
         2014,
         "323.13"
        ],
        [
         "MG-17695",
         "Maureen Gnade",
         2015,
         "-392.86"
        ],
        [
         "AC-10450",
         "Amy Cox",
         2015,
         "24.98"
        ],
        [
         "TH-21235",
         "Tiffany House",
         2014,
         "-2.93"
        ],
        [
         "JE-15475",
         "Jeremy Ellison",
         2015,
         "57.22"
        ],
        [
         "AG-10675",
         "Anna Gayman",
         2015,
         "-25.99"
        ],
        [
         "PS-18760",
         "Pamela Stobb",
         2014,
         "11.88"
        ],
        [
         "BD-11320",
         "Bil Donatelli",
         2017,
         "197.79"
        ],
        [
         "JB-15400",
         "Jennifer Braxton",
         2014,
         "-124.57"
        ],
        [
         "NF-18385",
         "Natalie Fritzler",
         2014,
         "186.74"
        ],
        [
         "DE-13255",
         "NA",
         2015,
         "438.48"
        ],
        [
         "GH-14665",
         "Greg Hansen",
         2015,
         "3.07"
        ],
        [
         "TH-21100",
         "Thea Hendricks",
         2017,
         "10.05"
        ],
        [
         "MH-18115",
         "Mick Hernandez",
         2017,
         "387.20"
        ],
        [
         "EG-13900",
         "Emily Grady",
         2015,
         "55.00"
        ],
        [
         "BT-11440",
         "Bobby Trafton",
         2014,
         "-5.37"
        ],
        [
         "CS-12250",
         "Chris Selesnick",
         2016,
         "22.14"
        ],
        [
         "GH-14485",
         "Gene Hale",
         2015,
         "-71.00"
        ],
        [
         "LC-16885",
         "Lena Creighton",
         2017,
         "-67.97"
        ],
        [
         "DB-13555",
         "Dorothy Badders",
         2017,
         "101.29"
        ],
        [
         "RP-19270",
         "Rachel Payne",
         2014,
         "97.86"
        ],
        [
         "EB-13870",
         "Emily Burns",
         2014,
         "16.02"
        ],
        [
         "NB-18655",
         "Nona Balk",
         2016,
         "-157.96"
        ],
        [
         "EH-14125",
         "Eugene Hildebrand",
         2017,
         "265.62"
        ],
        [
         "MS-17365",
         "Maribeth chnelling",
         2016,
         "514.79"
        ],
        [
         "AT-10735",
         "Annie Thurman",
         2017,
         "111.72"
        ],
        [
         "ED-13885",
         "NA",
         2016,
         "185.14"
        ],
        [
         "DK-12835",
         "Damala Kotsonis",
         2014,
         "-22.36"
        ],
        [
         "JG-15310",
         "Jason Gross",
         2017,
         "26.52"
        ],
        [
         "KM-16660",
         "Khloe Miller",
         2015,
         "34.35"
        ],
        [
         "MY-18295",
         "Muhammed YeDwab",
         2014,
         "-103.13"
        ],
        [
         "GH-14410",
         "Gary Hansen",
         2017,
         "-496.24"
        ],
        [
         "PS-18760",
         "Pamela Stobb",
         2017,
         "-166.52"
        ],
        [
         "HD-14785",
         "Harold Dahlen",
         2015,
         "30.99"
        ],
        [
         "KH-16330",
         "Katharine Harms",
         2014,
         "261.33"
        ],
        [
         "JK-15370",
         "Jay Kimmel",
         2017,
         "79.47"
        ],
        [
         "DL-13495",
         "Dionis Lloyd",
         2015,
         "50.35"
        ],
        [
         "KC-16675",
         "Kimberly Carter",
         2017,
         "156.37"
        ],
        [
         "SC-20260",
         "Scott Cohen",
         2017,
         "200.26"
        ],
        [
         "JP-16135",
         "Julie Prescott",
         2016,
         "275.44"
        ],
        [
         "RD-19930",
         "Russell DAscenzo",
         2015,
         "39.00"
        ],
        [
         "OT-18730",
         "Olvera Toch",
         2017,
         "175.55"
        ],
        [
         "MS-17530",
         "MaryBeth Skach",
         2014,
         "2.69"
        ],
        [
         "MH-17455",
         "Mark Hamilton",
         2015,
         "16.18"
        ],
        [
         "LH-16750",
         "Larry Hughes",
         2017,
         "17.67"
        ],
        [
         "JH-15910",
         "Jonathan Howell",
         2017,
         "-125.38"
        ],
        [
         "TT-21460",
         "Tonja Turnell",
         2016,
         "2.40"
        ],
        [
         "PB-18805",
         "Patrick Bzostek",
         2015,
         "7.56"
        ],
        [
         "CM-12115",
         "Chad McGuire",
         2017,
         "400.47"
        ],
        [
         "DB-13360",
         "Dennis Bolton",
         2017,
         "113.54"
        ],
        [
         "BS-11665",
         "Brian Stugart",
         2016,
         "62.26"
        ],
        [
         "PN-18775",
         "Parhena Norris",
         2017,
         "48.35"
        ],
        [
         "AC-10660",
         "Anna Chung",
         2016,
         "8.61"
        ],
        [
         "BS-11800",
         "Bryan Spruell",
         2017,
         "116.94"
        ],
        [
         "SJ-20125",
         "Sanjit Jacobs",
         2016,
         "266.13"
        ],
        [
         "ES-14020",
         "Erica Smith",
         2017,
         "871.82"
        ],
        [
         "EH-14005",
         "Erica Hernandez",
         2017,
         "144.29"
        ],
        [
         "DE-13255",
         "NA",
         2016,
         "16.15"
        ],
        [
         "DB-13060",
         "Dave Brooks",
         2014,
         "409.76"
        ],
        [
         "TB-21595",
         "Troy Blackwell",
         2017,
         "1.37"
        ],
        [
         "KB-16240",
         "Karen Bern",
         2015,
         "19.85"
        ],
        [
         "LL-16840",
         "Lauren Leatherbury",
         2017,
         "44.72"
        ],
        [
         "AH-10075",
         "Adam Hart",
         2017,
         "-54.58"
        ],
        [
         "BD-11635",
         "Brian Derr",
         2015,
         "102.25"
        ],
        [
         "NR-18550",
         "Nick Radford",
         2016,
         "50.59"
        ],
        [
         "AY-10555",
         "Andy Yotov",
         2017,
         "31.04"
        ],
        [
         "SG-20470",
         "Sheri Gordon",
         2016,
         "-18.45"
        ],
        [
         "EM-13825",
         "Elizabeth Moffitt",
         2015,
         "238.47"
        ],
        [
         "SR-20740",
         "Steven Roelle",
         2017,
         "1676.32"
        ],
        [
         "TB-21175",
         "Thomas Boland",
         2017,
         "829.65"
        ],
        [
         "TS-21205",
         "Thomas Seio",
         2016,
         "104.77"
        ],
        [
         "BW-11065",
         "Barry Weirich",
         2014,
         "6.73"
        ],
        [
         "TH-21115",
         "Thea Hudgings",
         2014,
         "5.45"
        ],
        [
         "BE-11410",
         "Bobby Elias",
         2017,
         "178.71"
        ],
        [
         "NF-18595",
         "Nicole Fjeld",
         2017,
         "87.86"
        ],
        [
         "RA-19285",
         "Ralph Arnett",
         2016,
         "-6.57"
        ],
        [
         "AZ-10750",
         "Annie Zypern",
         2017,
         "15.00"
        ],
        [
         "CM-12445",
         "Chuck Magee",
         2014,
         "10.78"
        ],
        [
         "DB-12970",
         "Darren Budd",
         2015,
         "45.65"
        ],
        [
         "YC-21895",
         "Yoseph Carroll",
         2014,
         "833.77"
        ],
        [
         "CL-12700",
         "Craig Leslie",
         2017,
         "164.91"
        ],
        [
         "TM-21490",
         "Tony Molinari",
         2017,
         "292.53"
        ],
        [
         "DW-13585",
         "Dorothy Wardle",
         2015,
         "-371.25"
        ],
        [
         "HA-14905",
         "Helen Abelman",
         2017,
         "-79.00"
        ],
        [
         "CC-12100",
         "Chad Cunningham",
         2014,
         "142.85"
        ],
        [
         "VG-21790",
         "Vivek Gonzalez",
         2014,
         "19.54"
        ],
        [
         "PM-18940",
         "Paul MacIntyre",
         2016,
         "158.53"
        ],
        [
         "TS-21370",
         "Todd Sumrall",
         2014,
         "18.62"
        ],
        [
         "RA-19915",
         "Russell Applegate",
         2014,
         "278.43"
        ],
        [
         "GM-14680",
         "Greg Matthias",
         2014,
         "214.53"
        ],
        [
         "EH-14125",
         "Eugene Hildebrand",
         2014,
         "20.10"
        ],
        [
         "AS-10135",
         "Adrian Shami",
         2017,
         "20.34"
        ],
        [
         "CV-12295",
         "Christina VanderZanden",
         2016,
         "51.98"
        ],
        [
         "DH-13675",
         "Duane Huffman",
         2015,
         "28.89"
        ],
        [
         "FA-14230",
         "Frank Atkinson",
         2014,
         "3.58"
        ],
        [
         "AW-10930",
         "Arthur Wiediger",
         2017,
         "87.22"
        ],
        [
         "FC-14335",
         "Fred Chung",
         2015,
         "12.60"
        ],
        [
         "XP-21865",
         "Xylona Preis",
         2014,
         "202.31"
        ],
        [
         "BP-11155",
         "Becky Pak",
         2016,
         "188.78"
        ],
        [
         "JK-15625",
         "Jim Karlsson",
         2014,
         "303.87"
        ],
        [
         "SW-20455",
         "Shaun Weien",
         2017,
         "50.00"
        ],
        [
         "SN-20560",
         "Skye Norling",
         2017,
         "-1130.43"
        ],
        [
         "MP-18175",
         "Mike Pelletier",
         2016,
         "-295.64"
        ],
        [
         "EJ-13720",
         "Ed Jacobs",
         2014,
         "-7403.61"
        ],
        [
         "BP-11185",
         "Ben Peterman",
         2017,
         "330.74"
        ],
        [
         "XP-21865",
         "Xylona Preis",
         2015,
         "24.85"
        ],
        [
         "MG-17875",
         "Michael Grace",
         2014,
         "-4.52"
        ],
        [
         "PM-18940",
         "Paul MacIntyre",
         2014,
         "21.06"
        ],
        [
         "DA-13450",
         "Dianna Arnett",
         2017,
         "35.07"
        ],
        [
         "JE-15745",
         "Joel Eaton",
         2017,
         "560.58"
        ],
        [
         "BE-11335",
         "Bil Eplett",
         2016,
         "47.24"
        ],
        [
         "ND-18460",
         "Neil Ducich",
         2017,
         "379.25"
        ],
        [
         "MH-17785",
         "Maya Herman",
         2016,
         "7.00"
        ],
        [
         "DM-13345",
         "Denise Monton",
         2017,
         "1374.42"
        ],
        [
         "TA-21385",
         "Tom Ashbrook",
         2014,
         "180.52"
        ],
        [
         "SB-20290",
         "Sean Braxton",
         2017,
         "-907.05"
        ],
        [
         "DN-13690",
         "Duane Noonan",
         2017,
         "138.42"
        ],
        [
         "DR-12940",
         "Daniel Raglin",
         2016,
         "2337.76"
        ],
        [
         "AR-10825",
         "Anthony Rawles",
         2014,
         "10.37"
        ],
        [
         "GT-14635",
         "Grant Thornton",
         2017,
         "-3825.34"
        ],
        [
         "TT-21265",
         "Tim Taslimi",
         2016,
         "32.53"
        ],
        [
         "MA-17995",
         "Michelle Arnett",
         2017,
         "31.94"
        ],
        [
         "KN-16390",
         "Katherine Nockton",
         2017,
         "10.26"
        ],
        [
         "EN-13780",
         "Edward Nazzal",
         2015,
         "51.27"
        ],
        [
         "DC-12850",
         "Dan Campbell",
         2017,
         "-1128.75"
        ],
        [
         "BG-11695",
         "Brooke Gillingham",
         2014,
         "9.70"
        ],
        [
         "DK-13225",
         "Dean Katz",
         2016,
         "227.45"
        ],
        [
         "SP-20545",
         "Sibella Parks",
         2016,
         "-203.15"
        ],
        [
         "SD-20485",
         "Shirley Daniels",
         2014,
         "122.77"
        ],
        [
         "ER-13855",
         "Elpida Rittenbach",
         2015,
         "4.57"
        ],
        [
         "RD-19720",
         "Roger Demir",
         2017,
         "78.99"
        ],
        [
         "GH-14485",
         "Gene Hale",
         2016,
         "-24.49"
        ],
        [
         "NH-18610",
         "Nicole Hansen",
         2016,
         "5.18"
        ],
        [
         "JW-16075",
         "Julia West",
         2016,
         "20.38"
        ],
        [
         "JF-15565",
         "Jill Fjeld",
         2015,
         "147.35"
        ],
        [
         "CS-11845",
         "Cari Sayre",
         2015,
         "-5.73"
        ],
        [
         "AP-10720",
         "Anne Pryor",
         2015,
         "-1.36"
        ],
        [
         "GM-14680",
         "Greg Matthias",
         2017,
         "-57.12"
        ],
        [
         "CA-12775",
         "Cynthia Arntzen",
         2015,
         "-101.60"
        ],
        [
         "SN-20560",
         "Skye Norling",
         2016,
         "229.01"
        ],
        [
         "GA-14515",
         "George Ashbrook",
         2017,
         "139.07"
        ],
        [
         "LS-16945",
         "Linda Southworth",
         2015,
         "9.82"
        ],
        [
         "SV-20785",
         "Stewart Visinsky",
         2015,
         "209.66"
        ],
        [
         "Dp-13240",
         "Dean perceR",
         2016,
         "117.74"
        ],
        [
         "RA-19285",
         "Ralph Arnett",
         2017,
         "317.48"
        ],
        [
         "KM-16375",
         "Katherine Murray",
         2014,
         "955.86"
        ],
        [
         "DR-12880",
         "Dan Reichenbach",
         2015,
         "428.64"
        ],
        [
         "ME-17320",
         "Maria Etezadi",
         2015,
         "-9.56"
        ],
        [
         "MS-17830",
         "Melanie Seite",
         2016,
         "-23.94"
        ],
        [
         "BF-10975",
         "Barbara Fisher",
         2017,
         "6.97"
        ],
        [
         "AP-10720",
         "Anne Pryor",
         2016,
         "243.58"
        ],
        [
         "CC-12610",
         "Corey Catlett",
         2016,
         "-202.27"
        ],
        [
         "AT-10735",
         "Annie Thurman",
         2014,
         "71.66"
        ],
        [
         "DK-13090",
         "Dave Kipp",
         2017,
         "400.99"
        ],
        [
         "EH-13765",
         "Edward Hooks",
         2016,
         "758.80"
        ],
        [
         "TB-21625",
         "Trudy Brown",
         2016,
         "70.93"
        ],
        [
         "EM-13960",
         "Eric Murdock",
         2015,
         "51.93"
        ],
        [
         "LH-16900",
         "Lena Hernandez",
         2016,
         "56.70"
        ],
        [
         "AB-10060",
         "Adam Bellavance",
         2016,
         "1568.05"
        ],
        [
         "LC-16870",
         "NA",
         2015,
         "107.63"
        ],
        [
         "CC-12370",
         "Christopher Conant",
         2017,
         "93.73"
        ],
        [
         "PG-18895",
         "Paul Gonzalez",
         2014,
         "-70.73"
        ],
        [
         "DV-13465",
         "Dianna Vittorini",
         2016,
         "89.95"
        ],
        [
         "KB-16600",
         "Ken Brennan",
         2015,
         "17.00"
        ],
        [
         "LE-16810",
         "Laurel Elliston",
         2014,
         "-12.84"
        ],
        [
         "TH-21115",
         "Thea Hudgings",
         2016,
         "-76.64"
        ],
        [
         "AW-10840",
         "Anth ony Witt",
         2015,
         "-13.50"
        ],
        [
         "SN-20560",
         "Skye Norling",
         2015,
         "184.58"
        ],
        [
         "RL-19615",
         "Rob Lucas",
         2017,
         "68.15"
        ],
        [
         "DR-12880",
         "Dan Reichenbach",
         2017,
         "1086.84"
        ],
        [
         "CJ-12010",
         "Caroline Jumper",
         2016,
         "1382.97"
        ],
        [
         "TC-20980",
         "Tamara Chand",
         2015,
         "37.72"
        ],
        [
         "EJ-14155",
         "Eva Jacobs",
         2017,
         "140.02"
        ],
        [
         "DM-13345",
         "Denise Monton",
         2014,
         "3.71"
        ],
        [
         "MC-17845",
         "Michael Chen",
         2016,
         "60.54"
        ],
        [
         "VM-21685",
         "Valerie Mitchum",
         2014,
         "78.23"
        ],
        [
         "MN-17935",
         "Michael Nguyen",
         2017,
         "254.13"
        ],
        [
         "EH-14125",
         "Eugene Hildebrand",
         2016,
         "-71.64"
        ],
        [
         "SC-20305",
         "Sean Christensen",
         2014,
         "93.40"
        ],
        [
         "KN-16705",
         "Kristina Nunn",
         2016,
         "25.00"
        ],
        [
         "JH-15820",
         "John Huston",
         2015,
         "19.60"
        ],
        [
         "HF-14995",
         "Herbert Flentye",
         2016,
         "-167.31"
        ],
        [
         "RB-19570",
         "Rob Beeghly",
         2016,
         "-5.98"
        ],
        [
         "CT-11995",
         "Carol Triggs",
         2015,
         "19.45"
        ],
        [
         "PP-18955",
         "Paul Prost",
         2017,
         "247.93"
        ],
        [
         "KB-16600",
         "Ken Brennan",
         2014,
         "2.85"
        ],
        [
         "LS-17230",
         "Lycoris Saunders",
         2014,
         "9.33"
        ],
        [
         "DD-13570",
         "Dorothy Dickinson",
         2017,
         "51.97"
        ],
        [
         "RW-19630",
         "Rob Williams",
         2017,
         "321.91"
        ],
        [
         "MC-18100",
         "Mick Crebagga",
         2016,
         "0.93"
        ],
        [
         "SC-20770",
         "Stewart Carmichael",
         2015,
         "147.72"
        ],
        [
         "BP-11155",
         "Becky Pak",
         2017,
         "26.24"
        ],
        [
         "FC-14335",
         "Fred Chung",
         2016,
         "86.15"
        ],
        [
         "HL-15040",
         "Hunter Lopez",
         2014,
         "448.03"
        ],
        [
         "BT-11680",
         "Brian Thompson",
         2014,
         "-199.77"
        ],
        [
         "NF-18595",
         "Nicole Fjeld",
         2014,
         "42.35"
        ],
        [
         "AA-10315",
         "Alex Avila",
         2017,
         "96.51"
        ],
        [
         "DD-13570",
         "Dorothy Dickinson",
         2016,
         "-6.90"
        ],
        [
         "SP-20860",
         "Sung Pak",
         2016,
         "619.14"
        ],
        [
         "CD-11920",
         "Carlos Daly",
         2016,
         "46.94"
        ],
        [
         "LA-16780",
         "Laura Armstrong",
         2014,
         "482.57"
        ],
        [
         "LS-16945",
         "Linda Southworth",
         2017,
         "-350.00"
        ],
        [
         "LH-16750",
         "Larry Hughes",
         2014,
         "-5.04"
        ],
        [
         "KB-16585",
         "Ken Black",
         2016,
         "96.32"
        ],
        [
         "AB-10600",
         "Ann Blume",
         2015,
         "5.07"
        ],
        [
         "GM-14695",
         "Greg Maxwell",
         2014,
         "112.28"
        ],
        [
         "BH-11710",
         "Brosina Hoffman",
         2016,
         "428.93"
        ],
        [
         "MC-17590",
         "Matt Collister",
         2016,
         "379.01"
        ],
        [
         "NC-18415",
         "Nathan Cano",
         2015,
         "36.23"
        ],
        [
         "TS-21085",
         "Thais Sissman",
         2015,
         "-1.35"
        ],
        [
         "LA-16780",
         "Laura Armstrong",
         2016,
         "1526.67"
        ],
        [
         "BG-11035",
         "Barry Gonzalez",
         2015,
         "-998.91"
        ],
        [
         "JF-15190",
         "Jamie Frazer",
         2017,
         "347.08"
        ],
        [
         "MG-17890",
         "Michael Granlund",
         2015,
         "112.33"
        ],
        [
         "AS-10630",
         "Ann Steele",
         2014,
         "71.95"
        ],
        [
         "RC-19960",
         "Ryan Crowe",
         2016,
         "102.93"
        ],
        [
         "SJ-20500",
         "Shirley Jackson",
         2017,
         "-243.16"
        ],
        [
         "FG-14260",
         "Frank Gastineau",
         2017,
         "80.43"
        ],
        [
         "JL-15850",
         "John Lucas",
         2016,
         "-37.95"
        ],
        [
         "JM-15580",
         "Jill Matthias",
         2016,
         "113.72"
        ],
        [
         "ME-17725",
         "Max Engle",
         2016,
         "-1.62"
        ],
        [
         "JG-15310",
         "Jason Gross",
         2016,
         "-22.93"
        ],
        [
         "FP-14320",
         "Frank Preis",
         2016,
         "359.70"
        ],
        [
         "LF-17185",
         "Luke Foster",
         2017,
         "71.54"
        ],
        [
         "EB-13870",
         "Emily Burns",
         2016,
         "84.07"
        ],
        [
         "CL-12565",
         "Clay Ludtke",
         2015,
         "490.37"
        ],
        [
         "FC-14245",
         "Frank Carlisle",
         2015,
         "35.53"
        ],
        [
         "TN-21040",
         "Tanja Norvell",
         2017,
         "22.00"
        ],
        [
         "SP-20920",
         "Susan Pistek",
         2014,
         "24.22"
        ],
        [
         "PO-18850",
         "Patrick OBrill",
         2017,
         "290.64"
        ],
        [
         "JF-15190",
         "Jamie Frazer",
         2014,
         "37.40"
        ],
        [
         "MS-17770",
         "Maxwell Schwartz",
         2016,
         "164.04"
        ],
        [
         "CS-11845",
         "Cari Sayre",
         2017,
         "205.18"
        ],
        [
         "RR-19525",
         "Rick Reed",
         2016,
         "45.68"
        ],
        [
         "TS-21340",
         "Toby Swindell",
         2014,
         "-285.00"
        ],
        [
         "KM-16720",
         "Kunst Miller",
         2016,
         "54.92"
        ],
        [
         "KD-16270",
         "Karen Danels",
         2015,
         "129.49"
        ],
        [
         "JF-15190",
         "Jamie Frazer",
         2015,
         "17.99"
        ],
        [
         "EH-14185",
         "Evan Henry",
         2017,
         "6.42"
        ],
        [
         "JL-15835",
         "John Lee",
         2015,
         "252.43"
        ],
        [
         "TB-21400",
         "Tom Boeckenhauer",
         2014,
         "2567.33"
        ],
        [
         "NF-18475",
         "Neil Franzsisch",
         2016,
         "-18.84"
        ],
        [
         "CB-12415",
         "Christy Brittain",
         2016,
         "201.66"
        ],
        [
         "NS-18640",
         "Noel Staavos",
         2016,
         "-298.25"
        ],
        [
         "EG-13900",
         "Emily Grady",
         2016,
         "46.31"
        ],
        [
         "AT-10735",
         "Annie Thurman",
         2015,
         "739.52"
        ],
        [
         "MO-17500",
         "Mary ORourke",
         2014,
         "6.04"
        ],
        [
         "MB-18085",
         "Mick Brown",
         2017,
         "67.85"
        ],
        [
         "DJ-13630",
         "Doug Jacobs",
         2017,
         "669.79"
        ],
        [
         "JK-15205",
         "Jamie Kunitz",
         2014,
         "47.81"
        ],
        [
         "PF-19165",
         "Philip Fox",
         2014,
         "-407.68"
        ],
        [
         "SZ-20035",
         "Sam Zeldin",
         2017,
         "50.42"
        ],
        [
         "MC-17575",
         "Matt Collins",
         2017,
         "138.90"
        ],
        [
         "EM-14200",
         "Evan Minnotte",
         2017,
         "17.83"
        ],
        [
         "PJ-18835",
         "Patrick Jones",
         2017,
         "43.61"
        ],
        [
         "BS-11365",
         "Bi l Shonely",
         2016,
         "2405.71"
        ],
        [
         "TT-21070",
         "Ted Trevino",
         2015,
         "205.15"
        ],
        [
         "LD-17005",
         "Lisa DeCherney",
         2016,
         "111.26"
        ],
        [
         "JD-16060",
         "Julia Dunbar",
         2015,
         "-29.25"
        ],
        [
         "SF-20965",
         "Sylvia Foulston",
         2016,
         "70.20"
        ],
        [
         "SP-20650",
         "Stephanie Phelps",
         2015,
         "95.84"
        ],
        [
         "AI-10855",
         "Arianne Irving",
         2016,
         "485.32"
        ],
        [
         "AB-10015",
         "Aaron Bergman",
         2014,
         "12.82"
        ],
        [
         "SD-20485",
         "Shirley Daniels",
         2016,
         "20.82"
        ],
        [
         "CA-11965",
         "Carol Adams",
         2014,
         "44.77"
        ],
        [
         "DS-13180",
         "David Smith",
         2015,
         "182.58"
        ],
        [
         "KH-16690",
         "Kristen Hastings",
         2015,
         "-36.13"
        ],
        [
         "EM-13810",
         "NA",
         2016,
         "57.59"
        ],
        [
         "KN-16450",
         "Kean Nguyen",
         2015,
         "-118.58"
        ],
        [
         "NP-18670",
         "Nra Paige",
         2015,
         "80.84"
        ],
        [
         "NH-18610",
         "Nicole Hansen",
         2015,
         "85.83"
        ],
        [
         "DK-13375",
         "Dennis Kane",
         2015,
         "-95.80"
        ],
        [
         "BE-11455",
         "Brad Eason",
         2017,
         "-52.07"
        ],
        [
         "DL-13330",
         "Denise Leinenbach",
         2015,
         "197.99"
        ],
        [
         "JS-16030",
         "Joy Smith",
         2017,
         "-766.57"
        ],
        [
         "OT-18730",
         "Olvera Toch",
         2015,
         "81.00"
        ],
        [
         "DB-13660",
         "Duane Benoit",
         2015,
         "-17.29"
        ],
        [
         "JE-15475",
         "Jeremy Ellison",
         2017,
         "33.60"
        ],
        [
         "SC-20050",
         "Sample Company A",
         2016,
         "146.65"
        ],
        [
         "BP-11185",
         "Ben Peterman",
         2015,
         "66.76"
        ],
        [
         "SB-20290",
         "Sean Braxton",
         2014,
         "-1272.35"
        ],
        [
         "AB-10150",
         "Aimee Bixby",
         2014,
         "261.20"
        ],
        [
         "BD-11320",
         "Bil Donatelli",
         2015,
         "799.49"
        ],
        [
         "MH-17455",
         "Mark Hamilton",
         2017,
         "84.94"
        ],
        [
         "BN-11515",
         "Bradley Nguyen",
         2017,
         "42.57"
        ],
        [
         "SP-20650",
         "Stephanie Phelps",
         2016,
         "100.23"
        ],
        [
         "KD-16270",
         "Karen Danels",
         2014,
         "-1340.60"
        ],
        [
         "KL-16555",
         "Kelly Lampkin",
         2017,
         "-163.66"
        ],
        [
         "BS-11755",
         "Bruce Stewart",
         2017,
         "115.84"
        ],
        [
         "LH-16900",
         "Lena Hernandez",
         2014,
         "282.09"
        ],
        [
         "TS-21655",
         "Trudy Schmidt",
         2015,
         "-34.09"
        ],
        [
         "DF-13135",
         "David Flashing",
         2014,
         "37.88"
        ],
        [
         "TP-21415",
         "Tom Prescott",
         2015,
         "64.52"
        ],
        [
         "RB-19330",
         "Randy Bradley",
         2017,
         "-74.31"
        ],
        [
         "NL-18310",
         "Nancy Lomonaco",
         2017,
         "282.27"
        ],
        [
         "EM-14065",
         "ErinMull",
         2014,
         "59.26"
        ],
        [
         "DK-12985",
         "Darren Koutras",
         2014,
         "-8.08"
        ],
        [
         "RC-19960",
         "Ryan Crowe",
         2014,
         "-98.43"
        ],
        [
         "GB-14530",
         "Ge orge Bell",
         2015,
         "74.29"
        ],
        [
         "DC-12850",
         "Dan Campbell",
         2015,
         "4.89"
        ],
        [
         "JH-15910",
         "Jonathan Howell",
         2015,
         "48.66"
        ],
        [
         "TS-21430",
         "Tom Stivers",
         2016,
         "17.05"
        ],
        [
         "CG-12520",
         "Claire Gute",
         2016,
         "261.49"
        ],
        [
         "TH-21100",
         "Thea Hendricks",
         2015,
         "0.81"
        ],
        [
         "JH-15985",
         "Joseph Holt",
         2014,
         "644.00"
        ],
        [
         "JB-15925",
         "Joni Blumstein",
         2014,
         "72.58"
        ],
        [
         "NM-18520",
         "Neoma Murray",
         2015,
         "-26.66"
        ],
        [
         "RM-19375",
         "Raymond Messe",
         2014,
         "13.83"
        ],
        [
         "MC-17845",
         "Michael Chen",
         2017,
         "242.12"
        ],
        [
         "PB-19105",
         "Peter Bhler",
         2017,
         "13.19"
        ],
        [
         "GH-14410",
         "Gary Hansen",
         2015,
         "38.97"
        ],
        [
         "BT-11680",
         "Brian Thompson",
         2017,
         "35.43"
        ],
        [
         "FM-14290",
         "Frank Merwin",
         2014,
         "22.98"
        ],
        [
         "JS-15595",
         "Ji Stevenson",
         2015,
         "4.53"
        ],
        [
         "KH-16690",
         "Kristen Hastings",
         2016,
         "7.18"
        ],
        [
         "SG-20890",
         "Susan Gilcrest",
         2014,
         "2.94"
        ],
        [
         "SM-20320",
         "Sean Miller",
         2017,
         "34.28"
        ],
        [
         "TS-21505",
         "NA",
         2014,
         "87.45"
        ],
        [
         "MS-17365",
         "Maribeth chnelling",
         2015,
         "145.51"
        ],
        [
         "AF-10870",
         "Art Ferguson",
         2016,
         "390.80"
        ],
        [
         "TR-21325",
         "Toby Ritter",
         2016,
         "115.04"
        ],
        [
         "KB-16600",
         "Ken Brennan",
         2016,
         "14.62"
        ],
        [
         "DK-13090",
         "Dave Kipp",
         2016,
         "-38.31"
        ],
        [
         "AJ-10945",
         "Ashley Jarboe",
         2016,
         "33.22"
        ],
        [
         "MM-17260",
         "Magdelene Morse",
         2017,
         "-39.46"
        ],
        [
         "RR-19315",
         "Ralph Ritter",
         2017,
         "-77.30"
        ],
        [
         "BW-11200",
         "Ben Wallace",
         2014,
         "87.45"
        ],
        [
         "SC-20050",
         "Sample Company A",
         2014,
         "764.53"
        ],
        [
         "ES-14020",
         "Erica Smith",
         2016,
         "71.99"
        ],
        [
         "RE-19450",
         "Richard Eichhorn",
         2017,
         "9.74"
        ],
        [
         "TH-21100",
         "Thea Hendricks",
         2014,
         "-155.27"
        ],
        [
         "KN-16390",
         "Katherine Nockton",
         2015,
         "-191.36"
        ],
        [
         "MR-17545",
         "Mathew Reese",
         2014,
         "9.11"
        ],
        [
         "MD-17860",
         "Michael Dominguez",
         2017,
         "43.31"
        ],
        [
         "FH-14365",
         "Fred Hopkins",
         2017,
         "76.82"
        ],
        [
         "BM-11575",
         "Brendan Murry",
         2017,
         "-51.19"
        ],
        [
         "BP-11050",
         "Barry Pond",
         2017,
         "24.18"
        ],
        [
         "EJ-14155",
         "Eva Jacobs",
         2014,
         "-23.49"
        ],
        [
         "MH-17620",
         "Matt Hagelstein",
         2016,
         "-0.37"
        ],
        [
         "PB-19210",
         "Phillip Breyer",
         2014,
         "21.20"
        ],
        [
         "JK-16120",
         "Julie Kriz",
         2017,
         "-273.77"
        ],
        [
         "AH-10195",
         "Alan Haines",
         2016,
         "-349.36"
        ],
        [
         "CT-11995",
         "Carol Triggs",
         2017,
         "159.26"
        ],
        [
         "KH-16690",
         "Kristen Hastings",
         2014,
         "1038.59"
        ],
        [
         "LW-16990",
         "Lindsay Williams",
         2017,
         "340.51"
        ],
        [
         "HW-14935",
         "Helen Waerman",
         2017,
         "1946.70"
        ],
        [
         "RK-19300",
         "Ralph Kennedy",
         2015,
         "265.58"
        ],
        [
         "ML-17395",
         "Marina Lichtenstein",
         2017,
         "11.10"
        ],
        [
         "AS-10090",
         "Adam Shillingsburg",
         2016,
         "22.55"
        ],
        [
         "AC-10420",
         "Alyssa Crouse",
         2017,
         "-69.06"
        ],
        [
         "HJ-14875",
         "Heather Jas",
         2015,
         "28.71"
        ],
        [
         "CD-11920",
         "Carlos Daly",
         2014,
         "11.70"
        ],
        [
         "MG-17680",
         "Maureen Gastineau",
         2015,
         "-1.20"
        ],
        [
         "PO-18850",
         "Patrick OBrill",
         2015,
         "7.32"
        ],
        [
         "SJ-20125",
         "Sanjit Jacobs",
         2015,
         "-65.82"
        ],
        [
         "WB-21850",
         "William Brown",
         2014,
         "106.42"
        ],
        [
         "EB-13930",
         "Eric Barreto",
         2014,
         "1.35"
        ],
        [
         "MY-17380",
         "Maribeth Yedwab",
         2016,
         "33.05"
        ],
        [
         "JE-16165",
         "Justin Ellison",
         2017,
         "13.67"
        ],
        [
         "KD-16345",
         "Katherine Ducich",
         2014,
         "64.70"
        ],
        [
         "BW-11200",
         "Ben Wallace",
         2016,
         "173.66"
        ],
        [
         "IM-15055",
         "Ionia McGrath",
         2014,
         "19.24"
        ],
        [
         "DK-13225",
         "Dean Katz",
         2015,
         "-339.65"
        ],
        [
         "EL-13735",
         "Ed Ludwig",
         2017,
         "18.45"
        ],
        [
         "JD-15895",
         "Jonathan Doherty",
         2016,
         "1179.82"
        ],
        [
         "DO-13435",
         "Denny Ordway",
         2015,
         "-136.09"
        ],
        [
         "GG-14650",
         "Greg Guthrie",
         2016,
         "15.93"
        ],
        [
         "DB-13405",
         "Denny Blanton",
         2015,
         "266.33"
        ],
        [
         "FO-14305",
         "Frank Olsen",
         2017,
         "-70.98"
        ],
        [
         "TB-21250",
         "Tim Brockman",
         2017,
         "-31.68"
        ],
        [
         "MC-17635",
         "Matthew Clasen",
         2017,
         "-317.03"
        ],
        [
         "LT-16765",
         "Larry Tron",
         2017,
         "23.24"
        ],
        [
         "MS-17770",
         "Maxwell Schwartz",
         2017,
         "9.70"
        ],
        [
         "BM-11650",
         "Brian Moss",
         2016,
         "-2.03"
        ],
        [
         "JD-16060",
         "Julia Dunbar",
         2017,
         "131.89"
        ],
        [
         "RE-19450",
         "Richard Eichhorn",
         2014,
         "-24.87"
        ],
        [
         "MA-17995",
         "Michelle Arnett",
         2016,
         "191.39"
        ],
        [
         "HL-15040",
         "Hunter Lopez",
         2017,
         "5045.86"
        ],
        [
         "SC-20695",
         "Steve Chapman",
         2014,
         "52.53"
        ],
        [
         "FH-14365",
         "Fred Hopkins",
         2014,
         "-172.46"
        ],
        [
         "AS-10045",
         "Aaron Smayling",
         2014,
         "32.23"
        ],
        [
         "JG-15115",
         "Jack Garza",
         2015,
         "-50.17"
        ],
        [
         "ST-20530",
         "Shui Tom",
         2015,
         "27.01"
        ],
        [
         "DP-13000",
         "Darren Powers",
         2017,
         "-48.17"
        ],
        [
         "MK-18160",
         "Mike Kennedy",
         2014,
         "-22.69"
        ],
        [
         "BF-11215",
         "Benjamin Farhat",
         2016,
         "173.24"
        ],
        [
         "AS-10225",
         "Alan Schoenberger",
         2014,
         "444.69"
        ],
        [
         "SP-20620",
         "Stefania Perrino",
         2016,
         "-171.23"
        ],
        [
         "BG-11740",
         "Bruce Geld",
         2015,
         "15.07"
        ],
        [
         "CS-12175",
         "Charles Sheldon",
         2014,
         "98.11"
        ],
        [
         "NP-18700",
         "Nora Preis",
         2017,
         "71.95"
        ],
        [
         "BF-11005",
         "Barry Franz",
         2016,
         "-365.72"
        ],
        [
         "PF-19225",
         "Phillip Flathmann",
         2016,
         "513.27"
        ],
        [
         "LR-16915",
         "Lena Radford",
         2016,
         "172.50"
        ],
        [
         "FA-14230",
         "Frank Atkinson",
         2015,
         "224.56"
        ],
        [
         "LC-17140",
         "Logan Currie",
         2017,
         "2.40"
        ],
        [
         "DN-13690",
         "Duane Noonan",
         2014,
         "179.72"
        ],
        [
         "GZ-14470",
         "Gary Zandusky",
         2016,
         "652.32"
        ],
        [
         "AH-10030",
         "Aaron Hawkins",
         2015,
         "136.56"
        ],
        [
         "JW-15955",
         "Joni Waerman",
         2016,
         "1.20"
        ],
        [
         "JS-15940",
         "Joni Sundaresam",
         2015,
         "-312.06"
        ],
        [
         "RR-19525",
         "Rick Reed",
         2015,
         "32.50"
        ],
        [
         "SV-20785",
         "Stewart Visinsky",
         2014,
         "189.13"
        ],
        [
         "LO-17170",
         "Lori Olson",
         2015,
         "34.45"
        ],
        [
         "SW-20275",
         "Scott Williamson",
         2014,
         "11.00"
        ],
        [
         "ER-13855",
         "Elpida Rittenbach",
         2016,
         "-299.90"
        ],
        [
         "PO-19180",
         "Philisse Overcash",
         2017,
         "153.55"
        ],
        [
         "JB-15400",
         "Jennifer Braxton",
         2016,
         "-98.62"
        ],
        [
         "JH-15985",
         "Joseph Holt",
         2015,
         "-1429.38"
        ],
        [
         "CC-12220",
         "Chris Cortes",
         2016,
         "-33.05"
        ],
        [
         "PO-19180",
         "Philisse Overcash",
         2015,
         "823.24"
        ],
        [
         "JC-15385",
         "Jenna Caffey",
         2017,
         "502.93"
        ],
        [
         "DL-13495",
         "Dionis Lloyd",
         2017,
         "-200.58"
        ],
        [
         "NP-18700",
         "Nora Preis",
         2016,
         "272.92"
        ],
        [
         "MV-17485",
         "Mark Van Huff",
         2014,
         "15.08"
        ],
        [
         "DB-12910",
         "Daniel Byrd",
         2014,
         "3.63"
        ],
        [
         "MS-17710",
         "Maurice Satty",
         2016,
         "-93.10"
        ],
        [
         "RH-19495",
         "Rick Hansen",
         2015,
         "480.63"
        ],
        [
         "MM-18280",
         "Muhammed MacIntyre",
         2017,
         "33.04"
        ],
        [
         "MS-17830",
         "Melanie Seite",
         2014,
         "10.92"
        ],
        [
         "JG-15160",
         "James Galang",
         2015,
         "736.76"
        ],
        [
         "BN-11515",
         "Bradley Nguyen",
         2014,
         "185.37"
        ],
        [
         "MV-17485",
         "Mark Van Huff",
         2015,
         "-1.28"
        ],
        [
         "CL-12565",
         "Clay Ludtke",
         2017,
         "529.60"
        ],
        [
         "SS-20410",
         "ShahiShariari",
         2015,
         "-504.24"
        ],
        [
         "BF-10975",
         "Barbara Fisher",
         2015,
         "0.96"
        ],
        [
         "RB-19435",
         "Richard Bierner",
         2015,
         "49.57"
        ],
        [
         "BT-11395",
         "Bil Tyler",
         2014,
         "74.81"
        ],
        [
         "EH-13765",
         "Edward Hooks",
         2014,
         "4.05"
        ],
        [
         "NB-18655",
         "Nona Balk",
         2017,
         "61.16"
        ],
        [
         "BD-11635",
         "Brian Derr",
         2014,
         "11.49"
        ],
        [
         "CR-12730",
         "Craig Reiter",
         2017,
         "253.37"
        ],
        [
         "AP-10915",
         "Arthur Prichep",
         2016,
         "338.86"
        ],
        [
         "TC-21535",
         "Tracy Collins",
         2015,
         "30.65"
        ],
        [
         "MH-18025",
         "Michelle Huthwaite",
         2017,
         "374.93"
        ],
        [
         "PG-18895",
         "Paul Gonzalez",
         2015,
         "174.73"
        ],
        [
         "SM-20320",
         "Sean Miller",
         2015,
         "-225.52"
        ],
        [
         "AG-10765",
         "Anthony Garverick",
         2014,
         "-4.12"
        ],
        [
         "TC-21145",
         "Theresa Coyne",
         2017,
         "265.59"
        ],
        [
         "AH-10075",
         "Adam Hart",
         2016,
         "332.64"
        ],
        [
         "BT-11395",
         "Bil Tyler",
         2016,
         "3.35"
        ],
        [
         "JH-15820",
         "John Huston",
         2017,
         "-19.94"
        ],
        [
         "DW-13540",
         "Don Weiss",
         2016,
         "16.01"
        ],
        [
         "DK-12835",
         "Damala Kotsonis",
         2015,
         "369.26"
        ],
        [
         "JL-15175",
         "James Lanier",
         2017,
         "110.48"
        ],
        [
         "DW-13195",
         "David Wiener",
         2014,
         "55.47"
        ],
        [
         "NF-18385",
         "Natalie Fritzler",
         2016,
         "-66.17"
        ],
        [
         "EG-13900",
         "Emily Grady",
         2017,
         "2.59"
        ],
        [
         "DG-13300",
         "Deirdre Greer",
         2016,
         "9.33"
        ],
        [
         "AB-10255",
         "Alejandro Ballentine",
         2017,
         "197.67"
        ],
        [
         "BD-11725",
         "Bruce Degenhardt",
         2017,
         "166.98"
        ],
        [
         "PS-18970",
         "Paul Stevenson",
         2016,
         "3.44"
        ],
        [
         "FG-14260",
         "Frank Gastineau",
         2014,
         "314.52"
        ],
        [
         "DM-12955",
         "Dario Medina",
         2014,
         "58.40"
        ],
        [
         "LS-17245",
         "Lynn Smith",
         2016,
         "60.37"
        ],
        [
         "BD-11500",
         "Bradley Drucker",
         2014,
         "309.08"
        ],
        [
         "NG-18355",
         "Nat Gilpin",
         2014,
         "219.08"
        ],
        [
         "LH-17020",
         "Lisa Hazard",
         2017,
         "-152.87"
        ],
        [
         "JM-15580",
         "Jill Matthias",
         2017,
         "-0.60"
        ],
        [
         "NB-18580",
         "Nicole Brennan",
         2014,
         "24.79"
        ],
        [
         "DF-13135",
         "David Flashing",
         2015,
         "99.94"
        ],
        [
         "SC-20260",
         "Scott Cohen",
         2014,
         "96.77"
        ],
        [
         "BP-11290",
         "Beth Paige",
         2017,
         "-183.00"
        ],
        [
         "TT-21460",
         "Tonja Turnell",
         2017,
         "840.98"
        ],
        [
         "LS-17200",
         "Luke Schmidt",
         2014,
         "167.72"
        ],
        [
         "LT-17110",
         "Liz Thompson",
         2014,
         "238.40"
        ],
        [
         "PG-18895",
         "Paul Gonzalez",
         2017,
         "220.26"
        ],
        [
         "AG-10300",
         "Aleksandra Gannaway",
         2016,
         "20.49"
        ],
        [
         "PC-18745",
         "Pamela Coakley",
         2017,
         "-0.99"
        ],
        [
         "MM-17920",
         "Michael Moore",
         2016,
         "447.84"
        ],
        [
         "RD-19585",
         "Rob Dowd",
         2017,
         "66.27"
        ],
        [
         "SS-20515",
         "Shirley Schmidt",
         2015,
         "174.01"
        ],
        [
         "JL-15505",
         "Jeremy Lonsdale",
         2014,
         "41.27"
        ],
        [
         "JB-16045",
         "Julia Barnett",
         2017,
         "9.89"
        ],
        [
         "EK-13795",
         "Eileen Kiefer",
         2014,
         "70.49"
        ],
        [
         "EM-14140",
         "Eugene Moren",
         2014,
         "2.21"
        ],
        [
         "KB-16240",
         "Karen Bern",
         2014,
         "-1.00"
        ],
        [
         "PJ-19015",
         "Pauline Johnson",
         2014,
         "2.78"
        ],
        [
         "DK-12835",
         "Damala Kotsonis",
         2017,
         "349.28"
        ],
        [
         "PS-18760",
         "Pamela Stobb",
         2015,
         "-113.10"
        ],
        [
         "KC-16675",
         "Kimberly Carter",
         2014,
         "5.82"
        ],
        [
         "BE-11335",
         "Bil Eplett",
         2017,
         "1440.55"
        ],
        [
         "CM-12190",
         "Charlotte Melton",
         2015,
         "16.89"
        ],
        [
         "SD-20485",
         "Shirley Daniels",
         2015,
         "1954.80"
        ],
        [
         "JF-15565",
         "Jill Fjeld",
         2017,
         "-1.49"
        ],
        [
         "KD-16615",
         "NA",
         2016,
         "68.22"
        ],
        [
         "DP-13165",
         "David Philippe",
         2014,
         "-41.94"
        ],
        [
         "SC-20575",
         "Sonia Cooley",
         2014,
         "32.39"
        ],
        [
         "AH-10030",
         "Aaron Hawkins",
         2017,
         "2.34"
        ],
        [
         "SC-20230",
         "Scot Coram",
         2017,
         "4.18"
        ],
        [
         "TP-21565",
         "Tracy P oddar",
         2016,
         "104.74"
        ],
        [
         "KM-16375",
         "Katherine Murray",
         2017,
         "-140.70"
        ],
        [
         "AH-10120",
         "Adrian Hane",
         2016,
         "-299.15"
        ],
        [
         "MH-18115",
         "Mick Hernandez",
         2016,
         "-216.22"
        ],
        [
         "SN-20710",
         "Steve Nguyen",
         2016,
         "375.78"
        ],
        [
         "NG-18430",
         "Nathan Gelder",
         2015,
         "54.00"
        ],
        [
         "ED-13885",
         "NA",
         2014,
         "18.48"
        ],
        [
         "EM-14065",
         "ErinMull",
         2017,
         "-14.44"
        ],
        [
         "BD-11560",
         "Brendan Dodson",
         2015,
         "36.47"
        ],
        [
         "TP-21130",
         "Theone Pippenger",
         2015,
         "-1.85"
        ],
        [
         "LT-16765",
         "Larry Tron",
         2014,
         "15.64"
        ],
        [
         "PF-19165",
         "Philip Fox",
         2016,
         "478.68"
        ],
        [
         "CL-12565",
         "Clay Ludtke",
         2014,
         "199.77"
        ],
        [
         "CB-12415",
         "Christy Brittain",
         2017,
         "74.23"
        ],
        [
         "DB-13660",
         "Duane Benoit",
         2017,
         "199.44"
        ],
        [
         "TB-21400",
         "Tom Boeckenhauer",
         2017,
         "218.55"
        ],
        [
         "MM-18055",
         "Michelle Moray",
         2017,
         "-403.76"
        ],
        [
         "KN-16390",
         "Katherine Nockton",
         2014,
         "29.95"
        ],
        [
         "JR-16210",
         "Justin Ritter",
         2016,
         "44.21"
        ],
        [
         "BD-11605",
         "Brian Dahlen",
         2016,
         "124.51"
        ],
        [
         "MR-17545",
         "Mathew Reese",
         2017,
         "153.35"
        ],
        [
         "AS-10090",
         "Adam Shillingsburg",
         2017,
         "-331.64"
        ],
        [
         "DB-13270",
         "Deborah Brumfield",
         2016,
         "810.57"
        ],
        [
         "NH-18610",
         "Nicole Hansen",
         2017,
         "635.96"
        ],
        [
         "NS-18505",
         "Neola Schneider",
         2016,
         "19.55"
        ],
        [
         "CR-12580",
         "Clay Rozendal",
         2016,
         "-34.40"
        ],
        [
         "CS-11950",
         "Carlos Soltero",
         2016,
         "-131.21"
        ],
        [
         "CL-12565",
         "Clay Ludtke",
         2016,
         "713.45"
        ],
        [
         "HM-14860",
         "Harry Marie",
         2014,
         "-79.13"
        ],
        [
         "SV-20365",
         "Seth Vernon",
         2014,
         "-218.93"
        ],
        [
         "JL-15130",
         "Jack Lebron",
         2016,
         "1.39"
        ],
        [
         "PF-19165",
         "Philip Fox",
         2017,
         "50.65"
        ],
        [
         "AA-10480",
         "Andrew Allen",
         2014,
         "9.89"
        ],
        [
         "GD-14590",
         "Giulietta Dortch",
         2014,
         "21.66"
        ],
        [
         "JW-15220",
         "Jane Waco",
         2015,
         "89.20"
        ],
        [
         "CC-12220",
         "Chris Cortes",
         2015,
         "21.01"
        ],
        [
         "TB-21280",
         "Toby Braunhardt",
         2016,
         "290.98"
        ],
        [
         "RA-19885",
         "Ruben Ausman",
         2014,
         "776.48"
        ],
        [
         "BM-11785",
         "Bryan Mills",
         2014,
         "114.10"
        ],
        [
         "CG-12040",
         "Catherine Glotzbach",
         2015,
         "5.76"
        ],
        [
         "DJ-13510",
         "Don Jones",
         2016,
         "100.20"
        ],
        [
         "CV-12295",
         "Christina VanderZanden",
         2017,
         "277.62"
        ],
        [
         "SF-20965",
         "Sylvia Foulston",
         2017,
         "8.49"
        ],
        [
         "BG-11035",
         "Barry Gonzalez",
         2017,
         "221.68"
        ],
        [
         "LS-17245",
         "Lynn Smith",
         2014,
         "230.21"
        ],
        [
         "MD-17350",
         "Maribeth Dona",
         2017,
         "-194.56"
        ],
        [
         "JF-15355",
         "Jay Fein",
         2016,
         "40.75"
        ],
        [
         "EB-13870",
         "Emily Burns",
         2017,
         "-80.44"
        ],
        [
         "MZ-17515",
         "Mary Zewe",
         2017,
         "17.38"
        ],
        [
         "BG-11035",
         "Barry Gonzalez",
         2016,
         "12.24"
        ],
        [
         "RA-19285",
         "Ralph Arnett",
         2014,
         "0.00"
        ],
        [
         "BH-11710",
         "Brosina Hoffman",
         2014,
         "235.35"
        ],
        [
         "DL-12865",
         "Dan Lawera",
         2017,
         "-6.90"
        ],
        [
         "BG-11695",
         "Brooke Gillingham",
         2015,
         "28.31"
        ],
        [
         "SR-20425",
         "Sharelle Roach",
         2017,
         "-3391.66"
        ],
        [
         "GD-14590",
         "Giulietta Dortch",
         2016,
         "-155.30"
        ],
        [
         "RL-19615",
         "Rob Lucas",
         2016,
         "-6.57"
        ],
        [
         "SE-20110",
         "Sanjit Engle",
         2017,
         "-236.83"
        ],
        [
         "DP-13390",
         "Dennis Pardue",
         2014,
         "83.79"
        ],
        [
         "LC-17140",
         "Logan Currie",
         2016,
         "235.33"
        ],
        [
         "RB-19360",
         "Raymond Buch",
         2017,
         "6780.90"
        ],
        [
         "SF-20200",
         "Sarah Foster",
         2017,
         "294.84"
        ],
        [
         "NW-18400",
         "Natalie Webber",
         2016,
         "-255.46"
        ],
        [
         "FM-14215",
         "Filia McAdams",
         2014,
         "228.77"
        ],
        [
         "PW-19240",
         "Pierre Wener",
         2014,
         "-86.27"
        ],
        [
         "CC-12370",
         "Christopher Conant",
         2016,
         "2083.34"
        ],
        [
         "BT-11305",
         "Beth Thompson",
         2015,
         "87.46"
        ],
        [
         "RM-19375",
         "Raymond Messe",
         2015,
         "19.97"
        ],
        [
         "AJ-10945",
         "Ashley Jarboe",
         2017,
         "167.94"
        ],
        [
         "LR-16915",
         "Lena Radford",
         2017,
         "-272.58"
        ],
        [
         "CD-12790",
         "Cynthia Delaney",
         2015,
         "2.53"
        ],
        [
         "NP-18325",
         "NA",
         2015,
         "852.92"
        ],
        [
         "SC-20050",
         "Sample Company A",
         2017,
         "91.45"
        ],
        [
         "MP-17470",
         "Mark Packer",
         2015,
         "311.50"
        ],
        [
         "MJ-17740",
         "Max Jones",
         2016,
         "728.75"
        ],
        [
         "HG-14965",
         "Henry Goldwyn",
         2014,
         "2.45"
        ],
        [
         "JR-15670",
         "Jim Radford",
         2016,
         "0.00"
        ],
        [
         "SC-20380",
         "ShahiCollister",
         2016,
         "-25.00"
        ],
        [
         "MV-18190",
         "Mike Vitt orini",
         2014,
         "11.90"
        ],
        [
         "TS-21610",
         "Troy Staebel",
         2016,
         "-57.29"
        ],
        [
         "HM-14980",
         "Henry MacAllister",
         2016,
         "1.73"
        ],
        [
         "SC-20020",
         "Sam Craven",
         2014,
         "-360.83"
        ],
        [
         "DS-13180",
         "David Smith",
         2016,
         "-46.95"
        ],
        [
         "LC-16930",
         "Linda Cazamias",
         2014,
         "29.34"
        ],
        [
         "CP-12340",
         "Christine Phan",
         2016,
         "242.84"
        ],
        [
         "FW-14395",
         "Fred Waerman",
         2015,
         "5.48"
        ],
        [
         "VS-21820",
         "Vivek Sundaresam",
         2017,
         "-6.42"
        ],
        [
         "GT-14710",
         "Greg Tran",
         2015,
         "974.31"
        ],
        [
         "NC-18340",
         "Nat Carroll",
         2016,
         "26.29"
        ],
        [
         "CS-11860",
         "Cari Schnelling",
         2015,
         "-2.84"
        ],
        [
         "SC-20260",
         "Scott Cohen",
         2015,
         "373.95"
        ],
        [
         "DB-13660",
         "Duane Benoit",
         2014,
         "31.01"
        ],
        [
         "AR-10405",
         "Allen Rosenblatt",
         2014,
         "17.59"
        ],
        [
         "DW-13480",
         "Dianna Wilson",
         2014,
         "1154.67"
        ],
        [
         "JP-15520",
         "Jeremy Pistek",
         2016,
         "130.51"
        ],
        [
         "DL-12865",
         "Dan Lawera",
         2016,
         "311.98"
        ],
        [
         "KF-16285",
         "Karen Ferguson",
         2016,
         "371.05"
        ],
        [
         "SC-20440",
         "Shaun Chance",
         2017,
         "4.29"
        ],
        [
         "EJ-14155",
         "Eva Jacobs",
         2016,
         "335.35"
        ],
        [
         "DS-13180",
         "David Smith",
         2014,
         "57.59"
        ],
        [
         "EH-14185",
         "Evan Henry",
         2016,
         "209.28"
        ],
        [
         "DL-12865",
         "Dan Lawera",
         2014,
         "7.73"
        ],
        [
         "BD-11770",
         "Bryan Davis",
         2016,
         "110.70"
        ],
        [
         "RH-19495",
         "Rick Hansen",
         2017,
         "48.21"
        ],
        [
         "JA-15970",
         "Joseph Airdo",
         2014,
         "96.93"
        ],
        [
         "JF-15415",
         "Jennifer Ferguson",
         2017,
         "550.86"
        ],
        [
         "SF-20965",
         "Sylvia Foulston",
         2015,
         "448.98"
        ],
        [
         "BF-11170",
         "Ben Ferrer",
         2017,
         "437.78"
        ],
        [
         "MA-17995",
         "Michelle Arnett",
         2014,
         "53.70"
        ],
        [
         "SR-20740",
         "Steven Roelle",
         2014,
         "130.18"
        ],
        [
         "GK-14620",
         "Grace Kelly",
         2017,
         "3.45"
        ],
        [
         "SZ-20035",
         "Sam Zeldin",
         2014,
         "6.49"
        ],
        [
         "DM-13015",
         "Darrin Martin",
         2015,
         "6.60"
        ],
        [
         "MB-18085",
         "Mick Brown",
         2016,
         "45.32"
        ],
        [
         "AA-10645",
         "Anna Andreadi",
         2017,
         "6.22"
        ],
        [
         "ZD-21925",
         "Zuschuss Donatelli",
         2017,
         "16.59"
        ],
        [
         "LB-16795",
         "Laurel Beltran",
         2016,
         "-658.62"
        ],
        [
         "EB-13750",
         "Edward Becker",
         2015,
         "177.41"
        ],
        [
         "Dp-13240",
         "Dean perceR",
         2017,
         "-1031.12"
        ],
        [
         "CS-11860",
         "Cari Schnelling",
         2014,
         "93.74"
        ],
        [
         "DD-13570",
         "Dorothy Dickinson",
         2014,
         "-8.63"
        ],
        [
         "IG-15085",
         "Ivan Gibson",
         2015,
         "144.35"
        ],
        [
         "HG-15025",
         "Hunter Glantz",
         2015,
         "55.90"
        ],
        [
         "RA-19885",
         "Ruben Ausman",
         2015,
         "1.67"
        ],
        [
         "SL-20155",
         "Sara Luxemburg",
         2016,
         "3.11"
        ],
        [
         "MK-17905",
         "Michael Kennedy",
         2014,
         "43.22"
        ],
        [
         "JK-15730",
         "Joe Kamberova",
         2015,
         "42.08"
        ],
        [
         "DB-13360",
         "Dennis Bolton",
         2015,
         "15.61"
        ],
        [
         "AR-10825",
         "Anthony Rawles",
         2016,
         "370.30"
        ],
        [
         "AG-10495",
         "Andrew Gjertsen",
         2017,
         "25.05"
        ],
        [
         "EB-13840",
         "Ellis Ballard",
         2017,
         "81.70"
        ],
        [
         "BS-11380",
         "Bil Stewart",
         2017,
         "-228.10"
        ],
        [
         "KT-16480",
         "Kean Thornton",
         2014,
         "103.44"
        ],
        [
         "MH-17785",
         "Maya Herman",
         2015,
         "94.71"
        ],
        [
         "CR-12625",
         "Corey Roper",
         2016,
         "30.45"
        ],
        [
         "NF-18475",
         "Neil Franzsisch",
         2015,
         "72.89"
        ],
        [
         "GZ-14545",
         "George Zrebassa",
         2014,
         "12.00"
        ],
        [
         "DO-13435",
         "Denny Ordway",
         2016,
         "8.50"
        ],
        [
         "BK-11260",
         "Berenike Kampe",
         2016,
         "2.23"
        ],
        [
         "AF-10870",
         "Art Ferguson",
         2015,
         "2.02"
        ],
        [
         "SH-20395",
         "ShahiHopkins",
         2017,
         "106.91"
        ],
        [
         "VT-21700",
         "Valerie Takahito",
         2014,
         "33.00"
        ],
        [
         "NK-18490",
         "Neil Knudson",
         2016,
         "39.41"
        ],
        [
         "HG-14965",
         "Henry Goldwyn",
         2016,
         "136.14"
        ],
        [
         "QJ-19255",
         "Quincy Jones",
         2015,
         "1014.47"
        ],
        [
         "DN-13690",
         "Duane Noonan",
         2016,
         "222.39"
        ],
        [
         "AS-10225",
         "Alan Schoenberger",
         2017,
         "268.43"
        ],
        [
         "HG-14965",
         "Henry Goldwyn",
         2017,
         "-2971.38"
        ],
        [
         "DB-13360",
         "Dennis Bolton",
         2016,
         "81.97"
        ],
        [
         "TS-21655",
         "Trudy Schmidt",
         2017,
         "-110.05"
        ],
        [
         "JG-15160",
         "James Galang",
         2016,
         "230.36"
        ],
        [
         "BS-11590",
         "Brendan Sweed",
         2015,
         "103.10"
        ],
        [
         "BP-11230",
         "Benjamin Patterson",
         2015,
         "-255.74"
        ],
        [
         "MH-17785",
         "Maya Herman",
         2017,
         "3.35"
        ],
        [
         "SW-20755",
         "Steven Ward",
         2014,
         "19.72"
        ],
        [
         "KB-16315",
         "Karl Braun",
         2016,
         "27.53"
        ],
        [
         "BB-11545",
         "Brenda Bowman",
         2015,
         "-77.85"
        ],
        [
         "TZ-21580",
         "Tracy Zic",
         2016,
         "75.98"
        ],
        [
         "SZ-20035",
         "Sam Zeldin",
         2015,
         "260.19"
        ],
        [
         "LW-16825",
         "Laurel Workman",
         2017,
         "2.32"
        ],
        [
         "JP-15460",
         "Jennifer Patt",
         2016,
         "307.34"
        ],
        [
         "SM-20320",
         "Sean Miller",
         2014,
         "-1789.74"
        ],
        [
         "RB-19435",
         "Richard Bierner",
         2017,
         "362.94"
        ],
        [
         "AA-10315",
         "Alex Avila",
         2015,
         "7.00"
        ],
        [
         "PL-18925",
         "Paul Lucas",
         2016,
         "-13.65"
        ],
        [
         "MK-17905",
         "Michael Kennedy",
         2016,
         "-456.26"
        ],
        [
         "SV-20365",
         "Seth Vernon",
         2016,
         "39.77"
        ],
        [
         "AG-10900",
         "Arthur Gainer",
         2017,
         "-71.97"
        ],
        [
         "JM-15655",
         "Jim Mitchum",
         2016,
         "65.90"
        ],
        [
         "JP-16135",
         "Julie Prescott",
         2017,
         "19.51"
        ],
        [
         "CA-12310",
         "Christine Abelman",
         2016,
         "2.10"
        ],
        [
         "LH-16900",
         "Lena Hernandez",
         2017,
         "65.22"
        ],
        [
         "RH-19495",
         "Rick Hansen",
         2014,
         "34.94"
        ],
        [
         "PG-18820",
         "Patrick Gardner",
         2016,
         "551.30"
        ],
        [
         "RA-19945",
         "Ryan Akin",
         2017,
         "-105.50"
        ],
        [
         "AS-10240",
         "Alan Shonely",
         2014,
         "37.35"
        ],
        [
         "CP-12085",
         "Cathy Prescott",
         2017,
         "230.57"
        ],
        [
         "JK-15625",
         "Jim Karlsson",
         2015,
         "438.00"
        ],
        [
         "GM-14455",
         "Gary Mitchum",
         2017,
         "374.62"
        ],
        [
         "JL-15235",
         "Janet Lee",
         2015,
         "53.47"
        ],
        [
         "DP-13165",
         "David Philippe",
         2015,
         "1.00"
        ],
        [
         "RA-19885",
         "Ruben Ausman",
         2016,
         "3.89"
        ],
        [
         "AA-10375",
         "Allen Armold",
         2014,
         "16.72"
        ],
        [
         "RF-19735",
         "Roland Fjeld",
         2014,
         "22.65"
        ],
        [
         "LC-16870",
         "NA",
         2017,
         "-3.90"
        ],
        [
         "IG-15085",
         "Ivan Gibson",
         2017,
         "92.92"
        ],
        [
         "GG-14650",
         "Greg Guthrie",
         2017,
         "-10.07"
        ],
        [
         "KH-16330",
         "Katharine Harms",
         2016,
         "43.90"
        ],
        [
         "AW-10930",
         "Arthur Wiediger",
         2015,
         "64.25"
        ],
        [
         "AS-10090",
         "Adam Shillingsburg",
         2015,
         "243.86"
        ],
        [
         "AR-10345",
         "Alex Russell",
         2015,
         "-2.57"
        ],
        [
         "KL-16555",
         "Kelly Lampkin",
         2016,
         "50.12"
        ],
        [
         "MD-17860",
         "Michael Dominguez",
         2014,
         "-47.36"
        ],
        [
         "DB-13210",
         "Dean Braden",
         2015,
         "-41.79"
        ],
        [
         "DB-13270",
         "Deborah Brumfield",
         2017,
         "-15.55"
        ],
        [
         "PT-19090",
         "Pete Takahito",
         2014,
         "-8.03"
        ],
        [
         "GM-14680",
         "Greg Matthias",
         2016,
         "-121.94"
        ],
        [
         "SO-20335",
         "Sean ODonnell",
         2017,
         "200.89"
        ],
        [
         "GH-14410",
         "Gary Hansen",
         2016,
         "-173.08"
        ],
        [
         "AH-10075",
         "Adam Hart",
         2015,
         "0.34"
        ],
        [
         "MM-18055",
         "Michelle Moray",
         2014,
         "130.68"
        ],
        [
         "CC-12145",
         "Charles Crestani",
         2014,
         "78.74"
        ],
        [
         "CC-12685",
         "Craig Carroll",
         2015,
         "895.35"
        ],
        [
         "KM-16720",
         "Kunst Miller",
         2015,
         "112.10"
        ],
        [
         "HA-14920",
         "Helen Andreada",
         2015,
         "197.84"
        ],
        [
         "MG-18145",
         "Mike Gockenbach",
         2014,
         "-152.72"
        ],
        [
         "EP-13915",
         "Emily Phan",
         2014,
         "175.00"
        ],
        [
         "SC-20050",
         "Sample Company A",
         2015,
         "9.10"
        ],
        [
         "FH-14365",
         "Fred Hopkins",
         2016,
         "6.91"
        ],
        [
         "JD-16150",
         "Justin Deggeller",
         2015,
         "212.64"
        ],
        [
         "JK-15640",
         "Jim Kriz",
         2017,
         "981.67"
        ],
        [
         "AS-10630",
         "Ann Steele",
         2015,
         "-10.81"
        ],
        [
         "KD-16345",
         "Katherine Ducich",
         2017,
         "20.36"
        ],
        [
         "AC-10450",
         "Amy Cox",
         2016,
         "381.04"
        ],
        [
         "DJ-13510",
         "Don Jones",
         2017,
         "57.32"
        ],
        [
         "JB-15925",
         "Joni Blumstein",
         2015,
         "-359.56"
        ],
        [
         "ES-14080",
         "Erin Smith",
         2014,
         "134.03"
        ],
        [
         "LS-16975",
         "Lindsay Shagiari",
         2015,
         "-108.20"
        ],
        [
         "EK-13795",
         "Eileen Kiefer",
         2017,
         "6.07"
        ],
        [
         "DB-13360",
         "Dennis Bolton",
         2014,
         "79.89"
        ],
        [
         "NZ-18565",
         "Nick Zandusky",
         2016,
         "-30.61"
        ],
        [
         "FH-14350",
         "Fred Harton",
         2017,
         "340.37"
        ],
        [
         "PO-18850",
         "Patrick OBrill",
         2016,
         "-316.63"
        ],
        [
         "PV-18985",
         "PaulVan Hugh",
         2016,
         "155.32"
        ],
        [
         "JF-15490",
         "Jeremy Farry",
         2014,
         "35.40"
        ],
        [
         "SK-19990",
         "Sally Knutson",
         2017,
         "165.35"
        ],
        [
         "HM-14980",
         "Henry MacAllister",
         2015,
         "73.82"
        ],
        [
         "RB-19645",
         "Robert Barroso",
         2016,
         "19.33"
        ],
        [
         "BS-11590",
         "Brendan Sweed",
         2017,
         "168.47"
        ],
        [
         "TS-21370",
         "Todd Sumrall",
         2017,
         "1218.01"
        ],
        [
         "JK-16120",
         "Julie Kriz",
         2015,
         "47.93"
        ],
        [
         "AG-10300",
         "Aleksandra Gannaway",
         2014,
         "28.75"
        ],
        [
         "IM-15070",
         "Irene Maddox",
         2016,
         "329.30"
        ],
        [
         "EM-14095",
         "Eudokia Martin",
         2015,
         "192.67"
        ],
        [
         "VW-21775",
         "Victoria Wilson",
         2014,
         "-65.32"
        ],
        [
         "MC-18130",
         "Mike Caudle",
         2015,
         "9.81"
        ],
        [
         "DK-13150",
         "David K lendrick",
         2017,
         "171.77"
        ],
        [
         "SW-20245",
         "Scot Wooten",
         2015,
         "-10.84"
        ],
        [
         "DP-13390",
         "Dennis Pardue",
         2016,
         "1694.64"
        ],
        [
         "VG-21805",
         "Vivek Grady",
         2014,
         "-82.88"
        ],
        [
         "SC-20020",
         "Sam Craven",
         2015,
         "43.32"
        ],
        [
         "SC-20800",
         "Stuart Calhoun",
         2016,
         "9.00"
        ],
        [
         "BP-11050",
         "Barry Pond",
         2014,
         "2.50"
        ],
        [
         "DK-12895",
         "Dana Kaydos",
         2015,
         "609.59"
        ],
        [
         "CV-12805",
         "Cynthia Voltz",
         2017,
         "134.09"
        ],
        [
         "RP-19855",
         "Roy Phan",
         2015,
         "375.38"
        ],
        [
         "DG-13300",
         "Deirdre Greer",
         2015,
         "0.42"
        ],
        [
         "RF-19840",
         "Roy Franzsisch",
         2016,
         "264.16"
        ],
        [
         "ME-17320",
         "Maria Etezadi",
         2017,
         "74.00"
        ],
        [
         "BS-11665",
         "Brian Stugart",
         2015,
         "175.39"
        ],
        [
         "TS-21430",
         "Tom Stivers",
         2017,
         "14.71"
        ],
        [
         "EM-13825",
         "Elizabeth Moffitt",
         2017,
         "444.42"
        ],
        [
         "NL-18310",
         "Nancy Lomonaco",
         2014,
         "8.28"
        ],
        [
         "KC-16675",
         "Kimberly Carter",
         2016,
         "-4.95"
        ],
        [
         "RD-19930",
         "Russell DAscenzo",
         2014,
         "-23.29"
        ],
        [
         "EC-14050",
         "Erin Creighton",
         2014,
         "-4.02"
        ],
        [
         "LM-17065",
         "Liz MacKendrick",
         2015,
         "-142.52"
        ],
        [
         "TS-21205",
         "Thomas Seio",
         2014,
         "471.81"
        ],
        [
         "PB-19150",
         "Philip Brown",
         2014,
         "12.30"
        ],
        [
         "RL-19615",
         "Rob Lucas",
         2014,
         "42.29"
        ],
        [
         "DH-13075",
         "Dave Hallsten",
         2015,
         "783.24"
        ],
        [
         "RD-19930",
         "Russell DAscenzo",
         2017,
         "19.33"
        ],
        [
         "IL-15100",
         "Ivan Liston",
         2017,
         "438.68"
        ],
        [
         "CS-12355",
         "Christine Sundaresam",
         2016,
         "10.32"
        ],
        [
         "BG-11740",
         "Bruce Geld",
         2014,
         "3.22"
        ],
        [
         "MJ-17740",
         "Max Jones",
         2017,
         "403.72"
        ],
        [
         "BB-11545",
         "Brenda Bowman",
         2017,
         "660.69"
        ],
        [
         "MZ-17335",
         "Maria Zettner",
         2015,
         "69.35"
        ],
        [
         "JB-16000",
         "Joy Bell",
         2016,
         "15.97"
        ],
        [
         "SP-20920",
         "Susan Pistek",
         2017,
         "-18.55"
        ],
        [
         "JK-15205",
         "Jamie Kunitz",
         2016,
         "1.03"
        ],
        [
         "JR-16210",
         "Justin Ritter",
         2015,
         "152.39"
        ],
        [
         "MV-18190",
         "Mike Vitt orini",
         2017,
         "21.47"
        ],
        [
         "RP-19270",
         "Rachel Payne",
         2016,
         "11.70"
        ],
        [
         "DB-13615",
         "Doug Bickford",
         2015,
         "342.08"
        ],
        [
         "AC-10420",
         "Alyssa Crouse",
         2016,
         "21.59"
        ],
        [
         "CA-12775",
         "Cynthia Arntzen",
         2016,
         "1.67"
        ],
        [
         "RH-19555",
         "Ritsa Hightower",
         2015,
         "-6.03"
        ],
        [
         "TC-21295",
         "Toby Carlisle",
         2017,
         "231.66"
        ],
        [
         "ND-18460",
         "Neil Ducich",
         2014,
         "45.43"
        ],
        [
         "SD-20485",
         "Shirley Daniels",
         2017,
         "-113.20"
        ],
        [
         "PW-19030",
         "Pauline Webber",
         2015,
         "15.15"
        ],
        [
         "CS-12250",
         "Chris Selesnick",
         2017,
         "174.26"
        ],
        [
         "BD-11560",
         "Brendan Dodson",
         2017,
         "80.24"
        ],
        [
         "RD-19810",
         "Ross DeVincentis",
         2014,
         "7.66"
        ],
        [
         "SW-20245",
         "Scot Wooten",
         2014,
         "-27.20"
        ],
        [
         "SP-20650",
         "Stephanie Phelps",
         2014,
         "72.40"
        ],
        [
         "TN-21040",
         "Tanja Norvell",
         2014,
         "21.25"
        ],
        [
         "KD-16270",
         "Karen Danels",
         2016,
         "2318.71"
        ],
        [
         "NP-18325",
         "NA",
         2017,
         "41.82"
        ],
        [
         "TZ-21580",
         "Tracy Zic",
         2014,
         "132.30"
        ],
        [
         "LT-17110",
         "Liz Thompson",
         2015,
         "76.22"
        ],
        [
         "CA-12055",
         "Cthy Armstrong",
         2015,
         "-47.73"
        ],
        [
         "DR-12940",
         "Daniel Raglin",
         2017,
         "211.97"
        ],
        [
         "JD-16150",
         "Justin Deggeller",
         2016,
         "272.20"
        ],
        [
         "JK-15640",
         "Jim Kriz",
         2014,
         "10.19"
        ],
        [
         "TS-21160",
         "Theresa Swint",
         2016,
         "-48.91"
        ],
        [
         "DC-12850",
         "Dan Campbell",
         2016,
         "-239.55"
        ],
        [
         "AG-10675",
         "Anna Gayman",
         2017,
         "61.15"
        ],
        [
         "IM-15070",
         "Irene Maddox",
         2014,
         "240.60"
        ],
        [
         "NW-18400",
         "Natalie Webber",
         2015,
         "1654.06"
        ],
        [
         "JF-15415",
         "Jennifer Ferguson",
         2015,
         "56.64"
        ],
        [
         "MC-17425",
         "Mark Cousins",
         2014,
         "135.00"
        ],
        [
         "DW-13480",
         "Dianna Wilson",
         2017,
         "162.99"
        ],
        [
         "SV-20935",
         "Susan Vittorini",
         2016,
         "-30.20"
        ],
        [
         "SC-20695",
         "Steve Chapman",
         2016,
         "347.96"
        ],
        [
         "KM-16720",
         "Kunst Miller",
         2014,
         "213.70"
        ],
        [
         "RA-19285",
         "Ralph Arnett",
         2015,
         "234.81"
        ],
        [
         "MG-17650",
         "Matthew Grinstein",
         2017,
         "112.69"
        ],
        [
         "LP-17080",
         "Liz Pelletier",
         2016,
         "21.94"
        ],
        [
         "GG-14650",
         "Greg Guthrie",
         2014,
         "122.55"
        ],
        [
         "AA-10375",
         "Allen Armold",
         2017,
         "68.92"
        ],
        [
         "YS-21880",
         "Yana Sorensen",
         2017,
         "1524.13"
        ],
        [
         "NK-18490",
         "Neil Knudson",
         2015,
         "1.79"
        ],
        [
         "AB-10105",
         "Adrian Barton",
         2017,
         "340.64"
        ],
        [
         "TT-21070",
         "Ted Trevino",
         2017,
         "422.93"
        ],
        [
         "MP-18175",
         "Mike Pelletier",
         2017,
         "119.69"
        ],
        [
         "KB-16585",
         "Ken Black",
         2015,
         "66.42"
        ],
        [
         "SJ-20215",
         "Sarah Jordon",
         2017,
         "-26.04"
        ],
        [
         "CM-12115",
         "Chad McGuire",
         2015,
         "8.11"
        ],
        [
         "NB-18655",
         "Nona Balk",
         2014,
         "87.38"
        ],
        [
         "PL-18925",
         "Paul Lucas",
         2014,
         "31.83"
        ],
        [
         "JS-15685",
         "Jim Sink",
         2016,
         "-99.99"
        ],
        [
         "MM-17260",
         "Magdelene Morse",
         2014,
         "51.36"
        ],
        [
         "EH-13945",
         "Eric Hoffmann",
         2016,
         "-13.38"
        ],
        [
         "HM-14980",
         "Henry MacAllister",
         2017,
         "41.23"
        ],
        [
         "PG-18895",
         "Paul Gonzalez",
         2016,
         "10.71"
        ],
        [
         "JR-16210",
         "Justin Ritter",
         2017,
         "255.77"
        ],
        [
         "DB-12970",
         "Darren Budd",
         2014,
         "17.78"
        ],
        [
         "NC-18535",
         "Nick Crebassa",
         2016,
         "16.79"
        ],
        [
         "MY-17380",
         "Maribeth Yedwab",
         2017,
         "283.44"
        ],
        [
         "JC-15340",
         "Jasper Cacioppo",
         2016,
         "-4.08"
        ],
        [
         "CM-12160",
         "Charles McCrossin",
         2017,
         "-78.62"
        ],
        [
         "EH-14005",
         "Erica Hernandez",
         2016,
         "9.95"
        ],
        [
         "CM-11935",
         "Carlos Meador",
         2015,
         "13.17"
        ],
        [
         "CY-12745",
         "Craig Yedwab",
         2014,
         "-336.63"
        ],
        [
         "CC-12610",
         "Corey Catlett",
         2015,
         "18.31"
        ],
        [
         "HL-15040",
         "Hunter Lopez",
         2016,
         "128.54"
        ],
        [
         "TS-21505",
         "NA",
         2017,
         "-6.23"
        ],
        [
         "JM-16195",
         "Justin MacKendrick",
         2015,
         "221.33"
        ],
        [
         "CK-12760",
         "Cyma Kinney",
         2016,
         "101.86"
        ],
        [
         "RC-19825",
         "Roy Collins",
         2016,
         "56.69"
        ],
        [
         "SC-20845",
         "Sung Chung",
         2016,
         "1.23"
        ],
        [
         "MC-17590",
         "Matt Collister",
         2017,
         "47.18"
        ],
        [
         "JE-15745",
         "Joel Eaton",
         2014,
         "42.09"
        ],
        [
         "CM-11815",
         "Candace McMahon",
         2016,
         "3.69"
        ],
        [
         "LF-17185",
         "Luke Foster",
         2015,
         "146.21"
        ],
        [
         "GM-14440",
         "Gary McGarr",
         2016,
         "108.18"
        ],
        [
         "JF-15295",
         "Jason Fortune",
         2014,
         "47.35"
        ],
        [
         "GM-14500",
         "Gene McClure",
         2017,
         "61.60"
        ],
        [
         "AH-10690",
         "Anna Hberlin",
         2014,
         "46.20"
        ],
        [
         "AR-10345",
         "Alex Russell",
         2014,
         "-242.44"
        ],
        [
         "JC-15775",
         "John Castell",
         2014,
         "64.08"
        ],
        [
         "FP-14320",
         "Frank Preis",
         2014,
         "138.01"
        ],
        [
         "AB-10255",
         "Alejandro Ballentine",
         2016,
         "26.07"
        ],
        [
         "TS-21610",
         "Troy Staebel",
         2014,
         "-227.49"
        ],
        [
         "GW-14605",
         "Giulietta Weimer",
         2015,
         "134.33"
        ],
        [
         "FM-14290",
         "Frank Merwin",
         2016,
         "-356.98"
        ],
        [
         "RW-19690",
         "Robert Waldorf",
         2016,
         "-2.63"
        ],
        [
         "ON-18715",
         "Odella Nelson",
         2016,
         "-157.53"
        ],
        [
         "RB-19645",
         "Robert Barroso",
         2015,
         "28.43"
        ],
        [
         "JS-16030",
         "Joy Smith",
         2016,
         "451.92"
        ],
        [
         "RB-19360",
         "Raymond Buch",
         2016,
         "195.46"
        ],
        [
         "EB-13750",
         "Edward Becker",
         2017,
         "-397.51"
        ],
        [
         "NP-18670",
         "Nra Paige",
         2016,
         "246.10"
        ],
        [
         "SF-20065",
         "Sandra Flanagan",
         2015,
         "15.98"
        ],
        [
         "JJ-15445",
         "Jennifer Jackson",
         2016,
         "18.71"
        ],
        [
         "DB-12970",
         "Darren Budd",
         2016,
         "84.30"
        ],
        [
         "CB-12535",
         "Claudia Bergmann",
         2015,
         "249.13"
        ],
        [
         "KH-16510",
         "Keith Herrera",
         2017,
         "431.29"
        ],
        [
         "VG-21805",
         "Vivek Grady",
         2017,
         "2.41"
        ],
        [
         "CC-12100",
         "Chad Cunningham",
         2015,
         "77.45"
        ],
        [
         "LS-17200",
         "Luke Schmidt",
         2017,
         "57.82"
        ],
        [
         "SF-20200",
         "Sarah Foster",
         2015,
         "-87.01"
        ],
        [
         "AR-10510",
         "Andrew Roberts",
         2015,
         "27.99"
        ],
        [
         "JL-15175",
         "James Lanier",
         2015,
         "41.14"
        ],
        [
         "LL-16840",
         "Lauren Leatherbury",
         2014,
         "110.88"
        ],
        [
         "JK-15325",
         "Jason Klamczynski",
         2016,
         "11.68"
        ],
        [
         "TB-21175",
         "Thomas Boland",
         2014,
         "6.04"
        ],
        [
         "BP-11095",
         "Bart Pistole",
         2017,
         "228.64"
        ],
        [
         "RS-19870",
         "Roy Skaria",
         2016,
         "3.50"
        ],
        [
         "TA-21385",
         "Tom Ashbrook",
         2017,
         "4599.21"
        ],
        [
         "JS-15880",
         "John Stevenson",
         2014,
         "-94.66"
        ],
        [
         "PJ-19015",
         "Pauline Johnson",
         2017,
         "609.43"
        ],
        [
         "RA-19915",
         "Russell Applegate",
         2016,
         "115.46"
        ],
        [
         "SS-20875",
         "Sung Shariari",
         2017,
         "14.82"
        ],
        [
         "RC-19960",
         "Ryan Crowe",
         2017,
         "6.04"
        ],
        [
         "KB-16240",
         "Karen Bern",
         2017,
         "763.56"
        ],
        [
         "PN-18775",
         "Parhena Norris",
         2015,
         "6.46"
        ],
        [
         "CD-12790",
         "Cynthia Delaney",
         2014,
         "40.21"
        ],
        [
         "BP-11050",
         "Barry Pond",
         2016,
         "182.98"
        ],
        [
         "CC-12430",
         "Chuck Clark",
         2015,
         "60.39"
        ],
        [
         "RD-19585",
         "Rob Dowd",
         2016,
         "24.23"
        ],
        [
         "AS-10630",
         "Ann Steele",
         2016,
         "6.37"
        ],
        [
         "TT-21220",
         "Thomas Thornton",
         2016,
         "60.39"
        ],
        [
         "JE-16165",
         "Justin Ellison",
         2016,
         "776.35"
        ],
        [
         "CS-12175",
         "Charles Sheldon",
         2017,
         "-3.31"
        ],
        [
         "JK-15730",
         "Joe Kamberova",
         2014,
         "-212.61"
        ],
        [
         "ED-13885",
         "NA",
         2015,
         "574.81"
        ],
        [
         "GM-14500",
         "Gene McClure",
         2015,
         "359.46"
        ],
        [
         "CB-12415",
         "Christy Brittain",
         2015,
         "-3.49"
        ],
        [
         "KW-16435",
         "Kat rina Willman",
         2016,
         "32.16"
        ],
        [
         "MT-18070",
         "Michelle Tran",
         2015,
         "-6.29"
        ],
        [
         "EB-13840",
         "Ellis Ballard",
         2016,
         "0.00"
        ],
        [
         "RP-19855",
         "Roy Phan",
         2014,
         "56.53"
        ],
        [
         "BG-11035",
         "Barry Gonzalez",
         2014,
         "54.19"
        ],
        [
         "EH-14005",
         "Erica Hernandez",
         2014,
         "-248.96"
        ],
        [
         "CC-12670",
         "Craig Carreira",
         2014,
         "11.30"
        ],
        [
         "BW-11065",
         "Barry Weirich",
         2015,
         "12.11"
        ],
        [
         "MB-17305",
         "Maria Bertelson",
         2017,
         "65.67"
        ],
        [
         "AF-10885",
         "Art Foster",
         2016,
         "-5.75"
        ],
        [
         "KM-16660",
         "Khloe Miller",
         2016,
         "11.83"
        ],
        [
         "TC-21295",
         "Toby Carlisle",
         2016,
         "-27.83"
        ],
        [
         "RH-19510",
         "Rick Huthwaite",
         2014,
         "10.96"
        ],
        [
         "HW-14935",
         "Helen Waerman",
         2015,
         "17.20"
        ],
        [
         "AJ-10780",
         "Anthony Jacobs",
         2015,
         "5.32"
        ],
        [
         "BD-11620",
         "Brian DeCherney",
         2016,
         "20.18"
        ],
        [
         "JM-15250",
         "Janet Martin",
         2017,
         "-135.65"
        ],
        [
         "TR-21325",
         "Toby Ritter",
         2017,
         "76.80"
        ],
        [
         "VW-21775",
         "Victoria Wilson",
         2016,
         "-188.81"
        ],
        [
         "GT-14710",
         "Greg Tran",
         2016,
         "366.71"
        ],
        [
         "NC-18415",
         "Nathan Cano",
         2014,
         "10.04"
        ],
        [
         "GA-14515",
         "George Ashbrook",
         2016,
         "53.56"
        ],
        [
         "CC-12145",
         "Charles Crestani",
         2016,
         "7.86"
        ],
        [
         "AZ-10750",
         "Annie Zypern",
         2015,
         "34.34"
        ],
        [
         "GB-14530",
         "Ge orge Bell",
         2014,
         "-33.19"
        ],
        [
         "ML-17410",
         "Maris LaWare",
         2014,
         "254.24"
        ],
        [
         "BB-10990",
         "Barry Blumstein",
         2015,
         "-8.22"
        ],
        [
         "JD-16150",
         "Justin Deggeller",
         2014,
         "17.56"
        ],
        [
         "ME-17320",
         "Maria Etezadi",
         2016,
         "451.46"
        ],
        [
         "KH-16360",
         "Katherine Hughes",
         2014,
         "-32.05"
        ],
        [
         "KC-16255",
         "Karen Carlisle",
         2016,
         "523.09"
        ],
        [
         "GM-14440",
         "Gary McGarr",
         2017,
         "36.31"
        ],
        [
         "DV-13045",
         "Darrin Van Huff",
         2017,
         "-445.11"
        ],
        [
         "GM-14500",
         "Gene McClure",
         2014,
         "2.69"
        ],
        [
         "BF-10975",
         "Barbara Fisher",
         2016,
         "157.38"
        ],
        [
         "TS-21340",
         "Toby Swindell",
         2017,
         "7.29"
        ],
        [
         "CD-11920",
         "Carlos Daly",
         2015,
         "17.75"
        ],
        [
         "EH-13945",
         "Eric Hoffmann",
         2015,
         "10.62"
        ],
        [
         "KM-16225",
         "Kalyca Meade",
         2017,
         "128.93"
        ],
        [
         "GG-14650",
         "Greg Guthrie",
         2015,
         "-115.72"
        ],
        [
         "MG-17680",
         "Maureen Gastineau",
         2017,
         "14.18"
        ],
        [
         "CK-12760",
         "Cyma Kinney",
         2017,
         "-521.39"
        ],
        [
         "AT-10435",
         "Alyssa Tate",
         2014,
         "0.84"
        ],
        [
         "SS-20875",
         "Sung Shariari",
         2015,
         "-79.33"
        ],
        [
         "QJ-19255",
         "Quincy Jones",
         2014,
         "120.04"
        ],
        [
         "MC-17275",
         "Marc Crier",
         2014,
         "235.23"
        ],
        [
         "BP-11095",
         "Bart Pistole",
         2016,
         "19.68"
        ],
        [
         "PJ-18835",
         "Patrick Jones",
         2016,
         "8.20"
        ],
        [
         "MD-17350",
         "Maribeth Dona",
         2016,
         "-14.22"
        ],
        [
         "JM-15265",
         "Janet Molinari",
         2014,
         "59.06"
        ],
        [
         "AG-10270",
         "Alejandro Grove",
         2015,
         "16.96"
        ],
        [
         "GH-14425",
         "Gary Hwang",
         2017,
         "43.60"
        ],
        [
         "BF-11020",
         "Barry Franzsisch",
         2017,
         "4.60"
        ],
        [
         "PM-18940",
         "Paul MacIntyre",
         2015,
         "-21.71"
        ],
        [
         "JO-15145",
         "Jack OBriant",
         2016,
         "440.01"
        ],
        [
         "LB-16735",
         "Larry Blacks",
         2017,
         "7.91"
        ],
        [
         "CC-12610",
         "Corey Catlett",
         2017,
         "33.78"
        ],
        [
         "AJ-10780",
         "Anthony Jacobs",
         2017,
         "208.05"
        ],
        [
         "GB-14575",
         "Giulietta Baptist",
         2015,
         "767.60"
        ],
        [
         "FH-14275",
         "Frank Hawley",
         2016,
         "166.29"
        ],
        [
         "AJ-10960",
         "Astrea Jones",
         2014,
         "57.66"
        ],
        [
         "DL-12925",
         "Daniel Lacy",
         2017,
         "24.87"
        ],
        [
         "KL-16645",
         "Ken Lonsdale",
         2016,
         "-3.35"
        ],
        [
         "AF-10885",
         "Art Foster",
         2014,
         "-258.56"
        ],
        [
         "MG-17695",
         "Maureen Gnade",
         2014,
         "-22.64"
        ],
        [
         "SW-20350",
         "Sean Wendt",
         2016,
         "146.09"
        ],
        [
         "CM-12190",
         "Charlotte Melton",
         2017,
         "74.32"
        ],
        [
         "SC-20695",
         "Steve Chapman",
         2017,
         "-11.60"
        ],
        [
         "KD-16495",
         "Keith Dawkins",
         2014,
         "35.02"
        ],
        [
         "ME-18010",
         "Michelle Ellison",
         2014,
         "104.98"
        ],
        [
         "KA-16525",
         "Kelly Andreada",
         2015,
         "77.97"
        ],
        [
         "KD-16345",
         "Katherine Ducich",
         2015,
         "243.53"
        ],
        [
         "BV-11245",
         "Benjamin Venier",
         2016,
         "127.01"
        ],
        [
         "JS-15940",
         "Joni Sundaresam",
         2014,
         "2.87"
        ],
        [
         "VG-21805",
         "Vivek Grady",
         2016,
         "28.14"
        ],
        [
         "CK-12595",
         "Clytie Kelty",
         2015,
         "-36.93"
        ],
        [
         "LC-16930",
         "Linda Cazamias",
         2017,
         "12.04"
        ],
        [
         "JE-15610",
         "Jim Epp",
         2014,
         "27.19"
        ],
        [
         "DL-12925",
         "Daniel Lacy",
         2015,
         "304.39"
        ],
        [
         "JM-15265",
         "Janet Molinari",
         2016,
         "306.55"
        ],
        [
         "AS-10630",
         "Ann Steele",
         2017,
         "69.09"
        ],
        [
         "MF-17665",
         "Maureen Fritzler",
         2014,
         "-459.99"
        ],
        [
         "KL-16645",
         "Ken Lonsdale",
         2015,
         "252.53"
        ],
        [
         "ME-18010",
         "Michelle Ellison",
         2015,
         "8.77"
        ],
        [
         "GM-14695",
         "Greg Maxwell",
         2017,
         "-99.18"
        ],
        [
         "BE-11410",
         "Bobby Elias",
         2016,
         "577.20"
        ],
        [
         "RP-19855",
         "Roy Phan",
         2017,
         "19.81"
        ],
        [
         "CK-12595",
         "Clytie Kelty",
         2017,
         "211.09"
        ],
        [
         "EH-13945",
         "Eric Hoffmann",
         2017,
         "34.40"
        ],
        [
         "AC-10450",
         "Amy Cox",
         2017,
         "876.48"
        ],
        [
         "DP-13390",
         "Dennis Pardue",
         2017,
         "17.25"
        ],
        [
         "CR-12730",
         "Craig Reiter",
         2014,
         "-6.02"
        ],
        [
         "BN-11470",
         "Brad Norvell",
         2017,
         "7.84"
        ],
        [
         "RW-19540",
         "Rick Wi lson",
         2017,
         "1660.85"
        ],
        [
         "EH-14125",
         "Eugene Hildebrand",
         2015,
         "-117.87"
        ],
        [
         "BP-11185",
         "Ben Peterman",
         2016,
         "-33.89"
        ],
        [
         "PC-18745",
         "Pamela Coakley",
         2016,
         "76.98"
        ],
        [
         "RP-19270",
         "Rachel Payne",
         2015,
         "-50.04"
        ],
        [
         "BM-11575",
         "Brendan Murry",
         2016,
         "109.44"
        ],
        [
         "EB-14170",
         "Evan Bailliet",
         2014,
         "155.02"
        ],
        [
         "BT-11305",
         "Beth Thompson",
         2017,
         "39.23"
        ],
        [
         "NC-18340",
         "Nat Carroll",
         2017,
         "216.58"
        ],
        [
         "MM-18280",
         "Muhammed MacIntyre",
         2016,
         "8.84"
        ],
        [
         "AB-10600",
         "Ann Blume",
         2014,
         "-23.89"
        ],
        [
         "ZD-21925",
         "Zuschuss Donatelli",
         2014,
         "25.49"
        ],
        [
         "KH-16630",
         "Ken Heidel",
         2014,
         "128.43"
        ],
        [
         "PP-18955",
         "Paul Prost",
         2014,
         "472.39"
        ],
        [
         "SP-20620",
         "Stefania Perrino",
         2014,
         "67.46"
        ],
        [
         "LM-17065",
         "Liz MacKendrick",
         2016,
         "21.54"
        ],
        [
         "AM-10360",
         "Alice McCarthy",
         2014,
         "7.68"
        ],
        [
         "TC-21295",
         "Toby Carlisle",
         2014,
         "402.54"
        ],
        [
         "DK-13225",
         "Dean Katz",
         2017,
         "316.47"
        ],
        [
         "CP-12340",
         "Christine Phan",
         2015,
         "-1044.46"
        ],
        [
         "GB-14575",
         "Giulietta Baptist",
         2017,
         "295.02"
        ],
        [
         "DV-13465",
         "Dianna Vittorini",
         2014,
         "9.72"
        ],
        [
         "TT-21220",
         "Thomas Thornton",
         2014,
         "18.38"
        ],
        [
         "DS-13030",
         "Darrin Sayre",
         2014,
         "29.47"
        ],
        [
         "PS-18970",
         "Paul Stevenson",
         2017,
         "44.94"
        ],
        [
         "NZ-18565",
         "Nick Zandusky",
         2015,
         "82.82"
        ],
        [
         "JF-15415",
         "Jennifer Ferguson",
         2014,
         "28.14"
        ],
        [
         "AR-10405",
         "Allen Rosenblatt",
         2015,
         "105.47"
        ],
        [
         "VM-21685",
         "Valerie Mitchum",
         2017,
         "67.41"
        ],
        [
         "SJ-20215",
         "Sarah Jordon",
         2015,
         "5.90"
        ],
        [
         "FO-14305",
         "Frank Olsen",
         2016,
         "22.56"
        ],
        [
         "JH-15430",
         "Jennifer Halladay",
         2014,
         "18.79"
        ],
        [
         "MJ-17740",
         "Max Jones",
         2015,
         "-77.93"
        ],
        [
         "JL-15175",
         "James Lanier",
         2016,
         "-2.00"
        ],
        [
         "SS-20140",
         "Saphhira Shifley",
         2016,
         "6.55"
        ],
        [
         "GA-14725",
         "Guy Armstrong",
         2015,
         "11.54"
        ],
        [
         "GA-14515",
         "George Ashbrook",
         2015,
         "625.85"
        ],
        [
         "JH-15820",
         "John Huston",
         2014,
         "26.41"
        ],
        [
         "EM-13810",
         "NA",
         2017,
         "10.48"
        ],
        [
         "DO-13645",
         "Doug OConnell",
         2017,
         "267.03"
        ],
        [
         "MS-17770",
         "Maxwell Schwartz",
         2015,
         "209.33"
        ],
        [
         "RW-19540",
         "Rick Wi lson",
         2015,
         "-74.62"
        ],
        [
         "DA-13450",
         "Dianna Arnett",
         2014,
         "21.72"
        ],
        [
         "AA-10315",
         "Alex Avila",
         2016,
         "-747.09"
        ],
        [
         "FC-14335",
         "Fred Chung",
         2014,
         "112.57"
        ],
        [
         "JL-15850",
         "John Lucas",
         2015,
         "816.52"
        ],
        [
         "HA-14920",
         "Helen Andreada",
         2017,
         "12.71"
        ],
        [
         "EH-13945",
         "Eric Hoffmann",
         2014,
         "22.15"
        ],
        [
         "TD-20995",
         "Tamara Dahlen",
         2014,
         "9.23"
        ],
        [
         "JK-15325",
         "Jason Klamczynski",
         2017,
         "26.35"
        ],
        [
         "LA-16780",
         "Laura Armstrong",
         2017,
         "16.07"
        ],
        [
         "PO-18865",
         "Patrick ODonnell",
         2014,
         "132.18"
        ],
        [
         "EM-13825",
         "Elizabeth Moffitt",
         2014,
         "7.99"
        ],
        [
         "EM-14140",
         "Eugene Moren",
         2017,
         "76.76"
        ],
        [
         "AR-10405",
         "Allen Rosenblatt",
         2017,
         "-221.58"
        ],
        [
         "TW-21025",
         "Tamara Willingham",
         2014,
         "100.14"
        ],
        [
         "ML-17755",
         "Max Ludwig",
         2016,
         "63.83"
        ],
        [
         "CL-11890",
         "Carl Ludwig",
         2014,
         "-29.34"
        ],
        [
         "HA-14920",
         "Helen Andreada",
         2014,
         "-57.04"
        ],
        [
         "BK-11260",
         "Berenike Kampe",
         2017,
         "21.45"
        ],
        [
         "ES-14020",
         "Erica Smith",
         2014,
         "15.22"
        ],
        [
         "AR-10540",
         "Andy Reiter",
         2016,
         "9.53"
        ],
        [
         "NM-18520",
         "Neoma Murray",
         2017,
         "2.82"
        ],
        [
         "ND-18370",
         "Natalie DeCherney",
         2017,
         "-84.03"
        ],
        [
         "AP-10720",
         "Anne Pryor",
         2014,
         "54.65"
        ],
        [
         "RE-19405",
         "Ricardo Emerson",
         2014,
         "6.05"
        ],
        [
         "PW-19240",
         "Pierre Wener",
         2015,
         "1378.01"
        ],
        [
         "KH-16330",
         "Katharine Harms",
         2017,
         "150.46"
        ],
        [
         "JP-15520",
         "Jeremy Pistek",
         2015,
         "5.01"
        ],
        [
         "HK-14890",
         "Heather Kirkland",
         2014,
         "240.86"
        ],
        [
         "MA-17995",
         "Michelle Arnett",
         2015,
         "3.48"
        ],
        [
         "NM-18445",
         "Nathan Mautz",
         2015,
         "333.50"
        ],
        [
         "MH-18025",
         "Michelle Huthwaite",
         2015,
         "91.16"
        ],
        [
         "MH-17290",
         "Marc Harrigan",
         2017,
         "-42.62"
        ],
        [
         "AR-10825",
         "Anthony Rawles",
         2015,
         "9.33"
        ],
        [
         "RS-19765",
         "Roland Schwarz",
         2017,
         "649.38"
        ],
        [
         "TW-21025",
         "Tamara Willingham",
         2015,
         "610.30"
        ],
        [
         "DH-13075",
         "Dave Hallsten",
         2017,
         "106.98"
        ],
        [
         "EB-14110",
         "Eugene Barchas",
         2015,
         "44.54"
        ],
        [
         "ME-17725",
         "Max Engle",
         2015,
         "39.77"
        ],
        [
         "CG-12520",
         "Claire Gute",
         2017,
         "1.82"
        ],
        [
         "JM-15655",
         "Jim Mitchum",
         2014,
         "7.72"
        ],
        [
         "DB-13060",
         "Dave Brooks",
         2017,
         "-231.31"
        ],
        [
         "WB-21850",
         "William Brown",
         2017,
         "401.51"
        ],
        [
         "BM-11140",
         "Becky Martin",
         2017,
         "99.90"
        ],
        [
         "RD-19900",
         "Ruben Dartt",
         2017,
         "82.84"
        ],
        [
         "ES-14080",
         "Erin Smith",
         2015,
         "-27.16"
        ],
        [
         "CA-12310",
         "Christine Abelman",
         2017,
         "143.36"
        ],
        [
         "LW-17215",
         "Luke Weiss",
         2017,
         "67.07"
        ],
        [
         "JE-15745",
         "Joel Eaton",
         2015,
         "-507.06"
        ],
        [
         "JK-15325",
         "Jason Klamczynski",
         2014,
         "17.55"
        ],
        [
         "RO-19780",
         "Rose OBrian",
         2015,
         "-998.00"
        ],
        [
         "MG-17695",
         "Maureen Gnade",
         2016,
         "16.70"
        ],
        [
         "BP-11095",
         "Bart Pistole",
         2014,
         "131.71"
        ],
        [
         "MT-17815",
         "Meg Tillman",
         2015,
         "1.78"
        ],
        [
         "PK-19075",
         "Pete Kriz",
         2017,
         "1617.17"
        ],
        [
         "TT-21220",
         "Thomas Thornton",
         2015,
         "52.51"
        ],
        [
         "KM-16660",
         "Khloe Miller",
         2017,
         "41.49"
        ],
        [
         "AG-10525",
         "Andy Gerbode",
         2015,
         "-59.22"
        ],
        [
         "GW-14605",
         "Giulietta Weimer",
         2017,
         "-451.09"
        ],
        [
         "RD-19720",
         "Roger Demir",
         2014,
         "73.68"
        ],
        [
         "BN-11470",
         "Brad Norvell",
         2015,
         "4.09"
        ],
        [
         "FC-14245",
         "Frank Carlisle",
         2017,
         "209.40"
        ],
        [
         "TS-21430",
         "Tom Stivers",
         2014,
         "17.14"
        ],
        [
         "CM-11815",
         "Candace McMahon",
         2017,
         "185.93"
        ],
        [
         "KC-16255",
         "Karen Carlisle",
         2015,
         "279.99"
        ],
        [
         "CB-12025",
         "Cassandra Brandow",
         2017,
         "-239.46"
        ],
        [
         "MC-17575",
         "Matt Collins",
         2015,
         "62.77"
        ],
        [
         "MH-17440",
         "Mark Haberlin",
         2014,
         "48.85"
        ],
        [
         "AM-10360",
         "Alice McCarthy",
         2017,
         "-1.57"
        ],
        [
         "LH-17020",
         "Lisa Hazard",
         2015,
         "-27.00"
        ],
        [
         "JK-15730",
         "Joe Kamberova",
         2016,
         "194.58"
        ],
        [
         "AC-10450",
         "Amy Cox",
         2014,
         "84.00"
        ],
        [
         "LW-17215",
         "Luke Weiss",
         2016,
         "350.01"
        ],
        [
         "RO-19780",
         "Rose OBrian",
         2017,
         "-174.32"
        ],
        [
         "TT-21460",
         "Tonja Turnell",
         2015,
         "281.00"
        ],
        [
         "LW-16990",
         "Lindsay Williams",
         2016,
         "322.32"
        ],
        [
         "AJ-10780",
         "Anthony Jacobs",
         2016,
         "-5.70"
        ],
        [
         "VG-21790",
         "Vivek Gonzalez",
         2016,
         "18.48"
        ],
        [
         "AR-10540",
         "Andy Reiter",
         2014,
         "20.12"
        ],
        [
         "DG-13300",
         "Deirdre Greer",
         2017,
         "530.95"
        ],
        [
         "RD-19720",
         "Roger Demir",
         2015,
         "23.85"
        ],
        [
         "NP-18685",
         "Nora Pelletier",
         2016,
         "31.42"
        ],
        [
         "LC-17140",
         "Logan Currie",
         2014,
         "-26.60"
        ],
        [
         "SV-20365",
         "Seth Vernon",
         2015,
         "-191.64"
        ],
        [
         "AH-10030",
         "Aaron Hawkins",
         2016,
         "38.04"
        ],
        [
         "PT-19090",
         "Pete Takahito",
         2017,
         "5.50"
        ],
        [
         "DB-13120",
         "David Bremer",
         2017,
         "-1136.72"
        ],
        [
         "JO-15550",
         "Jesus Ocampo",
         2015,
         "153.91"
        ],
        [
         "JK-15370",
         "Jay Kimmel",
         2014,
         "129.54"
        ],
        [
         "MV-17485",
         "Mark Van Huff",
         2017,
         "68.79"
        ],
        [
         "SV-20815",
         "Stuart Van",
         2017,
         "4.20"
        ],
        [
         "PW-19030",
         "Pauline Webber",
         2016,
         "437.40"
        ],
        [
         "EB-13975",
         "Erica Bern",
         2016,
         "151.89"
        ],
        [
         "TS-21205",
         "Thomas Seio",
         2017,
         "286.36"
        ],
        [
         "JK-15370",
         "Jay Kimmel",
         2015,
         "37.34"
        ],
        [
         "VM-21835",
         "Vivian Mathis",
         2016,
         "103.16"
        ],
        [
         "JG-15115",
         "Jack Garza",
         2014,
         "734.70"
        ],
        [
         "JE-15610",
         "Jim Epp",
         2015,
         "-129.89"
        ],
        [
         "CS-12490",
         "Cindy Schnelling",
         2015,
         "-58.13"
        ],
        [
         "KE-16420",
         "Kat rina Edelman",
         2016,
         "19.00"
        ],
        [
         "SG-20080",
         "Sandra Glassco",
         2015,
         "352.20"
        ],
        [
         "NG-18355",
         "Nat Gilpin",
         2015,
         "8.05"
        ],
        [
         "HR-14830",
         "Harold Ryan",
         2015,
         "116.94"
        ],
        [
         "AM-10360",
         "Alice McCarthy",
         2015,
         "178.90"
        ],
        [
         "SS-20590",
         "Sonia Sunley",
         2016,
         "112.38"
        ],
        [
         "BF-11020",
         "Barry Franzsisch",
         2015,
         "269.31"
        ],
        [
         "RF-19840",
         "Roy Franzsisch",
         2014,
         "16.17"
        ],
        [
         "MH-17455",
         "Mark Hamilton",
         2014,
         "8.49"
        ],
        [
         "JM-15655",
         "Jim Mitchum",
         2017,
         "43.58"
        ],
        [
         "HG-15025",
         "Hunter Glantz",
         2014,
         "616.46"
        ],
        [
         "JW-16075",
         "Julia West",
         2015,
         "133.51"
        ],
        [
         "AJ-10780",
         "Anthony Jacobs",
         2014,
         "-56.95"
        ],
        [
         "PB-18805",
         "Patrick Bzostek",
         2017,
         "125.36"
        ],
        [
         "CT-11995",
         "Carol Triggs",
         2016,
         "-303.26"
        ],
        [
         "RO-19780",
         "Rose OBrian",
         2016,
         "-90.48"
        ],
        [
         "EC-14050",
         "Erin Creighton",
         2017,
         "57.37"
        ],
        [
         "CH-12070",
         "Cathy Hwang",
         2016,
         "126.90"
        ],
        [
         "JF-15295",
         "Jason Fortune",
         2017,
         "59.94"
        ],
        [
         "RC-19825",
         "Roy Collins",
         2014,
         "6.88"
        ],
        [
         "JS-15595",
         "Ji Stevenson",
         2017,
         "-53.73"
        ],
        [
         "MS-17710",
         "Maurice Satty",
         2014,
         "40.73"
        ],
        [
         "HK-14890",
         "Heather Kirkland",
         2016,
         "17.03"
        ],
        [
         "MA-17560",
         "Matt Abelman",
         2015,
         "619.07"
        ],
        [
         "RD-19810",
         "Ross DeVincentis",
         2017,
         "195.03"
        ],
        [
         "MW-18220",
         "Mitch Webber",
         2015,
         "24.50"
        ],
        [
         "Co-12640",
         "CoreyLock",
         2016,
         "19.19"
        ],
        [
         "EM-13825",
         "Elizabeth Moffitt",
         2016,
         "-8.32"
        ],
        [
         "KE-16420",
         "Kat rina Edelman",
         2014,
         "161.63"
        ],
        [
         "MF-17665",
         "Maureen Fritzler",
         2016,
         "118.46"
        ],
        [
         "EB-13705",
         "Ed Braxton",
         2015,
         "47.96"
        ],
        [
         "BF-11020",
         "Barry Franzsisch",
         2014,
         "7.21"
        ],
        [
         "BO-11425",
         "Bobby Odegard",
         2017,
         "57.39"
        ],
        [
         "AS-10045",
         "Aaron Smayling",
         2016,
         "92.14"
        ],
        [
         "SH-20635",
         "Stefanie Holloman",
         2014,
         "70.20"
        ],
        [
         "DK-13375",
         "Dennis Kane",
         2014,
         "109.61"
        ],
        [
         "DS-13030",
         "Darrin Sayre",
         2017,
         "164.31"
        ],
        [
         "EB-13870",
         "Emily Burns",
         2015,
         "242.30"
        ],
        [
         "CC-12145",
         "Charles Crestani",
         2015,
         "297.36"
        ],
        [
         "KM-16660",
         "Khloe Miller",
         2014,
         "3.00"
        ],
        [
         "MO-17800",
         "Meg OConnel",
         2017,
         "180.45"
        ],
        [
         "EK-13795",
         "Eileen Kiefer",
         2015,
         "20.54"
        ],
        [
         "AA-10480",
         "Andrew Allen",
         2017,
         "5.44"
        ],
        [
         "KW-16435",
         "Kat rina Willman",
         2015,
         "1600.85"
        ],
        [
         "DB-13615",
         "Doug Bickford",
         2016,
         "22.73"
        ],
        [
         "DM-13345",
         "Denise Monton",
         2015,
         "2.84"
        ],
        [
         "GZ-14545",
         "George Zrebassa",
         2017,
         "816.17"
        ],
        [
         "BT-11485",
         "Brad Thomas",
         2016,
         "9.48"
        ],
        [
         "TH-21550",
         "Tracy Hopkins",
         2015,
         "391.56"
        ],
        [
         "SS-20140",
         "Saphhira Shifley",
         2017,
         "387.73"
        ],
        [
         "SS-20590",
         "Sonia Sunley",
         2014,
         "15.51"
        ],
        [
         "JO-15280",
         "Jas OCarroll",
         2015,
         "203.94"
        ],
        [
         "DW-13585",
         "Dorothy Wardle",
         2016,
         "92.61"
        ],
        [
         "TB-21190",
         "Thomas Brumley",
         2015,
         "3.06"
        ],
        [
         "KD-16495",
         "Keith Dawkins",
         2016,
         "58.72"
        ],
        [
         "LT-17110",
         "Liz Thompson",
         2016,
         "28.38"
        ],
        [
         "RA-19915",
         "Russell Applegate",
         2017,
         "29.55"
        ],
        [
         "AS-10135",
         "Adrian Shami",
         2016,
         "1.50"
        ],
        [
         "TB-21280",
         "Toby Braunhardt",
         2014,
         "200.15"
        ],
        [
         "VT-21700",
         "Valerie Takahito",
         2015,
         "-257.93"
        ],
        [
         "FM-14215",
         "Filia McAdams",
         2017,
         "-24.75"
        ],
        [
         "DB-12910",
         "Daniel Byrd",
         2016,
         "146.83"
        ],
        [
         "SG-20605",
         "Speros Goranitis",
         2014,
         "274.85"
        ],
        [
         "FC-14245",
         "Frank Carlisle",
         2016,
         "972.25"
        ],
        [
         "JS-15880",
         "John Stevenson",
         2016,
         "266.74"
        ],
        [
         "CS-12400",
         "Christopher Schild",
         2014,
         "80.63"
        ],
        [
         "DO-13645",
         "Doug OConnell",
         2015,
         "26.82"
        ],
        [
         "IL-15100",
         "Ivan Liston",
         2015,
         "656.68"
        ],
        [
         "SF-20200",
         "Sarah Foster",
         2016,
         "21.14"
        ],
        [
         "CK-12325",
         "Christine Kargatis",
         2016,
         "59.08"
        ],
        [
         "BG-11695",
         "Brooke Gillingham",
         2017,
         "11.66"
        ],
        [
         "NC-18535",
         "Nick Crebassa",
         2014,
         "690.20"
        ],
        [
         "SS-20515",
         "Shirley Schmidt",
         2014,
         "11.05"
        ],
        [
         "LB-16735",
         "Larry Blacks",
         2016,
         "10.74"
        ],
        [
         "JD-15790",
         "John Dryer",
         2017,
         "10.49"
        ],
        [
         "CC-12550",
         "Clay Cheatham",
         2017,
         "34.30"
        ],
        [
         "TB-21190",
         "Thomas Brumley",
         2017,
         "13.98"
        ],
        [
         "DM-13525",
         "Don Miller",
         2015,
         "167.54"
        ],
        [
         "TS-21370",
         "Todd Sumrall",
         2015,
         "1135.10"
        ],
        [
         "CS-12130",
         "Chad Sievert",
         2016,
         "13.75"
        ],
        [
         "PB-19105",
         "Peter Bhler",
         2014,
         "204.07"
        ],
        [
         "EB-14170",
         "Evan Bailliet",
         2017,
         "3.52"
        ],
        [
         "MG-17875",
         "Michael Grace",
         2015,
         "-499.05"
        ],
        [
         "TC-21475",
         "Tony Chapman",
         2017,
         "76.21"
        ],
        [
         "MG-17890",
         "Michael Granlund",
         2014,
         "-4.80"
        ],
        [
         "ML-17755",
         "Max Ludwig",
         2017,
         "346.16"
        ],
        [
         "TB-21055",
         "Ted Butterfield",
         2017,
         "122.05"
        ],
        [
         "JE-15715",
         "Joe Elijah",
         2015,
         "50.83"
        ],
        [
         "MM-17920",
         "Michael Moore",
         2017,
         "-48.11"
        ],
        [
         "VP-21730",
         "Victor Preis",
         2017,
         "196.46"
        ],
        [
         "CB-12025",
         "Cassandra Brandow",
         2015,
         "223.45"
        ]
       ],
       "datasetInfos": [],
       "dbfsResultPath": null,
       "isJsonSchema": true,
       "metadata": {},
       "overflow": false,
       "plotOptions": {
        "customPlotOptions": {},
        "displayType": "table",
        "pivotAggregation": null,
        "pivotColumns": null,
        "xColumns": null,
        "yColumns": null
       },
       "removedWidgets": [],
       "schema": [
        {
         "metadata": "{}",
         "name": "Customer_ID",
         "type": "\"string\""
        },
        {
         "metadata": "{}",
         "name": "Customer_Name",
         "type": "\"string\""
        },
        {
         "metadata": "{}",
         "name": "Year",
         "type": "\"integer\""
        },
        {
         "metadata": "{}",
         "name": "Total_Profit",
         "type": "\"decimal(20,2)\""
        }
       ],
       "type": "table"
      }
     },
     "output_type": "display_data"
    }
   ],
   "source": [
    "%sql\n",
    "select \n",
    "Customer_ID,\n",
    "Customer_Name,\n",
    "Year,\n",
    "sum(profit) as Total_Profit\n",
    "from finance_data.db_data.sales_mart\n",
    "group by Customer_ID, Customer_Name, Year"
   ]
  },
  {
   "cell_type": "code",
   "execution_count": null,
   "metadata": {
    "application/vnd.databricks.v1+cell": {
     "cellMetadata": {
      "byteLimit": 2048000,
      "implicitDf": true,
      "rowLimit": 10000
     },
     "inputWidgets": {},
     "nuid": "be86246b-02df-4b15-a244-2b6d2cbea369",
     "showTitle": false,
     "title": ""
    }
   },
   "outputs": [
    {
     "data": {
      "text/html": [
       "<style scoped>\n",
       "  .table-result-container {\n",
       "    max-height: 300px;\n",
       "    overflow: auto;\n",
       "  }\n",
       "  table, th, td {\n",
       "    border: 1px solid black;\n",
       "    border-collapse: collapse;\n",
       "  }\n",
       "  th, td {\n",
       "    padding: 5px;\n",
       "  }\n",
       "  th {\n",
       "    text-align: left;\n",
       "  }\n",
       "</style><div class='table-result-container'><table class='table-result'><thead style='background-color: white'><tr><th>count(1)</th><th>table_name</th></tr></thead><tbody><tr><td>1851</td><td>raw_product_count</td></tr><tr><td>9994</td><td>refined_order_count</td></tr><tr><td>793</td><td>refined_customer_count</td></tr><tr><td>9994</td><td>raw_order_count</td></tr><tr><td>793</td><td>raw_customer_count</td></tr><tr><td>1818</td><td>refined_product_count</td></tr></tbody></table></div>"
      ]
     },
     "metadata": {
      "application/vnd.databricks.v1+output": {
       "addedWidgets": {},
       "aggData": [],
       "aggError": "",
       "aggOverflow": false,
       "aggSchema": [],
       "aggSeriesLimitReached": false,
       "aggType": "",
       "arguments": {},
       "columnCustomDisplayInfos": {},
       "data": [
        [
         1851,
         "raw_product_count"
        ],
        [
         9994,
         "refined_order_count"
        ],
        [
         793,
         "refined_customer_count"
        ],
        [
         9994,
         "raw_order_count"
        ],
        [
         793,
         "raw_customer_count"
        ],
        [
         1818,
         "refined_product_count"
        ]
       ],
       "datasetInfos": [],
       "dbfsResultPath": null,
       "isJsonSchema": true,
       "metadata": {},
       "overflow": false,
       "plotOptions": {
        "customPlotOptions": {},
        "displayType": "table",
        "pivotAggregation": null,
        "pivotColumns": null,
        "xColumns": null,
        "yColumns": null
       },
       "removedWidgets": [],
       "schema": [
        {
         "metadata": "{\"__autoGeneratedAlias\":\"true\"}",
         "name": "count(1)",
         "type": "\"long\""
        },
        {
         "metadata": "{}",
         "name": "table_name",
         "type": "\"string\""
        }
       ],
       "type": "table"
      }
     },
     "output_type": "display_data"
    }
   ],
   "source": [
    "%sql\n",
    "\n",
    "--TESTING : row count testing\n",
    "\n",
    "select count(*), 'raw_order_count' as table_name from finance_data.db_data.raw_order\n",
    "union\n",
    "select count(*), 'raw_product_count' as table_name from finance_data.db_data.raw_product\n",
    "union\n",
    "select count(*), 'raw_customer_count' as table_name from finance_data.db_data.raw_customer \n",
    "union\n",
    "select count(*), 'refined_order_count' as table_name from finance_data.db_data.refined_order\n",
    "union\n",
    "select count(*), 'refined_product_count' as table_name from finance_data.db_data.refined_product\n",
    "union\n",
    "select count(*), 'refined_customer_count' as table_name from finance_data.db_data.refined_customer; "
   ]
  },
  {
   "cell_type": "code",
   "execution_count": null,
   "metadata": {
    "application/vnd.databricks.v1+cell": {
     "cellMetadata": {
      "byteLimit": 2048000,
      "implicitDf": true,
      "rowLimit": 10000
     },
     "inputWidgets": {},
     "nuid": "4f8a7012-d36f-490e-9ce1-e6e0d7797e24",
     "showTitle": false,
     "title": ""
    }
   },
   "outputs": [
    {
     "data": {
      "text/html": [
       "<style scoped>\n",
       "  .table-result-container {\n",
       "    max-height: 300px;\n",
       "    overflow: auto;\n",
       "  }\n",
       "  table, th, td {\n",
       "    border: 1px solid black;\n",
       "    border-collapse: collapse;\n",
       "  }\n",
       "  th, td {\n",
       "    padding: 5px;\n",
       "  }\n",
       "  th {\n",
       "    text-align: left;\n",
       "  }\n",
       "</style><div class='table-result-container'><table class='table-result'><thead style='background-color: white'><tr><th>Product_id</th></tr></thead><tbody></tbody></table></div>"
      ]
     },
     "metadata": {
      "application/vnd.databricks.v1+output": {
       "addedWidgets": {},
       "aggData": [],
       "aggError": "",
       "aggOverflow": false,
       "aggSchema": [],
       "aggSeriesLimitReached": false,
       "aggType": "",
       "arguments": {},
       "columnCustomDisplayInfos": {},
       "data": [],
       "datasetInfos": [],
       "dbfsResultPath": null,
       "isJsonSchema": true,
       "metadata": {},
       "overflow": false,
       "plotOptions": {
        "customPlotOptions": {},
        "displayType": "table",
        "pivotAggregation": null,
        "pivotColumns": null,
        "xColumns": null,
        "yColumns": null
       },
       "removedWidgets": [],
       "schema": [
        {
         "metadata": "{}",
         "name": "Product_id",
         "type": "\"string\""
        }
       ],
       "type": "table"
      }
     },
     "output_type": "display_data"
    }
   ],
   "source": [
    "%sql\n",
    "--TESTING : dups check\n",
    "\n",
    "select Customer_ID from finance_data.db_data.raw_customer\n",
    "group by Customer_ID\n",
    "having count(*) > 1; --0 No dups\n",
    "\n",
    "select Product_id from finance_data.db_data.raw_product\n",
    "group by Product_id\n",
    "having count(*) > 1; --33 Need to be deduplicated in refined layer\n",
    "\n",
    "select Customer_ID from finance_data.db_data.refined_customer\n",
    "group by Customer_ID\n",
    "having count(*) > 1; --0 No dups\n",
    "\n",
    "select Product_id from finance_data.db_data.refined_product\n",
    "group by Product_id\n",
    "having count(*) > 1; --0"
   ]
  },
  {
   "cell_type": "code",
   "execution_count": null,
   "metadata": {
    "application/vnd.databricks.v1+cell": {
     "cellMetadata": {
      "byteLimit": 2048000,
      "implicitDf": true,
      "rowLimit": 10000
     },
     "inputWidgets": {},
     "nuid": "e9ee6f1f-b9b4-4d56-b7bf-0f639dc10899",
     "showTitle": false,
     "title": ""
    }
   },
   "outputs": [
    {
     "data": {
      "text/html": [
       "<style scoped>\n",
       "  .table-result-container {\n",
       "    max-height: 300px;\n",
       "    overflow: auto;\n",
       "  }\n",
       "  table, th, td {\n",
       "    border: 1px solid black;\n",
       "    border-collapse: collapse;\n",
       "  }\n",
       "  th, td {\n",
       "    padding: 5px;\n",
       "  }\n",
       "  th {\n",
       "    text-align: left;\n",
       "  }\n",
       "</style><div class='table-result-container'><table class='table-result'><thead style='background-color: white'><tr><th>sum(Total_Profit)</th><th>view_name</th></tr></thead><tbody><tr><td>278418.08</td><td>vw_sales_by_customer</td></tr><tr><td>278418.08</td><td>vw_sales_by_sub_category</td></tr><tr><td>278418.08</td><td>vw_sales_by_product_category</td></tr><tr><td>278418.08</td><td>vw_sales_by_year</td></tr></tbody></table></div>"
      ]
     },
     "metadata": {
      "application/vnd.databricks.v1+output": {
       "addedWidgets": {},
       "aggData": [],
       "aggError": "",
       "aggOverflow": false,
       "aggSchema": [],
       "aggSeriesLimitReached": false,
       "aggType": "",
       "arguments": {},
       "columnCustomDisplayInfos": {},
       "data": [
        [
         "278418.08",
         "vw_sales_by_customer"
        ],
        [
         "278418.08",
         "vw_sales_by_sub_category"
        ],
        [
         "278418.08",
         "vw_sales_by_product_category"
        ],
        [
         "278418.08",
         "vw_sales_by_year"
        ]
       ],
       "datasetInfos": [],
       "dbfsResultPath": null,
       "isJsonSchema": true,
       "metadata": {},
       "overflow": false,
       "plotOptions": {
        "customPlotOptions": {},
        "displayType": "table",
        "pivotAggregation": null,
        "pivotColumns": null,
        "xColumns": null,
        "yColumns": null
       },
       "removedWidgets": [],
       "schema": [
        {
         "metadata": "{\"__autoGeneratedAlias\":\"true\"}",
         "name": "sum(Total_Profit)",
         "type": "\"decimal(30,2)\""
        },
        {
         "metadata": "{}",
         "name": "view_name",
         "type": "\"string\""
        }
       ],
       "type": "table"
      }
     },
     "output_type": "display_data"
    }
   ],
   "source": [
    "%sql\n",
    "\n",
    "--TESTING : tally total across different aggregations\n",
    "\n",
    "select sum(Total_Profit), 'vw_sales_by_customer' as view_name  from finance_data.db_data.vw_sales_by_customer\n",
    "\n",
    "union\n",
    "\n",
    "select sum(Total_Profit), 'vw_sales_by_product_category' as view_name from finance_data.db_data.vw_sales_by_product_category\n",
    "\n",
    "union\n",
    "\n",
    "select sum(Total_Profit), 'vw_sales_by_sub_category' as view_name from finance_data.db_data.vw_sales_by_sub_category\n",
    "\n",
    "union\n",
    "\n",
    "select sum(Total_Profit), 'vw_sales_by_year' as view_name from finance_data.db_data.vw_sales_by_year;"
   ]
  },
  {
   "cell_type": "code",
   "execution_count": null,
   "metadata": {
    "application/vnd.databricks.v1+cell": {
     "cellMetadata": {
      "byteLimit": 2048000,
      "implicitDf": true,
      "rowLimit": 10000
     },
     "inputWidgets": {},
     "nuid": "f6e50a8e-7e13-4404-8e9c-7d9ce4238d39",
     "showTitle": false,
     "title": ""
    }
   },
   "outputs": [
    {
     "data": {
      "text/html": [
       "<style scoped>\n",
       "  .table-result-container {\n",
       "    max-height: 300px;\n",
       "    overflow: auto;\n",
       "  }\n",
       "  table, th, td {\n",
       "    border: 1px solid black;\n",
       "    border-collapse: collapse;\n",
       "  }\n",
       "  th, td {\n",
       "    padding: 5px;\n",
       "  }\n",
       "  th {\n",
       "    text-align: left;\n",
       "  }\n",
       "</style><div class='table-result-container'><table class='table-result'><thead style='background-color: white'><tr><th>count(1)</th><th>table_name</th></tr></thead><tbody><tr><td>0</td><td>refined_product</td></tr><tr><td>0</td><td>refined_customer</td></tr><tr><td>0</td><td>refined_order</td></tr></tbody></table></div>"
      ]
     },
     "metadata": {
      "application/vnd.databricks.v1+output": {
       "addedWidgets": {},
       "aggData": [],
       "aggError": "",
       "aggOverflow": false,
       "aggSchema": [],
       "aggSeriesLimitReached": false,
       "aggType": "",
       "arguments": {},
       "columnCustomDisplayInfos": {},
       "data": [
        [
         0,
         "refined_product"
        ],
        [
         0,
         "refined_customer"
        ],
        [
         0,
         "refined_order"
        ]
       ],
       "datasetInfos": [],
       "dbfsResultPath": null,
       "isJsonSchema": true,
       "metadata": {},
       "overflow": false,
       "plotOptions": {
        "customPlotOptions": {},
        "displayType": "table",
        "pivotAggregation": null,
        "pivotColumns": null,
        "xColumns": null,
        "yColumns": null
       },
       "removedWidgets": [],
       "schema": [
        {
         "metadata": "{\"__autoGeneratedAlias\":\"true\"}",
         "name": "count(1)",
         "type": "\"long\""
        },
        {
         "metadata": "{}",
         "name": "table_name",
         "type": "\"string\""
        }
       ],
       "type": "table"
      }
     },
     "output_type": "display_data"
    }
   ],
   "source": [
    "%sql\n",
    "\n",
    "--TESTING : null check in primary key fields\n",
    "select count(*), 'refined_customer' as table_name  from finance_data.db_data.refined_customer where Customer_ID is null\n",
    "\n",
    "union\n",
    "\n",
    "select count(*), 'refined_product' as table_name from finance_data.db_data.refined_product where Product_Id is null\n",
    "\n",
    "union\n",
    "\n",
    "select count(*), 'refined_order' as table_name from finance_data.db_data.refined_order where Order_ID is null;\n",
    "\n"
   ]
  },
  {
   "cell_type": "code",
   "execution_count": null,
   "metadata": {
    "application/vnd.databricks.v1+cell": {
     "cellMetadata": {
      "byteLimit": 2048000,
      "implicitDf": true,
      "rowLimit": 10000
     },
     "inputWidgets": {},
     "nuid": "88f04200-4212-413c-9633-663265d69fa6",
     "showTitle": false,
     "title": ""
    }
   },
   "outputs": [
    {
     "data": {
      "text/html": [
       "<style scoped>\n",
       "  .table-result-container {\n",
       "    max-height: 300px;\n",
       "    overflow: auto;\n",
       "  }\n",
       "  table, th, td {\n",
       "    border: 1px solid black;\n",
       "    border-collapse: collapse;\n",
       "  }\n",
       "  th, td {\n",
       "    padding: 5px;\n",
       "  }\n",
       "  th {\n",
       "    text-align: left;\n",
       "  }\n",
       "</style><div class='table-result-container'><table class='table-result'><thead style='background-color: white'><tr><th>count(1)</th><th>view_name</th></tr></thead><tbody><tr><td>0</td><td>vw_sales_by_customer</td></tr><tr><td>0</td><td>vw_sales_by_sub_category</td></tr><tr><td>0</td><td>vw_sales_by_product_category</td></tr><tr><td>0</td><td>vw_sales_by_year</td></tr></tbody></table></div>"
      ]
     },
     "metadata": {
      "application/vnd.databricks.v1+output": {
       "addedWidgets": {},
       "aggData": [],
       "aggError": "",
       "aggOverflow": false,
       "aggSchema": [],
       "aggSeriesLimitReached": false,
       "aggType": "",
       "arguments": {},
       "columnCustomDisplayInfos": {},
       "data": [
        [
         0,
         "vw_sales_by_customer"
        ],
        [
         0,
         "vw_sales_by_sub_category"
        ],
        [
         0,
         "vw_sales_by_product_category"
        ],
        [
         0,
         "vw_sales_by_year"
        ]
       ],
       "datasetInfos": [],
       "dbfsResultPath": null,
       "isJsonSchema": true,
       "metadata": {},
       "overflow": false,
       "plotOptions": {
        "customPlotOptions": {},
        "displayType": "table",
        "pivotAggregation": null,
        "pivotColumns": null,
        "xColumns": null,
        "yColumns": null
       },
       "removedWidgets": [],
       "schema": [
        {
         "metadata": "{\"__autoGeneratedAlias\":\"true\"}",
         "name": "count(1)",
         "type": "\"long\""
        },
        {
         "metadata": "{}",
         "name": "view_name",
         "type": "\"string\""
        }
       ],
       "type": "table"
      }
     },
     "output_type": "display_data"
    }
   ],
   "source": [
    "%sql\n",
    "\n",
    "--TESTING : check for nulls across aggregated tables / views\n",
    "\n",
    "select count(*), 'vw_sales_by_customer' as view_name  from finance_data.db_data.vw_sales_by_customer where Customer_ID is null\n",
    "\n",
    "union\n",
    "\n",
    "select count(*), 'vw_sales_by_product_category' as view_name from finance_data.db_data.vw_sales_by_product_category where Product_Category is null\n",
    "\n",
    "union\n",
    "\n",
    "select count(*), 'vw_sales_by_sub_category' as view_name from finance_data.db_data.vw_sales_by_sub_category where `Sub-Category` is null\n",
    "\n",
    "union\n",
    "\n",
    "select count(*), 'vw_sales_by_year' as view_name from finance_data.db_data.vw_sales_by_year where year is null;"
   ]
  },
  {
   "cell_type": "code",
   "execution_count": null,
   "metadata": {
    "application/vnd.databricks.v1+cell": {
     "cellMetadata": {
      "byteLimit": 2048000,
      "implicitDf": true,
      "rowLimit": 10000
     },
     "inputWidgets": {},
     "nuid": "eadccddc-ba57-4f71-89e3-f3941ccc68f6",
     "showTitle": false,
     "title": ""
    }
   },
   "outputs": [
    {
     "data": {
      "text/html": [
       "<style scoped>\n",
       "  .table-result-container {\n",
       "    max-height: 300px;\n",
       "    overflow: auto;\n",
       "  }\n",
       "  table, th, td {\n",
       "    border: 1px solid black;\n",
       "    border-collapse: collapse;\n",
       "  }\n",
       "  th, td {\n",
       "    padding: 5px;\n",
       "  }\n",
       "  th {\n",
       "    text-align: left;\n",
       "  }\n",
       "</style><div class='table-result-container'><table class='table-result'><thead style='background-color: white'><tr><th>Customer_ID</th><th>Customer_Name</th><th>Country</th><th>Year</th><th>Product_Category</th><th>Sub-Category</th><th>Profit</th></tr></thead><tbody></tbody></table></div>"
      ]
     },
     "metadata": {
      "application/vnd.databricks.v1+output": {
       "addedWidgets": {},
       "aggData": [],
       "aggError": "",
       "aggOverflow": false,
       "aggSchema": [],
       "aggSeriesLimitReached": false,
       "aggType": "",
       "arguments": {},
       "columnCustomDisplayInfos": {},
       "data": [],
       "datasetInfos": [],
       "dbfsResultPath": null,
       "isJsonSchema": true,
       "metadata": {},
       "overflow": false,
       "plotOptions": {
        "customPlotOptions": {},
        "displayType": "table",
        "pivotAggregation": null,
        "pivotColumns": null,
        "xColumns": null,
        "yColumns": null
       },
       "removedWidgets": [],
       "schema": [
        {
         "metadata": "{}",
         "name": "Customer_ID",
         "type": "\"string\""
        },
        {
         "metadata": "{}",
         "name": "Customer_Name",
         "type": "\"string\""
        },
        {
         "metadata": "{}",
         "name": "Country",
         "type": "\"string\""
        },
        {
         "metadata": "{}",
         "name": "Year",
         "type": "\"integer\""
        },
        {
         "metadata": "{}",
         "name": "Product_Category",
         "type": "\"string\""
        },
        {
         "metadata": "{}",
         "name": "Sub-Category",
         "type": "\"string\""
        },
        {
         "metadata": "{}",
         "name": "Profit",
         "type": "\"double\""
        }
       ],
       "type": "table"
      }
     },
     "output_type": "display_data"
    }
   ],
   "source": [
    "%sql\n",
    "--TESTING : Data Quality Check\n",
    "select * from finance_data.db_data.sales_mart\n",
    "where\n",
    "customer_name NOT REGEXP '^[a-zA-Z ]+$'; --0\n",
    "\n",
    "select * from finance_data.db_data.sales_mart\n",
    "where\n",
    "Product_Category NOT REGEXP '^[a-zA-Z ]+$'; --0\n",
    "\n",
    "select * from finance_data.db_data.sales_mart\n",
    "where\n",
    "`Sub-Category` NOT REGEXP '^[a-zA-Z ]+$'; --0"
   ]
  },
  {
   "cell_type": "code",
   "execution_count": null,
   "metadata": {
    "application/vnd.databricks.v1+cell": {
     "cellMetadata": {
      "byteLimit": 2048000,
      "implicitDf": true,
      "rowLimit": 10000
     },
     "inputWidgets": {},
     "nuid": "fc6aed2b-15fe-405b-bb17-05747637e782",
     "showTitle": false,
     "title": ""
    }
   },
   "outputs": [
    {
     "data": {
      "text/html": [
       "<style scoped>\n",
       "  .table-result-container {\n",
       "    max-height: 300px;\n",
       "    overflow: auto;\n",
       "  }\n",
       "  table, th, td {\n",
       "    border: 1px solid black;\n",
       "    border-collapse: collapse;\n",
       "  }\n",
       "  th, td {\n",
       "    padding: 5px;\n",
       "  }\n",
       "  th {\n",
       "    text-align: left;\n",
       "  }\n",
       "</style><div class='table-result-container'><table class='table-result'><thead style='background-color: white'><tr><th>Customer_ID</th><th>Customer_Name</th><th>Country</th><th>Year</th><th>Product_Category</th><th>Sub-Category</th><th>Profit</th></tr></thead><tbody></tbody></table></div>"
      ]
     },
     "metadata": {
      "application/vnd.databricks.v1+output": {
       "addedWidgets": {},
       "aggData": [],
       "aggError": "",
       "aggOverflow": false,
       "aggSchema": [],
       "aggSeriesLimitReached": false,
       "aggType": "",
       "arguments": {},
       "columnCustomDisplayInfos": {},
       "data": [],
       "datasetInfos": [],
       "dbfsResultPath": null,
       "isJsonSchema": true,
       "metadata": {},
       "overflow": false,
       "plotOptions": {
        "customPlotOptions": {},
        "displayType": "table",
        "pivotAggregation": null,
        "pivotColumns": null,
        "xColumns": null,
        "yColumns": null
       },
       "removedWidgets": [],
       "schema": [
        {
         "metadata": "{}",
         "name": "Customer_ID",
         "type": "\"string\""
        },
        {
         "metadata": "{}",
         "name": "Customer_Name",
         "type": "\"string\""
        },
        {
         "metadata": "{}",
         "name": "Country",
         "type": "\"string\""
        },
        {
         "metadata": "{}",
         "name": "Year",
         "type": "\"integer\""
        },
        {
         "metadata": "{}",
         "name": "Product_Category",
         "type": "\"string\""
        },
        {
         "metadata": "{}",
         "name": "Sub-Category",
         "type": "\"string\""
        },
        {
         "metadata": "{}",
         "name": "Profit",
         "type": "\"double\""
        }
       ],
       "type": "table"
      }
     },
     "output_type": "display_data"
    }
   ],
   "source": [
    "%sql\n",
    "--TESTING for non-numeric value\n",
    "select * from finance_data.db_data.sales_mart\n",
    "where Profit regexp '^[a-zA-Z ]'; --0"
   ]
  },
  {
   "cell_type": "code",
   "execution_count": null,
   "metadata": {
    "application/vnd.databricks.v1+cell": {
     "cellMetadata": {
      "byteLimit": 2048000,
      "implicitDf": true,
      "rowLimit": 10000
     },
     "inputWidgets": {},
     "nuid": "7e695cf2-773a-46e2-8eb7-5262b6adf9b6",
     "showTitle": false,
     "title": ""
    }
   },
   "outputs": [
    {
     "data": {
      "text/html": [
       "<style scoped>\n",
       "  .table-result-container {\n",
       "    max-height: 300px;\n",
       "    overflow: auto;\n",
       "  }\n",
       "  table, th, td {\n",
       "    border: 1px solid black;\n",
       "    border-collapse: collapse;\n",
       "  }\n",
       "  th, td {\n",
       "    padding: 5px;\n",
       "  }\n",
       "  th {\n",
       "    text-align: left;\n",
       "  }\n",
       "</style><div class='table-result-container'><table class='table-result'><thead style='background-color: white'><tr><th>decimal_precision</th></tr></thead><tbody><tr><td>2</td></tr></tbody></table></div>"
      ]
     },
     "metadata": {
      "application/vnd.databricks.v1+output": {
       "addedWidgets": {},
       "aggData": [],
       "aggError": "",
       "aggOverflow": false,
       "aggSchema": [],
       "aggSeriesLimitReached": false,
       "aggType": "",
       "arguments": {},
       "columnCustomDisplayInfos": {},
       "data": [
        [
         2
        ]
       ],
       "datasetInfos": [],
       "dbfsResultPath": null,
       "isJsonSchema": true,
       "metadata": {},
       "overflow": false,
       "plotOptions": {
        "customPlotOptions": {},
        "displayType": "table",
        "pivotAggregation": null,
        "pivotColumns": null,
        "xColumns": null,
        "yColumns": null
       },
       "removedWidgets": [],
       "schema": [
        {
         "metadata": "{}",
         "name": "decimal_precision",
         "type": "\"integer\""
        }
       ],
       "type": "table"
      }
     },
     "output_type": "display_data"
    }
   ],
   "source": [
    "%sql\n",
    "\n",
    "--TESTING for digits in decimal place\n",
    "select MAX(LENGTH(SUBSTRING_INDEX(profit, '.', -1))) as decimal_precision from finance_data.db_data.sales_mart; --2"
   ]
  }
 ],
 "metadata": {
  "application/vnd.databricks.v1+notebook": {
   "dashboards": [],
   "environmentMetadata": null,
   "language": "python",
   "notebookMetadata": {
    "mostRecentlyExecutedCommandWithImplicitDF": {
     "commandId": 844502113910300,
     "dataframes": [
      "_sqldf"
     ]
    },
    "pythonIndentUnit": 4
   },
   "notebookName": "PEI",
   "widgets": {}
  },
  "language_info": {
   "name": "python"
  }
 },
 "nbformat": 4,
 "nbformat_minor": 0
}
